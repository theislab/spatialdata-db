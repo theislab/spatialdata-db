{
 "cells": [
  {
   "cell_type": "markdown",
   "metadata": {},
   "source": [
    "# Test to upload dataset '10ktp'"
   ]
  },
  {
   "cell_type": "code",
   "execution_count": 1,
   "metadata": {},
   "outputs": [],
   "source": [
    "uid = \"10ktp\"\n",
    "path_to_zarr = '/lustre/groups/ml01/projects/2024_spatialdata_db/data/10ktp__10X__Visium__Mouse__brain__20200623__v1.1.0/10ktp__10X__Visium__Mouse__brain__20200623__v1.1.0.spatialdata.zarr'"
   ]
  },
  {
   "cell_type": "code",
   "execution_count": 2,
   "metadata": {},
   "outputs": [],
   "source": [
    "import spatialdata as sp"
   ]
  },
  {
   "cell_type": "code",
   "execution_count": 4,
   "metadata": {},
   "outputs": [],
   "source": [
    "sdata = sp.read_zarr(path_to_zarr)"
   ]
  },
  {
   "cell_type": "code",
   "execution_count": 5,
   "metadata": {},
   "outputs": [
    {
     "data": {
      "text/plain": [
       "SpatialData object, with associated Zarr store: /ictstr01/groups/ml01/projects/2024_spatialdata_db/data/10ktp__10X__Visium__Mouse__brain__20200623__v1.1.0/10ktp__10X__Visium__Mouse__brain__20200623__v1.1.0.spatialdata.zarr\n",
       "├── Images\n",
       "│     ├── 'Visium_Adult_Mouse_Brain_full_image': DataTree[cyx] (3, 2000, 1921), (3, 1000, 960), (3, 500, 480), (3, 250, 240), (3, 125, 120)\n",
       "│     ├── 'Visium_Adult_Mouse_Brain_hires_image': DataArray[cyx] (3, 2000, 1921)\n",
       "│     └── 'Visium_Adult_Mouse_Brain_lowres_image': DataArray[cyx] (3, 600, 576)\n",
       "├── Shapes\n",
       "│     └── 'Visium_Adult_Mouse_Brain': GeoDataFrame shape: (2702, 2) (2D shapes)\n",
       "└── Tables\n",
       "      └── 'table': AnnData (2702, 32285)\n",
       "with coordinate systems:\n",
       "    ▸ 'downscaled_hires', with elements:\n",
       "        Visium_Adult_Mouse_Brain_hires_image (Images), Visium_Adult_Mouse_Brain (Shapes)\n",
       "    ▸ 'downscaled_lowres', with elements:\n",
       "        Visium_Adult_Mouse_Brain_lowres_image (Images), Visium_Adult_Mouse_Brain (Shapes)\n",
       "    ▸ 'global', with elements:\n",
       "        Visium_Adult_Mouse_Brain_full_image (Images), Visium_Adult_Mouse_Brain (Shapes)"
      ]
     },
     "execution_count": 5,
     "metadata": {},
     "output_type": "execute_result"
    }
   ],
   "source": [
    "sdata"
   ]
  },
  {
   "cell_type": "code",
   "execution_count": 7,
   "metadata": {},
   "outputs": [
    {
     "data": {
      "text/plain": [
       "AnnData object with n_obs × n_vars = 2702 × 32285\n",
       "    obs: 'in_tissue', 'array_row', 'array_col', 'spot_id', 'region'\n",
       "    var: 'gene_ids', 'feature_types', 'genome'\n",
       "    uns: 'spatial', 'spatialdata_attrs'\n",
       "    obsm: 'spatial'"
      ]
     },
     "execution_count": 7,
     "metadata": {},
     "output_type": "execute_result"
    }
   ],
   "source": [
    "sdata.tables['table']"
   ]
  },
  {
   "cell_type": "code",
   "execution_count": null,
   "metadata": {},
   "outputs": [],
   "source": []
  }
 ],
 "metadata": {
  "kernelspec": {
   "display_name": "spatialdata-workshop",
   "language": "python",
   "name": "python3"
  },
  "language_info": {
   "codemirror_mode": {
    "name": "ipython",
    "version": 3
   },
   "file_extension": ".py",
   "mimetype": "text/x-python",
   "name": "python",
   "nbconvert_exporter": "python",
   "pygments_lexer": "ipython3",
   "version": "3.11.10"
  }
 },
 "nbformat": 4,
 "nbformat_minor": 2
}
