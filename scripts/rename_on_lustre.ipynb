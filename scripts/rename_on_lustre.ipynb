{
 "cells": [
  {
   "cell_type": "markdown",
   "metadata": {},
   "source": [
    "# Rename existing files on lustre"
   ]
  },
  {
   "cell_type": "code",
   "execution_count": 1,
   "metadata": {},
   "outputs": [],
   "source": [
    "import os\n",
    "from concurrent.futures import ProcessPoolExecutor, as_completed\n",
    "\n",
    "import pandas as pd\n",
    "from tqdm import tqdm\n",
    "\n",
    "tenx = pd.read_csv(\"data/datasets_10x.csv\", sep=\";\")"
   ]
  },
  {
   "cell_type": "code",
   "execution_count": 2,
   "metadata": {},
   "outputs": [
    {
     "data": {
      "text/plain": [
       "{'ooaie': '10u63',\n",
       " 'nqe4e': '106xa',\n",
       " '56r5s': '10n1k',\n",
       " '1lhfw': '10ndm',\n",
       " 'fulvo': '10nsr',\n",
       " 'hp7qe': '10040',\n",
       " 'oftpw': '10pui',\n",
       " 'xxjnz': '108x2',\n",
       " 'wxjgz': '10vek',\n",
       " 'jqmx8': '10s7d',\n",
       " '6dl1f': '107z9',\n",
       " 'a680h': '10sja',\n",
       " 'aylse': '10i70',\n",
       " 'twgn1': '10arp',\n",
       " 'i3vq9': '1020d',\n",
       " 'emmt4': '10k3x',\n",
       " '0bbcf': '10ae2',\n",
       " 'ic0bo': '1074f',\n",
       " 'x3fho': '108dr',\n",
       " 'gsyej': '10wmu',\n",
       " 'rqu2u': '10uxy',\n",
       " '6uvee': '10zwi',\n",
       " 'f61rr': '10fyx',\n",
       " '4b6qm': '10tei',\n",
       " '31nta': '10jfe',\n",
       " 'zr2gu': '10e5i',\n",
       " 'y5py1': '1065r',\n",
       " '7unc5': '10caf',\n",
       " 'sjmmx': '105k3',\n",
       " 'a0xyt': '10ps4',\n",
       " 'up5uh': '10ha9',\n",
       " 'mfrkl': '102cy',\n",
       " 'fh4bl': '10tsy',\n",
       " 'w1tgu': '101t3',\n",
       " 'qilz7': '10ah4',\n",
       " 'wxc2q': '10zm9',\n",
       " 'w7zg8': '10jr4',\n",
       " '4kt3d': '10pa3',\n",
       " '7z1k9': '107sr',\n",
       " '2549m': '103mf',\n",
       " 'n0qwg': '107yk',\n",
       " 'uhk1j': '1063i',\n",
       " '4slyf': '10u89',\n",
       " '8x7n0': '10hhx',\n",
       " 'cdmnx': '10kyp',\n",
       " '9z0ng': '10fpp',\n",
       " 'g9gmu': '106ws',\n",
       " 'qs3a7': '10xa2',\n",
       " 'oeuwa': '108d3',\n",
       " 'qdtdp': '106s5',\n",
       " '2lfvx': '103uy',\n",
       " 'tggfj': '10mda',\n",
       " 'l679p': '1001e',\n",
       " '2dwwq': '10ckr',\n",
       " 'x7rbz': '10w6u',\n",
       " 'm1v5v': '10fri',\n",
       " '6p76l': '109k1',\n",
       " 'di0of': '10z91',\n",
       " 'eiuys': '10if2',\n",
       " 'rebtv': '10ekd',\n",
       " '3z776': '104dy',\n",
       " 'm72vi': '1091x',\n",
       " 'dn7st': '10zj1',\n",
       " 'dq7o0': '1015d',\n",
       " '8jqzn': '10uac',\n",
       " 'kw6qn': '10ant',\n",
       " 'ectuc': '10056',\n",
       " 'h5h77': '101s6',\n",
       " 'jezks': '105h4',\n",
       " 'vrwlc': '10ttt',\n",
       " 'uk0rv': '108ty',\n",
       " '0ufac': '10v4k',\n",
       " 'bw2x9': '10s8t',\n",
       " 'f0fww': '10sph',\n",
       " 'th4zp': '10v61',\n",
       " '5nwfc': '109pp',\n",
       " 'vt6x9': '10yhv',\n",
       " '4b368': '1090h',\n",
       " '9btjk': '102hp',\n",
       " 'h3jfi': '10nzm',\n",
       " 's98o1': '10e4w',\n",
       " 'ses16': '10yhc',\n",
       " 'qd23x': '106ip',\n",
       " 'yzl3e': '10kmy',\n",
       " 'lgv1y': '10iky',\n",
       " 'yjder': '10drc',\n",
       " 's29g4': '10nc2',\n",
       " 'nnx96': '10x88',\n",
       " '0badu': '10c6u',\n",
       " 'vcfof': '108h0',\n",
       " 'dmhph': '10a7t',\n",
       " 'tdjvl': '101tu',\n",
       " 'uxen8': '10xay',\n",
       " 'rc1ls': '10h3h',\n",
       " 'kbcri': '101x5',\n",
       " 'mvfvu': '10pf0',\n",
       " 'fg0px': '10w2u',\n",
       " 'prxvd': '10dcv',\n",
       " 'vk8d4': '109zw',\n",
       " 'eqp7b': '10kxi',\n",
       " 'zlitc': '10y80',\n",
       " 'yhn15': '104cz',\n",
       " 'el4ap': '10ake',\n",
       " 'h5tfz': '100my',\n",
       " '3p7pv': '107rk',\n",
       " 'xjxhb': '10d9e',\n",
       " 'hg0x5': '10e4x',\n",
       " 'fvvht': '108rf',\n",
       " 'uloap': '10jdw',\n",
       " 'zwowd': '103da',\n",
       " 'l0g1l': '10sn3',\n",
       " 'p1yrb': '10834',\n",
       " '3s126': '10ndj',\n",
       " 'f9fcg': '10ieh',\n",
       " '5z2c2': '10u6u',\n",
       " 'ycw3s': '106v2',\n",
       " 'gqccm': '106ru',\n",
       " 'nrbfo': '10thd',\n",
       " '6aond': '10etk',\n",
       " '6qcwb': '10wkh',\n",
       " 'sj4fv': '105tt',\n",
       " 'd3ykk': '104pe',\n",
       " 'zztm8': '10rx2',\n",
       " 'zwdai': '10nfy',\n",
       " 'zfcqw': '10676',\n",
       " 'xtaqh': '10z77',\n",
       " 'od3tw': '10k5p',\n",
       " 'fg8go': '10zvc',\n",
       " 'l7fdr': '10m49',\n",
       " 'kbvfj': '10053',\n",
       " 'n2kpx': '10vcj',\n",
       " 'ys7m7': '10hm6',\n",
       " 'zqxk7': '1000j',\n",
       " 'lmhz8': '103sf',\n",
       " '6u5jt': '10t8c',\n",
       " 'gulca': '10ipu',\n",
       " 'zw6bg': '10f2z',\n",
       " 'l47i3': '103mc',\n",
       " 'f0j79': '10kz7',\n",
       " 'z86rg': '10uf7',\n",
       " 'f806l': '10kz2',\n",
       " 'v49mv': '100w1',\n",
       " '28vqx': '1005m',\n",
       " 'siiyj': '10uik',\n",
       " 'cyxpa': '10jcz',\n",
       " '4i0c9': '10vtf',\n",
       " '566z3': '101cw',\n",
       " 'b1q25': '10wth',\n",
       " '002c0': '10rxw',\n",
       " '1md95': '10tyd',\n",
       " 'ibiof': '10j0z',\n",
       " '0nuqa': '10w90',\n",
       " 'g3x6u': '10wcj',\n",
       " 'g7mbj': '10zyf',\n",
       " '4jlxk': '10zad',\n",
       " '3vg9t': '10kia',\n",
       " 'ougr9': '10kyn',\n",
       " '2ku9b': '1012t',\n",
       " '7qz12': '10hxz',\n",
       " '3554v': '10dvd',\n",
       " 'tpaa3': '10p19',\n",
       " '1e66c': '1033x',\n",
       " 'des75': '105yf',\n",
       " 'yf0mm': '101in',\n",
       " 'yw9rf': '10fn9',\n",
       " 'mt3dy': '10wfn',\n",
       " '5ddwn': '1039v',\n",
       " 'oocrq': '103te',\n",
       " 'xdbdu': '10amj',\n",
       " 'icu0y': '10m16',\n",
       " 'bl23n': '10ci4',\n",
       " 'bojy8': '10fc7',\n",
       " '0kbsa': '103sm',\n",
       " 'u8rpv': '100wk',\n",
       " '4pey9': '10ktp',\n",
       " 'vmonx': '107rw',\n",
       " 'o49q8': '10jft',\n",
       " 'lielj': '105jc',\n",
       " '6z6qx': '105vj',\n",
       " 'cy4ns': '1025z',\n",
       " 'mohya': '10e9s',\n",
       " 'h4phn': '10fmm',\n",
       " 'gl1ci': '10evh',\n",
       " '5qzqy': '10fty',\n",
       " 'tkcwt': '108r9',\n",
       " '1rw9r': '104dm',\n",
       " 'xiyyu': '10p5f',\n",
       " 'cspi1': '104ee',\n",
       " 'd5062': '10wv1',\n",
       " '7l5ht': '10mx9',\n",
       " 'a9vph': '10vyh',\n",
       " '2xejf': '10p4f',\n",
       " 'pl425': '10hay',\n",
       " '0pknt': '1097y',\n",
       " 'llyvi': '10wsf',\n",
       " '5i1d7': '105ka',\n",
       " 'au6n8': '10vj2',\n",
       " 'gertw': '1094t',\n",
       " 'vbdbc': '1031a',\n",
       " '05rko': '10tzs',\n",
       " 'lztak': '10fna',\n",
       " 'j1fyh': '10hmw',\n",
       " 'ia6p0': '10huw',\n",
       " '1ewyv': '1020c',\n",
       " 'mby57': '10jss',\n",
       " 'wedt0': '10jff',\n",
       " 's6qwt': '10rm3',\n",
       " '6qjsq': '10224',\n",
       " '9zn0k': '10i8s',\n",
       " '09ohz': '10a6w',\n",
       " '02uqv': '10xtf',\n",
       " 'n5mya': '10817'}"
      ]
     },
     "execution_count": 2,
     "metadata": {},
     "output_type": "execute_result"
    }
   ],
   "source": [
    "uid_mapping = dict(zip(tenx[\"uid_old\"], tenx[\"uid\"], strict=False))\n",
    "uid_mapping"
   ]
  },
  {
   "cell_type": "code",
   "execution_count": null,
   "metadata": {},
   "outputs": [],
   "source": [
    "def gather_files(target_dir, extensions=None):\n",
    "    \"\"\"\n",
    "    Gather all file paths in the target directory (recursively) that match the specified extensions.\n",
    "\n",
    "    Parameters\n",
    "    ----------\n",
    "        target_dir (str): Path to the target directory.\n",
    "        extensions (list, optional): List of file extensions to include (e.g., ['.txt', '.md']).\n",
    "                                     If None, all files are included.\n",
    "\n",
    "    Returns\n",
    "    -------\n",
    "        list: List of file paths to process.\n",
    "    \"\"\"\n",
    "    files_to_process = []\n",
    "    for root, _dirs, files in os.walk(target_dir):\n",
    "        for name in files:\n",
    "            if extensions:\n",
    "                if not any(name.lower().endswith(ext) for ext in extensions):\n",
    "                    continue\n",
    "            file_path = os.path.join(root, name)\n",
    "            files_to_process.append(file_path)\n",
    "    return files_to_process\n",
    "\n",
    "\n",
    "def gather_directories(target_dir):\n",
    "    \"\"\"\n",
    "    Gather all directory paths in the target directory (recursively).\n",
    "\n",
    "    Parameters\n",
    "    ----------\n",
    "        target_dir (str): Path to the target directory.\n",
    "\n",
    "    Returns\n",
    "    -------\n",
    "        list: List of directory paths to process.\n",
    "    \"\"\"\n",
    "    directories_to_process = []\n",
    "    for root, dirs, _files in os.walk(target_dir):\n",
    "        for name in dirs:\n",
    "            dir_path = os.path.join(root, name)\n",
    "            directories_to_process.append(dir_path)\n",
    "    return directories_to_process\n",
    "\n",
    "\n",
    "def rename_file(file_path, mapping):\n",
    "    \"\"\"\n",
    "    Rename a single file by replacing occurrences of uid_old with uid in the filename.\n",
    "\n",
    "    Parameters\n",
    "    ----------\n",
    "        file_path (str): Path to the file to be renamed.\n",
    "        mapping (dict): Dictionary mapping 'uid_old' to 'uid'.\n",
    "\n",
    "    Returns\n",
    "    -------\n",
    "        bool: True if renamed successfully, False otherwise.\n",
    "    \"\"\"\n",
    "    directory, filename = os.path.split(file_path)\n",
    "    new_filename = filename\n",
    "    for uid_old, uid in mapping.items():\n",
    "        new_filename = new_filename.replace(uid_old, uid)\n",
    "\n",
    "    if new_filename != filename:\n",
    "        new_file_path = os.path.join(directory, new_filename)\n",
    "        try:\n",
    "            if not os.path.exists(new_file_path):\n",
    "                os.rename(file_path, new_file_path)\n",
    "                print(f\"Renamed file: {file_path} -> {new_file_path}\")\n",
    "                return True\n",
    "            else:\n",
    "                print(f\"Skipping rename for {file_path}: {new_file_path} already exists.\")\n",
    "                return False\n",
    "        except Exception as e:  # noqa: BLE001\n",
    "            print(f\"Error renaming file {file_path} to {new_file_path}: {e}\")\n",
    "            return False\n",
    "    return False  # No renaming needed\n",
    "\n",
    "\n",
    "def rename_directory(dir_path, mapping):\n",
    "    \"\"\"\n",
    "    Rename a single directory by replacing occurrences of uid_old with uid in the directory name.\n",
    "\n",
    "    Parameters\n",
    "    ----------\n",
    "        dir_path (str): Path to the directory to be renamed.\n",
    "        mapping (dict): Dictionary mapping 'uid_old' to 'uid'.\n",
    "\n",
    "    Returns\n",
    "    -------\n",
    "        bool: True if renamed successfully, False otherwise.\n",
    "    \"\"\"\n",
    "    parent_dir, dir_name = os.path.split(dir_path)\n",
    "    new_dir_name = dir_name\n",
    "    for uid_old, uid in mapping.items():\n",
    "        new_dir_name = new_dir_name.replace(uid_old, uid)\n",
    "\n",
    "    if new_dir_name != dir_name:\n",
    "        new_dir_path = os.path.join(parent_dir, new_dir_name)\n",
    "        try:\n",
    "            if not os.path.exists(new_dir_path):\n",
    "                os.rename(dir_path, new_dir_path)\n",
    "                print(f\"Renamed directory: {dir_path} -> {new_dir_path}\")\n",
    "                return True\n",
    "            else:\n",
    "                print(f\"Skipping rename for {dir_path}: {new_dir_path} already exists.\")\n",
    "                return False\n",
    "        except Exception as e:  # noqa: BLE001\n",
    "            print(f\"Error renaming directory {dir_path} to {new_dir_path}: {e}\")\n",
    "            return False\n",
    "    return False  # No renaming needed\n",
    "\n",
    "\n",
    "def rename_files_parallel(files, mapping):\n",
    "    \"\"\"\n",
    "    Rename files in parallel by replacing uid_old with uid in filenames.\n",
    "\n",
    "    Parameters\n",
    "    ----------\n",
    "        files (list): List of file paths to rename.\n",
    "        mapping (dict): Dictionary mapping 'uid_old' to 'uid'.\n",
    "\n",
    "    Returns\n",
    "    -------\n",
    "        int: Number of files successfully renamed.\n",
    "    \"\"\"\n",
    "    renamed_count = 0\n",
    "    with ProcessPoolExecutor() as executor:\n",
    "        # Submit all rename tasks\n",
    "        future_to_file = {executor.submit(rename_file, file, mapping): file for file in files}\n",
    "\n",
    "        for future in tqdm(as_completed(future_to_file), total=len(future_to_file), desc=\"Renaming files\"):\n",
    "            file = future_to_file[future]\n",
    "            try:\n",
    "                result = future.result()\n",
    "                if result:\n",
    "                    renamed_count += 1\n",
    "            except Exception as e:  # noqa: BLE001\n",
    "                print(f\"Error processing file {file}: {e}\")\n",
    "    return renamed_count\n",
    "\n",
    "\n",
    "def rename_directories_parallel(directories, mapping):\n",
    "    \"\"\"\n",
    "    Rename directories in parallel by replacing uid_old with uid in directory names.\n",
    "\n",
    "    Parameters\n",
    "    ----------\n",
    "        directories (list): List of directory paths to rename.\n",
    "        mapping (dict): Dictionary mapping 'uid_old' to 'uid'.\n",
    "\n",
    "    Returns\n",
    "    -------\n",
    "        int: Number of directories successfully renamed.\n",
    "    \"\"\"\n",
    "    renamed_count = 0\n",
    "    with ProcessPoolExecutor() as executor:\n",
    "        # Submit all rename tasks\n",
    "        future_to_dir = {executor.submit(rename_directory, dir_path, mapping): dir_path for dir_path in directories}\n",
    "\n",
    "        for future in tqdm(as_completed(future_to_dir), total=len(future_to_dir), desc=\"Renaming directories\"):\n",
    "            dir_path = future_to_dir[future]\n",
    "            try:\n",
    "                result = future.result()\n",
    "                if result:\n",
    "                    renamed_count += 1\n",
    "            except Exception as e:  # noqa: BLE001\n",
    "                print(f\"Error processing directory {dir_path}: {e}\")\n",
    "    return renamed_count"
   ]
  },
  {
   "cell_type": "code",
   "execution_count": 5,
   "metadata": {},
   "outputs": [],
   "source": [
    "target_directory = \"/lustre/groups/ml01/projects/2024_spatialdata_db/data\""
   ]
  },
  {
   "cell_type": "code",
   "execution_count": 6,
   "metadata": {},
   "outputs": [],
   "source": [
    "extensions = None  # Set to None to process all files\n",
    "\n",
    "files_to_process = gather_files(target_directory)\n",
    "directories_to_process = gather_directories(target_directory)"
   ]
  },
  {
   "cell_type": "code",
   "execution_count": 8,
   "metadata": {},
   "outputs": [],
   "source": [
    "# Sort directories from deepest to shallowest to avoid path issues during renaming\n",
    "directories_to_process_sorted = sorted(directories_to_process, key=lambda x: x.count(os.sep), reverse=True)"
   ]
  },
  {
   "cell_type": "code",
   "execution_count": 17,
   "metadata": {},
   "outputs": [
    {
     "name": "stderr",
     "output_type": "stream",
     "text": [
      "Renaming directories:  95%|█████████▍| 24690/25999 [00:05<00:00, 4990.71it/s]"
     ]
    },
    {
     "name": "stdout",
     "output_type": "stream",
     "text": [
      "Error renaming directory /lustre/groups/ml01/projects/2024_spatialdata_db/data/ibiof__10X__Visium__Human__ovary__20201027__v1.2.0/ibiof__10X__Visium__Human__ovary__20201027__v1.2.0.zarr to /lustre/groups/ml01/projects/2024_spatialdata_db/data/ibiof__10X__Visium__Human__ovary__20201027__v1.2.0/10j0z__10X__Visium__Human__ovary__20201027__v1.2.0.zarr: [Errno 2] No such file or directory: '/lustre/groups/ml01/projects/2024_spatialdata_db/data/ibiof__10X__Visium__Human__ovary__20201027__v1.2.0/ibiof__10X__Visium__Human__ovary__20201027__v1.2.0.zarr' -> '/lustre/groups/ml01/projects/2024_spatialdata_db/data/ibiof__10X__Visium__Human__ovary__20201027__v1.2.0/10j0z__10X__Visium__Human__ovary__20201027__v1.2.0.zarr'Error renaming directory /lustre/groups/ml01/projects/2024_spatialdata_db/data/zr2gu__10X__Visium__Human__colon__20231005__v2.1.0__ControlReplicate1/zr2gu__10X__Visium__Human__colon__20231005__v2.1.0__ControlReplicate1.zarr to /lustre/groups/ml01/projects/2024_spatialdata_db/data/zr2gu__10X__Visium__Human__colon__20231005__v2.1.0__ControlReplicate1/10e5i__10X__Visium__Human__colon__20231005__v2.1.0__ControlReplicate1.zarr: [Errno 2] No such file or directory: '/lustre/groups/ml01/projects/2024_spatialdata_db/data/zr2gu__10X__Visium__Human__colon__20231005__v2.1.0__ControlReplicate1/zr2gu__10X__Visium__Human__colon__20231005__v2.1.0__ControlReplicate1.zarr' -> '/lustre/groups/ml01/projects/2024_spatialdata_db/data/zr2gu__10X__Visium__Human__colon__20231005__v2.1.0__ControlReplicate1/10e5i__10X__Visium__Human__colon__20231005__v2.1.0__ControlReplicate1.zarr'\n",
      "Error renaming directory /lustre/groups/ml01/projects/2024_spatialdata_db/data/4pey9__10X__Visium__Mouse__brain__20200623__v1.1.0/4pey9__10X__Visium__Mouse__brain__20200623__v1.1.0.zarr to /lustre/groups/ml01/projects/2024_spatialdata_db/data/4pey9__10X__Visium__Mouse__brain__20200623__v1.1.0/10ktp__10X__Visium__Mouse__brain__20200623__v1.1.0.zarr: [Errno 2] No such file or directory: '/lustre/groups/ml01/projects/2024_spatialdata_db/data/4pey9__10X__Visium__Mouse__brain__20200623__v1.1.0/4pey9__10X__Visium__Mouse__brain__20200623__v1.1.0.zarr' -> '/lustre/groups/ml01/projects/2024_spatialdata_db/data/4pey9__10X__Visium__Mouse__brain__20200623__v1.1.0/10ktp__10X__Visium__Mouse__brain__20200623__v1.1.0.zarr'\n",
      "Error renaming directory /lustre/groups/ml01/projects/2024_spatialdata_db/data/des75__10X__Visium__Mouse__kidney__20200623__v1.1.0/des75__10X__Visium__Mouse__kidney__20200623__v1.1.0.zarr to /lustre/groups/ml01/projects/2024_spatialdata_db/data/des75__10X__Visium__Mouse__kidney__20200623__v1.1.0/105yf__10X__Visium__Mouse__kidney__20200623__v1.1.0.zarr: [Errno 2] No such file or directory: '/lustre/groups/ml01/projects/2024_spatialdata_db/data/des75__10X__Visium__Mouse__kidney__20200623__v1.1.0/des75__10X__Visium__Mouse__kidney__20200623__v1.1.0.zarr' -> '/lustre/groups/ml01/projects/2024_spatialdata_db/data/des75__10X__Visium__Mouse__kidney__20200623__v1.1.0/105yf__10X__Visium__Mouse__kidney__20200623__v1.1.0.zarr'Error renaming directory /lustre/groups/ml01/projects/2024_spatialdata_db/data/vbdbc__10X__Visium__Mouse__kidney__20191202__v1.0.0/vbdbc__10X__Visium__Mouse__kidney__20191202__v1.0.0.zarr to /lustre/groups/ml01/projects/2024_spatialdata_db/data/vbdbc__10X__Visium__Mouse__kidney__20191202__v1.0.0/1031a__10X__Visium__Mouse__kidney__20191202__v1.0.0.zarr: [Errno 2] No such file or directory: '/lustre/groups/ml01/projects/2024_spatialdata_db/data/vbdbc__10X__Visium__Mouse__kidney__20191202__v1.0.0/vbdbc__10X__Visium__Mouse__kidney__20191202__v1.0.0.zarr' -> '/lustre/groups/ml01/projects/2024_spatialdata_db/data/vbdbc__10X__Visium__Mouse__kidney__20191202__v1.0.0/1031a__10X__Visium__Mouse__kidney__20191202__v1.0.0.zarr'Error renaming directory /lustre/groups/ml01/projects/2024_spatialdata_db/data/4pey9__10X__Visium__Mouse__brain__20200623__v1.1.0/4pey9__10X__Visium__Mouse__brain__20200623__v1.1.0.spatialdata.zarr to /lustre/groups/ml01/projects/2024_spatialdata_db/data/4pey9__10X__Visium__Mouse__brain__20200623__v1.1.0/10ktp__10X__Visium__Mouse__brain__20200623__v1.1.0.spatialdata.zarr: [Errno 2] No such file or directory: '/lustre/groups/ml01/projects/2024_spatialdata_db/data/4pey9__10X__Visium__Mouse__brain__20200623__v1.1.0/4pey9__10X__Visium__Mouse__brain__20200623__v1.1.0.spatialdata.zarr' -> '/lustre/groups/ml01/projects/2024_spatialdata_db/data/4pey9__10X__Visium__Mouse__brain__20200623__v1.1.0/10ktp__10X__Visium__Mouse__brain__20200623__v1.1.0.spatialdata.zarr'Error renaming directory /lustre/groups/ml01/projects/2024_spatialdata_db/data/09ohz__10X__Visium__Mouse__brain__20191202__v1.0.0/09ohz__10X__Visium__Mouse__brain__20191202__v1.0.0.zarr to /lustre/groups/ml01/projects/2024_spatialdata_db/data/09ohz__10X__Visium__Mouse__brain__20191202__v1.0.0/10a6w__10X__Visium__Mouse__brain__20191202__v1.0.0.zarr: [Errno 2] No such file or directory: '/lustre/groups/ml01/projects/2024_spatialdata_db/data/09ohz__10X__Visium__Mouse__brain__20191202__v1.0.0/09ohz__10X__Visium__Mouse__brain__20191202__v1.0.0.zarr' -> '/lustre/groups/ml01/projects/2024_spatialdata_db/data/09ohz__10X__Visium__Mouse__brain__20191202__v1.0.0/10a6w__10X__Visium__Mouse__brain__20191202__v1.0.0.zarr'Error renaming directory /lustre/groups/ml01/projects/2024_spatialdata_db/data/3vg9t__10X__Visium__Human__large_intestine__20201027__v1.2.0/3vg9t__10X__Visium__Human__large_intestine__20201027__v1.2.0.zarr to /lustre/groups/ml01/projects/2024_spatialdata_db/data/3vg9t__10X__Visium__Human__large_intestine__20201027__v1.2.0/10kia__10X__Visium__Human__large_intestine__20201027__v1.2.0.zarr: [Errno 2] No such file or directory: '/lustre/groups/ml01/projects/2024_spatialdata_db/data/3vg9t__10X__Visium__Human__large_intestine__20201027__v1.2.0/3vg9t__10X__Visium__Human__large_intestine__20201027__v1.2.0.zarr' -> '/lustre/groups/ml01/projects/2024_spatialdata_db/data/3vg9t__10X__Visium__Human__large_intestine__20201027__v1.2.0/10kia__10X__Visium__Human__large_intestine__20201027__v1.2.0.zarr'Error renaming directory /lustre/groups/ml01/projects/2024_spatialdata_db/data/cyxpa__10X__Visium__Human__breast__20210609__v1.3.0/cyxpa__10X__Visium__Human__breast__20210609__v1.3.0.zarr to /lustre/groups/ml01/projects/2024_spatialdata_db/data/cyxpa__10X__Visium__Human__breast__20210609__v1.3.0/10jcz__10X__Visium__Human__breast__20210609__v1.3.0.zarr: [Errno 2] No such file or directory: '/lustre/groups/ml01/projects/2024_spatialdata_db/data/cyxpa__10X__Visium__Human__breast__20210609__v1.3.0/cyxpa__10X__Visium__Human__breast__20210609__v1.3.0.zarr' -> '/lustre/groups/ml01/projects/2024_spatialdata_db/data/cyxpa__10X__Visium__Human__breast__20210609__v1.3.0/10jcz__10X__Visium__Human__breast__20210609__v1.3.0.zarr'Error renaming directory /lustre/groups/ml01/projects/2024_spatialdata_db/data/fvvht__10X__Visium__Human__ovary__20220714__v2.0.0/fvvht__10X__Visium__Human__ovary__20220714__v2.0.0.zarr to /lustre/groups/ml01/projects/2024_spatialdata_db/data/fvvht__10X__Visium__Human__ovary__20220714__v2.0.0/108rf__10X__Visium__Human__ovary__20220714__v2.0.0.zarr: [Errno 2] No such file or directory: '/lustre/groups/ml01/projects/2024_spatialdata_db/data/fvvht__10X__Visium__Human__ovary__20220714__v2.0.0/fvvht__10X__Visium__Human__ovary__20220714__v2.0.0.zarr' -> '/lustre/groups/ml01/projects/2024_spatialdata_db/data/fvvht__10X__Visium__Human__ovary__20220714__v2.0.0/108rf__10X__Visium__Human__ovary__20220714__v2.0.0.zarr'Error renaming directory /lustre/groups/ml01/projects/2024_spatialdata_db/data/prxvd__10X__Xenium__Human__breast__20230122__v1.0.2__Tissuesample1/prxvd__10X__Xenium__Human__breast__20230122__v1.0.2__Tissuesample1.zarr to /lustre/groups/ml01/projects/2024_spatialdata_db/data/prxvd__10X__Xenium__Human__breast__20230122__v1.0.2__Tissuesample1/10dcv__10X__Xenium__Human__breast__20230122__v1.0.2__Tissuesample1.zarr: [Errno 2] No such file or directory: '/lustre/groups/ml01/projects/2024_spatialdata_db/data/prxvd__10X__Xenium__Human__breast__20230122__v1.0.2__Tissuesample1/prxvd__10X__Xenium__Human__breast__20230122__v1.0.2__Tissuesample1.zarr' -> '/lustre/groups/ml01/projects/2024_spatialdata_db/data/prxvd__10X__Xenium__Human__breast__20230122__v1.0.2__Tissuesample1/10dcv__10X__Xenium__Human__breast__20230122__v1.0.2__Tissuesample1.zarr'Error renaming directory /lustre/groups/ml01/projects/2024_spatialdata_db/data/a0xyt__10X__Visium__Mouse__brain__20231005__v2.1.0__ControlReplicate1/a0xyt__10X__Visium__Mouse__brain__20231005__v2.1.0__ControlReplicate1.zarr to /lustre/groups/ml01/projects/2024_spatialdata_db/data/a0xyt__10X__Visium__Mouse__brain__20231005__v2.1.0__ControlReplicate1/10ps4__10X__Visium__Mouse__brain__20231005__v2.1.0__ControlReplicate1.zarr: [Errno 2] No such file or directory: '/lustre/groups/ml01/projects/2024_spatialdata_db/data/a0xyt__10X__Visium__Mouse__brain__20231005__v2.1.0__ControlReplicate1/a0xyt__10X__Visium__Mouse__brain__20231005__v2.1.0__ControlReplicate1.zarr' -> '/lustre/groups/ml01/projects/2024_spatialdata_db/data/a0xyt__10X__Visium__Mouse__brain__20231005__v2.1.0__ControlReplicate1/10ps4__10X__Visium__Mouse__brain__20231005__v2.1.0__ControlReplicate1.zarr'Error renaming directory /lustre/groups/ml01/projects/2024_spatialdata_db/data/9btjk__10X__Visium__Mouse__lung_brain__20230221__v2.0.1__LungReplicate5/9btjk__10X__Visium__Mouse__lung_brain__20230221__v2.0.1__LungReplicate5.zarr to /lustre/groups/ml01/projects/2024_spatialdata_db/data/9btjk__10X__Visium__Mouse__lung_brain__20230221__v2.0.1__LungReplicate5/102hp__10X__Visium__Mouse__lung_brain__20230221__v2.0.1__LungReplicate5.zarr: [Errno 2] No such file or directory: '/lustre/groups/ml01/projects/2024_spatialdata_db/data/9btjk__10X__Visium__Mouse__lung_brain__20230221__v2.0.1__LungReplicate5/9btjk__10X__Visium__Mouse__lung_brain__20230221__v2.0.1__LungReplicate5.zarr' -> '/lustre/groups/ml01/projects/2024_spatialdata_db/data/9btjk__10X__Visium__Mouse__lung_brain__20230221__v2.0.1__LungReplicate5/102hp__10X__Visium__Mouse__lung_brain__20230221__v2.0.1__LungReplicate5.zarr'\n",
      "\n",
      "\n",
      "\n",
      "\n",
      "\n",
      "\n",
      "\n",
      "\n",
      "\n",
      "Error renaming directory /lustre/groups/ml01/projects/2024_spatialdata_db/data/oocrq__10X__Visium__Mouse__brain__20200623__v1.1.0/oocrq__10X__Visium__Mouse__brain__20200623__v1.1.0.zarr to /lustre/groups/ml01/projects/2024_spatialdata_db/data/oocrq__10X__Visium__Mouse__brain__20200623__v1.1.0/103te__10X__Visium__Mouse__brain__20200623__v1.1.0.zarr: [Errno 2] No such file or directory: '/lustre/groups/ml01/projects/2024_spatialdata_db/data/oocrq__10X__Visium__Mouse__brain__20200623__v1.1.0/oocrq__10X__Visium__Mouse__brain__20200623__v1.1.0.zarr' -> '/lustre/groups/ml01/projects/2024_spatialdata_db/data/oocrq__10X__Visium__Mouse__brain__20200623__v1.1.0/103te__10X__Visium__Mouse__brain__20200623__v1.1.0.zarr'\n",
      "Error renaming directory /lustre/groups/ml01/projects/2024_spatialdata_db/data/lgv1y__10X__Visium__Human__kidney__20230214__v2.0.1/lgv1y__10X__Visium__Human__kidney__20230214__v2.0.1.zarr to /lustre/groups/ml01/projects/2024_spatialdata_db/data/lgv1y__10X__Visium__Human__kidney__20230214__v2.0.1/10iky__10X__Visium__Human__kidney__20230214__v2.0.1.zarr: [Errno 2] No such file or directory: '/lustre/groups/ml01/projects/2024_spatialdata_db/data/lgv1y__10X__Visium__Human__kidney__20230214__v2.0.1/lgv1y__10X__Visium__Human__kidney__20230214__v2.0.1.zarr' -> '/lustre/groups/ml01/projects/2024_spatialdata_db/data/lgv1y__10X__Visium__Human__kidney__20230214__v2.0.1/10iky__10X__Visium__Human__kidney__20230214__v2.0.1.zarr'Error renaming directory /lustre/groups/ml01/projects/2024_spatialdata_db/data/zlitc__10X__Xenium__Mouse__brain__20230122__v1.0.2__Fullcoronalsection/zlitc__10X__Xenium__Mouse__brain__20230122__v1.0.2__Fullcoronalsection.zarr to /lustre/groups/ml01/projects/2024_spatialdata_db/data/zlitc__10X__Xenium__Mouse__brain__20230122__v1.0.2__Fullcoronalsection/10y80__10X__Xenium__Mouse__brain__20230122__v1.0.2__Fullcoronalsection.zarr: [Errno 2] No such file or directory: '/lustre/groups/ml01/projects/2024_spatialdata_db/data/zlitc__10X__Xenium__Mouse__brain__20230122__v1.0.2__Fullcoronalsection/zlitc__10X__Xenium__Mouse__brain__20230122__v1.0.2__Fullcoronalsection.zarr' -> '/lustre/groups/ml01/projects/2024_spatialdata_db/data/zlitc__10X__Xenium__Mouse__brain__20230122__v1.0.2__Fullcoronalsection/10y80__10X__Xenium__Mouse__brain__20230122__v1.0.2__Fullcoronalsection.zarr'Error renaming directory /lustre/groups/ml01/projects/2024_spatialdata_db/data/5ddwn__10X__Visium__Mouse__brain__20200623__v1.1.0/5ddwn__10X__Visium__Mouse__brain__20200623__v1.1.0.zarr to /lustre/groups/ml01/projects/2024_spatialdata_db/data/5ddwn__10X__Visium__Mouse__brain__20200623__v1.1.0/1039v__10X__Visium__Mouse__brain__20200623__v1.1.0.zarr: [Errno 2] No such file or directory: '/lustre/groups/ml01/projects/2024_spatialdata_db/data/5ddwn__10X__Visium__Mouse__brain__20200623__v1.1.0/5ddwn__10X__Visium__Mouse__brain__20200623__v1.1.0.zarr' -> '/lustre/groups/ml01/projects/2024_spatialdata_db/data/5ddwn__10X__Visium__Mouse__brain__20200623__v1.1.0/1039v__10X__Visium__Mouse__brain__20200623__v1.1.0.zarr'Error renaming directory /lustre/groups/ml01/projects/2024_spatialdata_db/data/kbcri__10X__Xenium__Human__breast__20230122__v1.0.2__Tissuesample1/kbcri__10X__Xenium__Human__breast__20230122__v1.0.2__Tissuesample1.zarr to /lustre/groups/ml01/projects/2024_spatialdata_db/data/kbcri__10X__Xenium__Human__breast__20230122__v1.0.2__Tissuesample1/101x5__10X__Xenium__Human__breast__20230122__v1.0.2__Tissuesample1.zarr: [Errno 2] No such file or directory: '/lustre/groups/ml01/projects/2024_spatialdata_db/data/kbcri__10X__Xenium__Human__breast__20230122__v1.0.2__Tissuesample1/kbcri__10X__Xenium__Human__breast__20230122__v1.0.2__Tissuesample1.zarr' -> '/lustre/groups/ml01/projects/2024_spatialdata_db/data/kbcri__10X__Xenium__Human__breast__20230122__v1.0.2__Tissuesample1/101x5__10X__Xenium__Human__breast__20230122__v1.0.2__Tissuesample1.zarr'Error renaming directory /lustre/groups/ml01/projects/2024_spatialdata_db/data/xdbdu__10X__Visium__Mouse__brain__20200623__v1.1.0/xdbdu__10X__Visium__Mouse__brain__20200623__v1.1.0.zarr to /lustre/groups/ml01/projects/2024_spatialdata_db/data/xdbdu__10X__Visium__Mouse__brain__20200623__v1.1.0/10amj__10X__Visium__Mouse__brain__20200623__v1.1.0.zarr: [Errno 2] No such file or directory: '/lustre/groups/ml01/projects/2024_spatialdata_db/data/xdbdu__10X__Visium__Mouse__brain__20200623__v1.1.0/xdbdu__10X__Visium__Mouse__brain__20200623__v1.1.0.zarr' -> '/lustre/groups/ml01/projects/2024_spatialdata_db/data/xdbdu__10X__Visium__Mouse__brain__20200623__v1.1.0/10amj__10X__Visium__Mouse__brain__20200623__v1.1.0.zarr'\n",
      "Error renaming directory /lustre/groups/ml01/projects/2024_spatialdata_db/data/lmhz8__10X__Visium__Mouse__olfactory_bulb__20220324__v1.3.0/lmhz8__10X__Visium__Mouse__olfactory_bulb__20220324__v1.3.0.zarr to /lustre/groups/ml01/projects/2024_spatialdata_db/data/lmhz8__10X__Visium__Mouse__olfactory_bulb__20220324__v1.3.0/103sf__10X__Visium__Mouse__olfactory_bulb__20220324__v1.3.0.zarr: [Errno 2] No such file or directory: '/lustre/groups/ml01/projects/2024_spatialdata_db/data/lmhz8__10X__Visium__Mouse__olfactory_bulb__20220324__v1.3.0/lmhz8__10X__Visium__Mouse__olfactory_bulb__20220324__v1.3.0.zarr' -> '/lustre/groups/ml01/projects/2024_spatialdata_db/data/lmhz8__10X__Visium__Mouse__olfactory_bulb__20220324__v1.3.0/103sf__10X__Visium__Mouse__olfactory_bulb__20220324__v1.3.0.zarr'\n",
      "\n",
      "Error renaming directory /lustre/groups/ml01/projects/2024_spatialdata_db/data/dn7st__10X__Xenium__unknown__unknown__20230420__v1.3.0__Alzheimers/dn7st__10X__Xenium__unknown__unknown__20230420__v1.3.0__Alzheimers.zarr to /lustre/groups/ml01/projects/2024_spatialdata_db/data/dn7st__10X__Xenium__unknown__unknown__20230420__v1.3.0__Alzheimers/10zj1__10X__Xenium__unknown__unknown__20230420__v1.3.0__Alzheimers.zarr: [Errno 2] No such file or directory: '/lustre/groups/ml01/projects/2024_spatialdata_db/data/dn7st__10X__Xenium__unknown__unknown__20230420__v1.3.0__Alzheimers/dn7st__10X__Xenium__unknown__unknown__20230420__v1.3.0__Alzheimers.zarr' -> '/lustre/groups/ml01/projects/2024_spatialdata_db/data/dn7st__10X__Xenium__unknown__unknown__20230420__v1.3.0__Alzheimers/10zj1__10X__Xenium__unknown__unknown__20230420__v1.3.0__Alzheimers.zarr'Error renaming directory /lustre/groups/ml01/projects/2024_spatialdata_db/data/566z3__10X__Visium__Human__spinal_cord__20201027__v1.2.0/566z3__10X__Visium__Human__spinal_cord__20201027__v1.2.0.zarr to /lustre/groups/ml01/projects/2024_spatialdata_db/data/566z3__10X__Visium__Human__spinal_cord__20201027__v1.2.0/101cw__10X__Visium__Human__spinal_cord__20201027__v1.2.0.zarr: [Errno 2] No such file or directory: '/lustre/groups/ml01/projects/2024_spatialdata_db/data/566z3__10X__Visium__Human__spinal_cord__20201027__v1.2.0/566z3__10X__Visium__Human__spinal_cord__20201027__v1.2.0.zarr' -> '/lustre/groups/ml01/projects/2024_spatialdata_db/data/566z3__10X__Visium__Human__spinal_cord__20201027__v1.2.0/101cw__10X__Visium__Human__spinal_cord__20201027__v1.2.0.zarr'Error renaming directory /lustre/groups/ml01/projects/2024_spatialdata_db/data/g3x6u__10X__Visium__Human__brain__20201027__v1.2.0/g3x6u__10X__Visium__Human__brain__20201027__v1.2.0.zarr to /lustre/groups/ml01/projects/2024_spatialdata_db/data/g3x6u__10X__Visium__Human__brain__20201027__v1.2.0/10wcj__10X__Visium__Human__brain__20201027__v1.2.0.zarr: [Errno 2] No such file or directory: '/lustre/groups/ml01/projects/2024_spatialdata_db/data/g3x6u__10X__Visium__Human__brain__20201027__v1.2.0/g3x6u__10X__Visium__Human__brain__20201027__v1.2.0.zarr' -> '/lustre/groups/ml01/projects/2024_spatialdata_db/data/g3x6u__10X__Visium__Human__brain__20201027__v1.2.0/10wcj__10X__Visium__Human__brain__20201027__v1.2.0.zarr'\n",
      "\n",
      "\n",
      "\n",
      "\n",
      "\n",
      "\n",
      "Error renaming directory /lustre/groups/ml01/projects/2024_spatialdata_db/data/nrbfo__10X__Visium__Human__prostate__20220712__v2.0.0/nrbfo__10X__Visium__Human__prostate__20220712__v2.0.0.zarr to /lustre/groups/ml01/projects/2024_spatialdata_db/data/nrbfo__10X__Visium__Human__prostate__20220712__v2.0.0/10thd__10X__Visium__Human__prostate__20220712__v2.0.0.zarr: [Errno 2] No such file or directory: '/lustre/groups/ml01/projects/2024_spatialdata_db/data/nrbfo__10X__Visium__Human__prostate__20220712__v2.0.0/nrbfo__10X__Visium__Human__prostate__20220712__v2.0.0.zarr' -> '/lustre/groups/ml01/projects/2024_spatialdata_db/data/nrbfo__10X__Visium__Human__prostate__20220712__v2.0.0/10thd__10X__Visium__Human__prostate__20220712__v2.0.0.zarr'Error renaming directory /lustre/groups/ml01/projects/2024_spatialdata_db/data/0bbcf__10X__Xenium__Human__skin__20240305__v1.9.0__Sample2/0bbcf__10X__Xenium__Human__skin__20240305__v1.9.0__Sample2.zarr to /lustre/groups/ml01/projects/2024_spatialdata_db/data/0bbcf__10X__Xenium__Human__skin__20240305__v1.9.0__Sample2/10ae2__10X__Xenium__Human__skin__20240305__v1.9.0__Sample2.zarr: [Errno 2] No such file or directory: '/lustre/groups/ml01/projects/2024_spatialdata_db/data/0bbcf__10X__Xenium__Human__skin__20240305__v1.9.0__Sample2/0bbcf__10X__Xenium__Human__skin__20240305__v1.9.0__Sample2.zarr' -> '/lustre/groups/ml01/projects/2024_spatialdata_db/data/0bbcf__10X__Xenium__Human__skin__20240305__v1.9.0__Sample2/10ae2__10X__Xenium__Human__skin__20240305__v1.9.0__Sample2.zarr'Error renaming directory /lustre/groups/ml01/projects/2024_spatialdata_db/data/pl425__10X__Visium__Human__heart__20191212__v1.0.0/pl425__10X__Visium__Human__heart__20191212__v1.0.0.zarr to /lustre/groups/ml01/projects/2024_spatialdata_db/data/pl425__10X__Visium__Human__heart__20191212__v1.0.0/10hay__10X__Visium__Human__heart__20191212__v1.0.0.zarr: [Errno 2] No such file or directory: '/lustre/groups/ml01/projects/2024_spatialdata_db/data/pl425__10X__Visium__Human__heart__20191212__v1.0.0/pl425__10X__Visium__Human__heart__20191212__v1.0.0.zarr' -> '/lustre/groups/ml01/projects/2024_spatialdata_db/data/pl425__10X__Visium__Human__heart__20191212__v1.0.0/10hay__10X__Visium__Human__heart__20191212__v1.0.0.zarr'Error renaming directory /lustre/groups/ml01/projects/2024_spatialdata_db/data/mohya__10X__Visium__Human__heart__20200623__v1.1.0/mohya__10X__Visium__Human__heart__20200623__v1.1.0.zarr to /lustre/groups/ml01/projects/2024_spatialdata_db/data/mohya__10X__Visium__Human__heart__20200623__v1.1.0/10e9s__10X__Visium__Human__heart__20200623__v1.1.0.zarr: [Errno 2] No such file or directory: '/lustre/groups/ml01/projects/2024_spatialdata_db/data/mohya__10X__Visium__Human__heart__20200623__v1.1.0/mohya__10X__Visium__Human__heart__20200623__v1.1.0.zarr' -> '/lustre/groups/ml01/projects/2024_spatialdata_db/data/mohya__10X__Visium__Human__heart__20200623__v1.1.0/10e9s__10X__Visium__Human__heart__20200623__v1.1.0.zarr'\n",
      "Error renaming directory /lustre/groups/ml01/projects/2024_spatialdata_db/data/wedt0__10X__Visium__Mouse__brain__20191202__v1.0.0/wedt0__10X__Visium__Mouse__brain__20191202__v1.0.0.zarr to /lustre/groups/ml01/projects/2024_spatialdata_db/data/wedt0__10X__Visium__Mouse__brain__20191202__v1.0.0/10jff__10X__Visium__Mouse__brain__20191202__v1.0.0.zarr: [Errno 2] No such file or directory: '/lustre/groups/ml01/projects/2024_spatialdata_db/data/wedt0__10X__Visium__Mouse__brain__20191202__v1.0.0/wedt0__10X__Visium__Mouse__brain__20191202__v1.0.0.zarr' -> '/lustre/groups/ml01/projects/2024_spatialdata_db/data/wedt0__10X__Visium__Mouse__brain__20191202__v1.0.0/10jff__10X__Visium__Mouse__brain__20191202__v1.0.0.zarr'\n",
      "Error renaming directory /lustre/groups/ml01/projects/2024_spatialdata_db/data/4b6qm__10X__Visium__Human__colon__20231005__v2.1.0__Post-XeniumReplicate1/4b6qm__10X__Visium__Human__colon__20231005__v2.1.0__Post-XeniumReplicate1.zarr to /lustre/groups/ml01/projects/2024_spatialdata_db/data/4b6qm__10X__Visium__Human__colon__20231005__v2.1.0__Post-XeniumReplicate1/10tei__10X__Visium__Human__colon__20231005__v2.1.0__Post-XeniumReplicate1.zarr: [Errno 2] No such file or directory: '/lustre/groups/ml01/projects/2024_spatialdata_db/data/4b6qm__10X__Visium__Human__colon__20231005__v2.1.0__Post-XeniumReplicate1/4b6qm__10X__Visium__Human__colon__20231005__v2.1.0__Post-XeniumReplicate1.zarr' -> '/lustre/groups/ml01/projects/2024_spatialdata_db/data/4b6qm__10X__Visium__Human__colon__20231005__v2.1.0__Post-XeniumReplicate1/10tei__10X__Visium__Human__colon__20231005__v2.1.0__Post-XeniumReplicate1.zarr'\n",
      "Error renaming directory /lustre/groups/ml01/projects/2024_spatialdata_db/data/ys7m7__10X__Visium__Human__cervix__20220328__v1.3.0/ys7m7__10X__Visium__Human__cervix__20220328__v1.3.0.zarr to /lustre/groups/ml01/projects/2024_spatialdata_db/data/ys7m7__10X__Visium__Human__cervix__20220328__v1.3.0/10hm6__10X__Visium__Human__cervix__20220328__v1.3.0.zarr: [Errno 2] No such file or directory: '/lustre/groups/ml01/projects/2024_spatialdata_db/data/ys7m7__10X__Visium__Human__cervix__20220328__v1.3.0/ys7m7__10X__Visium__Human__cervix__20220328__v1.3.0.zarr' -> '/lustre/groups/ml01/projects/2024_spatialdata_db/data/ys7m7__10X__Visium__Human__cervix__20220328__v1.3.0/10hm6__10X__Visium__Human__cervix__20220328__v1.3.0.zarr'Error renaming directory /lustre/groups/ml01/projects/2024_spatialdata_db/data/x3fho__10X__Xenium__Human__liver__20240305__v1.9.0__Livercancer/x3fho__10X__Xenium__Human__liver__20240305__v1.9.0__Livercancer.zarr to /lustre/groups/ml01/projects/2024_spatialdata_db/data/x3fho__10X__Xenium__Human__liver__20240305__v1.9.0__Livercancer/108dr__10X__Xenium__Human__liver__20240305__v1.9.0__Livercancer.zarr: [Errno 2] No such file or directory: '/lustre/groups/ml01/projects/2024_spatialdata_db/data/x3fho__10X__Xenium__Human__liver__20240305__v1.9.0__Livercancer/x3fho__10X__Xenium__Human__liver__20240305__v1.9.0__Livercancer.zarr' -> '/lustre/groups/ml01/projects/2024_spatialdata_db/data/x3fho__10X__Xenium__Human__liver__20240305__v1.9.0__Livercancer/108dr__10X__Xenium__Human__liver__20240305__v1.9.0__Livercancer.zarr'Error renaming directory /lustre/groups/ml01/projects/2024_spatialdata_db/data/fh4bl__10X__Xenium__Human__intestine_colon__20230829__v1.6.0__Non-diseasedpre-designedpanel/fh4bl__10X__Xenium__Human__intestine_colon__20230829__v1.6.0__Non-diseasedpre-designedpanel.zarr to /lustre/groups/ml01/projects/2024_spatialdata_db/data/fh4bl__10X__Xenium__Human__intestine_colon__20230829__v1.6.0__Non-diseasedpre-designedpanel/10tsy__10X__Xenium__Human__intestine_colon__20230829__v1.6.0__Non-diseasedpre-designedpanel.zarr: [Errno 2] No such file or directory: '/lustre/groups/ml01/projects/2024_spatialdata_db/data/fh4bl__10X__Xenium__Human__intestine_colon__20230829__v1.6.0__Non-diseasedpre-designedpanel/fh4bl__10X__Xenium__Human__intestine_colon__20230829__v1.6.0__Non-diseasedpre-designedpanel.zarr' -> '/lustre/groups/ml01/projects/2024_spatialdata_db/data/fh4bl__10X__Xenium__Human__intestine_colon__20230829__v1.6.0__Non-diseasedpre-designedpanel/10tsy__10X__Xenium__Human__intestine_colon__20230829__v1.6.0__Non-diseasedpre-designedpanel.zarr'\n",
      "\n",
      "\n",
      "\n",
      "Error renaming directory /lustre/groups/ml01/projects/2024_spatialdata_db/data/s6qwt__10X__Visium__Mouse__brain__20191202__v1.0.0/s6qwt__10X__Visium__Mouse__brain__20191202__v1.0.0.zarr to /lustre/groups/ml01/projects/2024_spatialdata_db/data/s6qwt__10X__Visium__Mouse__brain__20191202__v1.0.0/10rm3__10X__Visium__Mouse__brain__20191202__v1.0.0.zarr: [Errno 2] No such file or directory: '/lustre/groups/ml01/projects/2024_spatialdata_db/data/s6qwt__10X__Visium__Mouse__brain__20191202__v1.0.0/s6qwt__10X__Visium__Mouse__brain__20191202__v1.0.0.zarr' -> '/lustre/groups/ml01/projects/2024_spatialdata_db/data/s6qwt__10X__Visium__Mouse__brain__20191202__v1.0.0/10rm3__10X__Visium__Mouse__brain__20191202__v1.0.0.zarr'Error renaming directory /lustre/groups/ml01/projects/2024_spatialdata_db/data/gertw__10X__Visium__Mouse__kidney__20191202__v1.0.0/gertw__10X__Visium__Mouse__kidney__20191202__v1.0.0.zarr to /lustre/groups/ml01/projects/2024_spatialdata_db/data/gertw__10X__Visium__Mouse__kidney__20191202__v1.0.0/1094t__10X__Visium__Mouse__kidney__20191202__v1.0.0.zarr: [Errno 2] No such file or directory: '/lustre/groups/ml01/projects/2024_spatialdata_db/data/gertw__10X__Visium__Mouse__kidney__20191202__v1.0.0/gertw__10X__Visium__Mouse__kidney__20191202__v1.0.0.zarr' -> '/lustre/groups/ml01/projects/2024_spatialdata_db/data/gertw__10X__Visium__Mouse__kidney__20191202__v1.0.0/1094t__10X__Visium__Mouse__kidney__20191202__v1.0.0.zarr'\n",
      "Error renaming directory /lustre/groups/ml01/projects/2024_spatialdata_db/data/hp7qe__10X__Xenium__Human__bone_bone_marrow__20240403__v1.9.0__Non-diseasedBoneMarrow/hp7qe__10X__Xenium__Human__bone_bone_marrow__20240403__v1.9.0__Non-diseasedBoneMarrow.zarr to /lustre/groups/ml01/projects/2024_spatialdata_db/data/hp7qe__10X__Xenium__Human__bone_bone_marrow__20240403__v1.9.0__Non-diseasedBoneMarrow/10040__10X__Xenium__Human__bone_bone_marrow__20240403__v1.9.0__Non-diseasedBoneMarrow.zarr: [Errno 2] No such file or directory: '/lustre/groups/ml01/projects/2024_spatialdata_db/data/hp7qe__10X__Xenium__Human__bone_bone_marrow__20240403__v1.9.0__Non-diseasedBoneMarrow/hp7qe__10X__Xenium__Human__bone_bone_marrow__20240403__v1.9.0__Non-diseasedBoneMarrow.zarr' -> '/lustre/groups/ml01/projects/2024_spatialdata_db/data/hp7qe__10X__Xenium__Human__bone_bone_marrow__20240403__v1.9.0__Non-diseasedBoneMarrow/10040__10X__Xenium__Human__bone_bone_marrow__20240403__v1.9.0__Non-diseasedBoneMarrow.zarr'Error renaming directory /lustre/groups/ml01/projects/2024_spatialdata_db/data/zfcqw__10X__Visium__Mouse__brain__20220712__v2.0.0/zfcqw__10X__Visium__Mouse__brain__20220712__v2.0.0.zarr to /lustre/groups/ml01/projects/2024_spatialdata_db/data/zfcqw__10X__Visium__Mouse__brain__20220712__v2.0.0/10676__10X__Visium__Mouse__brain__20220712__v2.0.0.zarr: [Errno 2] No such file or directory: '/lustre/groups/ml01/projects/2024_spatialdata_db/data/zfcqw__10X__Visium__Mouse__brain__20220712__v2.0.0/zfcqw__10X__Visium__Mouse__brain__20220712__v2.0.0.zarr' -> '/lustre/groups/ml01/projects/2024_spatialdata_db/data/zfcqw__10X__Visium__Mouse__brain__20220712__v2.0.0/10676__10X__Visium__Mouse__brain__20220712__v2.0.0.zarr'\n",
      "Error renaming directory /lustre/groups/ml01/projects/2024_spatialdata_db/data/bojy8__10X__Visium__Mouse__brain__20200623__v1.1.0/bojy8__10X__Visium__Mouse__brain__20200623__v1.1.0.zarr to /lustre/groups/ml01/projects/2024_spatialdata_db/data/bojy8__10X__Visium__Mouse__brain__20200623__v1.1.0/10fc7__10X__Visium__Mouse__brain__20200623__v1.1.0.zarr: [Errno 2] No such file or directory: '/lustre/groups/ml01/projects/2024_spatialdata_db/data/bojy8__10X__Visium__Mouse__brain__20200623__v1.1.0/bojy8__10X__Visium__Mouse__brain__20200623__v1.1.0.zarr' -> '/lustre/groups/ml01/projects/2024_spatialdata_db/data/bojy8__10X__Visium__Mouse__brain__20200623__v1.1.0/10fc7__10X__Visium__Mouse__brain__20200623__v1.1.0.zarr'\n",
      "Error renaming directory /lustre/groups/ml01/projects/2024_spatialdata_db/data/llyvi__10X__Visium__Human__breast__20191212__v1.0.0/llyvi__10X__Visium__Human__breast__20191212__v1.0.0.zarr to /lustre/groups/ml01/projects/2024_spatialdata_db/data/llyvi__10X__Visium__Human__breast__20191212__v1.0.0/10wsf__10X__Visium__Human__breast__20191212__v1.0.0.zarr: [Errno 2] No such file or directory: '/lustre/groups/ml01/projects/2024_spatialdata_db/data/llyvi__10X__Visium__Human__breast__20191212__v1.0.0/llyvi__10X__Visium__Human__breast__20191212__v1.0.0.zarr' -> '/lustre/groups/ml01/projects/2024_spatialdata_db/data/llyvi__10X__Visium__Human__breast__20191212__v1.0.0/10wsf__10X__Visium__Human__breast__20191212__v1.0.0.zarr'Error renaming directory /lustre/groups/ml01/projects/2024_spatialdata_db/data/bw2x9__10X__Visium__Mouse__lung_brain__20230221__v2.0.1__BrainReplicate3/bw2x9__10X__Visium__Mouse__lung_brain__20230221__v2.0.1__BrainReplicate3.zarr to /lustre/groups/ml01/projects/2024_spatialdata_db/data/bw2x9__10X__Visium__Mouse__lung_brain__20230221__v2.0.1__BrainReplicate3/10s8t__10X__Visium__Mouse__lung_brain__20230221__v2.0.1__BrainReplicate3.zarr: [Errno 2] No such file or directory: '/lustre/groups/ml01/projects/2024_spatialdata_db/data/bw2x9__10X__Visium__Mouse__lung_brain__20230221__v2.0.1__BrainReplicate3/bw2x9__10X__Visium__Mouse__lung_brain__20230221__v2.0.1__BrainReplicate3.zarr' -> '/lustre/groups/ml01/projects/2024_spatialdata_db/data/bw2x9__10X__Visium__Mouse__lung_brain__20230221__v2.0.1__BrainReplicate3/10s8t__10X__Visium__Mouse__lung_brain__20230221__v2.0.1__BrainReplicate3.zarr'\n",
      "\n",
      "\n",
      "\n",
      "\n",
      "\n",
      "Error renaming directory /lustre/groups/ml01/projects/2024_spatialdata_db/data/a680h__10X__Xenium__Mouse__colon__20240319__v2.0.0/a680h__10X__Xenium__Mouse__colon__20240319__v2.0.0.zarr to /lustre/groups/ml01/projects/2024_spatialdata_db/data/a680h__10X__Xenium__Mouse__colon__20240319__v2.0.0/10sja__10X__Xenium__Mouse__colon__20240319__v2.0.0.zarr: [Errno 2] No such file or directory: '/lustre/groups/ml01/projects/2024_spatialdata_db/data/a680h__10X__Xenium__Mouse__colon__20240319__v2.0.0/a680h__10X__Xenium__Mouse__colon__20240319__v2.0.0.zarr' -> '/lustre/groups/ml01/projects/2024_spatialdata_db/data/a680h__10X__Xenium__Mouse__colon__20240319__v2.0.0/10sja__10X__Xenium__Mouse__colon__20240319__v2.0.0.zarr'\n",
      "Error renaming directory /lustre/groups/ml01/projects/2024_spatialdata_db/data/i3vq9__10X__Xenium__Human__tonsil__20240305__v1.9.0__Follicularlymphoidhyperplasia/i3vq9__10X__Xenium__Human__tonsil__20240305__v1.9.0__Follicularlymphoidhyperplasia.zarr to /lustre/groups/ml01/projects/2024_spatialdata_db/data/i3vq9__10X__Xenium__Human__tonsil__20240305__v1.9.0__Follicularlymphoidhyperplasia/1020d__10X__Xenium__Human__tonsil__20240305__v1.9.0__Follicularlymphoidhyperplasia.zarr: [Errno 2] No such file or directory: '/lustre/groups/ml01/projects/2024_spatialdata_db/data/i3vq9__10X__Xenium__Human__tonsil__20240305__v1.9.0__Follicularlymphoidhyperplasia/i3vq9__10X__Xenium__Human__tonsil__20240305__v1.9.0__Follicularlymphoidhyperplasia.zarr' -> '/lustre/groups/ml01/projects/2024_spatialdata_db/data/i3vq9__10X__Xenium__Human__tonsil__20240305__v1.9.0__Follicularlymphoidhyperplasia/1020d__10X__Xenium__Human__tonsil__20240305__v1.9.0__Follicularlymphoidhyperplasia.zarr'Error renaming directory /lustre/groups/ml01/projects/2024_spatialdata_db/data/8jqzn__10X__Xenium__Human__breast__20230418__v1.3.0__Tissuesample1(IDC)/8jqzn__10X__Xenium__Human__breast__20230418__v1.3.0__Tissuesample1(IDC).zarr to /lustre/groups/ml01/projects/2024_spatialdata_db/data/8jqzn__10X__Xenium__Human__breast__20230418__v1.3.0__Tissuesample1(IDC)/10uac__10X__Xenium__Human__breast__20230418__v1.3.0__Tissuesample1(IDC).zarr: [Errno 2] No such file or directory: '/lustre/groups/ml01/projects/2024_spatialdata_db/data/8jqzn__10X__Xenium__Human__breast__20230418__v1.3.0__Tissuesample1(IDC)/8jqzn__10X__Xenium__Human__breast__20230418__v1.3.0__Tissuesample1(IDC).zarr' -> '/lustre/groups/ml01/projects/2024_spatialdata_db/data/8jqzn__10X__Xenium__Human__breast__20230418__v1.3.0__Tissuesample1(IDC)/10uac__10X__Xenium__Human__breast__20230418__v1.3.0__Tissuesample1(IDC).zarr'Error renaming directory /lustre/groups/ml01/projects/2024_spatialdata_db/data/5qzqy__10X__Visium__Human__breast__20200623__v1.1.0/5qzqy__10X__Visium__Human__breast__20200623__v1.1.0.zarr to /lustre/groups/ml01/projects/2024_spatialdata_db/data/5qzqy__10X__Visium__Human__breast__20200623__v1.1.0/10fty__10X__Visium__Human__breast__20200623__v1.1.0.zarr: [Errno 2] No such file or directory: '/lustre/groups/ml01/projects/2024_spatialdata_db/data/5qzqy__10X__Visium__Human__breast__20200623__v1.1.0/5qzqy__10X__Visium__Human__breast__20200623__v1.1.0.zarr' -> '/lustre/groups/ml01/projects/2024_spatialdata_db/data/5qzqy__10X__Visium__Human__breast__20200623__v1.1.0/10fty__10X__Visium__Human__breast__20200623__v1.1.0.zarr'Error renaming directory /lustre/groups/ml01/projects/2024_spatialdata_db/data/th4zp__10X__Visium__Mouse__lung_brain__20230221__v2.0.1__LungReplicate1/th4zp__10X__Visium__Mouse__lung_brain__20230221__v2.0.1__LungReplicate1.zarr to /lustre/groups/ml01/projects/2024_spatialdata_db/data/th4zp__10X__Visium__Mouse__lung_brain__20230221__v2.0.1__LungReplicate1/10v61__10X__Visium__Mouse__lung_brain__20230221__v2.0.1__LungReplicate1.zarr: [Errno 2] No such file or directory: '/lustre/groups/ml01/projects/2024_spatialdata_db/data/th4zp__10X__Visium__Mouse__lung_brain__20230221__v2.0.1__LungReplicate1/th4zp__10X__Visium__Mouse__lung_brain__20230221__v2.0.1__LungReplicate1.zarr' -> '/lustre/groups/ml01/projects/2024_spatialdata_db/data/th4zp__10X__Visium__Mouse__lung_brain__20230221__v2.0.1__LungReplicate1/10v61__10X__Visium__Mouse__lung_brain__20230221__v2.0.1__LungReplicate1.zarr'Error renaming directory /lustre/groups/ml01/projects/2024_spatialdata_db/data/w1tgu__10X__Xenium__Human__intestine_colon__20230829__v1.6.0__Non-diseasedpre-designed+add-onpanel/w1tgu__10X__Xenium__Human__intestine_colon__20230829__v1.6.0__Non-diseasedpre-designed+add-onpanel.zarr to /lustre/groups/ml01/projects/2024_spatialdata_db/data/w1tgu__10X__Xenium__Human__intestine_colon__20230829__v1.6.0__Non-diseasedpre-designed+add-onpanel/101t3__10X__Xenium__Human__intestine_colon__20230829__v1.6.0__Non-diseasedpre-designed+add-onpanel.zarr: [Errno 2] No such file or directory: '/lustre/groups/ml01/projects/2024_spatialdata_db/data/w1tgu__10X__Xenium__Human__intestine_colon__20230829__v1.6.0__Non-diseasedpre-designed+add-onpanel/w1tgu__10X__Xenium__Human__intestine_colon__20230829__v1.6.0__Non-diseasedpre-designed+add-onpanel.zarr' -> '/lustre/groups/ml01/projects/2024_spatialdata_db/data/w1tgu__10X__Xenium__Human__intestine_colon__20230829__v1.6.0__Non-diseasedpre-designed+add-onpanel/101t3__10X__Xenium__Human__intestine_colon__20230829__v1.6.0__Non-diseasedpre-designed+add-onpanel.zarr'Error renaming directory /lustre/groups/ml01/projects/2024_spatialdata_db/data/9z0ng__10X__Xenium__Mouse__brain__20230713__v1.4.0__TgCRND85.7months/9z0ng__10X__Xenium__Mouse__brain__20230713__v1.4.0__TgCRND85.7months.zarr to /lustre/groups/ml01/projects/2024_spatialdata_db/data/9z0ng__10X__Xenium__Mouse__brain__20230713__v1.4.0__TgCRND85.7months/10fpp__10X__Xenium__Mouse__brain__20230713__v1.4.0__TgCRND85.7months.zarr: [Errno 2] No such file or directory: '/lustre/groups/ml01/projects/2024_spatialdata_db/data/9z0ng__10X__Xenium__Mouse__brain__20230713__v1.4.0__TgCRND85.7months/9z0ng__10X__Xenium__Mouse__brain__20230713__v1.4.0__TgCRND85.7months.zarr' -> '/lustre/groups/ml01/projects/2024_spatialdata_db/data/9z0ng__10X__Xenium__Mouse__brain__20230713__v1.4.0__TgCRND85.7months/10fpp__10X__Xenium__Mouse__brain__20230713__v1.4.0__TgCRND85.7months.zarr'\n",
      "\n",
      "\n",
      "Error renaming directory /lustre/groups/ml01/projects/2024_spatialdata_db/data/6aond__10X__Visium__Human__cerebellum__20220712__v2.0.0/6aond__10X__Visium__Human__cerebellum__20220712__v2.0.0.zarr to /lustre/groups/ml01/projects/2024_spatialdata_db/data/6aond__10X__Visium__Human__cerebellum__20220712__v2.0.0/10etk__10X__Visium__Human__cerebellum__20220712__v2.0.0.zarr: [Errno 2] No such file or directory: '/lustre/groups/ml01/projects/2024_spatialdata_db/data/6aond__10X__Visium__Human__cerebellum__20220712__v2.0.0/6aond__10X__Visium__Human__cerebellum__20220712__v2.0.0.zarr' -> '/lustre/groups/ml01/projects/2024_spatialdata_db/data/6aond__10X__Visium__Human__cerebellum__20220712__v2.0.0/10etk__10X__Visium__Human__cerebellum__20220712__v2.0.0.zarr'Error renaming directory /lustre/groups/ml01/projects/2024_spatialdata_db/data/p1yrb__10X__Visium__Mouse__brain__20220713__v2.0.0/p1yrb__10X__Visium__Mouse__brain__20220713__v2.0.0.zarr to /lustre/groups/ml01/projects/2024_spatialdata_db/data/p1yrb__10X__Visium__Mouse__brain__20220713__v2.0.0/10834__10X__Visium__Mouse__brain__20220713__v2.0.0.zarr: [Errno 2] No such file or directory: '/lustre/groups/ml01/projects/2024_spatialdata_db/data/p1yrb__10X__Visium__Mouse__brain__20220713__v2.0.0/p1yrb__10X__Visium__Mouse__brain__20220713__v2.0.0.zarr' -> '/lustre/groups/ml01/projects/2024_spatialdata_db/data/p1yrb__10X__Visium__Mouse__brain__20220713__v2.0.0/10834__10X__Visium__Mouse__brain__20220713__v2.0.0.zarr'\n",
      "\n",
      "Error renaming directory /lustre/groups/ml01/projects/2024_spatialdata_db/data/nqe4e__10X__Xenium__Mouse__bone__20240403__v1.9.0__10Formicaciddecalcification/nqe4e__10X__Xenium__Mouse__bone__20240403__v1.9.0__10Formicaciddecalcification.zarr to /lustre/groups/ml01/projects/2024_spatialdata_db/data/nqe4e__10X__Xenium__Mouse__bone__20240403__v1.9.0__10Formicaciddecalcification/106xa__10X__Xenium__Mouse__bone__20240403__v1.9.0__10Formicaciddecalcification.zarr: [Errno 2] No such file or directory: '/lustre/groups/ml01/projects/2024_spatialdata_db/data/nqe4e__10X__Xenium__Mouse__bone__20240403__v1.9.0__10Formicaciddecalcification/nqe4e__10X__Xenium__Mouse__bone__20240403__v1.9.0__10Formicaciddecalcification.zarr' -> '/lustre/groups/ml01/projects/2024_spatialdata_db/data/nqe4e__10X__Xenium__Mouse__bone__20240403__v1.9.0__10Formicaciddecalcification/106xa__10X__Xenium__Mouse__bone__20240403__v1.9.0__10Formicaciddecalcification.zarr'\n",
      "\n",
      "\n",
      "Error renaming directory /lustre/groups/ml01/projects/2024_spatialdata_db/data/02uqv__10X__Visium__Mouse__brain__20191202__v1.0.0/02uqv__10X__Visium__Mouse__brain__20191202__v1.0.0.zarr to /lustre/groups/ml01/projects/2024_spatialdata_db/data/02uqv__10X__Visium__Mouse__brain__20191202__v1.0.0/10xtf__10X__Visium__Mouse__brain__20191202__v1.0.0.zarr: [Errno 2] No such file or directory: '/lustre/groups/ml01/projects/2024_spatialdata_db/data/02uqv__10X__Visium__Mouse__brain__20191202__v1.0.0/02uqv__10X__Visium__Mouse__brain__20191202__v1.0.0.zarr' -> '/lustre/groups/ml01/projects/2024_spatialdata_db/data/02uqv__10X__Visium__Mouse__brain__20191202__v1.0.0/10xtf__10X__Visium__Mouse__brain__20191202__v1.0.0.zarr'\n",
      "Error renaming directory /lustre/groups/ml01/projects/2024_spatialdata_db/data/uxen8__10X__Xenium__Human__breast__20230122__v1.0.2__Replicate2/uxen8__10X__Xenium__Human__breast__20230122__v1.0.2__Replicate2.zarr to /lustre/groups/ml01/projects/2024_spatialdata_db/data/uxen8__10X__Xenium__Human__breast__20230122__v1.0.2__Replicate2/10xay__10X__Xenium__Human__breast__20230122__v1.0.2__Replicate2.zarr: [Errno 2] No such file or directory: '/lustre/groups/ml01/projects/2024_spatialdata_db/data/uxen8__10X__Xenium__Human__breast__20230122__v1.0.2__Replicate2/uxen8__10X__Xenium__Human__breast__20230122__v1.0.2__Replicate2.zarr' -> '/lustre/groups/ml01/projects/2024_spatialdata_db/data/uxen8__10X__Xenium__Human__breast__20230122__v1.0.2__Replicate2/10xay__10X__Xenium__Human__breast__20230122__v1.0.2__Replicate2.zarr'Error renaming directory /lustre/groups/ml01/projects/2024_spatialdata_db/data/hg0x5__10X__Visium__Mouse__embryo__20220714__v2.0.0/hg0x5__10X__Visium__Mouse__embryo__20220714__v2.0.0.zarr to /lustre/groups/ml01/projects/2024_spatialdata_db/data/hg0x5__10X__Visium__Mouse__embryo__20220714__v2.0.0/10e4x__10X__Visium__Mouse__embryo__20220714__v2.0.0.zarr: [Errno 2] No such file or directory: '/lustre/groups/ml01/projects/2024_spatialdata_db/data/hg0x5__10X__Visium__Mouse__embryo__20220714__v2.0.0/hg0x5__10X__Visium__Mouse__embryo__20220714__v2.0.0.zarr' -> '/lustre/groups/ml01/projects/2024_spatialdata_db/data/hg0x5__10X__Visium__Mouse__embryo__20220714__v2.0.0/10e4x__10X__Visium__Mouse__embryo__20220714__v2.0.0.zarr'\n",
      "\n",
      "\n",
      "Error renaming directory /lustre/groups/ml01/projects/2024_spatialdata_db/data/vrwlc__10X__Visium__Mouse__lung_brain__20230221__v2.0.1__AllTissueCores/vrwlc__10X__Visium__Mouse__lung_brain__20230221__v2.0.1__AllTissueCores.zarr to /lustre/groups/ml01/projects/2024_spatialdata_db/data/vrwlc__10X__Visium__Mouse__lung_brain__20230221__v2.0.1__AllTissueCores/10ttt__10X__Visium__Mouse__lung_brain__20230221__v2.0.1__AllTissueCores.zarr: [Errno 2] No such file or directory: '/lustre/groups/ml01/projects/2024_spatialdata_db/data/vrwlc__10X__Visium__Mouse__lung_brain__20230221__v2.0.1__AllTissueCores/vrwlc__10X__Visium__Mouse__lung_brain__20230221__v2.0.1__AllTissueCores.zarr' -> '/lustre/groups/ml01/projects/2024_spatialdata_db/data/vrwlc__10X__Visium__Mouse__lung_brain__20230221__v2.0.1__AllTissueCores/10ttt__10X__Visium__Mouse__lung_brain__20230221__v2.0.1__AllTissueCores.zarr'Error renaming directory /lustre/groups/ml01/projects/2024_spatialdata_db/data/7z1k9__10X__Xenium__Human__lung__20230717__v1.5.0/7z1k9__10X__Xenium__Human__lung__20230717__v1.5.0.zarr to /lustre/groups/ml01/projects/2024_spatialdata_db/data/7z1k9__10X__Xenium__Human__lung__20230717__v1.5.0/107sr__10X__Xenium__Human__lung__20230717__v1.5.0.zarr: [Errno 2] No such file or directory: '/lustre/groups/ml01/projects/2024_spatialdata_db/data/7z1k9__10X__Xenium__Human__lung__20230717__v1.5.0/7z1k9__10X__Xenium__Human__lung__20230717__v1.5.0.zarr' -> '/lustre/groups/ml01/projects/2024_spatialdata_db/data/7z1k9__10X__Xenium__Human__lung__20230717__v1.5.0/107sr__10X__Xenium__Human__lung__20230717__v1.5.0.zarr'Error renaming directory /lustre/groups/ml01/projects/2024_spatialdata_db/data/di0of__10X__CytAssist__Human__brain__20230515__v2.1.0/di0of__10X__CytAssist__Human__brain__20230515__v2.1.0.zarr to /lustre/groups/ml01/projects/2024_spatialdata_db/data/di0of__10X__CytAssist__Human__brain__20230515__v2.1.0/10z91__10X__CytAssist__Human__brain__20230515__v2.1.0.zarr: [Errno 2] No such file or directory: '/lustre/groups/ml01/projects/2024_spatialdata_db/data/di0of__10X__CytAssist__Human__brain__20230515__v2.1.0/di0of__10X__CytAssist__Human__brain__20230515__v2.1.0.zarr' -> '/lustre/groups/ml01/projects/2024_spatialdata_db/data/di0of__10X__CytAssist__Human__brain__20230515__v2.1.0/10z91__10X__CytAssist__Human__brain__20230515__v2.1.0.zarr'Error renaming directory /lustre/groups/ml01/projects/2024_spatialdata_db/data/7qz12__10X__Visium__Human__brain_cerebellum__20201027__v1.2.0/7qz12__10X__Visium__Human__brain_cerebellum__20201027__v1.2.0.zarr to /lustre/groups/ml01/projects/2024_spatialdata_db/data/7qz12__10X__Visium__Human__brain_cerebellum__20201027__v1.2.0/10hxz__10X__Visium__Human__brain_cerebellum__20201027__v1.2.0.zarr: [Errno 2] No such file or directory: '/lustre/groups/ml01/projects/2024_spatialdata_db/data/7qz12__10X__Visium__Human__brain_cerebellum__20201027__v1.2.0/7qz12__10X__Visium__Human__brain_cerebellum__20201027__v1.2.0.zarr' -> '/lustre/groups/ml01/projects/2024_spatialdata_db/data/7qz12__10X__Visium__Human__brain_cerebellum__20201027__v1.2.0/10hxz__10X__Visium__Human__brain_cerebellum__20201027__v1.2.0.zarr'\n"
     ]
    },
    {
     "name": "stderr",
     "output_type": "stream",
     "text": [
      "Renaming directories:  97%|█████████▋| 25193/25999 [00:05<00:00, 4436.28it/s]"
     ]
    },
    {
     "name": "stdout",
     "output_type": "stream",
     "text": [
      "\n",
      "\n",
      "\n",
      "Error renaming directory /lustre/groups/ml01/projects/2024_spatialdata_db/data/twgn1__10X__Xenium__Human__tonsil__20240305__v1.9.0__Reactivefollicularhyperplasia/twgn1__10X__Xenium__Human__tonsil__20240305__v1.9.0__Reactivefollicularhyperplasia.zarr to /lustre/groups/ml01/projects/2024_spatialdata_db/data/twgn1__10X__Xenium__Human__tonsil__20240305__v1.9.0__Reactivefollicularhyperplasia/10arp__10X__Xenium__Human__tonsil__20240305__v1.9.0__Reactivefollicularhyperplasia.zarr: [Errno 2] No such file or directory: '/lustre/groups/ml01/projects/2024_spatialdata_db/data/twgn1__10X__Xenium__Human__tonsil__20240305__v1.9.0__Reactivefollicularhyperplasia/twgn1__10X__Xenium__Human__tonsil__20240305__v1.9.0__Reactivefollicularhyperplasia.zarr' -> '/lustre/groups/ml01/projects/2024_spatialdata_db/data/twgn1__10X__Xenium__Human__tonsil__20240305__v1.9.0__Reactivefollicularhyperplasia/10arp__10X__Xenium__Human__tonsil__20240305__v1.9.0__Reactivefollicularhyperplasia.zarr'Error renaming directory /lustre/groups/ml01/projects/2024_spatialdata_db/data/28vqx__10X__Visium__Human__prostate__20210609__v1.3.0/28vqx__10X__Visium__Human__prostate__20210609__v1.3.0.zarr to /lustre/groups/ml01/projects/2024_spatialdata_db/data/28vqx__10X__Visium__Human__prostate__20210609__v1.3.0/1005m__10X__Visium__Human__prostate__20210609__v1.3.0.zarr: [Errno 2] No such file or directory: '/lustre/groups/ml01/projects/2024_spatialdata_db/data/28vqx__10X__Visium__Human__prostate__20210609__v1.3.0/28vqx__10X__Visium__Human__prostate__20210609__v1.3.0.zarr' -> '/lustre/groups/ml01/projects/2024_spatialdata_db/data/28vqx__10X__Visium__Human__prostate__20210609__v1.3.0/1005m__10X__Visium__Human__prostate__20210609__v1.3.0.zarr'Error renaming directory /lustre/groups/ml01/projects/2024_spatialdata_db/data/nnx96__10X__Xenium__Mouse__brain__20230122__v1.0.2__Replicate1/nnx96__10X__Xenium__Mouse__brain__20230122__v1.0.2__Replicate1.zarr to /lustre/groups/ml01/projects/2024_spatialdata_db/data/nnx96__10X__Xenium__Mouse__brain__20230122__v1.0.2__Replicate1/10x88__10X__Xenium__Mouse__brain__20230122__v1.0.2__Replicate1.zarr: [Errno 2] No such file or directory: '/lustre/groups/ml01/projects/2024_spatialdata_db/data/nnx96__10X__Xenium__Mouse__brain__20230122__v1.0.2__Replicate1/nnx96__10X__Xenium__Mouse__brain__20230122__v1.0.2__Replicate1.zarr' -> '/lustre/groups/ml01/projects/2024_spatialdata_db/data/nnx96__10X__Xenium__Mouse__brain__20230122__v1.0.2__Replicate1/10x88__10X__Xenium__Mouse__brain__20230122__v1.0.2__Replicate1.zarr'Error renaming directory /lustre/groups/ml01/projects/2024_spatialdata_db/data/002c0__10X__Visium__Human__ovary__20201027__v1.2.0/002c0__10X__Visium__Human__ovary__20201027__v1.2.0.zarr to /lustre/groups/ml01/projects/2024_spatialdata_db/data/002c0__10X__Visium__Human__ovary__20201027__v1.2.0/10rxw__10X__Visium__Human__ovary__20201027__v1.2.0.zarr: [Errno 2] No such file or directory: '/lustre/groups/ml01/projects/2024_spatialdata_db/data/002c0__10X__Visium__Human__ovary__20201027__v1.2.0/002c0__10X__Visium__Human__ovary__20201027__v1.2.0.zarr' -> '/lustre/groups/ml01/projects/2024_spatialdata_db/data/002c0__10X__Visium__Human__ovary__20201027__v1.2.0/10rxw__10X__Visium__Human__ovary__20201027__v1.2.0.zarr'Error renaming directory /lustre/groups/ml01/projects/2024_spatialdata_db/data/yzl3e__10X__Visium__Human__lung__20230214__v2.0.1/yzl3e__10X__Visium__Human__lung__20230214__v2.0.1.zarr to /lustre/groups/ml01/projects/2024_spatialdata_db/data/yzl3e__10X__Visium__Human__lung__20230214__v2.0.1/10kmy__10X__Visium__Human__lung__20230214__v2.0.1.zarr: [Errno 2] No such file or directory: '/lustre/groups/ml01/projects/2024_spatialdata_db/data/yzl3e__10X__Visium__Human__lung__20230214__v2.0.1/yzl3e__10X__Visium__Human__lung__20230214__v2.0.1.zarr' -> '/lustre/groups/ml01/projects/2024_spatialdata_db/data/yzl3e__10X__Visium__Human__lung__20230214__v2.0.1/10kmy__10X__Visium__Human__lung__20230214__v2.0.1.zarr'\n",
      "\n",
      "Error renaming directory /lustre/groups/ml01/projects/2024_spatialdata_db/data/1lhfw__10X__Xenium__Mouse__bone__20240403__v1.9.0__15EDTA0.4PFAdecalcification/1lhfw__10X__Xenium__Mouse__bone__20240403__v1.9.0__15EDTA0.4PFAdecalcification.zarr to /lustre/groups/ml01/projects/2024_spatialdata_db/data/1lhfw__10X__Xenium__Mouse__bone__20240403__v1.9.0__15EDTA0.4PFAdecalcification/10ndm__10X__Xenium__Mouse__bone__20240403__v1.9.0__15EDTA0.4PFAdecalcification.zarr: [Errno 2] No such file or directory: '/lustre/groups/ml01/projects/2024_spatialdata_db/data/1lhfw__10X__Xenium__Mouse__bone__20240403__v1.9.0__15EDTA0.4PFAdecalcification/1lhfw__10X__Xenium__Mouse__bone__20240403__v1.9.0__15EDTA0.4PFAdecalcification.zarr' -> '/lustre/groups/ml01/projects/2024_spatialdata_db/data/1lhfw__10X__Xenium__Mouse__bone__20240403__v1.9.0__15EDTA0.4PFAdecalcification/10ndm__10X__Xenium__Mouse__bone__20240403__v1.9.0__15EDTA0.4PFAdecalcification.zarr'\n",
      "Error renaming directory /lustre/groups/ml01/projects/2024_spatialdata_db/data/aylse__10X__Xenium__Human__pancreas__20240319__v2.0.0/aylse__10X__Xenium__Human__pancreas__20240319__v2.0.0.zarr to /lustre/groups/ml01/projects/2024_spatialdata_db/data/aylse__10X__Xenium__Human__pancreas__20240319__v2.0.0/10i70__10X__Xenium__Human__pancreas__20240319__v2.0.0.zarr: [Errno 2] No such file or directory: '/lustre/groups/ml01/projects/2024_spatialdata_db/data/aylse__10X__Xenium__Human__pancreas__20240319__v2.0.0/aylse__10X__Xenium__Human__pancreas__20240319__v2.0.0.zarr' -> '/lustre/groups/ml01/projects/2024_spatialdata_db/data/aylse__10X__Xenium__Human__pancreas__20240319__v2.0.0/10i70__10X__Xenium__Human__pancreas__20240319__v2.0.0.zarr'\n",
      "Error renaming directory /lustre/groups/ml01/projects/2024_spatialdata_db/data/vk8d4__10X__Xenium__Human__breast__20230122__v1.0.2__Tissuesample2/vk8d4__10X__Xenium__Human__breast__20230122__v1.0.2__Tissuesample2.zarr to /lustre/groups/ml01/projects/2024_spatialdata_db/data/vk8d4__10X__Xenium__Human__breast__20230122__v1.0.2__Tissuesample2/109zw__10X__Xenium__Human__breast__20230122__v1.0.2__Tissuesample2.zarr: [Errno 2] No such file or directory: '/lustre/groups/ml01/projects/2024_spatialdata_db/data/vk8d4__10X__Xenium__Human__breast__20230122__v1.0.2__Tissuesample2/vk8d4__10X__Xenium__Human__breast__20230122__v1.0.2__Tissuesample2.zarr' -> '/lustre/groups/ml01/projects/2024_spatialdata_db/data/vk8d4__10X__Xenium__Human__breast__20230122__v1.0.2__Tissuesample2/109zw__10X__Xenium__Human__breast__20230122__v1.0.2__Tissuesample2.zarr'Error renaming directory /lustre/groups/ml01/projects/2024_spatialdata_db/data/g9gmu__10X__Xenium__Mouse__brain__20230713__v1.4.0__Wildtype13.4months/g9gmu__10X__Xenium__Mouse__brain__20230713__v1.4.0__Wildtype13.4months.zarr to /lustre/groups/ml01/projects/2024_spatialdata_db/data/g9gmu__10X__Xenium__Mouse__brain__20230713__v1.4.0__Wildtype13.4months/106ws__10X__Xenium__Mouse__brain__20230713__v1.4.0__Wildtype13.4months.zarr: [Errno 2] No such file or directory: '/lustre/groups/ml01/projects/2024_spatialdata_db/data/g9gmu__10X__Xenium__Mouse__brain__20230713__v1.4.0__Wildtype13.4months/g9gmu__10X__Xenium__Mouse__brain__20230713__v1.4.0__Wildtype13.4months.zarr' -> '/lustre/groups/ml01/projects/2024_spatialdata_db/data/g9gmu__10X__Xenium__Mouse__brain__20230713__v1.4.0__Wildtype13.4months/106ws__10X__Xenium__Mouse__brain__20230713__v1.4.0__Wildtype13.4months.zarr'Error renaming directory /lustre/groups/ml01/projects/2024_spatialdata_db/data/f0j79__10X__Visium__Mouse__brain__20210816__v1.3.0/f0j79__10X__Visium__Mouse__brain__20210816__v1.3.0.zarr to /lustre/groups/ml01/projects/2024_spatialdata_db/data/f0j79__10X__Visium__Mouse__brain__20210816__v1.3.0/10kz7__10X__Visium__Mouse__brain__20210816__v1.3.0.zarr: [Errno 2] No such file or directory: '/lustre/groups/ml01/projects/2024_spatialdata_db/data/f0j79__10X__Visium__Mouse__brain__20210816__v1.3.0/f0j79__10X__Visium__Mouse__brain__20210816__v1.3.0.zarr' -> '/lustre/groups/ml01/projects/2024_spatialdata_db/data/f0j79__10X__Visium__Mouse__brain__20210816__v1.3.0/10kz7__10X__Visium__Mouse__brain__20210816__v1.3.0.zarr'\n",
      "\n",
      "\n",
      "\n",
      "\n",
      "\n",
      "Error renaming directory /lustre/groups/ml01/projects/2024_spatialdata_db/data/05rko__10X__Visium__Mouse__brain__20191202__v1.0.0/05rko__10X__Visium__Mouse__brain__20191202__v1.0.0.zarr to /lustre/groups/ml01/projects/2024_spatialdata_db/data/05rko__10X__Visium__Mouse__brain__20191202__v1.0.0/10tzs__10X__Visium__Mouse__brain__20191202__v1.0.0.zarr: [Errno 2] No such file or directory: '/lustre/groups/ml01/projects/2024_spatialdata_db/data/05rko__10X__Visium__Mouse__brain__20191202__v1.0.0/05rko__10X__Visium__Mouse__brain__20191202__v1.0.0.zarr' -> '/lustre/groups/ml01/projects/2024_spatialdata_db/data/05rko__10X__Visium__Mouse__brain__20191202__v1.0.0/10tzs__10X__Visium__Mouse__brain__20191202__v1.0.0.zarr'\n",
      "Error renaming directory /lustre/groups/ml01/projects/2024_spatialdata_db/data/fg8go__10X__Visium__Mouse__brain__20220329__v1.3.0/fg8go__10X__Visium__Mouse__brain__20220329__v1.3.0.zarr to /lustre/groups/ml01/projects/2024_spatialdata_db/data/fg8go__10X__Visium__Mouse__brain__20220329__v1.3.0/10zvc__10X__Visium__Mouse__brain__20220329__v1.3.0.zarr: [Errno 2] No such file or directory: '/lustre/groups/ml01/projects/2024_spatialdata_db/data/fg8go__10X__Visium__Mouse__brain__20220329__v1.3.0/fg8go__10X__Visium__Mouse__brain__20220329__v1.3.0.zarr' -> '/lustre/groups/ml01/projects/2024_spatialdata_db/data/fg8go__10X__Visium__Mouse__brain__20220329__v1.3.0/10zvc__10X__Visium__Mouse__brain__20220329__v1.3.0.zarr'Error renaming directory /lustre/groups/ml01/projects/2024_spatialdata_db/data/0pknt__10X__Visium__Human__breast__20191212__v1.0.0/0pknt__10X__Visium__Human__breast__20191212__v1.0.0.zarr to /lustre/groups/ml01/projects/2024_spatialdata_db/data/0pknt__10X__Visium__Human__breast__20191212__v1.0.0/1097y__10X__Visium__Human__breast__20191212__v1.0.0.zarr: [Errno 2] No such file or directory: '/lustre/groups/ml01/projects/2024_spatialdata_db/data/0pknt__10X__Visium__Human__breast__20191212__v1.0.0/0pknt__10X__Visium__Human__breast__20191212__v1.0.0.zarr' -> '/lustre/groups/ml01/projects/2024_spatialdata_db/data/0pknt__10X__Visium__Human__breast__20191212__v1.0.0/1097y__10X__Visium__Human__breast__20191212__v1.0.0.zarr'Error renaming directory /lustre/groups/ml01/projects/2024_spatialdata_db/data/xiyyu__10X__Visium__Mouse__brain__20200623__v1.1.0/xiyyu__10X__Visium__Mouse__brain__20200623__v1.1.0.zarr to /lustre/groups/ml01/projects/2024_spatialdata_db/data/xiyyu__10X__Visium__Mouse__brain__20200623__v1.1.0/10p5f__10X__Visium__Mouse__brain__20200623__v1.1.0.zarr: [Errno 2] No such file or directory: '/lustre/groups/ml01/projects/2024_spatialdata_db/data/xiyyu__10X__Visium__Mouse__brain__20200623__v1.1.0/xiyyu__10X__Visium__Mouse__brain__20200623__v1.1.0.zarr' -> '/lustre/groups/ml01/projects/2024_spatialdata_db/data/xiyyu__10X__Visium__Mouse__brain__20200623__v1.1.0/10p5f__10X__Visium__Mouse__brain__20200623__v1.1.0.zarr'Error renaming directory /lustre/groups/ml01/projects/2024_spatialdata_db/data/0ufac__10X__Visium__Mouse__lung_brain__20230221__v2.0.1__BrainReplicate2/0ufac__10X__Visium__Mouse__lung_brain__20230221__v2.0.1__BrainReplicate2.zarr to /lustre/groups/ml01/projects/2024_spatialdata_db/data/0ufac__10X__Visium__Mouse__lung_brain__20230221__v2.0.1__BrainReplicate2/10v4k__10X__Visium__Mouse__lung_brain__20230221__v2.0.1__BrainReplicate2.zarr: [Errno 2] No such file or directory: '/lustre/groups/ml01/projects/2024_spatialdata_db/data/0ufac__10X__Visium__Mouse__lung_brain__20230221__v2.0.1__BrainReplicate2/0ufac__10X__Visium__Mouse__lung_brain__20230221__v2.0.1__BrainReplicate2.zarr' -> '/lustre/groups/ml01/projects/2024_spatialdata_db/data/0ufac__10X__Visium__Mouse__lung_brain__20230221__v2.0.1__BrainReplicate2/10v4k__10X__Visium__Mouse__lung_brain__20230221__v2.0.1__BrainReplicate2.zarr'Error renaming directory /lustre/groups/ml01/projects/2024_spatialdata_db/data/4jlxk__10X__Visium__Human__large_intestine__20201027__v1.2.0/4jlxk__10X__Visium__Human__large_intestine__20201027__v1.2.0.zarr to /lustre/groups/ml01/projects/2024_spatialdata_db/data/4jlxk__10X__Visium__Human__large_intestine__20201027__v1.2.0/10zad__10X__Visium__Human__large_intestine__20201027__v1.2.0.zarr: [Errno 2] No such file or directory: '/lustre/groups/ml01/projects/2024_spatialdata_db/data/4jlxk__10X__Visium__Human__large_intestine__20201027__v1.2.0/4jlxk__10X__Visium__Human__large_intestine__20201027__v1.2.0.zarr' -> '/lustre/groups/ml01/projects/2024_spatialdata_db/data/4jlxk__10X__Visium__Human__large_intestine__20201027__v1.2.0/10zad__10X__Visium__Human__large_intestine__20201027__v1.2.0.zarr'Error renaming directory /lustre/groups/ml01/projects/2024_spatialdata_db/data/gl1ci__10X__Visium__Human__breast__20200623__v1.1.0/gl1ci__10X__Visium__Human__breast__20200623__v1.1.0.zarr to /lustre/groups/ml01/projects/2024_spatialdata_db/data/gl1ci__10X__Visium__Human__breast__20200623__v1.1.0/10evh__10X__Visium__Human__breast__20200623__v1.1.0.zarr: [Errno 2] No such file or directory: '/lustre/groups/ml01/projects/2024_spatialdata_db/data/gl1ci__10X__Visium__Human__breast__20200623__v1.1.0/gl1ci__10X__Visium__Human__breast__20200623__v1.1.0.zarr' -> '/lustre/groups/ml01/projects/2024_spatialdata_db/data/gl1ci__10X__Visium__Human__breast__20200623__v1.1.0/10evh__10X__Visium__Human__breast__20200623__v1.1.0.zarr'Error renaming directory /lustre/groups/ml01/projects/2024_spatialdata_db/data/6uvee__10X__Xenium__Human__skin__20231207__v1.7.0/6uvee__10X__Xenium__Human__skin__20231207__v1.7.0.zarr to /lustre/groups/ml01/projects/2024_spatialdata_db/data/6uvee__10X__Xenium__Human__skin__20231207__v1.7.0/10zwi__10X__Xenium__Human__skin__20231207__v1.7.0.zarr: [Errno 2] No such file or directory: '/lustre/groups/ml01/projects/2024_spatialdata_db/data/6uvee__10X__Xenium__Human__skin__20231207__v1.7.0/6uvee__10X__Xenium__Human__skin__20231207__v1.7.0.zarr' -> '/lustre/groups/ml01/projects/2024_spatialdata_db/data/6uvee__10X__Xenium__Human__skin__20231207__v1.7.0/10zwi__10X__Xenium__Human__skin__20231207__v1.7.0.zarr'Error renaming directory /lustre/groups/ml01/projects/2024_spatialdata_db/data/oeuwa__10X__Xenium__Mouse__brain__20230713__v1.4.0__Wildtype5.7months/oeuwa__10X__Xenium__Mouse__brain__20230713__v1.4.0__Wildtype5.7months.zarr to /lustre/groups/ml01/projects/2024_spatialdata_db/data/oeuwa__10X__Xenium__Mouse__brain__20230713__v1.4.0__Wildtype5.7months/108d3__10X__Xenium__Mouse__brain__20230713__v1.4.0__Wildtype5.7months.zarr: [Errno 2] No such file or directory: '/lustre/groups/ml01/projects/2024_spatialdata_db/data/oeuwa__10X__Xenium__Mouse__brain__20230713__v1.4.0__Wildtype5.7months/oeuwa__10X__Xenium__Mouse__brain__20230713__v1.4.0__Wildtype5.7months.zarr' -> '/lustre/groups/ml01/projects/2024_spatialdata_db/data/oeuwa__10X__Xenium__Mouse__brain__20230713__v1.4.0__Wildtype5.7months/108d3__10X__Xenium__Mouse__brain__20230713__v1.4.0__Wildtype5.7months.zarr'\n",
      "\n",
      "Error renaming directory /lustre/groups/ml01/projects/2024_spatialdata_db/data/gsyej__10X__Xenium__Human__heart__20240305__v1.9.0/gsyej__10X__Xenium__Human__heart__20240305__v1.9.0.zarr to /lustre/groups/ml01/projects/2024_spatialdata_db/data/gsyej__10X__Xenium__Human__heart__20240305__v1.9.0/10wmu__10X__Xenium__Human__heart__20240305__v1.9.0.zarr: [Errno 2] No such file or directory: '/lustre/groups/ml01/projects/2024_spatialdata_db/data/gsyej__10X__Xenium__Human__heart__20240305__v1.9.0/gsyej__10X__Xenium__Human__heart__20240305__v1.9.0.zarr' -> '/lustre/groups/ml01/projects/2024_spatialdata_db/data/gsyej__10X__Xenium__Human__heart__20240305__v1.9.0/10wmu__10X__Xenium__Human__heart__20240305__v1.9.0.zarr'Error renaming directory /lustre/groups/ml01/projects/2024_spatialdata_db/data/lztak__10X__Visium__Mouse__brain__20191202__v1.0.0/lztak__10X__Visium__Mouse__brain__20191202__v1.0.0.zarr to /lustre/groups/ml01/projects/2024_spatialdata_db/data/lztak__10X__Visium__Mouse__brain__20191202__v1.0.0/10fna__10X__Visium__Mouse__brain__20191202__v1.0.0.zarr: [Errno 2] No such file or directory: '/lustre/groups/ml01/projects/2024_spatialdata_db/data/lztak__10X__Visium__Mouse__brain__20191202__v1.0.0/lztak__10X__Visium__Mouse__brain__20191202__v1.0.0.zarr' -> '/lustre/groups/ml01/projects/2024_spatialdata_db/data/lztak__10X__Visium__Mouse__brain__20191202__v1.0.0/10fna__10X__Visium__Mouse__brain__20191202__v1.0.0.zarr'\n",
      "\n",
      "\n",
      "\n",
      "\n",
      "Error renaming directory /lustre/groups/ml01/projects/2024_spatialdata_db/data/tdjvl__10X__Xenium__Human__breast__20230122__v1.0.2__Replicate1/tdjvl__10X__Xenium__Human__breast__20230122__v1.0.2__Replicate1.zarr to /lustre/groups/ml01/projects/2024_spatialdata_db/data/tdjvl__10X__Xenium__Human__breast__20230122__v1.0.2__Replicate1/101tu__10X__Xenium__Human__breast__20230122__v1.0.2__Replicate1.zarr: [Errno 2] No such file or directory: '/lustre/groups/ml01/projects/2024_spatialdata_db/data/tdjvl__10X__Xenium__Human__breast__20230122__v1.0.2__Replicate1/tdjvl__10X__Xenium__Human__breast__20230122__v1.0.2__Replicate1.zarr' -> '/lustre/groups/ml01/projects/2024_spatialdata_db/data/tdjvl__10X__Xenium__Human__breast__20230122__v1.0.2__Replicate1/101tu__10X__Xenium__Human__breast__20230122__v1.0.2__Replicate1.zarr'\n",
      "Error renaming directory /lustre/groups/ml01/projects/2024_spatialdata_db/data/f806l__10X__Visium__Human__prostate__20210727__v1.3.0/f806l__10X__Visium__Human__prostate__20210727__v1.3.0.zarr to /lustre/groups/ml01/projects/2024_spatialdata_db/data/f806l__10X__Visium__Human__prostate__20210727__v1.3.0/10kz2__10X__Visium__Human__prostate__20210727__v1.3.0.zarr: [Errno 2] No such file or directory: '/lustre/groups/ml01/projects/2024_spatialdata_db/data/f806l__10X__Visium__Human__prostate__20210727__v1.3.0/f806l__10X__Visium__Human__prostate__20210727__v1.3.0.zarr' -> '/lustre/groups/ml01/projects/2024_spatialdata_db/data/f806l__10X__Visium__Human__prostate__20210727__v1.3.0/10kz2__10X__Visium__Human__prostate__20210727__v1.3.0.zarr'\n",
      "\n",
      "\n",
      "\n",
      "Error renaming directory /lustre/groups/ml01/projects/2024_spatialdata_db/data/ic0bo__10X__Xenium__Human__liver__20240305__v1.9.0__Non-diseased/ic0bo__10X__Xenium__Human__liver__20240305__v1.9.0__Non-diseased.zarr to /lustre/groups/ml01/projects/2024_spatialdata_db/data/ic0bo__10X__Xenium__Human__liver__20240305__v1.9.0__Non-diseased/1074f__10X__Xenium__Human__liver__20240305__v1.9.0__Non-diseased.zarr: [Errno 2] No such file or directory: '/lustre/groups/ml01/projects/2024_spatialdata_db/data/ic0bo__10X__Xenium__Human__liver__20240305__v1.9.0__Non-diseased/ic0bo__10X__Xenium__Human__liver__20240305__v1.9.0__Non-diseased.zarr' -> '/lustre/groups/ml01/projects/2024_spatialdata_db/data/ic0bo__10X__Xenium__Human__liver__20240305__v1.9.0__Non-diseased/1074f__10X__Xenium__Human__liver__20240305__v1.9.0__Non-diseased.zarr'Error renaming directory /lustre/groups/ml01/projects/2024_spatialdata_db/data/od3tw__10X__Visium__Human__breast__20220701__v1.3.0/od3tw__10X__Visium__Human__breast__20220701__v1.3.0.zarr to /lustre/groups/ml01/projects/2024_spatialdata_db/data/od3tw__10X__Visium__Human__breast__20220701__v1.3.0/10k5p__10X__Visium__Human__breast__20220701__v1.3.0.zarr: [Errno 2] No such file or directory: '/lustre/groups/ml01/projects/2024_spatialdata_db/data/od3tw__10X__Visium__Human__breast__20220701__v1.3.0/od3tw__10X__Visium__Human__breast__20220701__v1.3.0.zarr' -> '/lustre/groups/ml01/projects/2024_spatialdata_db/data/od3tw__10X__Visium__Human__breast__20220701__v1.3.0/10k5p__10X__Visium__Human__breast__20220701__v1.3.0.zarr'Error renaming directory /lustre/groups/ml01/projects/2024_spatialdata_db/data/yjder__10X__Visium__Human__colorectal__20230214__v2.0.1/yjder__10X__Visium__Human__colorectal__20230214__v2.0.1.zarr to /lustre/groups/ml01/projects/2024_spatialdata_db/data/yjder__10X__Visium__Human__colorectal__20230214__v2.0.1/10drc__10X__Visium__Human__colorectal__20230214__v2.0.1.zarr: [Errno 2] No such file or directory: '/lustre/groups/ml01/projects/2024_spatialdata_db/data/yjder__10X__Visium__Human__colorectal__20230214__v2.0.1/yjder__10X__Visium__Human__colorectal__20230214__v2.0.1.zarr' -> '/lustre/groups/ml01/projects/2024_spatialdata_db/data/yjder__10X__Visium__Human__colorectal__20230214__v2.0.1/10drc__10X__Visium__Human__colorectal__20230214__v2.0.1.zarr'Error renaming directory /lustre/groups/ml01/projects/2024_spatialdata_db/data/m1v5v__10X__Xenium__Human__lung__20230518__v1.3.0__Non-diseasedLung/m1v5v__10X__Xenium__Human__lung__20230518__v1.3.0__Non-diseasedLung.zarr to /lustre/groups/ml01/projects/2024_spatialdata_db/data/m1v5v__10X__Xenium__Human__lung__20230518__v1.3.0__Non-diseasedLung/10fri__10X__Xenium__Human__lung__20230518__v1.3.0__Non-diseasedLung.zarr: [Errno 2] No such file or directory: '/lustre/groups/ml01/projects/2024_spatialdata_db/data/m1v5v__10X__Xenium__Human__lung__20230518__v1.3.0__Non-diseasedLung/m1v5v__10X__Xenium__Human__lung__20230518__v1.3.0__Non-diseasedLung.zarr' -> '/lustre/groups/ml01/projects/2024_spatialdata_db/data/m1v5v__10X__Xenium__Human__lung__20230518__v1.3.0__Non-diseasedLung/10fri__10X__Xenium__Human__lung__20230518__v1.3.0__Non-diseasedLung.zarr'Error renaming directory /lustre/groups/ml01/projects/2024_spatialdata_db/data/x7rbz__10X__Visium__Mouse__brain__20230525__v2.1.0/x7rbz__10X__Visium__Mouse__brain__20230525__v2.1.0.zarr to /lustre/groups/ml01/projects/2024_spatialdata_db/data/x7rbz__10X__Visium__Mouse__brain__20230525__v2.1.0/10w6u__10X__Visium__Mouse__brain__20230525__v2.1.0.zarr: [Errno 2] No such file or directory: '/lustre/groups/ml01/projects/2024_spatialdata_db/data/x7rbz__10X__Visium__Mouse__brain__20230525__v2.1.0/x7rbz__10X__Visium__Mouse__brain__20230525__v2.1.0.zarr' -> '/lustre/groups/ml01/projects/2024_spatialdata_db/data/x7rbz__10X__Visium__Mouse__brain__20230525__v2.1.0/10w6u__10X__Visium__Mouse__brain__20230525__v2.1.0.zarr'\n",
      "\n",
      "\n",
      "\n",
      "\n",
      "Error renaming directory /lustre/groups/ml01/projects/2024_spatialdata_db/data/j1fyh__10X__Visium__Mouse__brain__20191202__v1.0.0/j1fyh__10X__Visium__Mouse__brain__20191202__v1.0.0.zarr to /lustre/groups/ml01/projects/2024_spatialdata_db/data/j1fyh__10X__Visium__Mouse__brain__20191202__v1.0.0/10hmw__10X__Visium__Mouse__brain__20191202__v1.0.0.zarr: [Errno 2] No such file or directory: '/lustre/groups/ml01/projects/2024_spatialdata_db/data/j1fyh__10X__Visium__Mouse__brain__20191202__v1.0.0/j1fyh__10X__Visium__Mouse__brain__20191202__v1.0.0.zarr' -> '/lustre/groups/ml01/projects/2024_spatialdata_db/data/j1fyh__10X__Visium__Mouse__brain__20191202__v1.0.0/10hmw__10X__Visium__Mouse__brain__20191202__v1.0.0.zarr'Error renaming directory /lustre/groups/ml01/projects/2024_spatialdata_db/data/au6n8__10X__Visium__Human__breast__20191212__v1.0.0/au6n8__10X__Visium__Human__breast__20191212__v1.0.0.zarr to /lustre/groups/ml01/projects/2024_spatialdata_db/data/au6n8__10X__Visium__Human__breast__20191212__v1.0.0/10vj2__10X__Visium__Human__breast__20191212__v1.0.0.zarr: [Errno 2] No such file or directory: '/lustre/groups/ml01/projects/2024_spatialdata_db/data/au6n8__10X__Visium__Human__breast__20191212__v1.0.0/au6n8__10X__Visium__Human__breast__20191212__v1.0.0.zarr' -> '/lustre/groups/ml01/projects/2024_spatialdata_db/data/au6n8__10X__Visium__Human__breast__20191212__v1.0.0/10vj2__10X__Visium__Human__breast__20191212__v1.0.0.zarr'Error renaming directory /lustre/groups/ml01/projects/2024_spatialdata_db/data/qs3a7__10X__Xenium__Mouse__brain__20230713__v1.4.0__Wildtype2.5months/qs3a7__10X__Xenium__Mouse__brain__20230713__v1.4.0__Wildtype2.5months.zarr to /lustre/groups/ml01/projects/2024_spatialdata_db/data/qs3a7__10X__Xenium__Mouse__brain__20230713__v1.4.0__Wildtype2.5months/10xa2__10X__Xenium__Mouse__brain__20230713__v1.4.0__Wildtype2.5months.zarr: [Errno 2] No such file or directory: '/lustre/groups/ml01/projects/2024_spatialdata_db/data/qs3a7__10X__Xenium__Mouse__brain__20230713__v1.4.0__Wildtype2.5months/qs3a7__10X__Xenium__Mouse__brain__20230713__v1.4.0__Wildtype2.5months.zarr' -> '/lustre/groups/ml01/projects/2024_spatialdata_db/data/qs3a7__10X__Xenium__Mouse__brain__20230713__v1.4.0__Wildtype2.5months/10xa2__10X__Xenium__Mouse__brain__20230713__v1.4.0__Wildtype2.5months.zarr'Error renaming directory /lustre/groups/ml01/projects/2024_spatialdata_db/data/emmt4__10X__Xenium__Human__skin__20240305__v1.9.0__Sample1/emmt4__10X__Xenium__Human__skin__20240305__v1.9.0__Sample1.zarr to /lustre/groups/ml01/projects/2024_spatialdata_db/data/emmt4__10X__Xenium__Human__skin__20240305__v1.9.0__Sample1/10k3x__10X__Xenium__Human__skin__20240305__v1.9.0__Sample1.zarr: [Errno 2] No such file or directory: '/lustre/groups/ml01/projects/2024_spatialdata_db/data/emmt4__10X__Xenium__Human__skin__20240305__v1.9.0__Sample1/emmt4__10X__Xenium__Human__skin__20240305__v1.9.0__Sample1.zarr' -> '/lustre/groups/ml01/projects/2024_spatialdata_db/data/emmt4__10X__Xenium__Human__skin__20240305__v1.9.0__Sample1/10k3x__10X__Xenium__Human__skin__20240305__v1.9.0__Sample1.zarr'\n",
      "\n",
      "\n",
      "\n",
      "Error renaming directory /lustre/groups/ml01/projects/2024_spatialdata_db/data/6z6qx__10X__Visium__Human__lymph_node__20200623__v1.1.0/6z6qx__10X__Visium__Human__lymph_node__20200623__v1.1.0.zarr to /lustre/groups/ml01/projects/2024_spatialdata_db/data/6z6qx__10X__Visium__Human__lymph_node__20200623__v1.1.0/105vj__10X__Visium__Human__lymph_node__20200623__v1.1.0.zarr: [Errno 2] No such file or directory: '/lustre/groups/ml01/projects/2024_spatialdata_db/data/6z6qx__10X__Visium__Human__lymph_node__20200623__v1.1.0/6z6qx__10X__Visium__Human__lymph_node__20200623__v1.1.0.zarr' -> '/lustre/groups/ml01/projects/2024_spatialdata_db/data/6z6qx__10X__Visium__Human__lymph_node__20200623__v1.1.0/105vj__10X__Visium__Human__lymph_node__20200623__v1.1.0.zarr'Error renaming directory /lustre/groups/ml01/projects/2024_spatialdata_db/data/1md95__10X__Visium__Human__ovary__20201027__v1.2.0/1md95__10X__Visium__Human__ovary__20201027__v1.2.0.zarr to /lustre/groups/ml01/projects/2024_spatialdata_db/data/1md95__10X__Visium__Human__ovary__20201027__v1.2.0/10tyd__10X__Visium__Human__ovary__20201027__v1.2.0.zarr: [Errno 2] No such file or directory: '/lustre/groups/ml01/projects/2024_spatialdata_db/data/1md95__10X__Visium__Human__ovary__20201027__v1.2.0/1md95__10X__Visium__Human__ovary__20201027__v1.2.0.zarr' -> '/lustre/groups/ml01/projects/2024_spatialdata_db/data/1md95__10X__Visium__Human__ovary__20201027__v1.2.0/10tyd__10X__Visium__Human__ovary__20201027__v1.2.0.zarr'Error renaming directory /lustre/groups/ml01/projects/2024_spatialdata_db/data/xtaqh__10X__Visium__Mouse__brain__20220712__v2.0.0/xtaqh__10X__Visium__Mouse__brain__20220712__v2.0.0.zarr to /lustre/groups/ml01/projects/2024_spatialdata_db/data/xtaqh__10X__Visium__Mouse__brain__20220712__v2.0.0/10z77__10X__Visium__Mouse__brain__20220712__v2.0.0.zarr: [Errno 2] No such file or directory: '/lustre/groups/ml01/projects/2024_spatialdata_db/data/xtaqh__10X__Visium__Mouse__brain__20220712__v2.0.0/xtaqh__10X__Visium__Mouse__brain__20220712__v2.0.0.zarr' -> '/lustre/groups/ml01/projects/2024_spatialdata_db/data/xtaqh__10X__Visium__Mouse__brain__20220712__v2.0.0/10z77__10X__Visium__Mouse__brain__20220712__v2.0.0.zarr'Error renaming directory /lustre/groups/ml01/projects/2024_spatialdata_db/data/vt6x9__10X__Visium__Mouse__lung_brain__20230221__v2.0.1__LungReplicate3/vt6x9__10X__Visium__Mouse__lung_brain__20230221__v2.0.1__LungReplicate3.zarr to /lustre/groups/ml01/projects/2024_spatialdata_db/data/vt6x9__10X__Visium__Mouse__lung_brain__20230221__v2.0.1__LungReplicate3/10yhv__10X__Visium__Mouse__lung_brain__20230221__v2.0.1__LungReplicate3.zarr: [Errno 2] No such file or directory: '/lustre/groups/ml01/projects/2024_spatialdata_db/data/vt6x9__10X__Visium__Mouse__lung_brain__20230221__v2.0.1__LungReplicate3/vt6x9__10X__Visium__Mouse__lung_brain__20230221__v2.0.1__LungReplicate3.zarr' -> '/lustre/groups/ml01/projects/2024_spatialdata_db/data/vt6x9__10X__Visium__Mouse__lung_brain__20230221__v2.0.1__LungReplicate3/10yhv__10X__Visium__Mouse__lung_brain__20230221__v2.0.1__LungReplicate3.zarr'Error renaming directory /lustre/groups/ml01/projects/2024_spatialdata_db/data/d3ykk__10X__Visium__Mouse__brain__20220712__v2.0.0/d3ykk__10X__Visium__Mouse__brain__20220712__v2.0.0.zarr to /lustre/groups/ml01/projects/2024_spatialdata_db/data/d3ykk__10X__Visium__Mouse__brain__20220712__v2.0.0/104pe__10X__Visium__Mouse__brain__20220712__v2.0.0.zarr: [Errno 2] No such file or directory: '/lustre/groups/ml01/projects/2024_spatialdata_db/data/d3ykk__10X__Visium__Mouse__brain__20220712__v2.0.0/d3ykk__10X__Visium__Mouse__brain__20220712__v2.0.0.zarr' -> '/lustre/groups/ml01/projects/2024_spatialdata_db/data/d3ykk__10X__Visium__Mouse__brain__20220712__v2.0.0/104pe__10X__Visium__Mouse__brain__20220712__v2.0.0.zarr'Error renaming directory /lustre/groups/ml01/projects/2024_spatialdata_db/data/1e66c__10X__Visium__Human__breast__20201027__v1.2.0/1e66c__10X__Visium__Human__breast__20201027__v1.2.0.zarr to /lustre/groups/ml01/projects/2024_spatialdata_db/data/1e66c__10X__Visium__Human__breast__20201027__v1.2.0/1033x__10X__Visium__Human__breast__20201027__v1.2.0.zarr: [Errno 2] No such file or directory: '/lustre/groups/ml01/projects/2024_spatialdata_db/data/1e66c__10X__Visium__Human__breast__20201027__v1.2.0/1e66c__10X__Visium__Human__breast__20201027__v1.2.0.zarr' -> '/lustre/groups/ml01/projects/2024_spatialdata_db/data/1e66c__10X__Visium__Human__breast__20201027__v1.2.0/1033x__10X__Visium__Human__breast__20201027__v1.2.0.zarr'Error renaming directory /lustre/groups/ml01/projects/2024_spatialdata_db/data/xjxhb__10X__Visium__Mouse__brain__20221018__v2.0.0/xjxhb__10X__Visium__Mouse__brain__20221018__v2.0.0.zarr to /lustre/groups/ml01/projects/2024_spatialdata_db/data/xjxhb__10X__Visium__Mouse__brain__20221018__v2.0.0/10d9e__10X__Visium__Mouse__brain__20221018__v2.0.0.zarr: [Errno 2] No such file or directory: '/lustre/groups/ml01/projects/2024_spatialdata_db/data/xjxhb__10X__Visium__Mouse__brain__20221018__v2.0.0/xjxhb__10X__Visium__Mouse__brain__20221018__v2.0.0.zarr' -> '/lustre/groups/ml01/projects/2024_spatialdata_db/data/xjxhb__10X__Visium__Mouse__brain__20221018__v2.0.0/10d9e__10X__Visium__Mouse__brain__20221018__v2.0.0.zarr'\n",
      "\n",
      "Error renaming directory /lustre/groups/ml01/projects/2024_spatialdata_db/data/7l5ht__10X__Visium__Human__lymph_node__20191212__v1.0.0/7l5ht__10X__Visium__Human__lymph_node__20191212__v1.0.0.zarr to /lustre/groups/ml01/projects/2024_spatialdata_db/data/7l5ht__10X__Visium__Human__lymph_node__20191212__v1.0.0/10mx9__10X__Visium__Human__lymph_node__20191212__v1.0.0.zarr: [Errno 2] No such file or directory: '/lustre/groups/ml01/projects/2024_spatialdata_db/data/7l5ht__10X__Visium__Human__lymph_node__20191212__v1.0.0/7l5ht__10X__Visium__Human__lymph_node__20191212__v1.0.0.zarr' -> '/lustre/groups/ml01/projects/2024_spatialdata_db/data/7l5ht__10X__Visium__Human__lymph_node__20191212__v1.0.0/10mx9__10X__Visium__Human__lymph_node__20191212__v1.0.0.zarr'\n",
      "\n",
      "Error renaming directory /lustre/groups/ml01/projects/2024_spatialdata_db/data/fulvo__10X__Xenium__Human__bone_bone_marrow__20240403__v1.9.0__AcuteLymphoidLeukemiaBoneMarrow/fulvo__10X__Xenium__Human__bone_bone_marrow__20240403__v1.9.0__AcuteLymphoidLeukemiaBoneMarrow.zarr to /lustre/groups/ml01/projects/2024_spatialdata_db/data/fulvo__10X__Xenium__Human__bone_bone_marrow__20240403__v1.9.0__AcuteLymphoidLeukemiaBoneMarrow/10nsr__10X__Xenium__Human__bone_bone_marrow__20240403__v1.9.0__AcuteLymphoidLeukemiaBoneMarrow.zarr: [Errno 2] No such file or directory: '/lustre/groups/ml01/projects/2024_spatialdata_db/data/fulvo__10X__Xenium__Human__bone_bone_marrow__20240403__v1.9.0__AcuteLymphoidLeukemiaBoneMarrow/fulvo__10X__Xenium__Human__bone_bone_marrow__20240403__v1.9.0__AcuteLymphoidLeukemiaBoneMarrow.zarr' -> '/lustre/groups/ml01/projects/2024_spatialdata_db/data/fulvo__10X__Xenium__Human__bone_bone_marrow__20240403__v1.9.0__AcuteLymphoidLeukemiaBoneMarrow/10nsr__10X__Xenium__Human__bone_bone_marrow__20240403__v1.9.0__AcuteLymphoidLeukemiaBoneMarrow.zarr'\n",
      "\n",
      "\n",
      "Error renaming directory /lustre/groups/ml01/projects/2024_spatialdata_db/data/0badu__10X__Xenium__Mouse__brain__20230122__v1.0.2__Replicate2/0badu__10X__Xenium__Mouse__brain__20230122__v1.0.2__Replicate2.zarr to /lustre/groups/ml01/projects/2024_spatialdata_db/data/0badu__10X__Xenium__Mouse__brain__20230122__v1.0.2__Replicate2/10c6u__10X__Xenium__Mouse__brain__20230122__v1.0.2__Replicate2.zarr: [Errno 2] No such file or directory: '/lustre/groups/ml01/projects/2024_spatialdata_db/data/0badu__10X__Xenium__Mouse__brain__20230122__v1.0.2__Replicate2/0badu__10X__Xenium__Mouse__brain__20230122__v1.0.2__Replicate2.zarr' -> '/lustre/groups/ml01/projects/2024_spatialdata_db/data/0badu__10X__Xenium__Mouse__brain__20230122__v1.0.2__Replicate2/10c6u__10X__Xenium__Mouse__brain__20230122__v1.0.2__Replicate2.zarr'\n",
      "Error renaming directory /lustre/groups/ml01/projects/2024_spatialdata_db/data/ses16__10X__Visium__Mouse__lung_brain__20230221__v2.0.1/ses16__10X__Visium__Mouse__lung_brain__20230221__v2.0.1.zarr to /lustre/groups/ml01/projects/2024_spatialdata_db/data/ses16__10X__Visium__Mouse__lung_brain__20230221__v2.0.1/10yhc__10X__Visium__Mouse__lung_brain__20230221__v2.0.1.zarr: [Errno 2] No such file or directory: '/lustre/groups/ml01/projects/2024_spatialdata_db/data/ses16__10X__Visium__Mouse__lung_brain__20230221__v2.0.1/ses16__10X__Visium__Mouse__lung_brain__20230221__v2.0.1.zarr' -> '/lustre/groups/ml01/projects/2024_spatialdata_db/data/ses16__10X__Visium__Mouse__lung_brain__20230221__v2.0.1/10yhc__10X__Visium__Mouse__lung_brain__20230221__v2.0.1.zarr'\n",
      "\n",
      "\n",
      "Error renaming directory /lustre/groups/ml01/projects/2024_spatialdata_db/data/z86rg__10X__Visium__Mouse__brain__20210816__v1.3.0/z86rg__10X__Visium__Mouse__brain__20210816__v1.3.0.zarr to /lustre/groups/ml01/projects/2024_spatialdata_db/data/z86rg__10X__Visium__Mouse__brain__20210816__v1.3.0/10uf7__10X__Visium__Mouse__brain__20210816__v1.3.0.zarr: [Errno 2] No such file or directory: '/lustre/groups/ml01/projects/2024_spatialdata_db/data/z86rg__10X__Visium__Mouse__brain__20210816__v1.3.0/z86rg__10X__Visium__Mouse__brain__20210816__v1.3.0.zarr' -> '/lustre/groups/ml01/projects/2024_spatialdata_db/data/z86rg__10X__Visium__Mouse__brain__20210816__v1.3.0/10uf7__10X__Visium__Mouse__brain__20210816__v1.3.0.zarr'Error renaming directory /lustre/groups/ml01/projects/2024_spatialdata_db/data/vcfof__10X__Xenium__Mouse__brain__20230122__v1.0.2__Replicate3/vcfof__10X__Xenium__Mouse__brain__20230122__v1.0.2__Replicate3.zarr to /lustre/groups/ml01/projects/2024_spatialdata_db/data/vcfof__10X__Xenium__Mouse__brain__20230122__v1.0.2__Replicate3/108h0__10X__Xenium__Mouse__brain__20230122__v1.0.2__Replicate3.zarr: [Errno 2] No such file or directory: '/lustre/groups/ml01/projects/2024_spatialdata_db/data/vcfof__10X__Xenium__Mouse__brain__20230122__v1.0.2__Replicate3/vcfof__10X__Xenium__Mouse__brain__20230122__v1.0.2__Replicate3.zarr' -> '/lustre/groups/ml01/projects/2024_spatialdata_db/data/vcfof__10X__Xenium__Mouse__brain__20230122__v1.0.2__Replicate3/108h0__10X__Xenium__Mouse__brain__20230122__v1.0.2__Replicate3.zarr'Error renaming directory /lustre/groups/ml01/projects/2024_spatialdata_db/data/b1q25__10X__Visium__Human__spinal_cord__20201027__v1.2.0/b1q25__10X__Visium__Human__spinal_cord__20201027__v1.2.0.zarr to /lustre/groups/ml01/projects/2024_spatialdata_db/data/b1q25__10X__Visium__Human__spinal_cord__20201027__v1.2.0/10wth__10X__Visium__Human__spinal_cord__20201027__v1.2.0.zarr: [Errno 2] No such file or directory: '/lustre/groups/ml01/projects/2024_spatialdata_db/data/b1q25__10X__Visium__Human__spinal_cord__20201027__v1.2.0/b1q25__10X__Visium__Human__spinal_cord__20201027__v1.2.0.zarr' -> '/lustre/groups/ml01/projects/2024_spatialdata_db/data/b1q25__10X__Visium__Human__spinal_cord__20201027__v1.2.0/10wth__10X__Visium__Human__spinal_cord__20201027__v1.2.0.zarr'Error renaming directory /lustre/groups/ml01/projects/2024_spatialdata_db/data/n0qwg__10X__Xenium__Human__pancreas__20230717__v1.5.0/n0qwg__10X__Xenium__Human__pancreas__20230717__v1.5.0.zarr to /lustre/groups/ml01/projects/2024_spatialdata_db/data/n0qwg__10X__Xenium__Human__pancreas__20230717__v1.5.0/107yk__10X__Xenium__Human__pancreas__20230717__v1.5.0.zarr: [Errno 2] No such file or directory: '/lustre/groups/ml01/projects/2024_spatialdata_db/data/n0qwg__10X__Xenium__Human__pancreas__20230717__v1.5.0/n0qwg__10X__Xenium__Human__pancreas__20230717__v1.5.0.zarr' -> '/lustre/groups/ml01/projects/2024_spatialdata_db/data/n0qwg__10X__Xenium__Human__pancreas__20230717__v1.5.0/107yk__10X__Xenium__Human__pancreas__20230717__v1.5.0.zarr'Error renaming directory /lustre/groups/ml01/projects/2024_spatialdata_db/data/n2kpx__10X__Visium__Human__ovary__20220328__v1.3.0/n2kpx__10X__Visium__Human__ovary__20220328__v1.3.0.zarr to /lustre/groups/ml01/projects/2024_spatialdata_db/data/n2kpx__10X__Visium__Human__ovary__20220328__v1.3.0/10vcj__10X__Visium__Human__ovary__20220328__v1.3.0.zarr: [Errno 2] No such file or directory: '/lustre/groups/ml01/projects/2024_spatialdata_db/data/n2kpx__10X__Visium__Human__ovary__20220328__v1.3.0/n2kpx__10X__Visium__Human__ovary__20220328__v1.3.0.zarr' -> '/lustre/groups/ml01/projects/2024_spatialdata_db/data/n2kpx__10X__Visium__Human__ovary__20220328__v1.3.0/10vcj__10X__Visium__Human__ovary__20220328__v1.3.0.zarr'\n",
      "\n",
      "\n",
      "\n",
      "\n",
      "Error renaming directory /lustre/groups/ml01/projects/2024_spatialdata_db/data/zwdai__10X__Visium__Mouse__brain__20220712__v2.0.0/zwdai__10X__Visium__Mouse__brain__20220712__v2.0.0.zarr to /lustre/groups/ml01/projects/2024_spatialdata_db/data/zwdai__10X__Visium__Mouse__brain__20220712__v2.0.0/10nfy__10X__Visium__Mouse__brain__20220712__v2.0.0.zarr: [Errno 2] No such file or directory: '/lustre/groups/ml01/projects/2024_spatialdata_db/data/zwdai__10X__Visium__Mouse__brain__20220712__v2.0.0/zwdai__10X__Visium__Mouse__brain__20220712__v2.0.0.zarr' -> '/lustre/groups/ml01/projects/2024_spatialdata_db/data/zwdai__10X__Visium__Mouse__brain__20220712__v2.0.0/10nfy__10X__Visium__Mouse__brain__20220712__v2.0.0.zarr'Error renaming directory /lustre/groups/ml01/projects/2024_spatialdata_db/data/zztm8__10X__Visium__Mouse__brain__20220712__v2.0.0/zztm8__10X__Visium__Mouse__brain__20220712__v2.0.0.zarr to /lustre/groups/ml01/projects/2024_spatialdata_db/data/zztm8__10X__Visium__Mouse__brain__20220712__v2.0.0/10rx2__10X__Visium__Mouse__brain__20220712__v2.0.0.zarr: [Errno 2] No such file or directory: '/lustre/groups/ml01/projects/2024_spatialdata_db/data/zztm8__10X__Visium__Mouse__brain__20220712__v2.0.0/zztm8__10X__Visium__Mouse__brain__20220712__v2.0.0.zarr' -> '/lustre/groups/ml01/projects/2024_spatialdata_db/data/zztm8__10X__Visium__Mouse__brain__20220712__v2.0.0/10rx2__10X__Visium__Mouse__brain__20220712__v2.0.0.zarr'Error renaming directory /lustre/groups/ml01/projects/2024_spatialdata_db/data/f9fcg__10X__Visium__Human__skin__20220713__v2.0.0/f9fcg__10X__Visium__Human__skin__20220713__v2.0.0.zarr to /lustre/groups/ml01/projects/2024_spatialdata_db/data/f9fcg__10X__Visium__Human__skin__20220713__v2.0.0/10ieh__10X__Visium__Human__skin__20220713__v2.0.0.zarr: [Errno 2] No such file or directory: '/lustre/groups/ml01/projects/2024_spatialdata_db/data/f9fcg__10X__Visium__Human__skin__20220713__v2.0.0/f9fcg__10X__Visium__Human__skin__20220713__v2.0.0.zarr' -> '/lustre/groups/ml01/projects/2024_spatialdata_db/data/f9fcg__10X__Visium__Human__skin__20220713__v2.0.0/10ieh__10X__Visium__Human__skin__20220713__v2.0.0.zarr'Error renaming directory /lustre/groups/ml01/projects/2024_spatialdata_db/data/4i0c9__10X__Visium__Human__breast__20210511__v1.2.0/4i0c9__10X__Visium__Human__breast__20210511__v1.2.0.zarr to /lustre/groups/ml01/projects/2024_spatialdata_db/data/4i0c9__10X__Visium__Human__breast__20210511__v1.2.0/10vtf__10X__Visium__Human__breast__20210511__v1.2.0.zarr: [Errno 2] No such file or directory: '/lustre/groups/ml01/projects/2024_spatialdata_db/data/4i0c9__10X__Visium__Human__breast__20210511__v1.2.0/4i0c9__10X__Visium__Human__breast__20210511__v1.2.0.zarr' -> '/lustre/groups/ml01/projects/2024_spatialdata_db/data/4i0c9__10X__Visium__Human__breast__20210511__v1.2.0/10vtf__10X__Visium__Human__breast__20210511__v1.2.0.zarr'Error renaming directory /lustre/groups/ml01/projects/2024_spatialdata_db/data/5nwfc__10X__Visium__Mouse__lung_brain__20230221__v2.0.1__LungReplicate2/5nwfc__10X__Visium__Mouse__lung_brain__20230221__v2.0.1__LungReplicate2.zarr to /lustre/groups/ml01/projects/2024_spatialdata_db/data/5nwfc__10X__Visium__Mouse__lung_brain__20230221__v2.0.1__LungReplicate2/109pp__10X__Visium__Mouse__lung_brain__20230221__v2.0.1__LungReplicate2.zarr: [Errno 2] No such file or directory: '/lustre/groups/ml01/projects/2024_spatialdata_db/data/5nwfc__10X__Visium__Mouse__lung_brain__20230221__v2.0.1__LungReplicate2/5nwfc__10X__Visium__Mouse__lung_brain__20230221__v2.0.1__LungReplicate2.zarr' -> '/lustre/groups/ml01/projects/2024_spatialdata_db/data/5nwfc__10X__Visium__Mouse__lung_brain__20230221__v2.0.1__LungReplicate2/109pp__10X__Visium__Mouse__lung_brain__20230221__v2.0.1__LungReplicate2.zarr'\n",
      "\n",
      "\n",
      "\n",
      "\n",
      "Error renaming directory /lustre/groups/ml01/projects/2024_spatialdata_db/data/yhn15__10X__Xenium__Mouse__brain__20230122__v1.0.2__Tinysubset/yhn15__10X__Xenium__Mouse__brain__20230122__v1.0.2__Tinysubset.zarr to /lustre/groups/ml01/projects/2024_spatialdata_db/data/yhn15__10X__Xenium__Mouse__brain__20230122__v1.0.2__Tinysubset/104cz__10X__Xenium__Mouse__brain__20230122__v1.0.2__Tinysubset.zarr: [Errno 2] No such file or directory: '/lustre/groups/ml01/projects/2024_spatialdata_db/data/yhn15__10X__Xenium__Mouse__brain__20230122__v1.0.2__Tinysubset/yhn15__10X__Xenium__Mouse__brain__20230122__v1.0.2__Tinysubset.zarr' -> '/lustre/groups/ml01/projects/2024_spatialdata_db/data/yhn15__10X__Xenium__Mouse__brain__20230122__v1.0.2__Tinysubset/104cz__10X__Xenium__Mouse__brain__20230122__v1.0.2__Tinysubset.zarr'Error renaming directory /lustre/groups/ml01/projects/2024_spatialdata_db/data/31nta__10X__Visium__Human__colon__20231005__v2.1.0__Post-XeniumReplicate2/31nta__10X__Visium__Human__colon__20231005__v2.1.0__Post-XeniumReplicate2.zarr to /lustre/groups/ml01/projects/2024_spatialdata_db/data/31nta__10X__Visium__Human__colon__20231005__v2.1.0__Post-XeniumReplicate2/10jfe__10X__Visium__Human__colon__20231005__v2.1.0__Post-XeniumReplicate2.zarr: [Errno 2] No such file or directory: '/lustre/groups/ml01/projects/2024_spatialdata_db/data/31nta__10X__Visium__Human__colon__20231005__v2.1.0__Post-XeniumReplicate2/31nta__10X__Visium__Human__colon__20231005__v2.1.0__Post-XeniumReplicate2.zarr' -> '/lustre/groups/ml01/projects/2024_spatialdata_db/data/31nta__10X__Visium__Human__colon__20231005__v2.1.0__Post-XeniumReplicate2/10jfe__10X__Visium__Human__colon__20231005__v2.1.0__Post-XeniumReplicate2.zarr'Error renaming directory /lustre/groups/ml01/projects/2024_spatialdata_db/data/s98o1__10X__Visium__Mouse__kidney_brain__20230221__v2.0.1/s98o1__10X__Visium__Mouse__kidney_brain__20230221__v2.0.1.zarr to /lustre/groups/ml01/projects/2024_spatialdata_db/data/s98o1__10X__Visium__Mouse__kidney_brain__20230221__v2.0.1/10e4w__10X__Visium__Mouse__kidney_brain__20230221__v2.0.1.zarr: [Errno 2] No such file or directory: '/lustre/groups/ml01/projects/2024_spatialdata_db/data/s98o1__10X__Visium__Mouse__kidney_brain__20230221__v2.0.1/s98o1__10X__Visium__Mouse__kidney_brain__20230221__v2.0.1.zarr' -> '/lustre/groups/ml01/projects/2024_spatialdata_db/data/s98o1__10X__Visium__Mouse__kidney_brain__20230221__v2.0.1/10e4w__10X__Visium__Mouse__kidney_brain__20230221__v2.0.1.zarr'Error renaming directory /lustre/groups/ml01/projects/2024_spatialdata_db/data/0kbsa__10X__Visium__Mouse__brain__20200623__v1.1.0/0kbsa__10X__Visium__Mouse__brain__20200623__v1.1.0.zarr to /lustre/groups/ml01/projects/2024_spatialdata_db/data/0kbsa__10X__Visium__Mouse__brain__20200623__v1.1.0/103sm__10X__Visium__Mouse__brain__20200623__v1.1.0.zarr: [Errno 2] No such file or directory: '/lustre/groups/ml01/projects/2024_spatialdata_db/data/0kbsa__10X__Visium__Mouse__brain__20200623__v1.1.0/0kbsa__10X__Visium__Mouse__brain__20200623__v1.1.0.zarr' -> '/lustre/groups/ml01/projects/2024_spatialdata_db/data/0kbsa__10X__Visium__Mouse__brain__20200623__v1.1.0/103sm__10X__Visium__Mouse__brain__20200623__v1.1.0.zarr'Error renaming directory /lustre/groups/ml01/projects/2024_spatialdata_db/data/v49mv__10X__Visium__Human__prostate__20210727__v1.3.0/v49mv__10X__Visium__Human__prostate__20210727__v1.3.0.zarr to /lustre/groups/ml01/projects/2024_spatialdata_db/data/v49mv__10X__Visium__Human__prostate__20210727__v1.3.0/100w1__10X__Visium__Human__prostate__20210727__v1.3.0.zarr: [Errno 2] No such file or directory: '/lustre/groups/ml01/projects/2024_spatialdata_db/data/v49mv__10X__Visium__Human__prostate__20210727__v1.3.0/v49mv__10X__Visium__Human__prostate__20210727__v1.3.0.zarr' -> '/lustre/groups/ml01/projects/2024_spatialdata_db/data/v49mv__10X__Visium__Human__prostate__20210727__v1.3.0/100w1__10X__Visium__Human__prostate__20210727__v1.3.0.zarr'Error renaming directory /lustre/groups/ml01/projects/2024_spatialdata_db/data/h4phn__10X__Visium__Human__breast__20200623__v1.1.0/h4phn__10X__Visium__Human__breast__20200623__v1.1.0.zarr to /lustre/groups/ml01/projects/2024_spatialdata_db/data/h4phn__10X__Visium__Human__breast__20200623__v1.1.0/10fmm__10X__Visium__Human__breast__20200623__v1.1.0.zarr: [Errno 2] No such file or directory: '/lustre/groups/ml01/projects/2024_spatialdata_db/data/h4phn__10X__Visium__Human__breast__20200623__v1.1.0/h4phn__10X__Visium__Human__breast__20200623__v1.1.0.zarr' -> '/lustre/groups/ml01/projects/2024_spatialdata_db/data/h4phn__10X__Visium__Human__breast__20200623__v1.1.0/10fmm__10X__Visium__Human__breast__20200623__v1.1.0.zarr'Error renaming directory /lustre/groups/ml01/projects/2024_spatialdata_db/data/2549m__10X__Xenium__Human__lymph_node__20230717__v1.5.0/2549m__10X__Xenium__Human__lymph_node__20230717__v1.5.0.zarr to /lustre/groups/ml01/projects/2024_spatialdata_db/data/2549m__10X__Xenium__Human__lymph_node__20230717__v1.5.0/103mf__10X__Xenium__Human__lymph_node__20230717__v1.5.0.zarr: [Errno 2] No such file or directory: '/lustre/groups/ml01/projects/2024_spatialdata_db/data/2549m__10X__Xenium__Human__lymph_node__20230717__v1.5.0/2549m__10X__Xenium__Human__lymph_node__20230717__v1.5.0.zarr' -> '/lustre/groups/ml01/projects/2024_spatialdata_db/data/2549m__10X__Xenium__Human__lymph_node__20230717__v1.5.0/103mf__10X__Xenium__Human__lymph_node__20230717__v1.5.0.zarr'Error renaming directory /lustre/groups/ml01/projects/2024_spatialdata_db/data/mvfvu__10X__Xenium__Human__breast__20230122__v1.0.2__Tissuesample2/mvfvu__10X__Xenium__Human__breast__20230122__v1.0.2__Tissuesample2.zarr to /lustre/groups/ml01/projects/2024_spatialdata_db/data/mvfvu__10X__Xenium__Human__breast__20230122__v1.0.2__Tissuesample2/10pf0__10X__Xenium__Human__breast__20230122__v1.0.2__Tissuesample2.zarr: [Errno 2] No such file or directory: '/lustre/groups/ml01/projects/2024_spatialdata_db/data/mvfvu__10X__Xenium__Human__breast__20230122__v1.0.2__Tissuesample2/mvfvu__10X__Xenium__Human__breast__20230122__v1.0.2__Tissuesample2.zarr' -> '/lustre/groups/ml01/projects/2024_spatialdata_db/data/mvfvu__10X__Xenium__Human__breast__20230122__v1.0.2__Tissuesample2/10pf0__10X__Xenium__Human__breast__20230122__v1.0.2__Tissuesample2.zarr'"
     ]
    },
    {
     "name": "stderr",
     "output_type": "stream",
     "text": [
      "Renaming directories:  99%|█████████▉| 25699/25999 [00:05<00:00, 4590.94it/s]"
     ]
    },
    {
     "name": "stdout",
     "output_type": "stream",
     "text": [
      "Error renaming directory /lustre/groups/ml01/projects/2024_spatialdata_db/data/oftpw__10X__Xenium__Human__bone_bone_marrow__20240403__v1.9.0__Non-diseasedFemurBone/oftpw__10X__Xenium__Human__bone_bone_marrow__20240403__v1.9.0__Non-diseasedFemurBone.zarr to /lustre/groups/ml01/projects/2024_spatialdata_db/data/oftpw__10X__Xenium__Human__bone_bone_marrow__20240403__v1.9.0__Non-diseasedFemurBone/10pui__10X__Xenium__Human__bone_bone_marrow__20240403__v1.9.0__Non-diseasedFemurBone.zarr: [Errno 2] No such file or directory: '/lustre/groups/ml01/projects/2024_spatialdata_db/data/oftpw__10X__Xenium__Human__bone_bone_marrow__20240403__v1.9.0__Non-diseasedFemurBone/oftpw__10X__Xenium__Human__bone_bone_marrow__20240403__v1.9.0__Non-diseasedFemurBone.zarr' -> '/lustre/groups/ml01/projects/2024_spatialdata_db/data/oftpw__10X__Xenium__Human__bone_bone_marrow__20240403__v1.9.0__Non-diseasedFemurBone/10pui__10X__Xenium__Human__bone_bone_marrow__20240403__v1.9.0__Non-diseasedFemurBone.zarr'\n",
      "Error renaming directory /lustre/groups/ml01/projects/2024_spatialdata_db/data/sjmmx__10X__Visium__Mouse__brain__20231005__v2.1.0__Post-XeniumReplicate2/sjmmx__10X__Visium__Mouse__brain__20231005__v2.1.0__Post-XeniumReplicate2.zarr to /lustre/groups/ml01/projects/2024_spatialdata_db/data/sjmmx__10X__Visium__Mouse__brain__20231005__v2.1.0__Post-XeniumReplicate2/105k3__10X__Visium__Mouse__brain__20231005__v2.1.0__Post-XeniumReplicate2.zarr: [Errno 2] No such file or directory: '/lustre/groups/ml01/projects/2024_spatialdata_db/data/sjmmx__10X__Visium__Mouse__brain__20231005__v2.1.0__Post-XeniumReplicate2/sjmmx__10X__Visium__Mouse__brain__20231005__v2.1.0__Post-XeniumReplicate2.zarr' -> '/lustre/groups/ml01/projects/2024_spatialdata_db/data/sjmmx__10X__Visium__Mouse__brain__20231005__v2.1.0__Post-XeniumReplicate2/105k3__10X__Visium__Mouse__brain__20231005__v2.1.0__Post-XeniumReplicate2.zarr'\n",
      "Error renaming directory /lustre/groups/ml01/projects/2024_spatialdata_db/data/tpaa3__10X__Visium__Human__breast__20201027__v1.2.0/tpaa3__10X__Visium__Human__breast__20201027__v1.2.0.zarr to /lustre/groups/ml01/projects/2024_spatialdata_db/data/tpaa3__10X__Visium__Human__breast__20201027__v1.2.0/10p19__10X__Visium__Human__breast__20201027__v1.2.0.zarr: [Errno 2] No such file or directory: '/lustre/groups/ml01/projects/2024_spatialdata_db/data/tpaa3__10X__Visium__Human__breast__20201027__v1.2.0/tpaa3__10X__Visium__Human__breast__20201027__v1.2.0.zarr' -> '/lustre/groups/ml01/projects/2024_spatialdata_db/data/tpaa3__10X__Visium__Human__breast__20201027__v1.2.0/10p19__10X__Visium__Human__breast__20201027__v1.2.0.zarr'\n",
      "\n",
      "\n",
      "\n",
      "\n",
      "\n",
      "\n",
      "\n",
      "\n",
      "Error renaming directory /lustre/groups/ml01/projects/2024_spatialdata_db/data/h5h77__10X__Visium__Mouse__brain__20230417__v2.0.1/h5h77__10X__Visium__Mouse__brain__20230417__v2.0.1.zarr to /lustre/groups/ml01/projects/2024_spatialdata_db/data/h5h77__10X__Visium__Mouse__brain__20230417__v2.0.1/101s6__10X__Visium__Mouse__brain__20230417__v2.0.1.zarr: [Errno 2] No such file or directory: '/lustre/groups/ml01/projects/2024_spatialdata_db/data/h5h77__10X__Visium__Mouse__brain__20230417__v2.0.1/h5h77__10X__Visium__Mouse__brain__20230417__v2.0.1.zarr' -> '/lustre/groups/ml01/projects/2024_spatialdata_db/data/h5h77__10X__Visium__Mouse__brain__20230417__v2.0.1/101s6__10X__Visium__Mouse__brain__20230417__v2.0.1.zarr'Error renaming directory /lustre/groups/ml01/projects/2024_spatialdata_db/data/kbvfj__10X__Visium__Mouse__brain__20220329__v1.3.0/kbvfj__10X__Visium__Mouse__brain__20220329__v1.3.0.zarr to /lustre/groups/ml01/projects/2024_spatialdata_db/data/kbvfj__10X__Visium__Mouse__brain__20220329__v1.3.0/10053__10X__Visium__Mouse__brain__20220329__v1.3.0.zarr: [Errno 2] No such file or directory: '/lustre/groups/ml01/projects/2024_spatialdata_db/data/kbvfj__10X__Visium__Mouse__brain__20220329__v1.3.0/kbvfj__10X__Visium__Mouse__brain__20220329__v1.3.0.zarr' -> '/lustre/groups/ml01/projects/2024_spatialdata_db/data/kbvfj__10X__Visium__Mouse__brain__20220329__v1.3.0/10053__10X__Visium__Mouse__brain__20220329__v1.3.0.zarr'Error renaming directory /lustre/groups/ml01/projects/2024_spatialdata_db/data/yw9rf__10X__Visium__Mouse__brain__20200623__v1.1.0/yw9rf__10X__Visium__Mouse__brain__20200623__v1.1.0.zarr to /lustre/groups/ml01/projects/2024_spatialdata_db/data/yw9rf__10X__Visium__Mouse__brain__20200623__v1.1.0/10fn9__10X__Visium__Mouse__brain__20200623__v1.1.0.zarr: [Errno 2] No such file or directory: '/lustre/groups/ml01/projects/2024_spatialdata_db/data/yw9rf__10X__Visium__Mouse__brain__20200623__v1.1.0/yw9rf__10X__Visium__Mouse__brain__20200623__v1.1.0.zarr' -> '/lustre/groups/ml01/projects/2024_spatialdata_db/data/yw9rf__10X__Visium__Mouse__brain__20200623__v1.1.0/10fn9__10X__Visium__Mouse__brain__20200623__v1.1.0.zarr'Error renaming directory /lustre/groups/ml01/projects/2024_spatialdata_db/data/3s126__10X__Visium__Mouse__brain__20220713__v2.0.0/3s126__10X__Visium__Mouse__brain__20220713__v2.0.0.zarr to /lustre/groups/ml01/projects/2024_spatialdata_db/data/3s126__10X__Visium__Mouse__brain__20220713__v2.0.0/10ndj__10X__Visium__Mouse__brain__20220713__v2.0.0.zarr: [Errno 2] No such file or directory: '/lustre/groups/ml01/projects/2024_spatialdata_db/data/3s126__10X__Visium__Mouse__brain__20220713__v2.0.0/3s126__10X__Visium__Mouse__brain__20220713__v2.0.0.zarr' -> '/lustre/groups/ml01/projects/2024_spatialdata_db/data/3s126__10X__Visium__Mouse__brain__20220713__v2.0.0/10ndj__10X__Visium__Mouse__brain__20220713__v2.0.0.zarr'Error renaming directory /lustre/groups/ml01/projects/2024_spatialdata_db/data/cy4ns__10X__Visium__Human__heart__20200623__v1.1.0/cy4ns__10X__Visium__Human__heart__20200623__v1.1.0.zarr to /lustre/groups/ml01/projects/2024_spatialdata_db/data/cy4ns__10X__Visium__Human__heart__20200623__v1.1.0/1025z__10X__Visium__Human__heart__20200623__v1.1.0.zarr: [Errno 2] No such file or directory: '/lustre/groups/ml01/projects/2024_spatialdata_db/data/cy4ns__10X__Visium__Human__heart__20200623__v1.1.0/cy4ns__10X__Visium__Human__heart__20200623__v1.1.0.zarr' -> '/lustre/groups/ml01/projects/2024_spatialdata_db/data/cy4ns__10X__Visium__Human__heart__20200623__v1.1.0/1025z__10X__Visium__Human__heart__20200623__v1.1.0.zarr'Error renaming directory /lustre/groups/ml01/projects/2024_spatialdata_db/data/rebtv__10X__CytAssist__Human__tonsil__20230515__v2.1.0/rebtv__10X__CytAssist__Human__tonsil__20230515__v2.1.0.zarr to /lustre/groups/ml01/projects/2024_spatialdata_db/data/rebtv__10X__CytAssist__Human__tonsil__20230515__v2.1.0/10ekd__10X__CytAssist__Human__tonsil__20230515__v2.1.0.zarr: [Errno 2] No such file or directory: '/lustre/groups/ml01/projects/2024_spatialdata_db/data/rebtv__10X__CytAssist__Human__tonsil__20230515__v2.1.0/rebtv__10X__CytAssist__Human__tonsil__20230515__v2.1.0.zarr' -> '/lustre/groups/ml01/projects/2024_spatialdata_db/data/rebtv__10X__CytAssist__Human__tonsil__20230515__v2.1.0/10ekd__10X__CytAssist__Human__tonsil__20230515__v2.1.0.zarr'Error renaming directory /lustre/groups/ml01/projects/2024_spatialdata_db/data/a9vph__10X__Visium__Human__lymph_node__20191212__v1.0.0/a9vph__10X__Visium__Human__lymph_node__20191212__v1.0.0.zarr to /lustre/groups/ml01/projects/2024_spatialdata_db/data/a9vph__10X__Visium__Human__lymph_node__20191212__v1.0.0/10vyh__10X__Visium__Human__lymph_node__20191212__v1.0.0.zarr: [Errno 2] No such file or directory: '/lustre/groups/ml01/projects/2024_spatialdata_db/data/a9vph__10X__Visium__Human__lymph_node__20191212__v1.0.0/a9vph__10X__Visium__Human__lymph_node__20191212__v1.0.0.zarr' -> '/lustre/groups/ml01/projects/2024_spatialdata_db/data/a9vph__10X__Visium__Human__lymph_node__20191212__v1.0.0/10vyh__10X__Visium__Human__lymph_node__20191212__v1.0.0.zarr'\n",
      "\n",
      "\n",
      "\n",
      "\n",
      "Error renaming directory /lustre/groups/ml01/projects/2024_spatialdata_db/data/kw6qn__10X__Visium__Mouse__brain__20230417__v2.0.1/kw6qn__10X__Visium__Mouse__brain__20230417__v2.0.1.zarr to /lustre/groups/ml01/projects/2024_spatialdata_db/data/kw6qn__10X__Visium__Mouse__brain__20230417__v2.0.1/10ant__10X__Visium__Mouse__brain__20230417__v2.0.1.zarr: [Errno 2] No such file or directory: '/lustre/groups/ml01/projects/2024_spatialdata_db/data/kw6qn__10X__Visium__Mouse__brain__20230417__v2.0.1/kw6qn__10X__Visium__Mouse__brain__20230417__v2.0.1.zarr' -> '/lustre/groups/ml01/projects/2024_spatialdata_db/data/kw6qn__10X__Visium__Mouse__brain__20230417__v2.0.1/10ant__10X__Visium__Mouse__brain__20230417__v2.0.1.zarr'Error renaming directory /lustre/groups/ml01/projects/2024_spatialdata_db/data/uk0rv__10X__Visium__Mouse__lung_brain__20230221__v2.0.1__BrainReplicate1/uk0rv__10X__Visium__Mouse__lung_brain__20230221__v2.0.1__BrainReplicate1.zarr to /lustre/groups/ml01/projects/2024_spatialdata_db/data/uk0rv__10X__Visium__Mouse__lung_brain__20230221__v2.0.1__BrainReplicate1/108ty__10X__Visium__Mouse__lung_brain__20230221__v2.0.1__BrainReplicate1.zarr: [Errno 2] No such file or directory: '/lustre/groups/ml01/projects/2024_spatialdata_db/data/uk0rv__10X__Visium__Mouse__lung_brain__20230221__v2.0.1__BrainReplicate1/uk0rv__10X__Visium__Mouse__lung_brain__20230221__v2.0.1__BrainReplicate1.zarr' -> '/lustre/groups/ml01/projects/2024_spatialdata_db/data/uk0rv__10X__Visium__Mouse__lung_brain__20230221__v2.0.1__BrainReplicate1/108ty__10X__Visium__Mouse__lung_brain__20230221__v2.0.1__BrainReplicate1.zarr'\n",
      "Error renaming directory /lustre/groups/ml01/projects/2024_spatialdata_db/data/rqu2u__10X__Xenium__Human__lung__20240205__v2.0.0/rqu2u__10X__Xenium__Human__lung__20240205__v2.0.0.zarr to /lustre/groups/ml01/projects/2024_spatialdata_db/data/rqu2u__10X__Xenium__Human__lung__20240205__v2.0.0/10uxy__10X__Xenium__Human__lung__20240205__v2.0.0.zarr: [Errno 2] No such file or directory: '/lustre/groups/ml01/projects/2024_spatialdata_db/data/rqu2u__10X__Xenium__Human__lung__20240205__v2.0.0/rqu2u__10X__Xenium__Human__lung__20240205__v2.0.0.zarr' -> '/lustre/groups/ml01/projects/2024_spatialdata_db/data/rqu2u__10X__Xenium__Human__lung__20240205__v2.0.0/10uxy__10X__Xenium__Human__lung__20240205__v2.0.0.zarr'\n",
      "Error renaming directory /lustre/groups/ml01/projects/2024_spatialdata_db/data/d5062__10X__Visium__Human__brain__20200623__v1.1.0/d5062__10X__Visium__Human__brain__20200623__v1.1.0.zarr to /lustre/groups/ml01/projects/2024_spatialdata_db/data/d5062__10X__Visium__Human__brain__20200623__v1.1.0/10wv1__10X__Visium__Human__brain__20200623__v1.1.0.zarr: [Errno 2] No such file or directory: '/lustre/groups/ml01/projects/2024_spatialdata_db/data/d5062__10X__Visium__Human__brain__20200623__v1.1.0/d5062__10X__Visium__Human__brain__20200623__v1.1.0.zarr' -> '/lustre/groups/ml01/projects/2024_spatialdata_db/data/d5062__10X__Visium__Human__brain__20200623__v1.1.0/10wv1__10X__Visium__Human__brain__20200623__v1.1.0.zarr'Error renaming directory /lustre/groups/ml01/projects/2024_spatialdata_db/data/6p76l__10X__Xenium__Human__lung__20230518__v1.3.0__LungCancer/6p76l__10X__Xenium__Human__lung__20230518__v1.3.0__LungCancer.zarr to /lustre/groups/ml01/projects/2024_spatialdata_db/data/6p76l__10X__Xenium__Human__lung__20230518__v1.3.0__LungCancer/109k1__10X__Xenium__Human__lung__20230518__v1.3.0__LungCancer.zarr: [Errno 2] No such file or directory: '/lustre/groups/ml01/projects/2024_spatialdata_db/data/6p76l__10X__Xenium__Human__lung__20230518__v1.3.0__LungCancer/6p76l__10X__Xenium__Human__lung__20230518__v1.3.0__LungCancer.zarr' -> '/lustre/groups/ml01/projects/2024_spatialdata_db/data/6p76l__10X__Xenium__Human__lung__20230518__v1.3.0__LungCancer/109k1__10X__Xenium__Human__lung__20230518__v1.3.0__LungCancer.zarr'\n",
      "\n",
      "\n",
      "\n",
      "\n",
      "Error renaming directory /lustre/groups/ml01/projects/2024_spatialdata_db/data/3p7pv__10X__Visium__Mouse__brain__20221018__v2.0.0/3p7pv__10X__Visium__Mouse__brain__20221018__v2.0.0.zarr to /lustre/groups/ml01/projects/2024_spatialdata_db/data/3p7pv__10X__Visium__Mouse__brain__20221018__v2.0.0/107rk__10X__Visium__Mouse__brain__20221018__v2.0.0.zarr: [Errno 2] No such file or directory: '/lustre/groups/ml01/projects/2024_spatialdata_db/data/3p7pv__10X__Visium__Mouse__brain__20221018__v2.0.0/3p7pv__10X__Visium__Mouse__brain__20221018__v2.0.0.zarr' -> '/lustre/groups/ml01/projects/2024_spatialdata_db/data/3p7pv__10X__Visium__Mouse__brain__20221018__v2.0.0/107rk__10X__Visium__Mouse__brain__20221018__v2.0.0.zarr'Error renaming directory /lustre/groups/ml01/projects/2024_spatialdata_db/data/l679p__10X__Visium__Mouse__embryo__20230608__v2.1.0/l679p__10X__Visium__Mouse__embryo__20230608__v2.1.0.zarr to /lustre/groups/ml01/projects/2024_spatialdata_db/data/l679p__10X__Visium__Mouse__embryo__20230608__v2.1.0/1001e__10X__Visium__Mouse__embryo__20230608__v2.1.0.zarr: [Errno 2] No such file or directory: '/lustre/groups/ml01/projects/2024_spatialdata_db/data/l679p__10X__Visium__Mouse__embryo__20230608__v2.1.0/l679p__10X__Visium__Mouse__embryo__20230608__v2.1.0.zarr' -> '/lustre/groups/ml01/projects/2024_spatialdata_db/data/l679p__10X__Visium__Mouse__embryo__20230608__v2.1.0/1001e__10X__Visium__Mouse__embryo__20230608__v2.1.0.zarr'Error renaming directory /lustre/groups/ml01/projects/2024_spatialdata_db/data/m72vi__10X__Xenium__unknown__unknown__20230420__v1.3.0__Glioblastoma/m72vi__10X__Xenium__unknown__unknown__20230420__v1.3.0__Glioblastoma.zarr to /lustre/groups/ml01/projects/2024_spatialdata_db/data/m72vi__10X__Xenium__unknown__unknown__20230420__v1.3.0__Glioblastoma/1091x__10X__Xenium__unknown__unknown__20230420__v1.3.0__Glioblastoma.zarr: [Errno 2] No such file or directory: '/lustre/groups/ml01/projects/2024_spatialdata_db/data/m72vi__10X__Xenium__unknown__unknown__20230420__v1.3.0__Glioblastoma/m72vi__10X__Xenium__unknown__unknown__20230420__v1.3.0__Glioblastoma.zarr' -> '/lustre/groups/ml01/projects/2024_spatialdata_db/data/m72vi__10X__Xenium__unknown__unknown__20230420__v1.3.0__Glioblastoma/1091x__10X__Xenium__unknown__unknown__20230420__v1.3.0__Glioblastoma.zarr'Error renaming directory /lustre/groups/ml01/projects/2024_spatialdata_db/data/2lfvx__10X__Visium__Mouse__brain__20230608__v2.1.0/2lfvx__10X__Visium__Mouse__brain__20230608__v2.1.0.zarr to /lustre/groups/ml01/projects/2024_spatialdata_db/data/2lfvx__10X__Visium__Mouse__brain__20230608__v2.1.0/103uy__10X__Visium__Mouse__brain__20230608__v2.1.0.zarr: [Errno 2] No such file or directory: '/lustre/groups/ml01/projects/2024_spatialdata_db/data/2lfvx__10X__Visium__Mouse__brain__20230608__v2.1.0/2lfvx__10X__Visium__Mouse__brain__20230608__v2.1.0.zarr' -> '/lustre/groups/ml01/projects/2024_spatialdata_db/data/2lfvx__10X__Visium__Mouse__brain__20230608__v2.1.0/103uy__10X__Visium__Mouse__brain__20230608__v2.1.0.zarr'Error renaming directory /lustre/groups/ml01/projects/2024_spatialdata_db/data/g7mbj__10X__Visium__Human__brain__20201027__v1.2.0/g7mbj__10X__Visium__Human__brain__20201027__v1.2.0.zarr to /lustre/groups/ml01/projects/2024_spatialdata_db/data/g7mbj__10X__Visium__Human__brain__20201027__v1.2.0/10zyf__10X__Visium__Human__brain__20201027__v1.2.0.zarr: [Errno 2] No such file or directory: '/lustre/groups/ml01/projects/2024_spatialdata_db/data/g7mbj__10X__Visium__Human__brain__20201027__v1.2.0/g7mbj__10X__Visium__Human__brain__20201027__v1.2.0.zarr' -> '/lustre/groups/ml01/projects/2024_spatialdata_db/data/g7mbj__10X__Visium__Human__brain__20201027__v1.2.0/10zyf__10X__Visium__Human__brain__20201027__v1.2.0.zarr'Error renaming directory /lustre/groups/ml01/projects/2024_spatialdata_db/data/6u5jt__10X__Visium__Mouse__olfactory_bulb__20220324__v1.3.0/6u5jt__10X__Visium__Mouse__olfactory_bulb__20220324__v1.3.0.zarr to /lustre/groups/ml01/projects/2024_spatialdata_db/data/6u5jt__10X__Visium__Mouse__olfactory_bulb__20220324__v1.3.0/10t8c__10X__Visium__Mouse__olfactory_bulb__20220324__v1.3.0.zarr: [Errno 2] No such file or directory: '/lustre/groups/ml01/projects/2024_spatialdata_db/data/6u5jt__10X__Visium__Mouse__olfactory_bulb__20220324__v1.3.0/6u5jt__10X__Visium__Mouse__olfactory_bulb__20220324__v1.3.0.zarr' -> '/lustre/groups/ml01/projects/2024_spatialdata_db/data/6u5jt__10X__Visium__Mouse__olfactory_bulb__20220324__v1.3.0/10t8c__10X__Visium__Mouse__olfactory_bulb__20220324__v1.3.0.zarr'Error renaming directory /lustre/groups/ml01/projects/2024_spatialdata_db/data/2dwwq__10X__Visium__Mouse__brain__20230525__v2.1.0/2dwwq__10X__Visium__Mouse__brain__20230525__v2.1.0.zarr to /lustre/groups/ml01/projects/2024_spatialdata_db/data/2dwwq__10X__Visium__Mouse__brain__20230525__v2.1.0/10ckr__10X__Visium__Mouse__brain__20230525__v2.1.0.zarr: [Errno 2] No such file or directory: '/lustre/groups/ml01/projects/2024_spatialdata_db/data/2dwwq__10X__Visium__Mouse__brain__20230525__v2.1.0/2dwwq__10X__Visium__Mouse__brain__20230525__v2.1.0.zarr' -> '/lustre/groups/ml01/projects/2024_spatialdata_db/data/2dwwq__10X__Visium__Mouse__brain__20230525__v2.1.0/10ckr__10X__Visium__Mouse__brain__20230525__v2.1.0.zarr'Error renaming directory /lustre/groups/ml01/projects/2024_spatialdata_db/data/ougr9__10X__Visium__Human__brain_cerebellum__20201027__v1.2.0/ougr9__10X__Visium__Human__brain_cerebellum__20201027__v1.2.0.zarr to /lustre/groups/ml01/projects/2024_spatialdata_db/data/ougr9__10X__Visium__Human__brain_cerebellum__20201027__v1.2.0/10kyn__10X__Visium__Human__brain_cerebellum__20201027__v1.2.0.zarr: [Errno 2] No such file or directory: '/lustre/groups/ml01/projects/2024_spatialdata_db/data/ougr9__10X__Visium__Human__brain_cerebellum__20201027__v1.2.0/ougr9__10X__Visium__Human__brain_cerebellum__20201027__v1.2.0.zarr' -> '/lustre/groups/ml01/projects/2024_spatialdata_db/data/ougr9__10X__Visium__Human__brain_cerebellum__20201027__v1.2.0/10kyn__10X__Visium__Human__brain_cerebellum__20201027__v1.2.0.zarr'Error renaming directory /lustre/groups/ml01/projects/2024_spatialdata_db/data/f61rr__10X__Xenium__Human__pancreas__20231116__v1.6.0/f61rr__10X__Xenium__Human__pancreas__20231116__v1.6.0.zarr to /lustre/groups/ml01/projects/2024_spatialdata_db/data/f61rr__10X__Xenium__Human__pancreas__20231116__v1.6.0/10fyx__10X__Xenium__Human__pancreas__20231116__v1.6.0.zarr: [Errno 2] No such file or directory: '/lustre/groups/ml01/projects/2024_spatialdata_db/data/f61rr__10X__Xenium__Human__pancreas__20231116__v1.6.0/f61rr__10X__Xenium__Human__pancreas__20231116__v1.6.0.zarr' -> '/lustre/groups/ml01/projects/2024_spatialdata_db/data/f61rr__10X__Xenium__Human__pancreas__20231116__v1.6.0/10fyx__10X__Xenium__Human__pancreas__20231116__v1.6.0.zarr'Error renaming directory /lustre/groups/ml01/projects/2024_spatialdata_db/data/f0fww__10X__Visium__Mouse__lung_brain__20230221__v2.0.1__BrainReplicate4/f0fww__10X__Visium__Mouse__lung_brain__20230221__v2.0.1__BrainReplicate4.zarr to /lustre/groups/ml01/projects/2024_spatialdata_db/data/f0fww__10X__Visium__Mouse__lung_brain__20230221__v2.0.1__BrainReplicate4/10sph__10X__Visium__Mouse__lung_brain__20230221__v2.0.1__BrainReplicate4.zarr: [Errno 2] No such file or directory: '/lustre/groups/ml01/projects/2024_spatialdata_db/data/f0fww__10X__Visium__Mouse__lung_brain__20230221__v2.0.1__BrainReplicate4/f0fww__10X__Visium__Mouse__lung_brain__20230221__v2.0.1__BrainReplicate4.zarr' -> '/lustre/groups/ml01/projects/2024_spatialdata_db/data/f0fww__10X__Visium__Mouse__lung_brain__20230221__v2.0.1__BrainReplicate4/10sph__10X__Visium__Mouse__lung_brain__20230221__v2.0.1__BrainReplicate4.zarr'\n",
      "\n",
      "\n",
      "\n",
      "\n",
      "\n",
      "\n",
      "\n",
      "\n",
      "\n",
      "Error renaming directory /lustre/groups/ml01/projects/2024_spatialdata_db/data/cdmnx__10X__Xenium__Mouse__brain__20230713__v1.4.0__TgCRND82.5months/cdmnx__10X__Xenium__Mouse__brain__20230713__v1.4.0__TgCRND82.5months.zarr to /lustre/groups/ml01/projects/2024_spatialdata_db/data/cdmnx__10X__Xenium__Mouse__brain__20230713__v1.4.0__TgCRND82.5months/10kyp__10X__Xenium__Mouse__brain__20230713__v1.4.0__TgCRND82.5months.zarr: [Errno 2] No such file or directory: '/lustre/groups/ml01/projects/2024_spatialdata_db/data/cdmnx__10X__Xenium__Mouse__brain__20230713__v1.4.0__TgCRND82.5months/cdmnx__10X__Xenium__Mouse__brain__20230713__v1.4.0__TgCRND82.5months.zarr' -> '/lustre/groups/ml01/projects/2024_spatialdata_db/data/cdmnx__10X__Xenium__Mouse__brain__20230713__v1.4.0__TgCRND82.5months/10kyp__10X__Xenium__Mouse__brain__20230713__v1.4.0__TgCRND82.5months.zarr'Error renaming directory /lustre/groups/ml01/projects/2024_spatialdata_db/data/h5tfz__10X__Visium__Human__breast__20230106__v2.0.1/h5tfz__10X__Visium__Human__breast__20230106__v2.0.1.zarr to /lustre/groups/ml01/projects/2024_spatialdata_db/data/h5tfz__10X__Visium__Human__breast__20230106__v2.0.1/100my__10X__Visium__Human__breast__20230106__v2.0.1.zarr: [Errno 2] No such file or directory: '/lustre/groups/ml01/projects/2024_spatialdata_db/data/h5tfz__10X__Visium__Human__breast__20230106__v2.0.1/h5tfz__10X__Visium__Human__breast__20230106__v2.0.1.zarr' -> '/lustre/groups/ml01/projects/2024_spatialdata_db/data/h5tfz__10X__Visium__Human__breast__20230106__v2.0.1/100my__10X__Visium__Human__breast__20230106__v2.0.1.zarr'"
     ]
    },
    {
     "name": "stderr",
     "output_type": "stream",
     "text": [
      "Renaming directories: 100%|██████████| 25999/25999 [00:05<00:00, 4572.48it/s]"
     ]
    },
    {
     "name": "stdout",
     "output_type": "stream",
     "text": [
      "Error renaming directory /lustre/groups/ml01/projects/2024_spatialdata_db/data/u8rpv__10X__Visium__Mouse__brain__20200623__v1.1.0/u8rpv__10X__Visium__Mouse__brain__20200623__v1.1.0.zarr to /lustre/groups/ml01/projects/2024_spatialdata_db/data/u8rpv__10X__Visium__Mouse__brain__20200623__v1.1.0/100wk__10X__Visium__Mouse__brain__20200623__v1.1.0.zarr: [Errno 2] No such file or directory: '/lustre/groups/ml01/projects/2024_spatialdata_db/data/u8rpv__10X__Visium__Mouse__brain__20200623__v1.1.0/u8rpv__10X__Visium__Mouse__brain__20200623__v1.1.0.zarr' -> '/lustre/groups/ml01/projects/2024_spatialdata_db/data/u8rpv__10X__Visium__Mouse__brain__20200623__v1.1.0/100wk__10X__Visium__Mouse__brain__20200623__v1.1.0.zarr'Error renaming directory /lustre/groups/ml01/projects/2024_spatialdata_db/data/l7fdr__10X__Visium__Mouse__brain__20220329__v1.3.0/l7fdr__10X__Visium__Mouse__brain__20220329__v1.3.0.zarr to /lustre/groups/ml01/projects/2024_spatialdata_db/data/l7fdr__10X__Visium__Mouse__brain__20220329__v1.3.0/10m49__10X__Visium__Mouse__brain__20220329__v1.3.0.zarr: [Errno 2] No such file or directory: '/lustre/groups/ml01/projects/2024_spatialdata_db/data/l7fdr__10X__Visium__Mouse__brain__20220329__v1.3.0/l7fdr__10X__Visium__Mouse__brain__20220329__v1.3.0.zarr' -> '/lustre/groups/ml01/projects/2024_spatialdata_db/data/l7fdr__10X__Visium__Mouse__brain__20220329__v1.3.0/10m49__10X__Visium__Mouse__brain__20220329__v1.3.0.zarr'Error renaming directory /lustre/groups/ml01/projects/2024_spatialdata_db/data/4kt3d__10X__Xenium__Mouse__whole_organism__20230818__v1.6.0/4kt3d__10X__Xenium__Mouse__whole_organism__20230818__v1.6.0.zarr to /lustre/groups/ml01/projects/2024_spatialdata_db/data/4kt3d__10X__Xenium__Mouse__whole_organism__20230818__v1.6.0/10pa3__10X__Xenium__Mouse__whole_organism__20230818__v1.6.0.zarr: [Errno 2] No such file or directory: '/lustre/groups/ml01/projects/2024_spatialdata_db/data/4kt3d__10X__Xenium__Mouse__whole_organism__20230818__v1.6.0/4kt3d__10X__Xenium__Mouse__whole_organism__20230818__v1.6.0.zarr' -> '/lustre/groups/ml01/projects/2024_spatialdata_db/data/4kt3d__10X__Xenium__Mouse__whole_organism__20230818__v1.6.0/10pa3__10X__Xenium__Mouse__whole_organism__20230818__v1.6.0.zarr'Error renaming directory /lustre/groups/ml01/projects/2024_spatialdata_db/data/ooaie__10X__Xenium__Human__brain__20240415__v2.0.0/ooaie__10X__Xenium__Human__brain__20240415__v2.0.0.zarr to /lustre/groups/ml01/projects/2024_spatialdata_db/data/ooaie__10X__Xenium__Human__brain__20240415__v2.0.0/10u63__10X__Xenium__Human__brain__20240415__v2.0.0.zarr: [Errno 2] No such file or directory: '/lustre/groups/ml01/projects/2024_spatialdata_db/data/ooaie__10X__Xenium__Human__brain__20240415__v2.0.0/ooaie__10X__Xenium__Human__brain__20240415__v2.0.0.zarr' -> '/lustre/groups/ml01/projects/2024_spatialdata_db/data/ooaie__10X__Xenium__Human__brain__20240415__v2.0.0/10u63__10X__Xenium__Human__brain__20240415__v2.0.0.zarr'Error renaming directory /lustre/groups/ml01/projects/2024_spatialdata_db/data/o49q8__10X__Visium__Mouse__brain__20200623__v1.1.0/o49q8__10X__Visium__Mouse__brain__20200623__v1.1.0.zarr to /lustre/groups/ml01/projects/2024_spatialdata_db/data/o49q8__10X__Visium__Mouse__brain__20200623__v1.1.0/10jft__10X__Visium__Mouse__brain__20200623__v1.1.0.zarr: [Errno 2] No such file or directory: '/lustre/groups/ml01/projects/2024_spatialdata_db/data/o49q8__10X__Visium__Mouse__brain__20200623__v1.1.0/o49q8__10X__Visium__Mouse__brain__20200623__v1.1.0.zarr' -> '/lustre/groups/ml01/projects/2024_spatialdata_db/data/o49q8__10X__Visium__Mouse__brain__20200623__v1.1.0/10jft__10X__Visium__Mouse__brain__20200623__v1.1.0.zarr'Error renaming directory /lustre/groups/ml01/projects/2024_spatialdata_db/data/mfrkl__10X__Xenium__Human__skin__20230918__v1.6.0/mfrkl__10X__Xenium__Human__skin__20230918__v1.6.0.zarr to /lustre/groups/ml01/projects/2024_spatialdata_db/data/mfrkl__10X__Xenium__Human__skin__20230918__v1.6.0/102cy__10X__Xenium__Human__skin__20230918__v1.6.0.zarr: [Errno 2] No such file or directory: '/lustre/groups/ml01/projects/2024_spatialdata_db/data/mfrkl__10X__Xenium__Human__skin__20230918__v1.6.0/mfrkl__10X__Xenium__Human__skin__20230918__v1.6.0.zarr' -> '/lustre/groups/ml01/projects/2024_spatialdata_db/data/mfrkl__10X__Xenium__Human__skin__20230918__v1.6.0/102cy__10X__Xenium__Human__skin__20230918__v1.6.0.zarr'\n",
      "Error renaming directory /lustre/groups/ml01/projects/2024_spatialdata_db/data/el4ap__10X__Visium__Mouse__brain__20230106__v2.0.1/el4ap__10X__Visium__Mouse__brain__20230106__v2.0.1.zarr to /lustre/groups/ml01/projects/2024_spatialdata_db/data/el4ap__10X__Visium__Mouse__brain__20230106__v2.0.1/10ake__10X__Visium__Mouse__brain__20230106__v2.0.1.zarr: [Errno 2] No such file or directory: '/lustre/groups/ml01/projects/2024_spatialdata_db/data/el4ap__10X__Visium__Mouse__brain__20230106__v2.0.1/el4ap__10X__Visium__Mouse__brain__20230106__v2.0.1.zarr' -> '/lustre/groups/ml01/projects/2024_spatialdata_db/data/el4ap__10X__Visium__Mouse__brain__20230106__v2.0.1/10ake__10X__Visium__Mouse__brain__20230106__v2.0.1.zarr'\n",
      "\n",
      "\n",
      "\n",
      "\n",
      "\n",
      "\n",
      "\n",
      "Error renaming directory /lustre/groups/ml01/projects/2024_spatialdata_db/data/4b368__10X__Visium__Mouse__lung_brain__20230221__v2.0.1__LungReplicate4/4b368__10X__Visium__Mouse__lung_brain__20230221__v2.0.1__LungReplicate4.zarr to /lustre/groups/ml01/projects/2024_spatialdata_db/data/4b368__10X__Visium__Mouse__lung_brain__20230221__v2.0.1__LungReplicate4/1090h__10X__Visium__Mouse__lung_brain__20230221__v2.0.1__LungReplicate4.zarr: [Errno 2] No such file or directory: '/lustre/groups/ml01/projects/2024_spatialdata_db/data/4b368__10X__Visium__Mouse__lung_brain__20230221__v2.0.1__LungReplicate4/4b368__10X__Visium__Mouse__lung_brain__20230221__v2.0.1__LungReplicate4.zarr' -> '/lustre/groups/ml01/projects/2024_spatialdata_db/data/4b368__10X__Visium__Mouse__lung_brain__20230221__v2.0.1__LungReplicate4/1090h__10X__Visium__Mouse__lung_brain__20230221__v2.0.1__LungReplicate4.zarr'Error renaming directory /lustre/groups/ml01/projects/2024_spatialdata_db/data/6qjsq__10X__Visium__Mouse__brain__20191202__v1.0.0/6qjsq__10X__Visium__Mouse__brain__20191202__v1.0.0.zarr to /lustre/groups/ml01/projects/2024_spatialdata_db/data/6qjsq__10X__Visium__Mouse__brain__20191202__v1.0.0/10224__10X__Visium__Mouse__brain__20191202__v1.0.0.zarr: [Errno 2] No such file or directory: '/lustre/groups/ml01/projects/2024_spatialdata_db/data/6qjsq__10X__Visium__Mouse__brain__20191202__v1.0.0/6qjsq__10X__Visium__Mouse__brain__20191202__v1.0.0.zarr' -> '/lustre/groups/ml01/projects/2024_spatialdata_db/data/6qjsq__10X__Visium__Mouse__brain__20191202__v1.0.0/10224__10X__Visium__Mouse__brain__20191202__v1.0.0.zarr'\n",
      "\n",
      "Error renaming directory /lustre/groups/ml01/projects/2024_spatialdata_db/data/1ewyv__10X__Visium__Mouse__brain__20191202__v1.0.0/1ewyv__10X__Visium__Mouse__brain__20191202__v1.0.0.zarr to /lustre/groups/ml01/projects/2024_spatialdata_db/data/1ewyv__10X__Visium__Mouse__brain__20191202__v1.0.0/1020c__10X__Visium__Mouse__brain__20191202__v1.0.0.zarr: [Errno 2] No such file or directory: '/lustre/groups/ml01/projects/2024_spatialdata_db/data/1ewyv__10X__Visium__Mouse__brain__20191202__v1.0.0/1ewyv__10X__Visium__Mouse__brain__20191202__v1.0.0.zarr' -> '/lustre/groups/ml01/projects/2024_spatialdata_db/data/1ewyv__10X__Visium__Mouse__brain__20191202__v1.0.0/1020c__10X__Visium__Mouse__brain__20191202__v1.0.0.zarr'Error renaming directory /lustre/groups/ml01/projects/2024_spatialdata_db/data/qdtdp__10X__Visium__Mouse__brain__20230608__v2.1.0/qdtdp__10X__Visium__Mouse__brain__20230608__v2.1.0.zarr to /lustre/groups/ml01/projects/2024_spatialdata_db/data/qdtdp__10X__Visium__Mouse__brain__20230608__v2.1.0/106s5__10X__Visium__Mouse__brain__20230608__v2.1.0.zarr: [Errno 2] No such file or directory: '/lustre/groups/ml01/projects/2024_spatialdata_db/data/qdtdp__10X__Visium__Mouse__brain__20230608__v2.1.0/qdtdp__10X__Visium__Mouse__brain__20230608__v2.1.0.zarr' -> '/lustre/groups/ml01/projects/2024_spatialdata_db/data/qdtdp__10X__Visium__Mouse__brain__20230608__v2.1.0/106s5__10X__Visium__Mouse__brain__20230608__v2.1.0.zarr'Error renaming directory /lustre/groups/ml01/projects/2024_spatialdata_db/data/l47i3__10X__Visium__Mouse__kidney__20210816__v1.3.0/l47i3__10X__Visium__Mouse__kidney__20210816__v1.3.0.zarr to /lustre/groups/ml01/projects/2024_spatialdata_db/data/l47i3__10X__Visium__Mouse__kidney__20210816__v1.3.0/103mc__10X__Visium__Mouse__kidney__20210816__v1.3.0.zarr: [Errno 2] No such file or directory: '/lustre/groups/ml01/projects/2024_spatialdata_db/data/l47i3__10X__Visium__Mouse__kidney__20210816__v1.3.0/l47i3__10X__Visium__Mouse__kidney__20210816__v1.3.0.zarr' -> '/lustre/groups/ml01/projects/2024_spatialdata_db/data/l47i3__10X__Visium__Mouse__kidney__20210816__v1.3.0/103mc__10X__Visium__Mouse__kidney__20210816__v1.3.0.zarr'Error renaming directory /lustre/groups/ml01/projects/2024_spatialdata_db/data/mby57__10X__Visium__Mouse__brain__20191202__v1.0.0/mby57__10X__Visium__Mouse__brain__20191202__v1.0.0.zarr to /lustre/groups/ml01/projects/2024_spatialdata_db/data/mby57__10X__Visium__Mouse__brain__20191202__v1.0.0/10jss__10X__Visium__Mouse__brain__20191202__v1.0.0.zarr: [Errno 2] No such file or directory: '/lustre/groups/ml01/projects/2024_spatialdata_db/data/mby57__10X__Visium__Mouse__brain__20191202__v1.0.0/mby57__10X__Visium__Mouse__brain__20191202__v1.0.0.zarr' -> '/lustre/groups/ml01/projects/2024_spatialdata_db/data/mby57__10X__Visium__Mouse__brain__20191202__v1.0.0/10jss__10X__Visium__Mouse__brain__20191202__v1.0.0.zarr'Error renaming directory /lustre/groups/ml01/projects/2024_spatialdata_db/data/uhk1j__10X__Xenium__Human__kidney__20230717__v1.5.0__Non-diseasedKidney/uhk1j__10X__Xenium__Human__kidney__20230717__v1.5.0__Non-diseasedKidney.zarr to /lustre/groups/ml01/projects/2024_spatialdata_db/data/uhk1j__10X__Xenium__Human__kidney__20230717__v1.5.0__Non-diseasedKidney/1063i__10X__Xenium__Human__kidney__20230717__v1.5.0__Non-diseasedKidney.zarr: [Errno 2] No such file or directory: '/lustre/groups/ml01/projects/2024_spatialdata_db/data/uhk1j__10X__Xenium__Human__kidney__20230717__v1.5.0__Non-diseasedKidney/uhk1j__10X__Xenium__Human__kidney__20230717__v1.5.0__Non-diseasedKidney.zarr' -> '/lustre/groups/ml01/projects/2024_spatialdata_db/data/uhk1j__10X__Xenium__Human__kidney__20230717__v1.5.0__Non-diseasedKidney/1063i__10X__Xenium__Human__kidney__20230717__v1.5.0__Non-diseasedKidney.zarr'\n",
      "Error renaming directory /lustre/groups/ml01/projects/2024_spatialdata_db/data/9zn0k__10X__Visium__Mouse__brain__20191202__v1.0.0/9zn0k__10X__Visium__Mouse__brain__20191202__v1.0.0.zarr to /lustre/groups/ml01/projects/2024_spatialdata_db/data/9zn0k__10X__Visium__Mouse__brain__20191202__v1.0.0/10i8s__10X__Visium__Mouse__brain__20191202__v1.0.0.zarr: [Errno 2] No such file or directory: '/lustre/groups/ml01/projects/2024_spatialdata_db/data/9zn0k__10X__Visium__Mouse__brain__20191202__v1.0.0/9zn0k__10X__Visium__Mouse__brain__20191202__v1.0.0.zarr' -> '/lustre/groups/ml01/projects/2024_spatialdata_db/data/9zn0k__10X__Visium__Mouse__brain__20191202__v1.0.0/10i8s__10X__Visium__Mouse__brain__20191202__v1.0.0.zarr'\n",
      "\n",
      "\n",
      "\n",
      "Error renaming directory /lustre/groups/ml01/projects/2024_spatialdata_db/data/56r5s__10X__Xenium__Mouse__bone__20240403__v1.9.0__0.5MEDTAdecalcification/56r5s__10X__Xenium__Mouse__bone__20240403__v1.9.0__0.5MEDTAdecalcification.zarr to /lustre/groups/ml01/projects/2024_spatialdata_db/data/56r5s__10X__Xenium__Mouse__bone__20240403__v1.9.0__0.5MEDTAdecalcification/10n1k__10X__Xenium__Mouse__bone__20240403__v1.9.0__0.5MEDTAdecalcification.zarr: [Errno 2] No such file or directory: '/lustre/groups/ml01/projects/2024_spatialdata_db/data/56r5s__10X__Xenium__Mouse__bone__20240403__v1.9.0__0.5MEDTAdecalcification/56r5s__10X__Xenium__Mouse__bone__20240403__v1.9.0__0.5MEDTAdecalcification.zarr' -> '/lustre/groups/ml01/projects/2024_spatialdata_db/data/56r5s__10X__Xenium__Mouse__bone__20240403__v1.9.0__0.5MEDTAdecalcification/10n1k__10X__Xenium__Mouse__bone__20240403__v1.9.0__0.5MEDTAdecalcification.zarr'Error renaming directory /lustre/groups/ml01/projects/2024_spatialdata_db/data/n5mya__10X__Visium__Mouse__brain__20191202__v1.0.0/n5mya__10X__Visium__Mouse__brain__20191202__v1.0.0.zarr to /lustre/groups/ml01/projects/2024_spatialdata_db/data/n5mya__10X__Visium__Mouse__brain__20191202__v1.0.0/10817__10X__Visium__Mouse__brain__20191202__v1.0.0.zarr: [Errno 2] No such file or directory: '/lustre/groups/ml01/projects/2024_spatialdata_db/data/n5mya__10X__Visium__Mouse__brain__20191202__v1.0.0/n5mya__10X__Visium__Mouse__brain__20191202__v1.0.0.zarr' -> '/lustre/groups/ml01/projects/2024_spatialdata_db/data/n5mya__10X__Visium__Mouse__brain__20191202__v1.0.0/10817__10X__Visium__Mouse__brain__20191202__v1.0.0.zarr'Error renaming directory /lustre/groups/ml01/projects/2024_spatialdata_db/data/7unc5__10X__Visium__Mouse__brain__20231005__v2.1.0__Post-XeniumReplicate1/7unc5__10X__Visium__Mouse__brain__20231005__v2.1.0__Post-XeniumReplicate1.zarr to /lustre/groups/ml01/projects/2024_spatialdata_db/data/7unc5__10X__Visium__Mouse__brain__20231005__v2.1.0__Post-XeniumReplicate1/10caf__10X__Visium__Mouse__brain__20231005__v2.1.0__Post-XeniumReplicate1.zarr: [Errno 2] No such file or directory: '/lustre/groups/ml01/projects/2024_spatialdata_db/data/7unc5__10X__Visium__Mouse__brain__20231005__v2.1.0__Post-XeniumReplicate1/7unc5__10X__Visium__Mouse__brain__20231005__v2.1.0__Post-XeniumReplicate1.zarr' -> '/lustre/groups/ml01/projects/2024_spatialdata_db/data/7unc5__10X__Visium__Mouse__brain__20231005__v2.1.0__Post-XeniumReplicate1/10caf__10X__Visium__Mouse__brain__20231005__v2.1.0__Post-XeniumReplicate1.zarr'\n",
      "Error renaming directory /lustre/groups/ml01/projects/2024_spatialdata_db/data/gqccm__10X__Visium__Human__prostate__20220712__v2.0.0/gqccm__10X__Visium__Human__prostate__20220712__v2.0.0.zarr to /lustre/groups/ml01/projects/2024_spatialdata_db/data/gqccm__10X__Visium__Human__prostate__20220712__v2.0.0/106ru__10X__Visium__Human__prostate__20220712__v2.0.0.zarr: [Errno 2] No such file or directory: '/lustre/groups/ml01/projects/2024_spatialdata_db/data/gqccm__10X__Visium__Human__prostate__20220712__v2.0.0/gqccm__10X__Visium__Human__prostate__20220712__v2.0.0.zarr' -> '/lustre/groups/ml01/projects/2024_spatialdata_db/data/gqccm__10X__Visium__Human__prostate__20220712__v2.0.0/106ru__10X__Visium__Human__prostate__20220712__v2.0.0.zarr'\n",
      "Error renaming directory /lustre/groups/ml01/projects/2024_spatialdata_db/data/yf0mm__10X__Visium__Mouse__kidney__20200623__v1.1.0/yf0mm__10X__Visium__Mouse__kidney__20200623__v1.1.0.zarr to /lustre/groups/ml01/projects/2024_spatialdata_db/data/yf0mm__10X__Visium__Mouse__kidney__20200623__v1.1.0/101in__10X__Visium__Mouse__kidney__20200623__v1.1.0.zarr: [Errno 2] No such file or directory: '/lustre/groups/ml01/projects/2024_spatialdata_db/data/yf0mm__10X__Visium__Mouse__kidney__20200623__v1.1.0/yf0mm__10X__Visium__Mouse__kidney__20200623__v1.1.0.zarr' -> '/lustre/groups/ml01/projects/2024_spatialdata_db/data/yf0mm__10X__Visium__Mouse__kidney__20200623__v1.1.0/101in__10X__Visium__Mouse__kidney__20200623__v1.1.0.zarr'\n",
      "Error renaming directory /lustre/groups/ml01/projects/2024_spatialdata_db/data/bl23n__10X__Visium__Mouse__brain__20200623__v1.1.0/bl23n__10X__Visium__Mouse__brain__20200623__v1.1.0.zarr to /lustre/groups/ml01/projects/2024_spatialdata_db/data/bl23n__10X__Visium__Mouse__brain__20200623__v1.1.0/10ci4__10X__Visium__Mouse__brain__20200623__v1.1.0.zarr: [Errno 2] No such file or directory: '/lustre/groups/ml01/projects/2024_spatialdata_db/data/bl23n__10X__Visium__Mouse__brain__20200623__v1.1.0/bl23n__10X__Visium__Mouse__brain__20200623__v1.1.0.zarr' -> '/lustre/groups/ml01/projects/2024_spatialdata_db/data/bl23n__10X__Visium__Mouse__brain__20200623__v1.1.0/10ci4__10X__Visium__Mouse__brain__20200623__v1.1.0.zarr'\n",
      "\n",
      "\n",
      "\n",
      "Error renaming directory /lustre/groups/ml01/projects/2024_spatialdata_db/data/qd23x__10X__Visium__Human__brain__20230214__v2.0.1/qd23x__10X__Visium__Human__brain__20230214__v2.0.1.zarr to /lustre/groups/ml01/projects/2024_spatialdata_db/data/qd23x__10X__Visium__Human__brain__20230214__v2.0.1/106ip__10X__Visium__Human__brain__20230214__v2.0.1.zarr: [Errno 2] No such file or directory: '/lustre/groups/ml01/projects/2024_spatialdata_db/data/qd23x__10X__Visium__Human__brain__20230214__v2.0.1/qd23x__10X__Visium__Human__brain__20230214__v2.0.1.zarr' -> '/lustre/groups/ml01/projects/2024_spatialdata_db/data/qd23x__10X__Visium__Human__brain__20230214__v2.0.1/106ip__10X__Visium__Human__brain__20230214__v2.0.1.zarr'Error renaming directory /lustre/groups/ml01/projects/2024_spatialdata_db/data/2xejf__10X__Visium__Human__heart__20191212__v1.0.0/2xejf__10X__Visium__Human__heart__20191212__v1.0.0.zarr to /lustre/groups/ml01/projects/2024_spatialdata_db/data/2xejf__10X__Visium__Human__heart__20191212__v1.0.0/10p4f__10X__Visium__Human__heart__20191212__v1.0.0.zarr: [Errno 2] No such file or directory: '/lustre/groups/ml01/projects/2024_spatialdata_db/data/2xejf__10X__Visium__Human__heart__20191212__v1.0.0/2xejf__10X__Visium__Human__heart__20191212__v1.0.0.zarr' -> '/lustre/groups/ml01/projects/2024_spatialdata_db/data/2xejf__10X__Visium__Human__heart__20191212__v1.0.0/10p4f__10X__Visium__Human__heart__20191212__v1.0.0.zarr'Error renaming directory /lustre/groups/ml01/projects/2024_spatialdata_db/data/y5py1__10X__Visium__Human__colon__20231005__v2.1.0__ControlReplicate2/y5py1__10X__Visium__Human__colon__20231005__v2.1.0__ControlReplicate2.zarr to /lustre/groups/ml01/projects/2024_spatialdata_db/data/y5py1__10X__Visium__Human__colon__20231005__v2.1.0__ControlReplicate2/1065r__10X__Visium__Human__colon__20231005__v2.1.0__ControlReplicate2.zarr: [Errno 2] No such file or directory: '/lustre/groups/ml01/projects/2024_spatialdata_db/data/y5py1__10X__Visium__Human__colon__20231005__v2.1.0__ControlReplicate2/y5py1__10X__Visium__Human__colon__20231005__v2.1.0__ControlReplicate2.zarr' -> '/lustre/groups/ml01/projects/2024_spatialdata_db/data/y5py1__10X__Visium__Human__colon__20231005__v2.1.0__ControlReplicate2/1065r__10X__Visium__Human__colon__20231005__v2.1.0__ControlReplicate2.zarr'Error renaming directory /lustre/groups/ml01/projects/2024_spatialdata_db/data/ycw3s__10X__Visium__Mouse__olfactory_bulb__20220712__v2.0.0/ycw3s__10X__Visium__Mouse__olfactory_bulb__20220712__v2.0.0.zarr to /lustre/groups/ml01/projects/2024_spatialdata_db/data/ycw3s__10X__Visium__Mouse__olfactory_bulb__20220712__v2.0.0/106v2__10X__Visium__Mouse__olfactory_bulb__20220712__v2.0.0.zarr: [Errno 2] No such file or directory: '/lustre/groups/ml01/projects/2024_spatialdata_db/data/ycw3s__10X__Visium__Mouse__olfactory_bulb__20220712__v2.0.0/ycw3s__10X__Visium__Mouse__olfactory_bulb__20220712__v2.0.0.zarr' -> '/lustre/groups/ml01/projects/2024_spatialdata_db/data/ycw3s__10X__Visium__Mouse__olfactory_bulb__20220712__v2.0.0/106v2__10X__Visium__Mouse__olfactory_bulb__20220712__v2.0.0.zarr'Error renaming directory /lustre/groups/ml01/projects/2024_spatialdata_db/data/qilz7__10X__Xenium__Human__intestine_colon__20230829__v1.6.0__Cancerpre-designedpanel/qilz7__10X__Xenium__Human__intestine_colon__20230829__v1.6.0__Cancerpre-designedpanel.zarr to /lustre/groups/ml01/projects/2024_spatialdata_db/data/qilz7__10X__Xenium__Human__intestine_colon__20230829__v1.6.0__Cancerpre-designedpanel/10ah4__10X__Xenium__Human__intestine_colon__20230829__v1.6.0__Cancerpre-designedpanel.zarr: [Errno 2] No such file or directory: '/lustre/groups/ml01/projects/2024_spatialdata_db/data/qilz7__10X__Xenium__Human__intestine_colon__20230829__v1.6.0__Cancerpre-designedpanel/qilz7__10X__Xenium__Human__intestine_colon__20230829__v1.6.0__Cancerpre-designedpanel.zarr' -> '/lustre/groups/ml01/projects/2024_spatialdata_db/data/qilz7__10X__Xenium__Human__intestine_colon__20230829__v1.6.0__Cancerpre-designedpanel/10ah4__10X__Xenium__Human__intestine_colon__20230829__v1.6.0__Cancerpre-designedpanel.zarr'Error renaming directory /lustre/groups/ml01/projects/2024_spatialdata_db/data/cspi1__10X__Visium__Human__brain__20200623__v1.1.0/cspi1__10X__Visium__Human__brain__20200623__v1.1.0.zarr to /lustre/groups/ml01/projects/2024_spatialdata_db/data/cspi1__10X__Visium__Human__brain__20200623__v1.1.0/104ee__10X__Visium__Human__brain__20200623__v1.1.0.zarr: [Errno 2] No such file or directory: '/lustre/groups/ml01/projects/2024_spatialdata_db/data/cspi1__10X__Visium__Human__brain__20200623__v1.1.0/cspi1__10X__Visium__Human__brain__20200623__v1.1.0.zarr' -> '/lustre/groups/ml01/projects/2024_spatialdata_db/data/cspi1__10X__Visium__Human__brain__20200623__v1.1.0/104ee__10X__Visium__Human__brain__20200623__v1.1.0.zarr'\n",
      "Error renaming directory /lustre/groups/ml01/projects/2024_spatialdata_db/data/1rw9r__10X__Visium__Mouse__brain__20200623__v1.1.0/1rw9r__10X__Visium__Mouse__brain__20200623__v1.1.0.zarr to /lustre/groups/ml01/projects/2024_spatialdata_db/data/1rw9r__10X__Visium__Mouse__brain__20200623__v1.1.0/104dm__10X__Visium__Mouse__brain__20200623__v1.1.0.zarr: [Errno 2] No such file or directory: '/lustre/groups/ml01/projects/2024_spatialdata_db/data/1rw9r__10X__Visium__Mouse__brain__20200623__v1.1.0/1rw9r__10X__Visium__Mouse__brain__20200623__v1.1.0.zarr' -> '/lustre/groups/ml01/projects/2024_spatialdata_db/data/1rw9r__10X__Visium__Mouse__brain__20200623__v1.1.0/104dm__10X__Visium__Mouse__brain__20200623__v1.1.0.zarr'Error renaming directory /lustre/groups/ml01/projects/2024_spatialdata_db/data/3z776__10X__Xenium__unknown__unknown__20230420__v1.3.0__HealthyBrain/3z776__10X__Xenium__unknown__unknown__20230420__v1.3.0__HealthyBrain.zarr to /lustre/groups/ml01/projects/2024_spatialdata_db/data/3z776__10X__Xenium__unknown__unknown__20230420__v1.3.0__HealthyBrain/104dy__10X__Xenium__unknown__unknown__20230420__v1.3.0__HealthyBrain.zarr: [Errno 2] No such file or directory: '/lustre/groups/ml01/projects/2024_spatialdata_db/data/3z776__10X__Xenium__unknown__unknown__20230420__v1.3.0__HealthyBrain/3z776__10X__Xenium__unknown__unknown__20230420__v1.3.0__HealthyBrain.zarr' -> '/lustre/groups/ml01/projects/2024_spatialdata_db/data/3z776__10X__Xenium__unknown__unknown__20230420__v1.3.0__HealthyBrain/104dy__10X__Xenium__unknown__unknown__20230420__v1.3.0__HealthyBrain.zarr'\n",
      "\n",
      "\n",
      "Error renaming directory /lustre/groups/ml01/projects/2024_spatialdata_db/data/ectuc__10X__Visium__Mouse__brain__20230417__v2.0.1/ectuc__10X__Visium__Mouse__brain__20230417__v2.0.1.zarr to /lustre/groups/ml01/projects/2024_spatialdata_db/data/ectuc__10X__Visium__Mouse__brain__20230417__v2.0.1/10056__10X__Visium__Mouse__brain__20230417__v2.0.1.zarr: [Errno 2] No such file or directory: '/lustre/groups/ml01/projects/2024_spatialdata_db/data/ectuc__10X__Visium__Mouse__brain__20230417__v2.0.1/ectuc__10X__Visium__Mouse__brain__20230417__v2.0.1.zarr' -> '/lustre/groups/ml01/projects/2024_spatialdata_db/data/ectuc__10X__Visium__Mouse__brain__20230417__v2.0.1/10056__10X__Visium__Mouse__brain__20230417__v2.0.1.zarr'\n",
      "Error renaming directory /lustre/groups/ml01/projects/2024_spatialdata_db/data/5i1d7__10X__Visium__Human__breast__20191212__v1.0.0/5i1d7__10X__Visium__Human__breast__20191212__v1.0.0.zarr to /lustre/groups/ml01/projects/2024_spatialdata_db/data/5i1d7__10X__Visium__Human__breast__20191212__v1.0.0/105ka__10X__Visium__Human__breast__20191212__v1.0.0.zarr: [Errno 2] No such file or directory: '/lustre/groups/ml01/projects/2024_spatialdata_db/data/5i1d7__10X__Visium__Human__breast__20191212__v1.0.0/5i1d7__10X__Visium__Human__breast__20191212__v1.0.0.zarr' -> '/lustre/groups/ml01/projects/2024_spatialdata_db/data/5i1d7__10X__Visium__Human__breast__20191212__v1.0.0/105ka__10X__Visium__Human__breast__20191212__v1.0.0.zarr'\n",
      "\n",
      "\n",
      "\n",
      "\n",
      "Error renaming directory /lustre/groups/ml01/projects/2024_spatialdata_db/data/up5uh__10X__Visium__Mouse__brain__20231005__v2.1.0__ControlReplicate2/up5uh__10X__Visium__Mouse__brain__20231005__v2.1.0__ControlReplicate2.zarr to /lustre/groups/ml01/projects/2024_spatialdata_db/data/up5uh__10X__Visium__Mouse__brain__20231005__v2.1.0__ControlReplicate2/10ha9__10X__Visium__Mouse__brain__20231005__v2.1.0__ControlReplicate2.zarr: [Errno 2] No such file or directory: '/lustre/groups/ml01/projects/2024_spatialdata_db/data/up5uh__10X__Visium__Mouse__brain__20231005__v2.1.0__ControlReplicate2/up5uh__10X__Visium__Mouse__brain__20231005__v2.1.0__ControlReplicate2.zarr' -> '/lustre/groups/ml01/projects/2024_spatialdata_db/data/up5uh__10X__Visium__Mouse__brain__20231005__v2.1.0__ControlReplicate2/10ha9__10X__Visium__Mouse__brain__20231005__v2.1.0__ControlReplicate2.zarr'Error renaming directory /lustre/groups/ml01/projects/2024_spatialdata_db/data/tggfj__10X__Visium__Mouse__brain__20230608__v2.1.0/tggfj__10X__Visium__Mouse__brain__20230608__v2.1.0.zarr to /lustre/groups/ml01/projects/2024_spatialdata_db/data/tggfj__10X__Visium__Mouse__brain__20230608__v2.1.0/10mda__10X__Visium__Mouse__brain__20230608__v2.1.0.zarr: [Errno 2] No such file or directory: '/lustre/groups/ml01/projects/2024_spatialdata_db/data/tggfj__10X__Visium__Mouse__brain__20230608__v2.1.0/tggfj__10X__Visium__Mouse__brain__20230608__v2.1.0.zarr' -> '/lustre/groups/ml01/projects/2024_spatialdata_db/data/tggfj__10X__Visium__Mouse__brain__20230608__v2.1.0/10mda__10X__Visium__Mouse__brain__20230608__v2.1.0.zarr'Error renaming directory /lustre/groups/ml01/projects/2024_spatialdata_db/data/w7zg8__10X__CytAssist__Human__tonsil__20230824__v2.1.0/w7zg8__10X__CytAssist__Human__tonsil__20230824__v2.1.0.zarr to /lustre/groups/ml01/projects/2024_spatialdata_db/data/w7zg8__10X__CytAssist__Human__tonsil__20230824__v2.1.0/10jr4__10X__CytAssist__Human__tonsil__20230824__v2.1.0.zarr: [Errno 2] No such file or directory: '/lustre/groups/ml01/projects/2024_spatialdata_db/data/w7zg8__10X__CytAssist__Human__tonsil__20230824__v2.1.0/w7zg8__10X__CytAssist__Human__tonsil__20230824__v2.1.0.zarr' -> '/lustre/groups/ml01/projects/2024_spatialdata_db/data/w7zg8__10X__CytAssist__Human__tonsil__20230824__v2.1.0/10jr4__10X__CytAssist__Human__tonsil__20230824__v2.1.0.zarr'Error renaming directory /lustre/groups/ml01/projects/2024_spatialdata_db/data/sj4fv__10X__Visium__Mouse__brain__20220712__v2.0.0/sj4fv__10X__Visium__Mouse__brain__20220712__v2.0.0.zarr to /lustre/groups/ml01/projects/2024_spatialdata_db/data/sj4fv__10X__Visium__Mouse__brain__20220712__v2.0.0/105tt__10X__Visium__Mouse__brain__20220712__v2.0.0.zarr: [Errno 2] No such file or directory: '/lustre/groups/ml01/projects/2024_spatialdata_db/data/sj4fv__10X__Visium__Mouse__brain__20220712__v2.0.0/sj4fv__10X__Visium__Mouse__brain__20220712__v2.0.0.zarr' -> '/lustre/groups/ml01/projects/2024_spatialdata_db/data/sj4fv__10X__Visium__Mouse__brain__20220712__v2.0.0/105tt__10X__Visium__Mouse__brain__20220712__v2.0.0.zarr'Error renaming directory /lustre/groups/ml01/projects/2024_spatialdata_db/data/lielj__10X__Visium__Human__lymph_node__20200623__v1.1.0/lielj__10X__Visium__Human__lymph_node__20200623__v1.1.0.zarr to /lustre/groups/ml01/projects/2024_spatialdata_db/data/lielj__10X__Visium__Human__lymph_node__20200623__v1.1.0/105jc__10X__Visium__Human__lymph_node__20200623__v1.1.0.zarr: [Errno 2] No such file or directory: '/lustre/groups/ml01/projects/2024_spatialdata_db/data/lielj__10X__Visium__Human__lymph_node__20200623__v1.1.0/lielj__10X__Visium__Human__lymph_node__20200623__v1.1.0.zarr' -> '/lustre/groups/ml01/projects/2024_spatialdata_db/data/lielj__10X__Visium__Human__lymph_node__20200623__v1.1.0/105jc__10X__Visium__Human__lymph_node__20200623__v1.1.0.zarr'\n",
      "\n",
      "Error renaming directory /lustre/groups/ml01/projects/2024_spatialdata_db/data/5z2c2__10X__Visium__Mouse__olfactory_bulb__20220712__v2.0.0/5z2c2__10X__Visium__Mouse__olfactory_bulb__20220712__v2.0.0.zarr to /lustre/groups/ml01/projects/2024_spatialdata_db/data/5z2c2__10X__Visium__Mouse__olfactory_bulb__20220712__v2.0.0/10u6u__10X__Visium__Mouse__olfactory_bulb__20220712__v2.0.0.zarr: [Errno 2] No such file or directory: '/lustre/groups/ml01/projects/2024_spatialdata_db/data/5z2c2__10X__Visium__Mouse__olfactory_bulb__20220712__v2.0.0/5z2c2__10X__Visium__Mouse__olfactory_bulb__20220712__v2.0.0.zarr' -> '/lustre/groups/ml01/projects/2024_spatialdata_db/data/5z2c2__10X__Visium__Mouse__olfactory_bulb__20220712__v2.0.0/10u6u__10X__Visium__Mouse__olfactory_bulb__20220712__v2.0.0.zarr'Error renaming directory /lustre/groups/ml01/projects/2024_spatialdata_db/data/zw6bg__10X__Visium__Human__prostate__20211008__v1.3.0/zw6bg__10X__Visium__Human__prostate__20211008__v1.3.0.zarr to /lustre/groups/ml01/projects/2024_spatialdata_db/data/zw6bg__10X__Visium__Human__prostate__20211008__v1.3.0/10f2z__10X__Visium__Human__prostate__20211008__v1.3.0.zarr: [Errno 2] No such file or directory: '/lustre/groups/ml01/projects/2024_spatialdata_db/data/zw6bg__10X__Visium__Human__prostate__20211008__v1.3.0/zw6bg__10X__Visium__Human__prostate__20211008__v1.3.0.zarr' -> '/lustre/groups/ml01/projects/2024_spatialdata_db/data/zw6bg__10X__Visium__Human__prostate__20211008__v1.3.0/10f2z__10X__Visium__Human__prostate__20211008__v1.3.0.zarr'\n",
      "\n",
      "Error renaming directory /lustre/groups/ml01/projects/2024_spatialdata_db/data/tkcwt__10X__Visium__Human__breast__20200623__v1.1.0/tkcwt__10X__Visium__Human__breast__20200623__v1.1.0.zarr to /lustre/groups/ml01/projects/2024_spatialdata_db/data/tkcwt__10X__Visium__Human__breast__20200623__v1.1.0/108r9__10X__Visium__Human__breast__20200623__v1.1.0.zarr: [Errno 2] No such file or directory: '/lustre/groups/ml01/projects/2024_spatialdata_db/data/tkcwt__10X__Visium__Human__breast__20200623__v1.1.0/tkcwt__10X__Visium__Human__breast__20200623__v1.1.0.zarr' -> '/lustre/groups/ml01/projects/2024_spatialdata_db/data/tkcwt__10X__Visium__Human__breast__20200623__v1.1.0/108r9__10X__Visium__Human__breast__20200623__v1.1.0.zarr'\n",
      "Error renaming directory /lustre/groups/ml01/projects/2024_spatialdata_db/data/eiuys__10X__CytAssist__Human__breast__20230515__v2.1.0/eiuys__10X__CytAssist__Human__breast__20230515__v2.1.0.zarr to /lustre/groups/ml01/projects/2024_spatialdata_db/data/eiuys__10X__CytAssist__Human__breast__20230515__v2.1.0/10if2__10X__CytAssist__Human__breast__20230515__v2.1.0.zarr: [Errno 2] No such file or directory: '/lustre/groups/ml01/projects/2024_spatialdata_db/data/eiuys__10X__CytAssist__Human__breast__20230515__v2.1.0/eiuys__10X__CytAssist__Human__breast__20230515__v2.1.0.zarr' -> '/lustre/groups/ml01/projects/2024_spatialdata_db/data/eiuys__10X__CytAssist__Human__breast__20230515__v2.1.0/10if2__10X__CytAssist__Human__breast__20230515__v2.1.0.zarr'\n",
      "\n",
      "\n",
      "Error renaming directory /lustre/groups/ml01/projects/2024_spatialdata_db/data/8x7n0__10X__Xenium__Mouse__brain__20230713__v1.4.0__TgCRND817.9months/8x7n0__10X__Xenium__Mouse__brain__20230713__v1.4.0__TgCRND817.9months.zarr to /lustre/groups/ml01/projects/2024_spatialdata_db/data/8x7n0__10X__Xenium__Mouse__brain__20230713__v1.4.0__TgCRND817.9months/10hhx__10X__Xenium__Mouse__brain__20230713__v1.4.0__TgCRND817.9months.zarr: [Errno 2] No such file or directory: '/lustre/groups/ml01/projects/2024_spatialdata_db/data/8x7n0__10X__Xenium__Mouse__brain__20230713__v1.4.0__TgCRND817.9months/8x7n0__10X__Xenium__Mouse__brain__20230713__v1.4.0__TgCRND817.9months.zarr' -> '/lustre/groups/ml01/projects/2024_spatialdata_db/data/8x7n0__10X__Xenium__Mouse__brain__20230713__v1.4.0__TgCRND817.9months/10hhx__10X__Xenium__Mouse__brain__20230713__v1.4.0__TgCRND817.9months.zarr'Error renaming directory /lustre/groups/ml01/projects/2024_spatialdata_db/data/ia6p0__10X__Visium__Mouse__brain__20191202__v1.0.0/ia6p0__10X__Visium__Mouse__brain__20191202__v1.0.0.zarr to /lustre/groups/ml01/projects/2024_spatialdata_db/data/ia6p0__10X__Visium__Mouse__brain__20191202__v1.0.0/10huw__10X__Visium__Mouse__brain__20191202__v1.0.0.zarr: [Errno 2] No such file or directory: '/lustre/groups/ml01/projects/2024_spatialdata_db/data/ia6p0__10X__Visium__Mouse__brain__20191202__v1.0.0/ia6p0__10X__Visium__Mouse__brain__20191202__v1.0.0.zarr' -> '/lustre/groups/ml01/projects/2024_spatialdata_db/data/ia6p0__10X__Visium__Mouse__brain__20191202__v1.0.0/10huw__10X__Visium__Mouse__brain__20191202__v1.0.0.zarr'\n",
      "\n",
      "\n",
      "Error renaming directory /lustre/groups/ml01/projects/2024_spatialdata_db/data/l0g1l__10X__Visium__Human__lung__20220713__v2.0.0/l0g1l__10X__Visium__Human__lung__20220713__v2.0.0.zarr to /lustre/groups/ml01/projects/2024_spatialdata_db/data/l0g1l__10X__Visium__Human__lung__20220713__v2.0.0/10sn3__10X__Visium__Human__lung__20220713__v2.0.0.zarr: [Errno 2] No such file or directory: '/lustre/groups/ml01/projects/2024_spatialdata_db/data/l0g1l__10X__Visium__Human__lung__20220713__v2.0.0/l0g1l__10X__Visium__Human__lung__20220713__v2.0.0.zarr' -> '/lustre/groups/ml01/projects/2024_spatialdata_db/data/l0g1l__10X__Visium__Human__lung__20220713__v2.0.0/10sn3__10X__Visium__Human__lung__20220713__v2.0.0.zarr'Error renaming directory /lustre/groups/ml01/projects/2024_spatialdata_db/data/siiyj__10X__Visium__Human__prostate__20210609__v1.3.0/siiyj__10X__Visium__Human__prostate__20210609__v1.3.0.zarr to /lustre/groups/ml01/projects/2024_spatialdata_db/data/siiyj__10X__Visium__Human__prostate__20210609__v1.3.0/10uik__10X__Visium__Human__prostate__20210609__v1.3.0.zarr: [Errno 2] No such file or directory: '/lustre/groups/ml01/projects/2024_spatialdata_db/data/siiyj__10X__Visium__Human__prostate__20210609__v1.3.0/siiyj__10X__Visium__Human__prostate__20210609__v1.3.0.zarr' -> '/lustre/groups/ml01/projects/2024_spatialdata_db/data/siiyj__10X__Visium__Human__prostate__20210609__v1.3.0/10uik__10X__Visium__Human__prostate__20210609__v1.3.0.zarr'Error renaming directory /lustre/groups/ml01/projects/2024_spatialdata_db/data/icu0y__10X__Visium__Mouse__brain__20200623__v1.1.0/icu0y__10X__Visium__Mouse__brain__20200623__v1.1.0.zarr to /lustre/groups/ml01/projects/2024_spatialdata_db/data/icu0y__10X__Visium__Mouse__brain__20200623__v1.1.0/10m16__10X__Visium__Mouse__brain__20200623__v1.1.0.zarr: [Errno 2] No such file or directory: '/lustre/groups/ml01/projects/2024_spatialdata_db/data/icu0y__10X__Visium__Mouse__brain__20200623__v1.1.0/icu0y__10X__Visium__Mouse__brain__20200623__v1.1.0.zarr' -> '/lustre/groups/ml01/projects/2024_spatialdata_db/data/icu0y__10X__Visium__Mouse__brain__20200623__v1.1.0/10m16__10X__Visium__Mouse__brain__20200623__v1.1.0.zarr'Error renaming directory /lustre/groups/ml01/projects/2024_spatialdata_db/data/vmonx__10X__Visium__Mouse__brain__20200623__v1.1.0/vmonx__10X__Visium__Mouse__brain__20200623__v1.1.0.zarr to /lustre/groups/ml01/projects/2024_spatialdata_db/data/vmonx__10X__Visium__Mouse__brain__20200623__v1.1.0/107rw__10X__Visium__Mouse__brain__20200623__v1.1.0.zarr: [Errno 2] No such file or directory: '/lustre/groups/ml01/projects/2024_spatialdata_db/data/vmonx__10X__Visium__Mouse__brain__20200623__v1.1.0/vmonx__10X__Visium__Mouse__brain__20200623__v1.1.0.zarr' -> '/lustre/groups/ml01/projects/2024_spatialdata_db/data/vmonx__10X__Visium__Mouse__brain__20200623__v1.1.0/107rw__10X__Visium__Mouse__brain__20200623__v1.1.0.zarr'Error renaming directory /lustre/groups/ml01/projects/2024_spatialdata_db/data/2ku9b__10X__Visium__Human__brain_cerebellum__20201027__v1.2.0/2ku9b__10X__Visium__Human__brain_cerebellum__20201027__v1.2.0.zarr to /lustre/groups/ml01/projects/2024_spatialdata_db/data/2ku9b__10X__Visium__Human__brain_cerebellum__20201027__v1.2.0/1012t__10X__Visium__Human__brain_cerebellum__20201027__v1.2.0.zarr: [Errno 2] No such file or directory: '/lustre/groups/ml01/projects/2024_spatialdata_db/data/2ku9b__10X__Visium__Human__brain_cerebellum__20201027__v1.2.0/2ku9b__10X__Visium__Human__brain_cerebellum__20201027__v1.2.0.zarr' -> '/lustre/groups/ml01/projects/2024_spatialdata_db/data/2ku9b__10X__Visium__Human__brain_cerebellum__20201027__v1.2.0/1012t__10X__Visium__Human__brain_cerebellum__20201027__v1.2.0.zarr'Error renaming directory /lustre/groups/ml01/projects/2024_spatialdata_db/data/6qcwb__10X__Visium__Human__cerebellum__20220712__v2.0.0/6qcwb__10X__Visium__Human__cerebellum__20220712__v2.0.0.zarr to /lustre/groups/ml01/projects/2024_spatialdata_db/data/6qcwb__10X__Visium__Human__cerebellum__20220712__v2.0.0/10wkh__10X__Visium__Human__cerebellum__20220712__v2.0.0.zarr: [Errno 2] No such file or directory: '/lustre/groups/ml01/projects/2024_spatialdata_db/data/6qcwb__10X__Visium__Human__cerebellum__20220712__v2.0.0/6qcwb__10X__Visium__Human__cerebellum__20220712__v2.0.0.zarr' -> '/lustre/groups/ml01/projects/2024_spatialdata_db/data/6qcwb__10X__Visium__Human__cerebellum__20220712__v2.0.0/10wkh__10X__Visium__Human__cerebellum__20220712__v2.0.0.zarr'\n",
      "Error renaming directory /lustre/groups/ml01/projects/2024_spatialdata_db/data/wxc2q__10X__Xenium__Human__intestine_colon__20230829__v1.6.0__Cancerpre-designed+add-onpanel/wxc2q__10X__Xenium__Human__intestine_colon__20230829__v1.6.0__Cancerpre-designed+add-onpanel.zarr to /lustre/groups/ml01/projects/2024_spatialdata_db/data/wxc2q__10X__Xenium__Human__intestine_colon__20230829__v1.6.0__Cancerpre-designed+add-onpanel/10zm9__10X__Xenium__Human__intestine_colon__20230829__v1.6.0__Cancerpre-designed+add-onpanel.zarr: [Errno 2] No such file or directory: '/lustre/groups/ml01/projects/2024_spatialdata_db/data/wxc2q__10X__Xenium__Human__intestine_colon__20230829__v1.6.0__Cancerpre-designed+add-onpanel/wxc2q__10X__Xenium__Human__intestine_colon__20230829__v1.6.0__Cancerpre-designed+add-onpanel.zarr' -> '/lustre/groups/ml01/projects/2024_spatialdata_db/data/wxc2q__10X__Xenium__Human__intestine_colon__20230829__v1.6.0__Cancerpre-designed+add-onpanel/10zm9__10X__Xenium__Human__intestine_colon__20230829__v1.6.0__Cancerpre-designed+add-onpanel.zarr'Error renaming directory /lustre/groups/ml01/projects/2024_spatialdata_db/data/4slyf__10X__Xenium__Human__kidney__20230717__v1.5.0__KidneyCancer(PRCC)/4slyf__10X__Xenium__Human__kidney__20230717__v1.5.0__KidneyCancer(PRCC).zarr to /lustre/groups/ml01/projects/2024_spatialdata_db/data/4slyf__10X__Xenium__Human__kidney__20230717__v1.5.0__KidneyCancer(PRCC)/10u89__10X__Xenium__Human__kidney__20230717__v1.5.0__KidneyCancer(PRCC).zarr: [Errno 2] No such file or directory: '/lustre/groups/ml01/projects/2024_spatialdata_db/data/4slyf__10X__Xenium__Human__kidney__20230717__v1.5.0__KidneyCancer(PRCC)/4slyf__10X__Xenium__Human__kidney__20230717__v1.5.0__KidneyCancer(PRCC).zarr' -> '/lustre/groups/ml01/projects/2024_spatialdata_db/data/4slyf__10X__Xenium__Human__kidney__20230717__v1.5.0__KidneyCancer(PRCC)/10u89__10X__Xenium__Human__kidney__20230717__v1.5.0__KidneyCancer(PRCC).zarr'\n",
      "\n",
      "\n",
      "\n",
      "\n",
      "\n",
      "\n",
      "Error renaming directory /lustre/groups/ml01/projects/2024_spatialdata_db/data/mt3dy__10X__Visium__Mouse__brain__20200623__v1.1.0/mt3dy__10X__Visium__Mouse__brain__20200623__v1.1.0.zarr to /lustre/groups/ml01/projects/2024_spatialdata_db/data/mt3dy__10X__Visium__Mouse__brain__20200623__v1.1.0/10wfn__10X__Visium__Mouse__brain__20200623__v1.1.0.zarr: [Errno 2] No such file or directory: '/lustre/groups/ml01/projects/2024_spatialdata_db/data/mt3dy__10X__Visium__Mouse__brain__20200623__v1.1.0/mt3dy__10X__Visium__Mouse__brain__20200623__v1.1.0.zarr' -> '/lustre/groups/ml01/projects/2024_spatialdata_db/data/mt3dy__10X__Visium__Mouse__brain__20200623__v1.1.0/10wfn__10X__Visium__Mouse__brain__20200623__v1.1.0.zarr'Error renaming directory /lustre/groups/ml01/projects/2024_spatialdata_db/data/zqxk7__10X__Visium__Human__large_intestine__20220328__v1.3.0/zqxk7__10X__Visium__Human__large_intestine__20220328__v1.3.0.zarr to /lustre/groups/ml01/projects/2024_spatialdata_db/data/zqxk7__10X__Visium__Human__large_intestine__20220328__v1.3.0/1000j__10X__Visium__Human__large_intestine__20220328__v1.3.0.zarr: [Errno 2] No such file or directory: '/lustre/groups/ml01/projects/2024_spatialdata_db/data/zqxk7__10X__Visium__Human__large_intestine__20220328__v1.3.0/zqxk7__10X__Visium__Human__large_intestine__20220328__v1.3.0.zarr' -> '/lustre/groups/ml01/projects/2024_spatialdata_db/data/zqxk7__10X__Visium__Human__large_intestine__20220328__v1.3.0/1000j__10X__Visium__Human__large_intestine__20220328__v1.3.0.zarr'\n",
      "\n",
      "Skipping rename for /lustre/groups/ml01/projects/2024_spatialdata_db/data/des75__10X__Visium__Mouse__kidney__20200623__v1.1.0: /lustre/groups/ml01/projects/2024_spatialdata_db/data/105yf__10X__Visium__Mouse__kidney__20200623__v1.1.0 already exists.Skipping rename for /lustre/groups/ml01/projects/2024_spatialdata_db/data/09ohz__10X__Visium__Mouse__brain__20191202__v1.0.0: /lustre/groups/ml01/projects/2024_spatialdata_db/data/10a6w__10X__Visium__Mouse__brain__20191202__v1.0.0 already exists.Skipping rename for /lustre/groups/ml01/projects/2024_spatialdata_db/data/ibiof__10X__Visium__Human__ovary__20201027__v1.2.0: /lustre/groups/ml01/projects/2024_spatialdata_db/data/10j0z__10X__Visium__Human__ovary__20201027__v1.2.0 already exists.Skipping rename for /lustre/groups/ml01/projects/2024_spatialdata_db/data/4pey9__10X__Visium__Mouse__brain__20200623__v1.1.0: /lustre/groups/ml01/projects/2024_spatialdata_db/data/10ktp__10X__Visium__Mouse__brain__20200623__v1.1.0 already exists.Skipping rename for /lustre/groups/ml01/projects/2024_spatialdata_db/data/zr2gu__10X__Visium__Human__colon__20231005__v2.1.0__ControlReplicate1: /lustre/groups/ml01/projects/2024_spatialdata_db/data/10e5i__10X__Visium__Human__colon__20231005__v2.1.0__ControlReplicate1 already exists.Skipping rename for /lustre/groups/ml01/projects/2024_spatialdata_db/data/prxvd__10X__Xenium__Human__breast__20230122__v1.0.2__Tissuesample1: /lustre/groups/ml01/projects/2024_spatialdata_db/data/10dcv__10X__Xenium__Human__breast__20230122__v1.0.2__Tissuesample1 already exists.Skipping rename for /lustre/groups/ml01/projects/2024_spatialdata_db/data/3vg9t__10X__Visium__Human__large_intestine__20201027__v1.2.0: /lustre/groups/ml01/projects/2024_spatialdata_db/data/10kia__10X__Visium__Human__large_intestine__20201027__v1.2.0 already exists.Skipping rename for /lustre/groups/ml01/projects/2024_spatialdata_db/data/4b6qm__10X__Visium__Human__colon__20231005__v2.1.0__Post-XeniumReplicate1: /lustre/groups/ml01/projects/2024_spatialdata_db/data/10tei__10X__Visium__Human__colon__20231005__v2.1.0__Post-XeniumReplicate1 already exists.Skipping rename for /lustre/groups/ml01/projects/2024_spatialdata_db/data/cyxpa__10X__Visium__Human__breast__20210609__v1.3.0: /lustre/groups/ml01/projects/2024_spatialdata_db/data/10jcz__10X__Visium__Human__breast__20210609__v1.3.0 already exists.Skipping rename for /lustre/groups/ml01/projects/2024_spatialdata_db/data/6dl1f__10X__VisiumHD__Human__colon__20240325__v3.0.0: /lustre/groups/ml01/projects/2024_spatialdata_db/data/107z9__10X__VisiumHD__Human__colon__20240325__v3.0.0 already exists.Skipping rename for /lustre/groups/ml01/projects/2024_spatialdata_db/data/vbdbc__10X__Visium__Mouse__kidney__20191202__v1.0.0: /lustre/groups/ml01/projects/2024_spatialdata_db/data/1031a__10X__Visium__Mouse__kidney__20191202__v1.0.0 already exists.Skipping rename for /lustre/groups/ml01/projects/2024_spatialdata_db/data/oocrq__10X__Visium__Mouse__brain__20200623__v1.1.0: /lustre/groups/ml01/projects/2024_spatialdata_db/data/103te__10X__Visium__Mouse__brain__20200623__v1.1.0 already exists.Skipping rename for /lustre/groups/ml01/projects/2024_spatialdata_db/data/9btjk__10X__Visium__Mouse__lung_brain__20230221__v2.0.1__LungReplicate5: /lustre/groups/ml01/projects/2024_spatialdata_db/data/102hp__10X__Visium__Mouse__lung_brain__20230221__v2.0.1__LungReplicate5 already exists.Skipping rename for /lustre/groups/ml01/projects/2024_spatialdata_db/data/fvvht__10X__Visium__Human__ovary__20220714__v2.0.0: /lustre/groups/ml01/projects/2024_spatialdata_db/data/108rf__10X__Visium__Human__ovary__20220714__v2.0.0 already exists.Skipping rename for /lustre/groups/ml01/projects/2024_spatialdata_db/data/a0xyt__10X__Visium__Mouse__brain__20231005__v2.1.0__ControlReplicate1: /lustre/groups/ml01/projects/2024_spatialdata_db/data/10ps4__10X__Visium__Mouse__brain__20231005__v2.1.0__ControlReplicate1 already exists.Skipping rename for /lustre/groups/ml01/projects/2024_spatialdata_db/data/kbcri__10X__Xenium__Human__breast__20230122__v1.0.2__Tissuesample1: /lustre/groups/ml01/projects/2024_spatialdata_db/data/101x5__10X__Xenium__Human__breast__20230122__v1.0.2__Tissuesample1 already exists.\n",
      "\n",
      "\n",
      "\n",
      "\n",
      "\n",
      "\n",
      "\n",
      "\n",
      "\n",
      "\n",
      "\n",
      "\n",
      "\n",
      "Skipping rename for /lustre/groups/ml01/projects/2024_spatialdata_db/data/dn7st__10X__Xenium__unknown__unknown__20230420__v1.3.0__Alzheimers: /lustre/groups/ml01/projects/2024_spatialdata_db/data/10zj1__10X__Xenium__unknown__unknown__20230420__v1.3.0__Alzheimers already exists.Skipping rename for /lustre/groups/ml01/projects/2024_spatialdata_db/data/566z3__10X__Visium__Human__spinal_cord__20201027__v1.2.0: /lustre/groups/ml01/projects/2024_spatialdata_db/data/101cw__10X__Visium__Human__spinal_cord__20201027__v1.2.0 already exists.\n",
      "Skipping rename for /lustre/groups/ml01/projects/2024_spatialdata_db/data/lgv1y__10X__Visium__Human__kidney__20230214__v2.0.1: /lustre/groups/ml01/projects/2024_spatialdata_db/data/10iky__10X__Visium__Human__kidney__20230214__v2.0.1 already exists.Skipping rename for /lustre/groups/ml01/projects/2024_spatialdata_db/data/xdbdu__10X__Visium__Mouse__brain__20200623__v1.1.0: /lustre/groups/ml01/projects/2024_spatialdata_db/data/10amj__10X__Visium__Mouse__brain__20200623__v1.1.0 already exists.\n",
      "Skipping rename for /lustre/groups/ml01/projects/2024_spatialdata_db/data/a680h__10X__Xenium__Mouse__colon__20240319__v2.0.0: /lustre/groups/ml01/projects/2024_spatialdata_db/data/10sja__10X__Xenium__Mouse__colon__20240319__v2.0.0 already exists.Skipping rename for /lustre/groups/ml01/projects/2024_spatialdata_db/data/g3x6u__10X__Visium__Human__brain__20201027__v1.2.0: /lustre/groups/ml01/projects/2024_spatialdata_db/data/10wcj__10X__Visium__Human__brain__20201027__v1.2.0 already exists.Skipping rename for /lustre/groups/ml01/projects/2024_spatialdata_db/data/5ddwn__10X__Visium__Mouse__brain__20200623__v1.1.0: /lustre/groups/ml01/projects/2024_spatialdata_db/data/1039v__10X__Visium__Mouse__brain__20200623__v1.1.0 already exists.Skipping rename for /lustre/groups/ml01/projects/2024_spatialdata_db/data/lmhz8__10X__Visium__Mouse__olfactory_bulb__20220324__v1.3.0: /lustre/groups/ml01/projects/2024_spatialdata_db/data/103sf__10X__Visium__Mouse__olfactory_bulb__20220324__v1.3.0 already exists.Skipping rename for /lustre/groups/ml01/projects/2024_spatialdata_db/data/pl425__10X__Visium__Human__heart__20191212__v1.0.0: /lustre/groups/ml01/projects/2024_spatialdata_db/data/10hay__10X__Visium__Human__heart__20191212__v1.0.0 already exists.Skipping rename for /lustre/groups/ml01/projects/2024_spatialdata_db/data/zlitc__10X__Xenium__Mouse__brain__20230122__v1.0.2__Fullcoronalsection: /lustre/groups/ml01/projects/2024_spatialdata_db/data/10y80__10X__Xenium__Mouse__brain__20230122__v1.0.2__Fullcoronalsection already exists.Skipping rename for /lustre/groups/ml01/projects/2024_spatialdata_db/data/mohya__10X__Visium__Human__heart__20200623__v1.1.0: /lustre/groups/ml01/projects/2024_spatialdata_db/data/10e9s__10X__Visium__Human__heart__20200623__v1.1.0 already exists.Skipping rename for /lustre/groups/ml01/projects/2024_spatialdata_db/data/0bbcf__10X__Xenium__Human__skin__20240305__v1.9.0__Sample2: /lustre/groups/ml01/projects/2024_spatialdata_db/data/10ae2__10X__Xenium__Human__skin__20240305__v1.9.0__Sample2 already exists.Skipping rename for /lustre/groups/ml01/projects/2024_spatialdata_db/data/zwowd__10X__Visium__Mouse__brain__20220714__v2.0.0: /lustre/groups/ml01/projects/2024_spatialdata_db/data/103da__10X__Visium__Mouse__brain__20220714__v2.0.0 already exists.Skipping rename for /lustre/groups/ml01/projects/2024_spatialdata_db/data/nrbfo__10X__Visium__Human__prostate__20220712__v2.0.0: /lustre/groups/ml01/projects/2024_spatialdata_db/data/10thd__10X__Visium__Human__prostate__20220712__v2.0.0 already exists.Skipping rename for /lustre/groups/ml01/projects/2024_spatialdata_db/data/jezks__10X__Visium__Mouse__lung_brain__20230221__v2.0.1__InputsLibrary: /lustre/groups/ml01/projects/2024_spatialdata_db/data/105h4__10X__Visium__Mouse__lung_brain__20230221__v2.0.1__InputsLibrary already exists.Skipping rename for /lustre/groups/ml01/projects/2024_spatialdata_db/data/wedt0__10X__Visium__Mouse__brain__20191202__v1.0.0: /lustre/groups/ml01/projects/2024_spatialdata_db/data/10jff__10X__Visium__Mouse__brain__20191202__v1.0.0 already exists.\n",
      "\n",
      "\n",
      "\n",
      "\n",
      "\n",
      "\n",
      "\n",
      "\n",
      "\n",
      "\n",
      "\n",
      "\n",
      "\n",
      "\n",
      "\n",
      "Skipping rename for /lustre/groups/ml01/projects/2024_spatialdata_db/data/ys7m7__10X__Visium__Human__cervix__20220328__v1.3.0: /lustre/groups/ml01/projects/2024_spatialdata_db/data/10hm6__10X__Visium__Human__cervix__20220328__v1.3.0 already exists.Skipping rename for /lustre/groups/ml01/projects/2024_spatialdata_db/data/gertw__10X__Visium__Mouse__kidney__20191202__v1.0.0: /lustre/groups/ml01/projects/2024_spatialdata_db/data/1094t__10X__Visium__Mouse__kidney__20191202__v1.0.0 already exists.Skipping rename for /lustre/groups/ml01/projects/2024_spatialdata_db/data/fh4bl__10X__Xenium__Human__intestine_colon__20230829__v1.6.0__Non-diseasedpre-designedpanel: /lustre/groups/ml01/projects/2024_spatialdata_db/data/10tsy__10X__Xenium__Human__intestine_colon__20230829__v1.6.0__Non-diseasedpre-designedpanel already exists.Skipping rename for /lustre/groups/ml01/projects/2024_spatialdata_db/data/s6qwt__10X__Visium__Mouse__brain__20191202__v1.0.0: /lustre/groups/ml01/projects/2024_spatialdata_db/data/10rm3__10X__Visium__Mouse__brain__20191202__v1.0.0 already exists.Skipping rename for /lustre/groups/ml01/projects/2024_spatialdata_db/data/bojy8__10X__Visium__Mouse__brain__20200623__v1.1.0: /lustre/groups/ml01/projects/2024_spatialdata_db/data/10fc7__10X__Visium__Mouse__brain__20200623__v1.1.0 already exists.Skipping rename for /lustre/groups/ml01/projects/2024_spatialdata_db/data/zfcqw__10X__Visium__Mouse__brain__20220712__v2.0.0: /lustre/groups/ml01/projects/2024_spatialdata_db/data/10676__10X__Visium__Mouse__brain__20220712__v2.0.0 already exists.Skipping rename for /lustre/groups/ml01/projects/2024_spatialdata_db/data/w1tgu__10X__Xenium__Human__intestine_colon__20230829__v1.6.0__Non-diseasedpre-designed+add-onpanel: /lustre/groups/ml01/projects/2024_spatialdata_db/data/101t3__10X__Xenium__Human__intestine_colon__20230829__v1.6.0__Non-diseasedpre-designed+add-onpanel already exists.Skipping rename for /lustre/groups/ml01/projects/2024_spatialdata_db/data/bw2x9__10X__Visium__Mouse__lung_brain__20230221__v2.0.1__BrainReplicate3: /lustre/groups/ml01/projects/2024_spatialdata_db/data/10s8t__10X__Visium__Mouse__lung_brain__20230221__v2.0.1__BrainReplicate3 already exists.Skipping rename for /lustre/groups/ml01/projects/2024_spatialdata_db/data/th4zp__10X__Visium__Mouse__lung_brain__20230221__v2.0.1__LungReplicate1: /lustre/groups/ml01/projects/2024_spatialdata_db/data/10v61__10X__Visium__Mouse__lung_brain__20230221__v2.0.1__LungReplicate1 already exists.Skipping rename for /lustre/groups/ml01/projects/2024_spatialdata_db/data/i3vq9__10X__Xenium__Human__tonsil__20240305__v1.9.0__Follicularlymphoidhyperplasia: /lustre/groups/ml01/projects/2024_spatialdata_db/data/1020d__10X__Xenium__Human__tonsil__20240305__v1.9.0__Follicularlymphoidhyperplasia already exists.Skipping rename for /lustre/groups/ml01/projects/2024_spatialdata_db/data/9z0ng__10X__Xenium__Mouse__brain__20230713__v1.4.0__TgCRND85.7months: /lustre/groups/ml01/projects/2024_spatialdata_db/data/10fpp__10X__Xenium__Mouse__brain__20230713__v1.4.0__TgCRND85.7months already exists.Skipping rename for /lustre/groups/ml01/projects/2024_spatialdata_db/data/x3fho__10X__Xenium__Human__liver__20240305__v1.9.0__Livercancer: /lustre/groups/ml01/projects/2024_spatialdata_db/data/108dr__10X__Xenium__Human__liver__20240305__v1.9.0__Livercancer already exists.Skipping rename for /lustre/groups/ml01/projects/2024_spatialdata_db/data/hp7qe__10X__Xenium__Human__bone_bone_marrow__20240403__v1.9.0__Non-diseasedBoneMarrow: /lustre/groups/ml01/projects/2024_spatialdata_db/data/10040__10X__Xenium__Human__bone_bone_marrow__20240403__v1.9.0__Non-diseasedBoneMarrow already exists.Skipping rename for /lustre/groups/ml01/projects/2024_spatialdata_db/data/llyvi__10X__Visium__Human__breast__20191212__v1.0.0: /lustre/groups/ml01/projects/2024_spatialdata_db/data/10wsf__10X__Visium__Human__breast__20191212__v1.0.0 already exists.Skipping rename for /lustre/groups/ml01/projects/2024_spatialdata_db/data/p1yrb__10X__Visium__Mouse__brain__20220713__v2.0.0: /lustre/groups/ml01/projects/2024_spatialdata_db/data/10834__10X__Visium__Mouse__brain__20220713__v2.0.0 already exists.Skipping rename for /lustre/groups/ml01/projects/2024_spatialdata_db/data/5qzqy__10X__Visium__Human__breast__20200623__v1.1.0: /lustre/groups/ml01/projects/2024_spatialdata_db/data/10fty__10X__Visium__Human__breast__20200623__v1.1.0 already exists.Skipping rename for /lustre/groups/ml01/projects/2024_spatialdata_db/data/8jqzn__10X__Xenium__Human__breast__20230418__v1.3.0__Tissuesample1(IDC): /lustre/groups/ml01/projects/2024_spatialdata_db/data/10uac__10X__Xenium__Human__breast__20230418__v1.3.0__Tissuesample1(IDC) already exists.Skipping rename for /lustre/groups/ml01/projects/2024_spatialdata_db/data/6aond__10X__Visium__Human__cerebellum__20220712__v2.0.0: /lustre/groups/ml01/projects/2024_spatialdata_db/data/10etk__10X__Visium__Human__cerebellum__20220712__v2.0.0 already exists.\n",
      "Skipping rename for /lustre/groups/ml01/projects/2024_spatialdata_db/data/02uqv__10X__Visium__Mouse__brain__20191202__v1.0.0: /lustre/groups/ml01/projects/2024_spatialdata_db/data/10xtf__10X__Visium__Mouse__brain__20191202__v1.0.0 already exists.Skipping rename for /lustre/groups/ml01/projects/2024_spatialdata_db/data/uxen8__10X__Xenium__Human__breast__20230122__v1.0.2__Replicate2: /lustre/groups/ml01/projects/2024_spatialdata_db/data/10xay__10X__Xenium__Human__breast__20230122__v1.0.2__Replicate2 already exists.Skipping rename for /lustre/groups/ml01/projects/2024_spatialdata_db/data/nqe4e__10X__Xenium__Mouse__bone__20240403__v1.9.0__10Formicaciddecalcification: /lustre/groups/ml01/projects/2024_spatialdata_db/data/106xa__10X__Xenium__Mouse__bone__20240403__v1.9.0__10Formicaciddecalcification already exists.Skipping rename for /lustre/groups/ml01/projects/2024_spatialdata_db/data/hg0x5__10X__Visium__Mouse__embryo__20220714__v2.0.0: /lustre/groups/ml01/projects/2024_spatialdata_db/data/10e4x__10X__Visium__Mouse__embryo__20220714__v2.0.0 already exists.\n",
      "Skipping rename for /lustre/groups/ml01/projects/2024_spatialdata_db/data/7z1k9__10X__Xenium__Human__lung__20230717__v1.5.0: /lustre/groups/ml01/projects/2024_spatialdata_db/data/107sr__10X__Xenium__Human__lung__20230717__v1.5.0 already exists.Skipping rename for /lustre/groups/ml01/projects/2024_spatialdata_db/data/vrwlc__10X__Visium__Mouse__lung_brain__20230221__v2.0.1__AllTissueCores: /lustre/groups/ml01/projects/2024_spatialdata_db/data/10ttt__10X__Visium__Mouse__lung_brain__20230221__v2.0.1__AllTissueCores already exists.\n",
      "\n",
      "\n",
      "\n",
      "\n",
      "Skipping rename for /lustre/groups/ml01/projects/2024_spatialdata_db/data/di0of__10X__CytAssist__Human__brain__20230515__v2.1.0: /lustre/groups/ml01/projects/2024_spatialdata_db/data/10z91__10X__CytAssist__Human__brain__20230515__v2.1.0 already exists.Skipping rename for /lustre/groups/ml01/projects/2024_spatialdata_db/data/7qz12__10X__Visium__Human__brain_cerebellum__20201027__v1.2.0: /lustre/groups/ml01/projects/2024_spatialdata_db/data/10hxz__10X__Visium__Human__brain_cerebellum__20201027__v1.2.0 already exists.\n",
      "\n",
      "Skipping rename for /lustre/groups/ml01/projects/2024_spatialdata_db/data/nnx96__10X__Xenium__Mouse__brain__20230122__v1.0.2__Replicate1: /lustre/groups/ml01/projects/2024_spatialdata_db/data/10x88__10X__Xenium__Mouse__brain__20230122__v1.0.2__Replicate1 already exists.Skipping rename for /lustre/groups/ml01/projects/2024_spatialdata_db/data/twgn1__10X__Xenium__Human__tonsil__20240305__v1.9.0__Reactivefollicularhyperplasia: /lustre/groups/ml01/projects/2024_spatialdata_db/data/10arp__10X__Xenium__Human__tonsil__20240305__v1.9.0__Reactivefollicularhyperplasia already exists.\n",
      "\n",
      "\n",
      "\n",
      "\n",
      "\n",
      "\n",
      "\n",
      "\n",
      "\n",
      "\n",
      "\n",
      "\n",
      "\n",
      "\n",
      "\n",
      "\n",
      "\n",
      "\n",
      "Skipping rename for /lustre/groups/ml01/projects/2024_spatialdata_db/data/05rko__10X__Visium__Mouse__brain__20191202__v1.0.0: /lustre/groups/ml01/projects/2024_spatialdata_db/data/10tzs__10X__Visium__Mouse__brain__20191202__v1.0.0 already exists.Skipping rename for /lustre/groups/ml01/projects/2024_spatialdata_db/data/f0j79__10X__Visium__Mouse__brain__20210816__v1.3.0: /lustre/groups/ml01/projects/2024_spatialdata_db/data/10kz7__10X__Visium__Mouse__brain__20210816__v1.3.0 already exists.Skipping rename for /lustre/groups/ml01/projects/2024_spatialdata_db/data/vk8d4__10X__Xenium__Human__breast__20230122__v1.0.2__Tissuesample2: /lustre/groups/ml01/projects/2024_spatialdata_db/data/109zw__10X__Xenium__Human__breast__20230122__v1.0.2__Tissuesample2 already exists.Skipping rename for /lustre/groups/ml01/projects/2024_spatialdata_db/data/aylse__10X__Xenium__Human__pancreas__20240319__v2.0.0: /lustre/groups/ml01/projects/2024_spatialdata_db/data/10i70__10X__Xenium__Human__pancreas__20240319__v2.0.0 already exists.Skipping rename for /lustre/groups/ml01/projects/2024_spatialdata_db/data/yzl3e__10X__Visium__Human__lung__20230214__v2.0.1: /lustre/groups/ml01/projects/2024_spatialdata_db/data/10kmy__10X__Visium__Human__lung__20230214__v2.0.1 already exists.Skipping rename for /lustre/groups/ml01/projects/2024_spatialdata_db/data/002c0__10X__Visium__Human__ovary__20201027__v1.2.0: /lustre/groups/ml01/projects/2024_spatialdata_db/data/10rxw__10X__Visium__Human__ovary__20201027__v1.2.0 already exists.Skipping rename for /lustre/groups/ml01/projects/2024_spatialdata_db/data/f806l__10X__Visium__Human__prostate__20210727__v1.3.0: /lustre/groups/ml01/projects/2024_spatialdata_db/data/10kz2__10X__Visium__Human__prostate__20210727__v1.3.0 already exists.Skipping rename for /lustre/groups/ml01/projects/2024_spatialdata_db/data/28vqx__10X__Visium__Human__prostate__20210609__v1.3.0: /lustre/groups/ml01/projects/2024_spatialdata_db/data/1005m__10X__Visium__Human__prostate__20210609__v1.3.0 already exists.Skipping rename for /lustre/groups/ml01/projects/2024_spatialdata_db/data/0ufac__10X__Visium__Mouse__lung_brain__20230221__v2.0.1__BrainReplicate2: /lustre/groups/ml01/projects/2024_spatialdata_db/data/10v4k__10X__Visium__Mouse__lung_brain__20230221__v2.0.1__BrainReplicate2 already exists.Skipping rename for /lustre/groups/ml01/projects/2024_spatialdata_db/data/0pknt__10X__Visium__Human__breast__20191212__v1.0.0: /lustre/groups/ml01/projects/2024_spatialdata_db/data/1097y__10X__Visium__Human__breast__20191212__v1.0.0 already exists.Skipping rename for /lustre/groups/ml01/projects/2024_spatialdata_db/data/g9gmu__10X__Xenium__Mouse__brain__20230713__v1.4.0__Wildtype13.4months: /lustre/groups/ml01/projects/2024_spatialdata_db/data/106ws__10X__Xenium__Mouse__brain__20230713__v1.4.0__Wildtype13.4months already exists.Skipping rename for /lustre/groups/ml01/projects/2024_spatialdata_db/data/1lhfw__10X__Xenium__Mouse__bone__20240403__v1.9.0__15EDTA0.4PFAdecalcification: /lustre/groups/ml01/projects/2024_spatialdata_db/data/10ndm__10X__Xenium__Mouse__bone__20240403__v1.9.0__15EDTA0.4PFAdecalcification already exists.Skipping rename for /lustre/groups/ml01/projects/2024_spatialdata_db/data/4jlxk__10X__Visium__Human__large_intestine__20201027__v1.2.0: /lustre/groups/ml01/projects/2024_spatialdata_db/data/10zad__10X__Visium__Human__large_intestine__20201027__v1.2.0 already exists.\n",
      "Skipping rename for /lustre/groups/ml01/projects/2024_spatialdata_db/data/fg8go__10X__Visium__Mouse__brain__20220329__v1.3.0: /lustre/groups/ml01/projects/2024_spatialdata_db/data/10zvc__10X__Visium__Mouse__brain__20220329__v1.3.0 already exists.\n",
      "\n",
      "Skipping rename for /lustre/groups/ml01/projects/2024_spatialdata_db/data/xiyyu__10X__Visium__Mouse__brain__20200623__v1.1.0: /lustre/groups/ml01/projects/2024_spatialdata_db/data/10p5f__10X__Visium__Mouse__brain__20200623__v1.1.0 already exists.Skipping rename for /lustre/groups/ml01/projects/2024_spatialdata_db/data/gl1ci__10X__Visium__Human__breast__20200623__v1.1.0: /lustre/groups/ml01/projects/2024_spatialdata_db/data/10evh__10X__Visium__Human__breast__20200623__v1.1.0 already exists.Skipping rename for /lustre/groups/ml01/projects/2024_spatialdata_db/data/6uvee__10X__Xenium__Human__skin__20231207__v1.7.0: /lustre/groups/ml01/projects/2024_spatialdata_db/data/10zwi__10X__Xenium__Human__skin__20231207__v1.7.0 already exists.Skipping rename for /lustre/groups/ml01/projects/2024_spatialdata_db/data/oeuwa__10X__Xenium__Mouse__brain__20230713__v1.4.0__Wildtype5.7months: /lustre/groups/ml01/projects/2024_spatialdata_db/data/108d3__10X__Xenium__Mouse__brain__20230713__v1.4.0__Wildtype5.7months already exists.Skipping rename for /lustre/groups/ml01/projects/2024_spatialdata_db/data/gsyej__10X__Xenium__Human__heart__20240305__v1.9.0: /lustre/groups/ml01/projects/2024_spatialdata_db/data/10wmu__10X__Xenium__Human__heart__20240305__v1.9.0 already exists.Skipping rename for /lustre/groups/ml01/projects/2024_spatialdata_db/data/ic0bo__10X__Xenium__Human__liver__20240305__v1.9.0__Non-diseased: /lustre/groups/ml01/projects/2024_spatialdata_db/data/1074f__10X__Xenium__Human__liver__20240305__v1.9.0__Non-diseased already exists.\n",
      "Skipping rename for /lustre/groups/ml01/projects/2024_spatialdata_db/data/lztak__10X__Visium__Mouse__brain__20191202__v1.0.0: /lustre/groups/ml01/projects/2024_spatialdata_db/data/10fna__10X__Visium__Mouse__brain__20191202__v1.0.0 already exists.Skipping rename for /lustre/groups/ml01/projects/2024_spatialdata_db/data/emmt4__10X__Xenium__Human__skin__20240305__v1.9.0__Sample1: /lustre/groups/ml01/projects/2024_spatialdata_db/data/10k3x__10X__Xenium__Human__skin__20240305__v1.9.0__Sample1 already exists.\n",
      "\n",
      "\n",
      "Skipping rename for /lustre/groups/ml01/projects/2024_spatialdata_db/data/tdjvl__10X__Xenium__Human__breast__20230122__v1.0.2__Replicate1: /lustre/groups/ml01/projects/2024_spatialdata_db/data/101tu__10X__Xenium__Human__breast__20230122__v1.0.2__Replicate1 already exists.Skipping rename for /lustre/groups/ml01/projects/2024_spatialdata_db/data/rc1ls__10X__Xenium__Human__breast__20230122__v1.0.2__InputsSlide: /lustre/groups/ml01/projects/2024_spatialdata_db/data/10h3h__10X__Xenium__Human__breast__20230122__v1.0.2__InputsSlide already exists.\n",
      "Skipping rename for /lustre/groups/ml01/projects/2024_spatialdata_db/data/m1v5v__10X__Xenium__Human__lung__20230518__v1.3.0__Non-diseasedLung: /lustre/groups/ml01/projects/2024_spatialdata_db/data/10fri__10X__Xenium__Human__lung__20230518__v1.3.0__Non-diseasedLung already exists.Skipping rename for /lustre/groups/ml01/projects/2024_spatialdata_db/data/od3tw__10X__Visium__Human__breast__20220701__v1.3.0: /lustre/groups/ml01/projects/2024_spatialdata_db/data/10k5p__10X__Visium__Human__breast__20220701__v1.3.0 already exists.\n",
      "Skipping rename for /lustre/groups/ml01/projects/2024_spatialdata_db/data/yjder__10X__Visium__Human__colorectal__20230214__v2.0.1: /lustre/groups/ml01/projects/2024_spatialdata_db/data/10drc__10X__Visium__Human__colorectal__20230214__v2.0.1 already exists.\n",
      "\n",
      "Skipping rename for /lustre/groups/ml01/projects/2024_spatialdata_db/data/s29g4__10X__Xenium__Mouse__brain__20230122__v1.0.2__InputsSlide: /lustre/groups/ml01/projects/2024_spatialdata_db/data/10nc2__10X__Xenium__Mouse__brain__20230122__v1.0.2__InputsSlide already exists.Skipping rename for /lustre/groups/ml01/projects/2024_spatialdata_db/data/x7rbz__10X__Visium__Mouse__brain__20230525__v2.1.0: /lustre/groups/ml01/projects/2024_spatialdata_db/data/10w6u__10X__Visium__Mouse__brain__20230525__v2.1.0 already exists.Skipping rename for /lustre/groups/ml01/projects/2024_spatialdata_db/data/j1fyh__10X__Visium__Mouse__brain__20191202__v1.0.0: /lustre/groups/ml01/projects/2024_spatialdata_db/data/10hmw__10X__Visium__Mouse__brain__20191202__v1.0.0 already exists.\n",
      "Skipping rename for /lustre/groups/ml01/projects/2024_spatialdata_db/data/qs3a7__10X__Xenium__Mouse__brain__20230713__v1.4.0__Wildtype2.5months: /lustre/groups/ml01/projects/2024_spatialdata_db/data/10xa2__10X__Xenium__Mouse__brain__20230713__v1.4.0__Wildtype2.5months already exists.\n",
      "Skipping rename for /lustre/groups/ml01/projects/2024_spatialdata_db/data/au6n8__10X__Visium__Human__breast__20191212__v1.0.0: /lustre/groups/ml01/projects/2024_spatialdata_db/data/10vj2__10X__Visium__Human__breast__20191212__v1.0.0 already exists.\n",
      "\n",
      "\n",
      "\n",
      "\n",
      "\n",
      "\n",
      "\n",
      "\n",
      "\n",
      "\n",
      "\n",
      "\n",
      "\n",
      "\n",
      "\n",
      "\n",
      "\n",
      "\n",
      "Skipping rename for /lustre/groups/ml01/projects/2024_spatialdata_db/data/xtaqh__10X__Visium__Mouse__brain__20220712__v2.0.0: /lustre/groups/ml01/projects/2024_spatialdata_db/data/10z77__10X__Visium__Mouse__brain__20220712__v2.0.0 already exists.Skipping rename for /lustre/groups/ml01/projects/2024_spatialdata_db/data/6z6qx__10X__Visium__Human__lymph_node__20200623__v1.1.0: /lustre/groups/ml01/projects/2024_spatialdata_db/data/105vj__10X__Visium__Human__lymph_node__20200623__v1.1.0 already exists.Skipping rename for /lustre/groups/ml01/projects/2024_spatialdata_db/data/1md95__10X__Visium__Human__ovary__20201027__v1.2.0: /lustre/groups/ml01/projects/2024_spatialdata_db/data/10tyd__10X__Visium__Human__ovary__20201027__v1.2.0 already exists.Skipping rename for /lustre/groups/ml01/projects/2024_spatialdata_db/data/fg0px__10X__Xenium__Human__breast__20230122__v1.0.2__InputsSlide: /lustre/groups/ml01/projects/2024_spatialdata_db/data/10w2u__10X__Xenium__Human__breast__20230122__v1.0.2__InputsSlide already exists.Skipping rename for /lustre/groups/ml01/projects/2024_spatialdata_db/data/7l5ht__10X__Visium__Human__lymph_node__20191212__v1.0.0: /lustre/groups/ml01/projects/2024_spatialdata_db/data/10mx9__10X__Visium__Human__lymph_node__20191212__v1.0.0 already exists.Skipping rename for /lustre/groups/ml01/projects/2024_spatialdata_db/data/xjxhb__10X__Visium__Mouse__brain__20221018__v2.0.0: /lustre/groups/ml01/projects/2024_spatialdata_db/data/10d9e__10X__Visium__Mouse__brain__20221018__v2.0.0 already exists.Skipping rename for /lustre/groups/ml01/projects/2024_spatialdata_db/data/fulvo__10X__Xenium__Human__bone_bone_marrow__20240403__v1.9.0__AcuteLymphoidLeukemiaBoneMarrow: /lustre/groups/ml01/projects/2024_spatialdata_db/data/10nsr__10X__Xenium__Human__bone_bone_marrow__20240403__v1.9.0__AcuteLymphoidLeukemiaBoneMarrow already exists.Skipping rename for /lustre/groups/ml01/projects/2024_spatialdata_db/data/1e66c__10X__Visium__Human__breast__20201027__v1.2.0: /lustre/groups/ml01/projects/2024_spatialdata_db/data/1033x__10X__Visium__Human__breast__20201027__v1.2.0 already exists.Skipping rename for /lustre/groups/ml01/projects/2024_spatialdata_db/data/vt6x9__10X__Visium__Mouse__lung_brain__20230221__v2.0.1__LungReplicate3: /lustre/groups/ml01/projects/2024_spatialdata_db/data/10yhv__10X__Visium__Mouse__lung_brain__20230221__v2.0.1__LungReplicate3 already exists.Skipping rename for /lustre/groups/ml01/projects/2024_spatialdata_db/data/ses16__10X__Visium__Mouse__lung_brain__20230221__v2.0.1: /lustre/groups/ml01/projects/2024_spatialdata_db/data/10yhc__10X__Visium__Mouse__lung_brain__20230221__v2.0.1 already exists.Skipping rename for /lustre/groups/ml01/projects/2024_spatialdata_db/data/jqmx8__10X__VisiumHD__Mouse__intestine__20240325__v3.0.0: /lustre/groups/ml01/projects/2024_spatialdata_db/data/10s7d__10X__VisiumHD__Mouse__intestine__20240325__v3.0.0 already exists.Skipping rename for /lustre/groups/ml01/projects/2024_spatialdata_db/data/0badu__10X__Xenium__Mouse__brain__20230122__v1.0.2__Replicate2: /lustre/groups/ml01/projects/2024_spatialdata_db/data/10c6u__10X__Xenium__Mouse__brain__20230122__v1.0.2__Replicate2 already exists.Skipping rename for /lustre/groups/ml01/projects/2024_spatialdata_db/data/b1q25__10X__Visium__Human__spinal_cord__20201027__v1.2.0: /lustre/groups/ml01/projects/2024_spatialdata_db/data/10wth__10X__Visium__Human__spinal_cord__20201027__v1.2.0 already exists.Skipping rename for /lustre/groups/ml01/projects/2024_spatialdata_db/data/vcfof__10X__Xenium__Mouse__brain__20230122__v1.0.2__Replicate3: /lustre/groups/ml01/projects/2024_spatialdata_db/data/108h0__10X__Xenium__Mouse__brain__20230122__v1.0.2__Replicate3 already exists.Skipping rename for /lustre/groups/ml01/projects/2024_spatialdata_db/data/n0qwg__10X__Xenium__Human__pancreas__20230717__v1.5.0: /lustre/groups/ml01/projects/2024_spatialdata_db/data/107yk__10X__Xenium__Human__pancreas__20230717__v1.5.0 already exists.Skipping rename for /lustre/groups/ml01/projects/2024_spatialdata_db/data/d3ykk__10X__Visium__Mouse__brain__20220712__v2.0.0: /lustre/groups/ml01/projects/2024_spatialdata_db/data/104pe__10X__Visium__Mouse__brain__20220712__v2.0.0 already exists.\n",
      "Skipping rename for /lustre/groups/ml01/projects/2024_spatialdata_db/data/z86rg__10X__Visium__Mouse__brain__20210816__v1.3.0: /lustre/groups/ml01/projects/2024_spatialdata_db/data/10uf7__10X__Visium__Mouse__brain__20210816__v1.3.0 already exists.\n",
      "\n",
      "\n",
      "\n",
      "\n",
      "\n",
      "\n",
      "\n",
      "Skipping rename for /lustre/groups/ml01/projects/2024_spatialdata_db/data/dq7o0__10X__Xenium__Human__breast__20230418__v1.3.0__InputsSlide: /lustre/groups/ml01/projects/2024_spatialdata_db/data/1015d__10X__Xenium__Human__breast__20230418__v1.3.0__InputsSlide already exists.Skipping rename for /lustre/groups/ml01/projects/2024_spatialdata_db/data/n2kpx__10X__Visium__Human__ovary__20220328__v1.3.0: /lustre/groups/ml01/projects/2024_spatialdata_db/data/10vcj__10X__Visium__Human__ovary__20220328__v1.3.0 already exists.\n",
      "Skipping rename for /lustre/groups/ml01/projects/2024_spatialdata_db/data/zwdai__10X__Visium__Mouse__brain__20220712__v2.0.0: /lustre/groups/ml01/projects/2024_spatialdata_db/data/10nfy__10X__Visium__Mouse__brain__20220712__v2.0.0 already exists.Skipping rename for /lustre/groups/ml01/projects/2024_spatialdata_db/data/5nwfc__10X__Visium__Mouse__lung_brain__20230221__v2.0.1__LungReplicate2: /lustre/groups/ml01/projects/2024_spatialdata_db/data/109pp__10X__Visium__Mouse__lung_brain__20230221__v2.0.1__LungReplicate2 already exists.Skipping rename for /lustre/groups/ml01/projects/2024_spatialdata_db/data/zztm8__10X__Visium__Mouse__brain__20220712__v2.0.0: /lustre/groups/ml01/projects/2024_spatialdata_db/data/10rx2__10X__Visium__Mouse__brain__20220712__v2.0.0 already exists.Skipping rename for /lustre/groups/ml01/projects/2024_spatialdata_db/data/dmhph__10X__Xenium__Human__breast__20230122__v1.0.2__InputsSlide: /lustre/groups/ml01/projects/2024_spatialdata_db/data/10a7t__10X__Xenium__Human__breast__20230122__v1.0.2__InputsSlide already exists.\n",
      "\n",
      "\n",
      "Skipping rename for /lustre/groups/ml01/projects/2024_spatialdata_db/data/f9fcg__10X__Visium__Human__skin__20220713__v2.0.0: /lustre/groups/ml01/projects/2024_spatialdata_db/data/10ieh__10X__Visium__Human__skin__20220713__v2.0.0 already exists.\n",
      "Skipping rename for /lustre/groups/ml01/projects/2024_spatialdata_db/data/s98o1__10X__Visium__Mouse__kidney_brain__20230221__v2.0.1: /lustre/groups/ml01/projects/2024_spatialdata_db/data/10e4w__10X__Visium__Mouse__kidney_brain__20230221__v2.0.1 already exists.Skipping rename for /lustre/groups/ml01/projects/2024_spatialdata_db/data/4i0c9__10X__Visium__Human__breast__20210511__v1.2.0: /lustre/groups/ml01/projects/2024_spatialdata_db/data/10vtf__10X__Visium__Human__breast__20210511__v1.2.0 already exists.\n",
      "Skipping rename for /lustre/groups/ml01/projects/2024_spatialdata_db/data/0kbsa__10X__Visium__Mouse__brain__20200623__v1.1.0: /lustre/groups/ml01/projects/2024_spatialdata_db/data/103sm__10X__Visium__Mouse__brain__20200623__v1.1.0 already exists.Skipping rename for /lustre/groups/ml01/projects/2024_spatialdata_db/data/yhn15__10X__Xenium__Mouse__brain__20230122__v1.0.2__Tinysubset: /lustre/groups/ml01/projects/2024_spatialdata_db/data/104cz__10X__Xenium__Mouse__brain__20230122__v1.0.2__Tinysubset already exists.\n",
      "Skipping rename for /lustre/groups/ml01/projects/2024_spatialdata_db/data/tpaa3__10X__Visium__Human__breast__20201027__v1.2.0: /lustre/groups/ml01/projects/2024_spatialdata_db/data/10p19__10X__Visium__Human__breast__20201027__v1.2.0 already exists.\n",
      "Skipping rename for /lustre/groups/ml01/projects/2024_spatialdata_db/data/31nta__10X__Visium__Human__colon__20231005__v2.1.0__Post-XeniumReplicate2: /lustre/groups/ml01/projects/2024_spatialdata_db/data/10jfe__10X__Visium__Human__colon__20231005__v2.1.0__Post-XeniumReplicate2 already exists.Skipping rename for /lustre/groups/ml01/projects/2024_spatialdata_db/data/v49mv__10X__Visium__Human__prostate__20210727__v1.3.0: /lustre/groups/ml01/projects/2024_spatialdata_db/data/100w1__10X__Visium__Human__prostate__20210727__v1.3.0 already exists.Skipping rename for /lustre/groups/ml01/projects/2024_spatialdata_db/data/mvfvu__10X__Xenium__Human__breast__20230122__v1.0.2__Tissuesample2: /lustre/groups/ml01/projects/2024_spatialdata_db/data/10pf0__10X__Xenium__Human__breast__20230122__v1.0.2__Tissuesample2 already exists.Skipping rename for /lustre/groups/ml01/projects/2024_spatialdata_db/data/2549m__10X__Xenium__Human__lymph_node__20230717__v1.5.0: /lustre/groups/ml01/projects/2024_spatialdata_db/data/103mf__10X__Xenium__Human__lymph_node__20230717__v1.5.0 already exists.Skipping rename for /lustre/groups/ml01/projects/2024_spatialdata_db/data/h4phn__10X__Visium__Human__breast__20200623__v1.1.0: /lustre/groups/ml01/projects/2024_spatialdata_db/data/10fmm__10X__Visium__Human__breast__20200623__v1.1.0 already exists.\n",
      "\n",
      "\n",
      "\n",
      "\n",
      "\n",
      "\n",
      "\n",
      "\n",
      "\n",
      "\n",
      "\n",
      "\n",
      "\n",
      "\n",
      "\n",
      "\n",
      "Skipping rename for /lustre/groups/ml01/projects/2024_spatialdata_db/data/h5h77__10X__Visium__Mouse__brain__20230417__v2.0.1: /lustre/groups/ml01/projects/2024_spatialdata_db/data/101s6__10X__Visium__Mouse__brain__20230417__v2.0.1 already exists.Skipping rename for /lustre/groups/ml01/projects/2024_spatialdata_db/data/kbvfj__10X__Visium__Mouse__brain__20220329__v1.3.0: /lustre/groups/ml01/projects/2024_spatialdata_db/data/10053__10X__Visium__Mouse__brain__20220329__v1.3.0 already exists.Skipping rename for /lustre/groups/ml01/projects/2024_spatialdata_db/data/sjmmx__10X__Visium__Mouse__brain__20231005__v2.1.0__Post-XeniumReplicate2: /lustre/groups/ml01/projects/2024_spatialdata_db/data/105k3__10X__Visium__Mouse__brain__20231005__v2.1.0__Post-XeniumReplicate2 already exists.Skipping rename for /lustre/groups/ml01/projects/2024_spatialdata_db/data/oftpw__10X__Xenium__Human__bone_bone_marrow__20240403__v1.9.0__Non-diseasedFemurBone: /lustre/groups/ml01/projects/2024_spatialdata_db/data/10pui__10X__Xenium__Human__bone_bone_marrow__20240403__v1.9.0__Non-diseasedFemurBone already exists.Skipping rename for /lustre/groups/ml01/projects/2024_spatialdata_db/data/rebtv__10X__CytAssist__Human__tonsil__20230515__v2.1.0: /lustre/groups/ml01/projects/2024_spatialdata_db/data/10ekd__10X__CytAssist__Human__tonsil__20230515__v2.1.0 already exists.Skipping rename for /lustre/groups/ml01/projects/2024_spatialdata_db/data/a9vph__10X__Visium__Human__lymph_node__20191212__v1.0.0: /lustre/groups/ml01/projects/2024_spatialdata_db/data/10vyh__10X__Visium__Human__lymph_node__20191212__v1.0.0 already exists.Skipping rename for /lustre/groups/ml01/projects/2024_spatialdata_db/data/3s126__10X__Visium__Mouse__brain__20220713__v2.0.0: /lustre/groups/ml01/projects/2024_spatialdata_db/data/10ndj__10X__Visium__Mouse__brain__20220713__v2.0.0 already exists.Skipping rename for /lustre/groups/ml01/projects/2024_spatialdata_db/data/cy4ns__10X__Visium__Human__heart__20200623__v1.1.0: /lustre/groups/ml01/projects/2024_spatialdata_db/data/1025z__10X__Visium__Human__heart__20200623__v1.1.0 already exists.Skipping rename for /lustre/groups/ml01/projects/2024_spatialdata_db/data/kw6qn__10X__Visium__Mouse__brain__20230417__v2.0.1: /lustre/groups/ml01/projects/2024_spatialdata_db/data/10ant__10X__Visium__Mouse__brain__20230417__v2.0.1 already exists.Skipping rename for /lustre/groups/ml01/projects/2024_spatialdata_db/data/uk0rv__10X__Visium__Mouse__lung_brain__20230221__v2.0.1__BrainReplicate1: /lustre/groups/ml01/projects/2024_spatialdata_db/data/108ty__10X__Visium__Mouse__lung_brain__20230221__v2.0.1__BrainReplicate1 already exists.Skipping rename for /lustre/groups/ml01/projects/2024_spatialdata_db/data/yw9rf__10X__Visium__Mouse__brain__20200623__v1.1.0: /lustre/groups/ml01/projects/2024_spatialdata_db/data/10fn9__10X__Visium__Mouse__brain__20200623__v1.1.0 already exists.Skipping rename for /lustre/groups/ml01/projects/2024_spatialdata_db/data/6p76l__10X__Xenium__Human__lung__20230518__v1.3.0__LungCancer: /lustre/groups/ml01/projects/2024_spatialdata_db/data/109k1__10X__Xenium__Human__lung__20230518__v1.3.0__LungCancer already exists.Skipping rename for /lustre/groups/ml01/projects/2024_spatialdata_db/data/gulca__10X__Visium__Mouse__brain__20220311__v1.3.1: /lustre/groups/ml01/projects/2024_spatialdata_db/data/10ipu__10X__Visium__Mouse__brain__20220311__v1.3.1 already exists.Skipping rename for /lustre/groups/ml01/projects/2024_spatialdata_db/data/d5062__10X__Visium__Human__brain__20200623__v1.1.0: /lustre/groups/ml01/projects/2024_spatialdata_db/data/10wv1__10X__Visium__Human__brain__20200623__v1.1.0 already exists.Skipping rename for /lustre/groups/ml01/projects/2024_spatialdata_db/data/rqu2u__10X__Xenium__Human__lung__20240205__v2.0.0: /lustre/groups/ml01/projects/2024_spatialdata_db/data/10uxy__10X__Xenium__Human__lung__20240205__v2.0.0 already exists.Skipping rename for /lustre/groups/ml01/projects/2024_spatialdata_db/data/l679p__10X__Visium__Mouse__embryo__20230608__v2.1.0: /lustre/groups/ml01/projects/2024_spatialdata_db/data/1001e__10X__Visium__Mouse__embryo__20230608__v2.1.0 already exists.Skipping rename for /lustre/groups/ml01/projects/2024_spatialdata_db/data/3p7pv__10X__Visium__Mouse__brain__20221018__v2.0.0: /lustre/groups/ml01/projects/2024_spatialdata_db/data/107rk__10X__Visium__Mouse__brain__20221018__v2.0.0 already exists.Skipping rename for /lustre/groups/ml01/projects/2024_spatialdata_db/data/2lfvx__10X__Visium__Mouse__brain__20230608__v2.1.0: /lustre/groups/ml01/projects/2024_spatialdata_db/data/103uy__10X__Visium__Mouse__brain__20230608__v2.1.0 already exists.Skipping rename for /lustre/groups/ml01/projects/2024_spatialdata_db/data/m72vi__10X__Xenium__unknown__unknown__20230420__v1.3.0__Glioblastoma: /lustre/groups/ml01/projects/2024_spatialdata_db/data/1091x__10X__Xenium__unknown__unknown__20230420__v1.3.0__Glioblastoma already exists.Skipping rename for /lustre/groups/ml01/projects/2024_spatialdata_db/data/g7mbj__10X__Visium__Human__brain__20201027__v1.2.0: /lustre/groups/ml01/projects/2024_spatialdata_db/data/10zyf__10X__Visium__Human__brain__20201027__v1.2.0 already exists.Skipping rename for /lustre/groups/ml01/projects/2024_spatialdata_db/data/xxjnz__10X__VisiumHD__Mouse__brain__20240329__v3.0.0: /lustre/groups/ml01/projects/2024_spatialdata_db/data/108x2__10X__VisiumHD__Mouse__brain__20240329__v3.0.0 already exists.Skipping rename for /lustre/groups/ml01/projects/2024_spatialdata_db/data/6u5jt__10X__Visium__Mouse__olfactory_bulb__20220324__v1.3.0: /lustre/groups/ml01/projects/2024_spatialdata_db/data/10t8c__10X__Visium__Mouse__olfactory_bulb__20220324__v1.3.0 already exists.\n",
      "Skipping rename for /lustre/groups/ml01/projects/2024_spatialdata_db/data/2dwwq__10X__Visium__Mouse__brain__20230525__v2.1.0: /lustre/groups/ml01/projects/2024_spatialdata_db/data/10ckr__10X__Visium__Mouse__brain__20230525__v2.1.0 already exists.Skipping rename for /lustre/groups/ml01/projects/2024_spatialdata_db/data/f61rr__10X__Xenium__Human__pancreas__20231116__v1.6.0: /lustre/groups/ml01/projects/2024_spatialdata_db/data/10fyx__10X__Xenium__Human__pancreas__20231116__v1.6.0 already exists.Skipping rename for /lustre/groups/ml01/projects/2024_spatialdata_db/data/ougr9__10X__Visium__Human__brain_cerebellum__20201027__v1.2.0: /lustre/groups/ml01/projects/2024_spatialdata_db/data/10kyn__10X__Visium__Human__brain_cerebellum__20201027__v1.2.0 already exists.\n"
     ]
    },
    {
     "name": "stderr",
     "output_type": "stream",
     "text": [
      "\n"
     ]
    },
    {
     "name": "stdout",
     "output_type": "stream",
     "text": [
      "Skipping rename for /lustre/groups/ml01/projects/2024_spatialdata_db/data/f0fww__10X__Visium__Mouse__lung_brain__20230221__v2.0.1__BrainReplicate4: /lustre/groups/ml01/projects/2024_spatialdata_db/data/10sph__10X__Visium__Mouse__lung_brain__20230221__v2.0.1__BrainReplicate4 already exists.\n",
      "Skipping rename for /lustre/groups/ml01/projects/2024_spatialdata_db/data/cdmnx__10X__Xenium__Mouse__brain__20230713__v1.4.0__TgCRND82.5months: /lustre/groups/ml01/projects/2024_spatialdata_db/data/10kyp__10X__Xenium__Mouse__brain__20230713__v1.4.0__TgCRND82.5months already exists.Skipping rename for /lustre/groups/ml01/projects/2024_spatialdata_db/data/u8rpv__10X__Visium__Mouse__brain__20200623__v1.1.0: /lustre/groups/ml01/projects/2024_spatialdata_db/data/100wk__10X__Visium__Mouse__brain__20200623__v1.1.0 already exists.Skipping rename for /lustre/groups/ml01/projects/2024_spatialdata_db/data/h5tfz__10X__Visium__Human__breast__20230106__v2.0.1: /lustre/groups/ml01/projects/2024_spatialdata_db/data/100my__10X__Visium__Human__breast__20230106__v2.0.1 already exists.Skipping rename for /lustre/groups/ml01/projects/2024_spatialdata_db/data/h3jfi__10X__Visium__Mouse__lung_brain__20230221__v2.0.1__AggregateofTissueCores: /lustre/groups/ml01/projects/2024_spatialdata_db/data/10nzm__10X__Visium__Mouse__lung_brain__20230221__v2.0.1__AggregateofTissueCores already exists.\n",
      "\n",
      "\n",
      "Skipping rename for /lustre/groups/ml01/projects/2024_spatialdata_db/data/ooaie__10X__Xenium__Human__brain__20240415__v2.0.0: /lustre/groups/ml01/projects/2024_spatialdata_db/data/10u63__10X__Xenium__Human__brain__20240415__v2.0.0 already exists.\n",
      "\n",
      "\n",
      "\n",
      "Skipping rename for /lustre/groups/ml01/projects/2024_spatialdata_db/data/l7fdr__10X__Visium__Mouse__brain__20220329__v1.3.0: /lustre/groups/ml01/projects/2024_spatialdata_db/data/10m49__10X__Visium__Mouse__brain__20220329__v1.3.0 already exists.\n",
      "\n",
      "\n",
      "\n",
      "\n",
      "\n",
      "\n",
      "\n",
      "\n",
      "\n",
      "\n",
      "\n",
      "\n",
      "\n",
      "\n",
      "Skipping rename for /lustre/groups/ml01/projects/2024_spatialdata_db/data/o49q8__10X__Visium__Mouse__brain__20200623__v1.1.0: /lustre/groups/ml01/projects/2024_spatialdata_db/data/10jft__10X__Visium__Mouse__brain__20200623__v1.1.0 already exists.\n",
      "\n",
      "\n",
      "\n",
      "\n",
      "\n",
      "\n",
      "\n",
      "Skipping rename for /lustre/groups/ml01/projects/2024_spatialdata_db/data/6qjsq__10X__Visium__Mouse__brain__20191202__v1.0.0: /lustre/groups/ml01/projects/2024_spatialdata_db/data/10224__10X__Visium__Mouse__brain__20191202__v1.0.0 already exists.Skipping rename for /lustre/groups/ml01/projects/2024_spatialdata_db/data/56r5s__10X__Xenium__Mouse__bone__20240403__v1.9.0__0.5MEDTAdecalcification: /lustre/groups/ml01/projects/2024_spatialdata_db/data/10n1k__10X__Xenium__Mouse__bone__20240403__v1.9.0__0.5MEDTAdecalcification already exists.Skipping rename for /lustre/groups/ml01/projects/2024_spatialdata_db/data/gqccm__10X__Visium__Human__prostate__20220712__v2.0.0: /lustre/groups/ml01/projects/2024_spatialdata_db/data/106ru__10X__Visium__Human__prostate__20220712__v2.0.0 already exists.Skipping rename for /lustre/groups/ml01/projects/2024_spatialdata_db/data/l47i3__10X__Visium__Mouse__kidney__20210816__v1.3.0: /lustre/groups/ml01/projects/2024_spatialdata_db/data/103mc__10X__Visium__Mouse__kidney__20210816__v1.3.0 already exists.Skipping rename for /lustre/groups/ml01/projects/2024_spatialdata_db/data/mfrkl__10X__Xenium__Human__skin__20230918__v1.6.0: /lustre/groups/ml01/projects/2024_spatialdata_db/data/102cy__10X__Xenium__Human__skin__20230918__v1.6.0 already exists.Skipping rename for /lustre/groups/ml01/projects/2024_spatialdata_db/data/el4ap__10X__Visium__Mouse__brain__20230106__v2.0.1: /lustre/groups/ml01/projects/2024_spatialdata_db/data/10ake__10X__Visium__Mouse__brain__20230106__v2.0.1 already exists.Skipping rename for /lustre/groups/ml01/projects/2024_spatialdata_db/data/4b368__10X__Visium__Mouse__lung_brain__20230221__v2.0.1__LungReplicate4: /lustre/groups/ml01/projects/2024_spatialdata_db/data/1090h__10X__Visium__Mouse__lung_brain__20230221__v2.0.1__LungReplicate4 already exists.Skipping rename for /lustre/groups/ml01/projects/2024_spatialdata_db/data/yf0mm__10X__Visium__Mouse__kidney__20200623__v1.1.0: /lustre/groups/ml01/projects/2024_spatialdata_db/data/101in__10X__Visium__Mouse__kidney__20200623__v1.1.0 already exists.Skipping rename for /lustre/groups/ml01/projects/2024_spatialdata_db/data/uloap__10X__Visium__Mouse__brain__20220714__v2.0.0: /lustre/groups/ml01/projects/2024_spatialdata_db/data/10jdw__10X__Visium__Mouse__brain__20220714__v2.0.0 already exists.Skipping rename for /lustre/groups/ml01/projects/2024_spatialdata_db/data/qilz7__10X__Xenium__Human__intestine_colon__20230829__v1.6.0__Cancerpre-designedpanel: /lustre/groups/ml01/projects/2024_spatialdata_db/data/10ah4__10X__Xenium__Human__intestine_colon__20230829__v1.6.0__Cancerpre-designedpanel already exists.Skipping rename for /lustre/groups/ml01/projects/2024_spatialdata_db/data/4kt3d__10X__Xenium__Mouse__whole_organism__20230818__v1.6.0: /lustre/groups/ml01/projects/2024_spatialdata_db/data/10pa3__10X__Xenium__Mouse__whole_organism__20230818__v1.6.0 already exists.Skipping rename for /lustre/groups/ml01/projects/2024_spatialdata_db/data/1ewyv__10X__Visium__Mouse__brain__20191202__v1.0.0: /lustre/groups/ml01/projects/2024_spatialdata_db/data/1020c__10X__Visium__Mouse__brain__20191202__v1.0.0 already exists.Skipping rename for /lustre/groups/ml01/projects/2024_spatialdata_db/data/9zn0k__10X__Visium__Mouse__brain__20191202__v1.0.0: /lustre/groups/ml01/projects/2024_spatialdata_db/data/10i8s__10X__Visium__Mouse__brain__20191202__v1.0.0 already exists.Skipping rename for /lustre/groups/ml01/projects/2024_spatialdata_db/data/n5mya__10X__Visium__Mouse__brain__20191202__v1.0.0: /lustre/groups/ml01/projects/2024_spatialdata_db/data/10817__10X__Visium__Mouse__brain__20191202__v1.0.0 already exists.Skipping rename for /lustre/groups/ml01/projects/2024_spatialdata_db/data/ycw3s__10X__Visium__Mouse__olfactory_bulb__20220712__v2.0.0: /lustre/groups/ml01/projects/2024_spatialdata_db/data/106v2__10X__Visium__Mouse__olfactory_bulb__20220712__v2.0.0 already exists.Skipping rename for /lustre/groups/ml01/projects/2024_spatialdata_db/data/mby57__10X__Visium__Mouse__brain__20191202__v1.0.0: /lustre/groups/ml01/projects/2024_spatialdata_db/data/10jss__10X__Visium__Mouse__brain__20191202__v1.0.0 already exists.Skipping rename for /lustre/groups/ml01/projects/2024_spatialdata_db/data/2xejf__10X__Visium__Human__heart__20191212__v1.0.0: /lustre/groups/ml01/projects/2024_spatialdata_db/data/10p4f__10X__Visium__Human__heart__20191212__v1.0.0 already exists.Skipping rename for /lustre/groups/ml01/projects/2024_spatialdata_db/data/7unc5__10X__Visium__Mouse__brain__20231005__v2.1.0__Post-XeniumReplicate1: /lustre/groups/ml01/projects/2024_spatialdata_db/data/10caf__10X__Visium__Mouse__brain__20231005__v2.1.0__Post-XeniumReplicate1 already exists.Skipping rename for /lustre/groups/ml01/projects/2024_spatialdata_db/data/qd23x__10X__Visium__Human__brain__20230214__v2.0.1: /lustre/groups/ml01/projects/2024_spatialdata_db/data/106ip__10X__Visium__Human__brain__20230214__v2.0.1 already exists.Skipping rename for /lustre/groups/ml01/projects/2024_spatialdata_db/data/qdtdp__10X__Visium__Mouse__brain__20230608__v2.1.0: /lustre/groups/ml01/projects/2024_spatialdata_db/data/106s5__10X__Visium__Mouse__brain__20230608__v2.1.0 already exists.Skipping rename for /lustre/groups/ml01/projects/2024_spatialdata_db/data/bl23n__10X__Visium__Mouse__brain__20200623__v1.1.0: /lustre/groups/ml01/projects/2024_spatialdata_db/data/10ci4__10X__Visium__Mouse__brain__20200623__v1.1.0 already exists.Skipping rename for /lustre/groups/ml01/projects/2024_spatialdata_db/data/y5py1__10X__Visium__Human__colon__20231005__v2.1.0__ControlReplicate2: /lustre/groups/ml01/projects/2024_spatialdata_db/data/1065r__10X__Visium__Human__colon__20231005__v2.1.0__ControlReplicate2 already exists.Skipping rename for /lustre/groups/ml01/projects/2024_spatialdata_db/data/uhk1j__10X__Xenium__Human__kidney__20230717__v1.5.0__Non-diseasedKidney: /lustre/groups/ml01/projects/2024_spatialdata_db/data/1063i__10X__Xenium__Human__kidney__20230717__v1.5.0__Non-diseasedKidney already exists.\n",
      "Skipping rename for /lustre/groups/ml01/projects/2024_spatialdata_db/data/1rw9r__10X__Visium__Mouse__brain__20200623__v1.1.0: /lustre/groups/ml01/projects/2024_spatialdata_db/data/104dm__10X__Visium__Mouse__brain__20200623__v1.1.0 already exists.Skipping rename for /lustre/groups/ml01/projects/2024_spatialdata_db/data/cspi1__10X__Visium__Human__brain__20200623__v1.1.0: /lustre/groups/ml01/projects/2024_spatialdata_db/data/104ee__10X__Visium__Human__brain__20200623__v1.1.0 already exists.Skipping rename for /lustre/groups/ml01/projects/2024_spatialdata_db/data/eqp7b__10X__Xenium__Mouse__brain__20230122__v1.0.2__InputsSlide: /lustre/groups/ml01/projects/2024_spatialdata_db/data/10kxi__10X__Xenium__Mouse__brain__20230122__v1.0.2__InputsSlide already exists.Skipping rename for /lustre/groups/ml01/projects/2024_spatialdata_db/data/3z776__10X__Xenium__unknown__unknown__20230420__v1.3.0__HealthyBrain: /lustre/groups/ml01/projects/2024_spatialdata_db/data/104dy__10X__Xenium__unknown__unknown__20230420__v1.3.0__HealthyBrain already exists.Skipping rename for /lustre/groups/ml01/projects/2024_spatialdata_db/data/ectuc__10X__Visium__Mouse__brain__20230417__v2.0.1: /lustre/groups/ml01/projects/2024_spatialdata_db/data/10056__10X__Visium__Mouse__brain__20230417__v2.0.1 already exists.Skipping rename for /lustre/groups/ml01/projects/2024_spatialdata_db/data/5i1d7__10X__Visium__Human__breast__20191212__v1.0.0: /lustre/groups/ml01/projects/2024_spatialdata_db/data/105ka__10X__Visium__Human__breast__20191212__v1.0.0 already exists.Skipping rename for /lustre/groups/ml01/projects/2024_spatialdata_db/data/0nuqa__10X__Visium__Human__ovary__20201027__v1.2.0: /lustre/groups/ml01/projects/2024_spatialdata_db/data/10w90__10X__Visium__Human__ovary__20201027__v1.2.0 already exists.Skipping rename for /lustre/groups/ml01/projects/2024_spatialdata_db/data/sj4fv__10X__Visium__Mouse__brain__20220712__v2.0.0: /lustre/groups/ml01/projects/2024_spatialdata_db/data/105tt__10X__Visium__Mouse__brain__20220712__v2.0.0 already exists.\n",
      "\n",
      "Skipping rename for /lustre/groups/ml01/projects/2024_spatialdata_db/data/w7zg8__10X__CytAssist__Human__tonsil__20230824__v2.1.0: /lustre/groups/ml01/projects/2024_spatialdata_db/data/10jr4__10X__CytAssist__Human__tonsil__20230824__v2.1.0 already exists.\n",
      "\n",
      "\n",
      "\n",
      "\n",
      "\n",
      "\n",
      "\n",
      "\n",
      "\n",
      "\n",
      "\n",
      "\n",
      "\n",
      "\n",
      "\n",
      "\n",
      "\n",
      "\n",
      "\n",
      "\n",
      "\n",
      "\n",
      "Skipping rename for /lustre/groups/ml01/projects/2024_spatialdata_db/data/tggfj__10X__Visium__Mouse__brain__20230608__v2.1.0: /lustre/groups/ml01/projects/2024_spatialdata_db/data/10mda__10X__Visium__Mouse__brain__20230608__v2.1.0 already exists.\n",
      "\n",
      "\n",
      "\n",
      "\n",
      "\n",
      "Skipping rename for /lustre/groups/ml01/projects/2024_spatialdata_db/data/up5uh__10X__Visium__Mouse__brain__20231005__v2.1.0__ControlReplicate2: /lustre/groups/ml01/projects/2024_spatialdata_db/data/10ha9__10X__Visium__Mouse__brain__20231005__v2.1.0__ControlReplicate2 already exists.Skipping rename for /lustre/groups/ml01/projects/2024_spatialdata_db/data/lielj__10X__Visium__Human__lymph_node__20200623__v1.1.0: /lustre/groups/ml01/projects/2024_spatialdata_db/data/105jc__10X__Visium__Human__lymph_node__20200623__v1.1.0 already exists.\n",
      "\n",
      "\n",
      "Skipping rename for /lustre/groups/ml01/projects/2024_spatialdata_db/data/tkcwt__10X__Visium__Human__breast__20200623__v1.1.0: /lustre/groups/ml01/projects/2024_spatialdata_db/data/108r9__10X__Visium__Human__breast__20200623__v1.1.0 already exists.Skipping rename for /lustre/groups/ml01/projects/2024_spatialdata_db/data/3554v__10X__Visium__Human__brain_cerebellum__20201027__v1.2.0: /lustre/groups/ml01/projects/2024_spatialdata_db/data/10dvd__10X__Visium__Human__brain_cerebellum__20201027__v1.2.0 already exists.Skipping rename for /lustre/groups/ml01/projects/2024_spatialdata_db/data/eiuys__10X__CytAssist__Human__breast__20230515__v2.1.0: /lustre/groups/ml01/projects/2024_spatialdata_db/data/10if2__10X__CytAssist__Human__breast__20230515__v2.1.0 already exists.Skipping rename for /lustre/groups/ml01/projects/2024_spatialdata_db/data/8x7n0__10X__Xenium__Mouse__brain__20230713__v1.4.0__TgCRND817.9months: /lustre/groups/ml01/projects/2024_spatialdata_db/data/10hhx__10X__Xenium__Mouse__brain__20230713__v1.4.0__TgCRND817.9months already exists.Skipping rename for /lustre/groups/ml01/projects/2024_spatialdata_db/data/ia6p0__10X__Visium__Mouse__brain__20191202__v1.0.0: /lustre/groups/ml01/projects/2024_spatialdata_db/data/10huw__10X__Visium__Mouse__brain__20191202__v1.0.0 already exists.Skipping rename for /lustre/groups/ml01/projects/2024_spatialdata_db/data/zw6bg__10X__Visium__Human__prostate__20211008__v1.3.0: /lustre/groups/ml01/projects/2024_spatialdata_db/data/10f2z__10X__Visium__Human__prostate__20211008__v1.3.0 already exists.Skipping rename for /lustre/groups/ml01/projects/2024_spatialdata_db/data/5z2c2__10X__Visium__Mouse__olfactory_bulb__20220712__v2.0.0: /lustre/groups/ml01/projects/2024_spatialdata_db/data/10u6u__10X__Visium__Mouse__olfactory_bulb__20220712__v2.0.0 already exists.Skipping rename for /lustre/groups/ml01/projects/2024_spatialdata_db/data/icu0y__10X__Visium__Mouse__brain__20200623__v1.1.0: /lustre/groups/ml01/projects/2024_spatialdata_db/data/10m16__10X__Visium__Mouse__brain__20200623__v1.1.0 already exists.Skipping rename for /lustre/groups/ml01/projects/2024_spatialdata_db/data/vmonx__10X__Visium__Mouse__brain__20200623__v1.1.0: /lustre/groups/ml01/projects/2024_spatialdata_db/data/107rw__10X__Visium__Mouse__brain__20200623__v1.1.0 already exists.Skipping rename for /lustre/groups/ml01/projects/2024_spatialdata_db/data/wxjgz__10X__VisiumHD__Human__lung__20240329__v3.0.0: /lustre/groups/ml01/projects/2024_spatialdata_db/data/10vek__10X__VisiumHD__Human__lung__20240329__v3.0.0 already exists.Skipping rename for /lustre/groups/ml01/projects/2024_spatialdata_db/data/wxc2q__10X__Xenium__Human__intestine_colon__20230829__v1.6.0__Cancerpre-designed+add-onpanel: /lustre/groups/ml01/projects/2024_spatialdata_db/data/10zm9__10X__Xenium__Human__intestine_colon__20230829__v1.6.0__Cancerpre-designed+add-onpanel already exists.Skipping rename for /lustre/groups/ml01/projects/2024_spatialdata_db/data/4slyf__10X__Xenium__Human__kidney__20230717__v1.5.0__KidneyCancer(PRCC): /lustre/groups/ml01/projects/2024_spatialdata_db/data/10u89__10X__Xenium__Human__kidney__20230717__v1.5.0__KidneyCancer(PRCC) already exists.Skipping rename for /lustre/groups/ml01/projects/2024_spatialdata_db/data/l0g1l__10X__Visium__Human__lung__20220713__v2.0.0: /lustre/groups/ml01/projects/2024_spatialdata_db/data/10sn3__10X__Visium__Human__lung__20220713__v2.0.0 already exists.Skipping rename for /lustre/groups/ml01/projects/2024_spatialdata_db/data/zqxk7__10X__Visium__Human__large_intestine__20220328__v1.3.0: /lustre/groups/ml01/projects/2024_spatialdata_db/data/1000j__10X__Visium__Human__large_intestine__20220328__v1.3.0 already exists.Skipping rename for /lustre/groups/ml01/projects/2024_spatialdata_db/data/6qcwb__10X__Visium__Human__cerebellum__20220712__v2.0.0: /lustre/groups/ml01/projects/2024_spatialdata_db/data/10wkh__10X__Visium__Human__cerebellum__20220712__v2.0.0 already exists.Skipping rename for /lustre/groups/ml01/projects/2024_spatialdata_db/data/siiyj__10X__Visium__Human__prostate__20210609__v1.3.0: /lustre/groups/ml01/projects/2024_spatialdata_db/data/10uik__10X__Visium__Human__prostate__20210609__v1.3.0 already exists.Skipping rename for /lustre/groups/ml01/projects/2024_spatialdata_db/data/2ku9b__10X__Visium__Human__brain_cerebellum__20201027__v1.2.0: /lustre/groups/ml01/projects/2024_spatialdata_db/data/1012t__10X__Visium__Human__brain_cerebellum__20201027__v1.2.0 already exists.Skipping rename for /lustre/groups/ml01/projects/2024_spatialdata_db/data/mt3dy__10X__Visium__Mouse__brain__20200623__v1.1.0: /lustre/groups/ml01/projects/2024_spatialdata_db/data/10wfn__10X__Visium__Mouse__brain__20200623__v1.1.0 already exists.\n",
      "\n",
      "\n",
      "\n",
      "\n",
      "\n",
      "\n",
      "\n",
      "\n",
      "\n",
      "\n",
      "\n",
      "\n",
      "\n",
      "\n",
      "\n",
      "\n",
      "\n"
     ]
    }
   ],
   "source": [
    "renamed_dirs_count = rename_directories_parallel(directories_to_process_sorted, uid_mapping)"
   ]
  },
  {
   "cell_type": "code",
   "execution_count": 18,
   "metadata": {},
   "outputs": [
    {
     "name": "stderr",
     "output_type": "stream",
     "text": [
      "Renaming files:   2%|▏         | 3320/141703 [00:01<00:29, 4651.77it/s]"
     ]
    },
    {
     "name": "stdout",
     "output_type": "stream",
     "text": [
      "Error renaming file /lustre/groups/ml01/projects/2024_spatialdata_db/data/vbdbc__10X__Visium__Mouse__kidney__20191202__v1.0.0/vbdbc__10X__Visium__Mouse__kidney__20191202__v1.0.0.contents to /lustre/groups/ml01/projects/2024_spatialdata_db/data/vbdbc__10X__Visium__Mouse__kidney__20191202__v1.0.0/1031a__10X__Visium__Mouse__kidney__20191202__v1.0.0.contents: [Errno 2] No such file or directory: '/lustre/groups/ml01/projects/2024_spatialdata_db/data/vbdbc__10X__Visium__Mouse__kidney__20191202__v1.0.0/vbdbc__10X__Visium__Mouse__kidney__20191202__v1.0.0.contents' -> '/lustre/groups/ml01/projects/2024_spatialdata_db/data/vbdbc__10X__Visium__Mouse__kidney__20191202__v1.0.0/1031a__10X__Visium__Mouse__kidney__20191202__v1.0.0.contents'\n"
     ]
    },
    {
     "name": "stderr",
     "output_type": "stream",
     "text": [
      "Renaming files:   3%|▎         | 3796/141703 [00:01<00:29, 4635.31it/s]"
     ]
    },
    {
     "name": "stdout",
     "output_type": "stream",
     "text": [
      "Error renaming file /lustre/groups/ml01/projects/2024_spatialdata_db/data/cyxpa__10X__Visium__Human__breast__20210609__v1.3.0/cyxpa__10X__Visium__Human__breast__20210609__v1.3.0.contents to /lustre/groups/ml01/projects/2024_spatialdata_db/data/cyxpa__10X__Visium__Human__breast__20210609__v1.3.0/10jcz__10X__Visium__Human__breast__20210609__v1.3.0.contents: [Errno 2] No such file or directory: '/lustre/groups/ml01/projects/2024_spatialdata_db/data/cyxpa__10X__Visium__Human__breast__20210609__v1.3.0/cyxpa__10X__Visium__Human__breast__20210609__v1.3.0.contents' -> '/lustre/groups/ml01/projects/2024_spatialdata_db/data/cyxpa__10X__Visium__Human__breast__20210609__v1.3.0/10jcz__10X__Visium__Human__breast__20210609__v1.3.0.contents'\n",
      "Error renaming file /lustre/groups/ml01/projects/2024_spatialdata_db/data/09ohz__10X__Visium__Mouse__brain__20191202__v1.0.0/09ohz__10X__Visium__Mouse__brain__20191202__v1.0.0.contents to /lustre/groups/ml01/projects/2024_spatialdata_db/data/09ohz__10X__Visium__Mouse__brain__20191202__v1.0.0/10a6w__10X__Visium__Mouse__brain__20191202__v1.0.0.contents: [Errno 2] No such file or directory: '/lustre/groups/ml01/projects/2024_spatialdata_db/data/09ohz__10X__Visium__Mouse__brain__20191202__v1.0.0/09ohz__10X__Visium__Mouse__brain__20191202__v1.0.0.contents' -> '/lustre/groups/ml01/projects/2024_spatialdata_db/data/09ohz__10X__Visium__Mouse__brain__20191202__v1.0.0/10a6w__10X__Visium__Mouse__brain__20191202__v1.0.0.contents'\n"
     ]
    },
    {
     "name": "stderr",
     "output_type": "stream",
     "text": [
      "Renaming files:   3%|▎         | 4410/141703 [00:01<00:27, 5077.43it/s]"
     ]
    },
    {
     "name": "stdout",
     "output_type": "stream",
     "text": [
      "Error renaming file /lustre/groups/ml01/projects/2024_spatialdata_db/data/3vg9t__10X__Visium__Human__large_intestine__20201027__v1.2.0/3vg9t__10X__Visium__Human__large_intestine__20201027__v1.2.0.contents to /lustre/groups/ml01/projects/2024_spatialdata_db/data/3vg9t__10X__Visium__Human__large_intestine__20201027__v1.2.0/10kia__10X__Visium__Human__large_intestine__20201027__v1.2.0.contents: [Errno 2] No such file or directory: '/lustre/groups/ml01/projects/2024_spatialdata_db/data/3vg9t__10X__Visium__Human__large_intestine__20201027__v1.2.0/3vg9t__10X__Visium__Human__large_intestine__20201027__v1.2.0.contents' -> '/lustre/groups/ml01/projects/2024_spatialdata_db/data/3vg9t__10X__Visium__Human__large_intestine__20201027__v1.2.0/10kia__10X__Visium__Human__large_intestine__20201027__v1.2.0.contents'\n",
      "Error renaming file /lustre/groups/ml01/projects/2024_spatialdata_db/data/4b6qm__10X__Visium__Human__colon__20231005__v2.1.0__Post-XeniumReplicate1/4b6qm__10X__Visium__Human__colon__20231005__v2.1.0__Post-XeniumReplicate1.contents to /lustre/groups/ml01/projects/2024_spatialdata_db/data/4b6qm__10X__Visium__Human__colon__20231005__v2.1.0__Post-XeniumReplicate1/10tei__10X__Visium__Human__colon__20231005__v2.1.0__Post-XeniumReplicate1.contents: [Errno 2] No such file or directory: '/lustre/groups/ml01/projects/2024_spatialdata_db/data/4b6qm__10X__Visium__Human__colon__20231005__v2.1.0__Post-XeniumReplicate1/4b6qm__10X__Visium__Human__colon__20231005__v2.1.0__Post-XeniumReplicate1.contents' -> '/lustre/groups/ml01/projects/2024_spatialdata_db/data/4b6qm__10X__Visium__Human__colon__20231005__v2.1.0__Post-XeniumReplicate1/10tei__10X__Visium__Human__colon__20231005__v2.1.0__Post-XeniumReplicate1.contents'\n"
     ]
    },
    {
     "name": "stderr",
     "output_type": "stream",
     "text": [
      "Renaming files:   3%|▎         | 4924/141703 [00:01<00:28, 4849.58it/s]"
     ]
    },
    {
     "name": "stdout",
     "output_type": "stream",
     "text": [
      "Error renaming file /lustre/groups/ml01/projects/2024_spatialdata_db/data/zr2gu__10X__Visium__Human__colon__20231005__v2.1.0__ControlReplicate1/zr2gu__10X__Visium__Human__colon__20231005__v2.1.0__ControlReplicate1.contents to /lustre/groups/ml01/projects/2024_spatialdata_db/data/zr2gu__10X__Visium__Human__colon__20231005__v2.1.0__ControlReplicate1/10e5i__10X__Visium__Human__colon__20231005__v2.1.0__ControlReplicate1.contents: [Errno 2] No such file or directory: '/lustre/groups/ml01/projects/2024_spatialdata_db/data/zr2gu__10X__Visium__Human__colon__20231005__v2.1.0__ControlReplicate1/zr2gu__10X__Visium__Human__colon__20231005__v2.1.0__ControlReplicate1.contents' -> '/lustre/groups/ml01/projects/2024_spatialdata_db/data/zr2gu__10X__Visium__Human__colon__20231005__v2.1.0__ControlReplicate1/10e5i__10X__Visium__Human__colon__20231005__v2.1.0__ControlReplicate1.contents'\n"
     ]
    },
    {
     "name": "stderr",
     "output_type": "stream",
     "text": [
      "Renaming files:   4%|▍         | 5466/141703 [00:01<00:27, 5013.55it/s]"
     ]
    },
    {
     "name": "stdout",
     "output_type": "stream",
     "text": [
      "Error renaming file /lustre/groups/ml01/projects/2024_spatialdata_db/data/9btjk__10X__Visium__Mouse__lung_brain__20230221__v2.0.1__LungReplicate5/9btjk__10X__Visium__Mouse__lung_brain__20230221__v2.0.1__LungReplicate5.contents to /lustre/groups/ml01/projects/2024_spatialdata_db/data/9btjk__10X__Visium__Mouse__lung_brain__20230221__v2.0.1__LungReplicate5/102hp__10X__Visium__Mouse__lung_brain__20230221__v2.0.1__LungReplicate5.contents: [Errno 2] No such file or directory: '/lustre/groups/ml01/projects/2024_spatialdata_db/data/9btjk__10X__Visium__Mouse__lung_brain__20230221__v2.0.1__LungReplicate5/9btjk__10X__Visium__Mouse__lung_brain__20230221__v2.0.1__LungReplicate5.contents' -> '/lustre/groups/ml01/projects/2024_spatialdata_db/data/9btjk__10X__Visium__Mouse__lung_brain__20230221__v2.0.1__LungReplicate5/102hp__10X__Visium__Mouse__lung_brain__20230221__v2.0.1__LungReplicate5.contents'\n",
      "Error renaming file /lustre/groups/ml01/projects/2024_spatialdata_db/data/a0xyt__10X__Visium__Mouse__brain__20231005__v2.1.0__ControlReplicate1/a0xyt__10X__Visium__Mouse__brain__20231005__v2.1.0__ControlReplicate1.contents to /lustre/groups/ml01/projects/2024_spatialdata_db/data/a0xyt__10X__Visium__Mouse__brain__20231005__v2.1.0__ControlReplicate1/10ps4__10X__Visium__Mouse__brain__20231005__v2.1.0__ControlReplicate1.contents: [Errno 2] No such file or directory: '/lustre/groups/ml01/projects/2024_spatialdata_db/data/a0xyt__10X__Visium__Mouse__brain__20231005__v2.1.0__ControlReplicate1/a0xyt__10X__Visium__Mouse__brain__20231005__v2.1.0__ControlReplicate1.contents' -> '/lustre/groups/ml01/projects/2024_spatialdata_db/data/a0xyt__10X__Visium__Mouse__brain__20231005__v2.1.0__ControlReplicate1/10ps4__10X__Visium__Mouse__brain__20231005__v2.1.0__ControlReplicate1.contents'\n"
     ]
    },
    {
     "name": "stderr",
     "output_type": "stream",
     "text": [
      "Renaming files:   4%|▍         | 5973/141703 [00:01<00:27, 4943.21it/s]"
     ]
    },
    {
     "name": "stdout",
     "output_type": "stream",
     "text": [
      "Error renaming file /lustre/groups/ml01/projects/2024_spatialdata_db/data/fvvht__10X__Visium__Human__ovary__20220714__v2.0.0/fvvht__10X__Visium__Human__ovary__20220714__v2.0.0.contents to /lustre/groups/ml01/projects/2024_spatialdata_db/data/fvvht__10X__Visium__Human__ovary__20220714__v2.0.0/108rf__10X__Visium__Human__ovary__20220714__v2.0.0.contents: [Errno 2] No such file or directory: '/lustre/groups/ml01/projects/2024_spatialdata_db/data/fvvht__10X__Visium__Human__ovary__20220714__v2.0.0/fvvht__10X__Visium__Human__ovary__20220714__v2.0.0.contents' -> '/lustre/groups/ml01/projects/2024_spatialdata_db/data/fvvht__10X__Visium__Human__ovary__20220714__v2.0.0/108rf__10X__Visium__Human__ovary__20220714__v2.0.0.contents'\n"
     ]
    },
    {
     "name": "stderr",
     "output_type": "stream",
     "text": [
      "Renaming files:   5%|▍         | 6480/141703 [00:01<00:27, 4964.43it/s]"
     ]
    },
    {
     "name": "stdout",
     "output_type": "stream",
     "text": [
      "Error renaming file /lustre/groups/ml01/projects/2024_spatialdata_db/data/oocrq__10X__Visium__Mouse__brain__20200623__v1.1.0/oocrq__10X__Visium__Mouse__brain__20200623__v1.1.0.contents to /lustre/groups/ml01/projects/2024_spatialdata_db/data/oocrq__10X__Visium__Mouse__brain__20200623__v1.1.0/103te__10X__Visium__Mouse__brain__20200623__v1.1.0.contents: [Errno 2] No such file or directory: '/lustre/groups/ml01/projects/2024_spatialdata_db/data/oocrq__10X__Visium__Mouse__brain__20200623__v1.1.0/oocrq__10X__Visium__Mouse__brain__20200623__v1.1.0.contents' -> '/lustre/groups/ml01/projects/2024_spatialdata_db/data/oocrq__10X__Visium__Mouse__brain__20200623__v1.1.0/103te__10X__Visium__Mouse__brain__20200623__v1.1.0.contents'\n"
     ]
    },
    {
     "name": "stderr",
     "output_type": "stream",
     "text": [
      "Renaming files:   5%|▍         | 6979/141703 [00:01<00:29, 4632.27it/s]"
     ]
    },
    {
     "name": "stdout",
     "output_type": "stream",
     "text": [
      "Error renaming file /lustre/groups/ml01/projects/2024_spatialdata_db/data/kbcri__10X__Xenium__Human__breast__20230122__v1.0.2__Tissuesample1/kbcri__10X__Xenium__Human__breast__20230122__v1.0.2__Tissuesample1.contents to /lustre/groups/ml01/projects/2024_spatialdata_db/data/kbcri__10X__Xenium__Human__breast__20230122__v1.0.2__Tissuesample1/101x5__10X__Xenium__Human__breast__20230122__v1.0.2__Tissuesample1.contents: [Errno 2] No such file or directory: '/lustre/groups/ml01/projects/2024_spatialdata_db/data/kbcri__10X__Xenium__Human__breast__20230122__v1.0.2__Tissuesample1/kbcri__10X__Xenium__Human__breast__20230122__v1.0.2__Tissuesample1.contents' -> '/lustre/groups/ml01/projects/2024_spatialdata_db/data/kbcri__10X__Xenium__Human__breast__20230122__v1.0.2__Tissuesample1/101x5__10X__Xenium__Human__breast__20230122__v1.0.2__Tissuesample1.contents'\n"
     ]
    },
    {
     "name": "stderr",
     "output_type": "stream",
     "text": [
      "Renaming files:   6%|▌         | 8401/141703 [00:02<00:28, 4626.47it/s]"
     ]
    },
    {
     "name": "stdout",
     "output_type": "stream",
     "text": [
      "Error renaming file /lustre/groups/ml01/projects/2024_spatialdata_db/data/dn7st__10X__Xenium__unknown__unknown__20230420__v1.3.0__Alzheimers/dn7st__10X__Xenium__unknown__unknown__20230420__v1.3.0__Alzheimers.contents to /lustre/groups/ml01/projects/2024_spatialdata_db/data/dn7st__10X__Xenium__unknown__unknown__20230420__v1.3.0__Alzheimers/10zj1__10X__Xenium__unknown__unknown__20230420__v1.3.0__Alzheimers.contents: [Errno 2] No such file or directory: '/lustre/groups/ml01/projects/2024_spatialdata_db/data/dn7st__10X__Xenium__unknown__unknown__20230420__v1.3.0__Alzheimers/dn7st__10X__Xenium__unknown__unknown__20230420__v1.3.0__Alzheimers.contents' -> '/lustre/groups/ml01/projects/2024_spatialdata_db/data/dn7st__10X__Xenium__unknown__unknown__20230420__v1.3.0__Alzheimers/10zj1__10X__Xenium__unknown__unknown__20230420__v1.3.0__Alzheimers.contents'\n"
     ]
    },
    {
     "name": "stderr",
     "output_type": "stream",
     "text": [
      "Renaming files:   7%|▋         | 9335/141703 [00:02<00:29, 4555.86it/s]"
     ]
    },
    {
     "name": "stdout",
     "output_type": "stream",
     "text": [
      "Error renaming file /lustre/groups/ml01/projects/2024_spatialdata_db/data/566z3__10X__Visium__Human__spinal_cord__20201027__v1.2.0/566z3__10X__Visium__Human__spinal_cord__20201027__v1.2.0.contents to /lustre/groups/ml01/projects/2024_spatialdata_db/data/566z3__10X__Visium__Human__spinal_cord__20201027__v1.2.0/101cw__10X__Visium__Human__spinal_cord__20201027__v1.2.0.contents: [Errno 2] No such file or directory: '/lustre/groups/ml01/projects/2024_spatialdata_db/data/566z3__10X__Visium__Human__spinal_cord__20201027__v1.2.0/566z3__10X__Visium__Human__spinal_cord__20201027__v1.2.0.contents' -> '/lustre/groups/ml01/projects/2024_spatialdata_db/data/566z3__10X__Visium__Human__spinal_cord__20201027__v1.2.0/101cw__10X__Visium__Human__spinal_cord__20201027__v1.2.0.contents'\n"
     ]
    },
    {
     "name": "stderr",
     "output_type": "stream",
     "text": [
      "Renaming files:  10%|█         | 14293/141703 [00:03<00:29, 4274.44it/s]"
     ]
    },
    {
     "name": "stdout",
     "output_type": "stream",
     "text": [
      "Error renaming file /lustre/groups/ml01/projects/2024_spatialdata_db/data/lgv1y__10X__Visium__Human__kidney__20230214__v2.0.1/lgv1y__10X__Visium__Human__kidney__20230214__v2.0.1.contents to /lustre/groups/ml01/projects/2024_spatialdata_db/data/lgv1y__10X__Visium__Human__kidney__20230214__v2.0.1/10iky__10X__Visium__Human__kidney__20230214__v2.0.1.contents: [Errno 2] No such file or directory: '/lustre/groups/ml01/projects/2024_spatialdata_db/data/lgv1y__10X__Visium__Human__kidney__20230214__v2.0.1/lgv1y__10X__Visium__Human__kidney__20230214__v2.0.1.contents' -> '/lustre/groups/ml01/projects/2024_spatialdata_db/data/lgv1y__10X__Visium__Human__kidney__20230214__v2.0.1/10iky__10X__Visium__Human__kidney__20230214__v2.0.1.contents'\n"
     ]
    },
    {
     "name": "stderr",
     "output_type": "stream",
     "text": [
      "Renaming files:  10%|█         | 14725/141703 [00:03<00:30, 4219.12it/s]"
     ]
    },
    {
     "name": "stdout",
     "output_type": "stream",
     "text": [
      "Error renaming file /lustre/groups/ml01/projects/2024_spatialdata_db/data/xdbdu__10X__Visium__Mouse__brain__20200623__v1.1.0/xdbdu__10X__Visium__Mouse__brain__20200623__v1.1.0.contents to /lustre/groups/ml01/projects/2024_spatialdata_db/data/xdbdu__10X__Visium__Mouse__brain__20200623__v1.1.0/10amj__10X__Visium__Mouse__brain__20200623__v1.1.0.contents: [Errno 2] No such file or directory: '/lustre/groups/ml01/projects/2024_spatialdata_db/data/xdbdu__10X__Visium__Mouse__brain__20200623__v1.1.0/xdbdu__10X__Visium__Mouse__brain__20200623__v1.1.0.contents' -> '/lustre/groups/ml01/projects/2024_spatialdata_db/data/xdbdu__10X__Visium__Mouse__brain__20200623__v1.1.0/10amj__10X__Visium__Mouse__brain__20200623__v1.1.0.contents'\n"
     ]
    },
    {
     "name": "stderr",
     "output_type": "stream",
     "text": [
      "Renaming files:  11%|█         | 15177/141703 [00:03<00:29, 4300.63it/s]"
     ]
    },
    {
     "name": "stdout",
     "output_type": "stream",
     "text": [
      "Error renaming file /lustre/groups/ml01/projects/2024_spatialdata_db/data/a680h__10X__Xenium__Mouse__colon__20240319__v2.0.0/a680h__10X__Xenium__Mouse__colon__20240319__v2.0.0.contents to /lustre/groups/ml01/projects/2024_spatialdata_db/data/a680h__10X__Xenium__Mouse__colon__20240319__v2.0.0/10sja__10X__Xenium__Mouse__colon__20240319__v2.0.0.contents: [Errno 2] No such file or directory: '/lustre/groups/ml01/projects/2024_spatialdata_db/data/a680h__10X__Xenium__Mouse__colon__20240319__v2.0.0/a680h__10X__Xenium__Mouse__colon__20240319__v2.0.0.contents' -> '/lustre/groups/ml01/projects/2024_spatialdata_db/data/a680h__10X__Xenium__Mouse__colon__20240319__v2.0.0/10sja__10X__Xenium__Mouse__colon__20240319__v2.0.0.contents'\n"
     ]
    },
    {
     "name": "stderr",
     "output_type": "stream",
     "text": [
      "Renaming files:  11%|█▏        | 16127/141703 [00:03<00:27, 4508.17it/s]"
     ]
    },
    {
     "name": "stdout",
     "output_type": "stream",
     "text": [
      "Error renaming file /lustre/groups/ml01/projects/2024_spatialdata_db/data/g3x6u__10X__Visium__Human__brain__20201027__v1.2.0/g3x6u__10X__Visium__Human__brain__20201027__v1.2.0.contents to /lustre/groups/ml01/projects/2024_spatialdata_db/data/g3x6u__10X__Visium__Human__brain__20201027__v1.2.0/10wcj__10X__Visium__Human__brain__20201027__v1.2.0.contents: [Errno 2] No such file or directory: '/lustre/groups/ml01/projects/2024_spatialdata_db/data/g3x6u__10X__Visium__Human__brain__20201027__v1.2.0/g3x6u__10X__Visium__Human__brain__20201027__v1.2.0.contents' -> '/lustre/groups/ml01/projects/2024_spatialdata_db/data/g3x6u__10X__Visium__Human__brain__20201027__v1.2.0/10wcj__10X__Visium__Human__brain__20201027__v1.2.0.contents'\n"
     ]
    },
    {
     "name": "stderr",
     "output_type": "stream",
     "text": [
      "Renaming files:  12%|█▏        | 16620/141703 [00:03<00:27, 4609.66it/s]"
     ]
    },
    {
     "name": "stdout",
     "output_type": "stream",
     "text": [
      "Error renaming file /lustre/groups/ml01/projects/2024_spatialdata_db/data/zlitc__10X__Xenium__Mouse__brain__20230122__v1.0.2__Fullcoronalsection/zlitc__10X__Xenium__Mouse__brain__20230122__v1.0.2__Fullcoronalsection.contents to /lustre/groups/ml01/projects/2024_spatialdata_db/data/zlitc__10X__Xenium__Mouse__brain__20230122__v1.0.2__Fullcoronalsection/10y80__10X__Xenium__Mouse__brain__20230122__v1.0.2__Fullcoronalsection.contents: [Errno 2] No such file or directory: '/lustre/groups/ml01/projects/2024_spatialdata_db/data/zlitc__10X__Xenium__Mouse__brain__20230122__v1.0.2__Fullcoronalsection/zlitc__10X__Xenium__Mouse__brain__20230122__v1.0.2__Fullcoronalsection.contents' -> '/lustre/groups/ml01/projects/2024_spatialdata_db/data/zlitc__10X__Xenium__Mouse__brain__20230122__v1.0.2__Fullcoronalsection/10y80__10X__Xenium__Mouse__brain__20230122__v1.0.2__Fullcoronalsection.contents'\n"
     ]
    },
    {
     "name": "stderr",
     "output_type": "stream",
     "text": [
      "Renaming files:  12%|█▏        | 17686/141703 [00:04<00:25, 4920.96it/s]"
     ]
    },
    {
     "name": "stdout",
     "output_type": "stream",
     "text": [
      "Error renaming file /lustre/groups/ml01/projects/2024_spatialdata_db/data/lmhz8__10X__Visium__Mouse__olfactory_bulb__20220324__v1.3.0/lmhz8__10X__Visium__Mouse__olfactory_bulb__20220324__v1.3.0.contents to /lustre/groups/ml01/projects/2024_spatialdata_db/data/lmhz8__10X__Visium__Mouse__olfactory_bulb__20220324__v1.3.0/103sf__10X__Visium__Mouse__olfactory_bulb__20220324__v1.3.0.contents: [Errno 2] No such file or directory: '/lustre/groups/ml01/projects/2024_spatialdata_db/data/lmhz8__10X__Visium__Mouse__olfactory_bulb__20220324__v1.3.0/lmhz8__10X__Visium__Mouse__olfactory_bulb__20220324__v1.3.0.contents' -> '/lustre/groups/ml01/projects/2024_spatialdata_db/data/lmhz8__10X__Visium__Mouse__olfactory_bulb__20220324__v1.3.0/103sf__10X__Visium__Mouse__olfactory_bulb__20220324__v1.3.0.contents'\n",
      "Error renaming file /lustre/groups/ml01/projects/2024_spatialdata_db/data/5ddwn__10X__Visium__Mouse__brain__20200623__v1.1.0/5ddwn__10X__Visium__Mouse__brain__20200623__v1.1.0.contents to /lustre/groups/ml01/projects/2024_spatialdata_db/data/5ddwn__10X__Visium__Mouse__brain__20200623__v1.1.0/1039v__10X__Visium__Mouse__brain__20200623__v1.1.0.contents: [Errno 2] No such file or directory: '/lustre/groups/ml01/projects/2024_spatialdata_db/data/5ddwn__10X__Visium__Mouse__brain__20200623__v1.1.0/5ddwn__10X__Visium__Mouse__brain__20200623__v1.1.0.contents' -> '/lustre/groups/ml01/projects/2024_spatialdata_db/data/5ddwn__10X__Visium__Mouse__brain__20200623__v1.1.0/1039v__10X__Visium__Mouse__brain__20200623__v1.1.0.contents'\n"
     ]
    },
    {
     "name": "stderr",
     "output_type": "stream",
     "text": [
      "Renaming files:  13%|█▎        | 18181/141703 [00:04<00:25, 4771.05it/s]"
     ]
    },
    {
     "name": "stdout",
     "output_type": "stream",
     "text": [
      "Error renaming file /lustre/groups/ml01/projects/2024_spatialdata_db/data/mohya__10X__Visium__Human__heart__20200623__v1.1.0/mohya__10X__Visium__Human__heart__20200623__v1.1.0.contents to /lustre/groups/ml01/projects/2024_spatialdata_db/data/mohya__10X__Visium__Human__heart__20200623__v1.1.0/10e9s__10X__Visium__Human__heart__20200623__v1.1.0.contents: [Errno 2] No such file or directory: '/lustre/groups/ml01/projects/2024_spatialdata_db/data/mohya__10X__Visium__Human__heart__20200623__v1.1.0/mohya__10X__Visium__Human__heart__20200623__v1.1.0.contents' -> '/lustre/groups/ml01/projects/2024_spatialdata_db/data/mohya__10X__Visium__Human__heart__20200623__v1.1.0/10e9s__10X__Visium__Human__heart__20200623__v1.1.0.contents'\n"
     ]
    },
    {
     "name": "stderr",
     "output_type": "stream",
     "text": [
      "Renaming files:  13%|█▎        | 18661/141703 [00:04<00:26, 4676.97it/s]"
     ]
    },
    {
     "name": "stdout",
     "output_type": "stream",
     "text": [
      "Error renaming file /lustre/groups/ml01/projects/2024_spatialdata_db/data/pl425__10X__Visium__Human__heart__20191212__v1.0.0/pl425__10X__Visium__Human__heart__20191212__v1.0.0.contents to /lustre/groups/ml01/projects/2024_spatialdata_db/data/pl425__10X__Visium__Human__heart__20191212__v1.0.0/10hay__10X__Visium__Human__heart__20191212__v1.0.0.contents: [Errno 2] No such file or directory: '/lustre/groups/ml01/projects/2024_spatialdata_db/data/pl425__10X__Visium__Human__heart__20191212__v1.0.0/pl425__10X__Visium__Human__heart__20191212__v1.0.0.contents' -> '/lustre/groups/ml01/projects/2024_spatialdata_db/data/pl425__10X__Visium__Human__heart__20191212__v1.0.0/10hay__10X__Visium__Human__heart__20191212__v1.0.0.contents'\n"
     ]
    },
    {
     "name": "stderr",
     "output_type": "stream",
     "text": [
      "Renaming files:  14%|█▎        | 19131/141703 [00:04<00:26, 4663.34it/s]"
     ]
    },
    {
     "name": "stdout",
     "output_type": "stream",
     "text": [
      "Error renaming file /lustre/groups/ml01/projects/2024_spatialdata_db/data/wedt0__10X__Visium__Mouse__brain__20191202__v1.0.0/wedt0__10X__Visium__Mouse__brain__20191202__v1.0.0.contents to /lustre/groups/ml01/projects/2024_spatialdata_db/data/wedt0__10X__Visium__Mouse__brain__20191202__v1.0.0/10jff__10X__Visium__Mouse__brain__20191202__v1.0.0.contents: [Errno 2] No such file or directory: '/lustre/groups/ml01/projects/2024_spatialdata_db/data/wedt0__10X__Visium__Mouse__brain__20191202__v1.0.0/wedt0__10X__Visium__Mouse__brain__20191202__v1.0.0.contents' -> '/lustre/groups/ml01/projects/2024_spatialdata_db/data/wedt0__10X__Visium__Mouse__brain__20191202__v1.0.0/10jff__10X__Visium__Mouse__brain__20191202__v1.0.0.contents'\n",
      "Error renaming file /lustre/groups/ml01/projects/2024_spatialdata_db/data/nrbfo__10X__Visium__Human__prostate__20220712__v2.0.0/nrbfo__10X__Visium__Human__prostate__20220712__v2.0.0.contents to /lustre/groups/ml01/projects/2024_spatialdata_db/data/nrbfo__10X__Visium__Human__prostate__20220712__v2.0.0/10thd__10X__Visium__Human__prostate__20220712__v2.0.0.contents: [Errno 2] No such file or directory: '/lustre/groups/ml01/projects/2024_spatialdata_db/data/nrbfo__10X__Visium__Human__prostate__20220712__v2.0.0/nrbfo__10X__Visium__Human__prostate__20220712__v2.0.0.contents' -> '/lustre/groups/ml01/projects/2024_spatialdata_db/data/nrbfo__10X__Visium__Human__prostate__20220712__v2.0.0/10thd__10X__Visium__Human__prostate__20220712__v2.0.0.contents'\n"
     ]
    },
    {
     "name": "stderr",
     "output_type": "stream",
     "text": [
      "Renaming files:  14%|█▍        | 19657/141703 [00:04<00:25, 4830.26it/s]"
     ]
    },
    {
     "name": "stdout",
     "output_type": "stream",
     "text": [
      "Error renaming file /lustre/groups/ml01/projects/2024_spatialdata_db/data/0bbcf__10X__Xenium__Human__skin__20240305__v1.9.0__Sample2/0bbcf__10X__Xenium__Human__skin__20240305__v1.9.0__Sample2.contents to /lustre/groups/ml01/projects/2024_spatialdata_db/data/0bbcf__10X__Xenium__Human__skin__20240305__v1.9.0__Sample2/10ae2__10X__Xenium__Human__skin__20240305__v1.9.0__Sample2.contents: [Errno 2] No such file or directory: '/lustre/groups/ml01/projects/2024_spatialdata_db/data/0bbcf__10X__Xenium__Human__skin__20240305__v1.9.0__Sample2/0bbcf__10X__Xenium__Human__skin__20240305__v1.9.0__Sample2.contents' -> '/lustre/groups/ml01/projects/2024_spatialdata_db/data/0bbcf__10X__Xenium__Human__skin__20240305__v1.9.0__Sample2/10ae2__10X__Xenium__Human__skin__20240305__v1.9.0__Sample2.contents'\n"
     ]
    },
    {
     "name": "stderr",
     "output_type": "stream",
     "text": [
      "Renaming files:  15%|█▍        | 20612/141703 [00:04<00:26, 4538.95it/s]"
     ]
    },
    {
     "name": "stdout",
     "output_type": "stream",
     "text": [
      "Error renaming file /lustre/groups/ml01/projects/2024_spatialdata_db/data/hp7qe__10X__Xenium__Human__bone_bone_marrow__20240403__v1.9.0__Non-diseasedBoneMarrow/hp7qe__10X__Xenium__Human__bone_bone_marrow__20240403__v1.9.0__Non-diseasedBoneMarrow.contents to /lustre/groups/ml01/projects/2024_spatialdata_db/data/hp7qe__10X__Xenium__Human__bone_bone_marrow__20240403__v1.9.0__Non-diseasedBoneMarrow/10040__10X__Xenium__Human__bone_bone_marrow__20240403__v1.9.0__Non-diseasedBoneMarrow.contents: [Errno 2] No such file or directory: '/lustre/groups/ml01/projects/2024_spatialdata_db/data/hp7qe__10X__Xenium__Human__bone_bone_marrow__20240403__v1.9.0__Non-diseasedBoneMarrow/hp7qe__10X__Xenium__Human__bone_bone_marrow__20240403__v1.9.0__Non-diseasedBoneMarrow.contents' -> '/lustre/groups/ml01/projects/2024_spatialdata_db/data/hp7qe__10X__Xenium__Human__bone_bone_marrow__20240403__v1.9.0__Non-diseasedBoneMarrow/10040__10X__Xenium__Human__bone_bone_marrow__20240403__v1.9.0__Non-diseasedBoneMarrow.contents'\n"
     ]
    },
    {
     "name": "stderr",
     "output_type": "stream",
     "text": [
      "Renaming files:  15%|█▍        | 21068/141703 [00:04<00:26, 4476.47it/s]"
     ]
    },
    {
     "name": "stdout",
     "output_type": "stream",
     "text": [
      "Error renaming file /lustre/groups/ml01/projects/2024_spatialdata_db/data/gertw__10X__Visium__Mouse__kidney__20191202__v1.0.0/gertw__10X__Visium__Mouse__kidney__20191202__v1.0.0.contents to /lustre/groups/ml01/projects/2024_spatialdata_db/data/gertw__10X__Visium__Mouse__kidney__20191202__v1.0.0/1094t__10X__Visium__Mouse__kidney__20191202__v1.0.0.contents: [Errno 2] No such file or directory: '/lustre/groups/ml01/projects/2024_spatialdata_db/data/gertw__10X__Visium__Mouse__kidney__20191202__v1.0.0/gertw__10X__Visium__Mouse__kidney__20191202__v1.0.0.contents' -> '/lustre/groups/ml01/projects/2024_spatialdata_db/data/gertw__10X__Visium__Mouse__kidney__20191202__v1.0.0/1094t__10X__Visium__Mouse__kidney__20191202__v1.0.0.contents'\n"
     ]
    },
    {
     "name": "stderr",
     "output_type": "stream",
     "text": [
      "Renaming files:  16%|█▌        | 22003/141703 [00:05<00:27, 4422.65it/s]"
     ]
    },
    {
     "name": "stdout",
     "output_type": "stream",
     "text": [
      "Error renaming file /lustre/groups/ml01/projects/2024_spatialdata_db/data/ys7m7__10X__Visium__Human__cervix__20220328__v1.3.0/ys7m7__10X__Visium__Human__cervix__20220328__v1.3.0.contents to /lustre/groups/ml01/projects/2024_spatialdata_db/data/ys7m7__10X__Visium__Human__cervix__20220328__v1.3.0/10hm6__10X__Visium__Human__cervix__20220328__v1.3.0.contents: [Errno 2] No such file or directory: '/lustre/groups/ml01/projects/2024_spatialdata_db/data/ys7m7__10X__Visium__Human__cervix__20220328__v1.3.0/ys7m7__10X__Visium__Human__cervix__20220328__v1.3.0.contents' -> '/lustre/groups/ml01/projects/2024_spatialdata_db/data/ys7m7__10X__Visium__Human__cervix__20220328__v1.3.0/10hm6__10X__Visium__Human__cervix__20220328__v1.3.0.contents'\n",
      "Error renaming file /lustre/groups/ml01/projects/2024_spatialdata_db/data/x3fho__10X__Xenium__Human__liver__20240305__v1.9.0__Livercancer/x3fho__10X__Xenium__Human__liver__20240305__v1.9.0__Livercancer.contents to /lustre/groups/ml01/projects/2024_spatialdata_db/data/x3fho__10X__Xenium__Human__liver__20240305__v1.9.0__Livercancer/108dr__10X__Xenium__Human__liver__20240305__v1.9.0__Livercancer.contents: [Errno 2] No such file or directory: '/lustre/groups/ml01/projects/2024_spatialdata_db/data/x3fho__10X__Xenium__Human__liver__20240305__v1.9.0__Livercancer/x3fho__10X__Xenium__Human__liver__20240305__v1.9.0__Livercancer.contents' -> '/lustre/groups/ml01/projects/2024_spatialdata_db/data/x3fho__10X__Xenium__Human__liver__20240305__v1.9.0__Livercancer/108dr__10X__Xenium__Human__liver__20240305__v1.9.0__Livercancer.contents'\n"
     ]
    },
    {
     "name": "stderr",
     "output_type": "stream",
     "text": [
      "Renaming files:  16%|█▌        | 23004/141703 [00:05<00:25, 4688.79it/s]"
     ]
    },
    {
     "name": "stdout",
     "output_type": "stream",
     "text": [
      "Error renaming file /lustre/groups/ml01/projects/2024_spatialdata_db/data/fh4bl__10X__Xenium__Human__intestine_colon__20230829__v1.6.0__Non-diseasedpre-designedpanel/fh4bl__10X__Xenium__Human__intestine_colon__20230829__v1.6.0__Non-diseasedpre-designedpanel.contents to /lustre/groups/ml01/projects/2024_spatialdata_db/data/fh4bl__10X__Xenium__Human__intestine_colon__20230829__v1.6.0__Non-diseasedpre-designedpanel/10tsy__10X__Xenium__Human__intestine_colon__20230829__v1.6.0__Non-diseasedpre-designedpanel.contents: [Errno 2] No such file or directory: '/lustre/groups/ml01/projects/2024_spatialdata_db/data/fh4bl__10X__Xenium__Human__intestine_colon__20230829__v1.6.0__Non-diseasedpre-designedpanel/fh4bl__10X__Xenium__Human__intestine_colon__20230829__v1.6.0__Non-diseasedpre-designedpanel.contents' -> '/lustre/groups/ml01/projects/2024_spatialdata_db/data/fh4bl__10X__Xenium__Human__intestine_colon__20230829__v1.6.0__Non-diseasedpre-designedpanel/10tsy__10X__Xenium__Human__intestine_colon__20230829__v1.6.0__Non-diseasedpre-designedpanel.contents'\n"
     ]
    },
    {
     "name": "stderr",
     "output_type": "stream",
     "text": [
      "Renaming files:  17%|█▋        | 23967/141703 [00:05<00:25, 4629.87it/s]"
     ]
    },
    {
     "name": "stdout",
     "output_type": "stream",
     "text": [
      "Error renaming file /lustre/groups/ml01/projects/2024_spatialdata_db/data/s6qwt__10X__Visium__Mouse__brain__20191202__v1.0.0/s6qwt__10X__Visium__Mouse__brain__20191202__v1.0.0.contents to /lustre/groups/ml01/projects/2024_spatialdata_db/data/s6qwt__10X__Visium__Mouse__brain__20191202__v1.0.0/10rm3__10X__Visium__Mouse__brain__20191202__v1.0.0.contents: [Errno 2] No such file or directory: '/lustre/groups/ml01/projects/2024_spatialdata_db/data/s6qwt__10X__Visium__Mouse__brain__20191202__v1.0.0/s6qwt__10X__Visium__Mouse__brain__20191202__v1.0.0.contents' -> '/lustre/groups/ml01/projects/2024_spatialdata_db/data/s6qwt__10X__Visium__Mouse__brain__20191202__v1.0.0/10rm3__10X__Visium__Mouse__brain__20191202__v1.0.0.contents'\n"
     ]
    },
    {
     "name": "stderr",
     "output_type": "stream",
     "text": [
      "Renaming files:  17%|█▋        | 24454/141703 [00:05<00:24, 4697.97it/s]"
     ]
    },
    {
     "name": "stdout",
     "output_type": "stream",
     "text": [
      "Error renaming file /lustre/groups/ml01/projects/2024_spatialdata_db/data/zfcqw__10X__Visium__Mouse__brain__20220712__v2.0.0/zfcqw__10X__Visium__Mouse__brain__20220712__v2.0.0.contents to /lustre/groups/ml01/projects/2024_spatialdata_db/data/zfcqw__10X__Visium__Mouse__brain__20220712__v2.0.0/10676__10X__Visium__Mouse__brain__20220712__v2.0.0.contents: [Errno 2] No such file or directory: '/lustre/groups/ml01/projects/2024_spatialdata_db/data/zfcqw__10X__Visium__Mouse__brain__20220712__v2.0.0/zfcqw__10X__Visium__Mouse__brain__20220712__v2.0.0.contents' -> '/lustre/groups/ml01/projects/2024_spatialdata_db/data/zfcqw__10X__Visium__Mouse__brain__20220712__v2.0.0/10676__10X__Visium__Mouse__brain__20220712__v2.0.0.contents'\n",
      "Error renaming file /lustre/groups/ml01/projects/2024_spatialdata_db/data/bojy8__10X__Visium__Mouse__brain__20200623__v1.1.0/bojy8__10X__Visium__Mouse__brain__20200623__v1.1.0.contents to /lustre/groups/ml01/projects/2024_spatialdata_db/data/bojy8__10X__Visium__Mouse__brain__20200623__v1.1.0/10fc7__10X__Visium__Mouse__brain__20200623__v1.1.0.contents: [Errno 2] No such file or directory: '/lustre/groups/ml01/projects/2024_spatialdata_db/data/bojy8__10X__Visium__Mouse__brain__20200623__v1.1.0/bojy8__10X__Visium__Mouse__brain__20200623__v1.1.0.contents' -> '/lustre/groups/ml01/projects/2024_spatialdata_db/data/bojy8__10X__Visium__Mouse__brain__20200623__v1.1.0/10fc7__10X__Visium__Mouse__brain__20200623__v1.1.0.contents'"
     ]
    },
    {
     "name": "stderr",
     "output_type": "stream",
     "text": [
      "Renaming files:  18%|█▊        | 24926/141703 [00:05<00:25, 4668.63it/s]"
     ]
    },
    {
     "name": "stdout",
     "output_type": "stream",
     "text": [
      "\n"
     ]
    },
    {
     "name": "stderr",
     "output_type": "stream",
     "text": [
      "Renaming files:  19%|█▊        | 26489/141703 [00:06<00:22, 5094.03it/s]"
     ]
    },
    {
     "name": "stdout",
     "output_type": "stream",
     "text": [
      "Error renaming file /lustre/groups/ml01/projects/2024_spatialdata_db/data/llyvi__10X__Visium__Human__breast__20191212__v1.0.0/llyvi__10X__Visium__Human__breast__20191212__v1.0.0.contents to /lustre/groups/ml01/projects/2024_spatialdata_db/data/llyvi__10X__Visium__Human__breast__20191212__v1.0.0/10wsf__10X__Visium__Human__breast__20191212__v1.0.0.contents: [Errno 2] No such file or directory: '/lustre/groups/ml01/projects/2024_spatialdata_db/data/llyvi__10X__Visium__Human__breast__20191212__v1.0.0/llyvi__10X__Visium__Human__breast__20191212__v1.0.0.contents' -> '/lustre/groups/ml01/projects/2024_spatialdata_db/data/llyvi__10X__Visium__Human__breast__20191212__v1.0.0/10wsf__10X__Visium__Human__breast__20191212__v1.0.0.contents'\n"
     ]
    },
    {
     "name": "stderr",
     "output_type": "stream",
     "text": [
      "Renaming files:  19%|█▉        | 27000/141703 [00:06<00:22, 5061.57it/s]"
     ]
    },
    {
     "name": "stdout",
     "output_type": "stream",
     "text": [
      "Error renaming file /lustre/groups/ml01/projects/2024_spatialdata_db/data/bw2x9__10X__Visium__Mouse__lung_brain__20230221__v2.0.1__BrainReplicate3/bw2x9__10X__Visium__Mouse__lung_brain__20230221__v2.0.1__BrainReplicate3.contents to /lustre/groups/ml01/projects/2024_spatialdata_db/data/bw2x9__10X__Visium__Mouse__lung_brain__20230221__v2.0.1__BrainReplicate3/10s8t__10X__Visium__Mouse__lung_brain__20230221__v2.0.1__BrainReplicate3.contents: [Errno 2] No such file or directory: '/lustre/groups/ml01/projects/2024_spatialdata_db/data/bw2x9__10X__Visium__Mouse__lung_brain__20230221__v2.0.1__BrainReplicate3/bw2x9__10X__Visium__Mouse__lung_brain__20230221__v2.0.1__BrainReplicate3.contents' -> '/lustre/groups/ml01/projects/2024_spatialdata_db/data/bw2x9__10X__Visium__Mouse__lung_brain__20230221__v2.0.1__BrainReplicate3/10s8t__10X__Visium__Mouse__lung_brain__20230221__v2.0.1__BrainReplicate3.contents'\n"
     ]
    },
    {
     "name": "stderr",
     "output_type": "stream",
     "text": [
      "Renaming files:  20%|██        | 28975/141703 [00:06<00:23, 4755.37it/s]"
     ]
    },
    {
     "name": "stdout",
     "output_type": "stream",
     "text": [
      "Error renaming file /lustre/groups/ml01/projects/2024_spatialdata_db/data/i3vq9__10X__Xenium__Human__tonsil__20240305__v1.9.0__Follicularlymphoidhyperplasia/i3vq9__10X__Xenium__Human__tonsil__20240305__v1.9.0__Follicularlymphoidhyperplasia.contents to /lustre/groups/ml01/projects/2024_spatialdata_db/data/i3vq9__10X__Xenium__Human__tonsil__20240305__v1.9.0__Follicularlymphoidhyperplasia/1020d__10X__Xenium__Human__tonsil__20240305__v1.9.0__Follicularlymphoidhyperplasia.contents: [Errno 2] No such file or directory: '/lustre/groups/ml01/projects/2024_spatialdata_db/data/i3vq9__10X__Xenium__Human__tonsil__20240305__v1.9.0__Follicularlymphoidhyperplasia/i3vq9__10X__Xenium__Human__tonsil__20240305__v1.9.0__Follicularlymphoidhyperplasia.contents' -> '/lustre/groups/ml01/projects/2024_spatialdata_db/data/i3vq9__10X__Xenium__Human__tonsil__20240305__v1.9.0__Follicularlymphoidhyperplasia/1020d__10X__Xenium__Human__tonsil__20240305__v1.9.0__Follicularlymphoidhyperplasia.contents'\n"
     ]
    },
    {
     "name": "stderr",
     "output_type": "stream",
     "text": [
      "Renaming files:  22%|██▏       | 30885/141703 [00:06<00:23, 4712.21it/s]"
     ]
    },
    {
     "name": "stdout",
     "output_type": "stream",
     "text": [
      "Error renaming file /lustre/groups/ml01/projects/2024_spatialdata_db/data/8jqzn__10X__Xenium__Human__breast__20230418__v1.3.0__Tissuesample1(IDC)/8jqzn__10X__Xenium__Human__breast__20230418__v1.3.0__Tissuesample1(IDC).contents to /lustre/groups/ml01/projects/2024_spatialdata_db/data/8jqzn__10X__Xenium__Human__breast__20230418__v1.3.0__Tissuesample1(IDC)/10uac__10X__Xenium__Human__breast__20230418__v1.3.0__Tissuesample1(IDC).contents: [Errno 2] No such file or directory: '/lustre/groups/ml01/projects/2024_spatialdata_db/data/8jqzn__10X__Xenium__Human__breast__20230418__v1.3.0__Tissuesample1(IDC)/8jqzn__10X__Xenium__Human__breast__20230418__v1.3.0__Tissuesample1(IDC).contents' -> '/lustre/groups/ml01/projects/2024_spatialdata_db/data/8jqzn__10X__Xenium__Human__breast__20230418__v1.3.0__Tissuesample1(IDC)/10uac__10X__Xenium__Human__breast__20230418__v1.3.0__Tissuesample1(IDC).contents'\n"
     ]
    },
    {
     "name": "stderr",
     "output_type": "stream",
     "text": [
      "Renaming files:  23%|██▎       | 32468/141703 [00:07<00:21, 5037.38it/s]"
     ]
    },
    {
     "name": "stdout",
     "output_type": "stream",
     "text": [
      "Error renaming file /lustre/groups/ml01/projects/2024_spatialdata_db/data/5qzqy__10X__Visium__Human__breast__20200623__v1.1.0/5qzqy__10X__Visium__Human__breast__20200623__v1.1.0.contents to /lustre/groups/ml01/projects/2024_spatialdata_db/data/5qzqy__10X__Visium__Human__breast__20200623__v1.1.0/10fty__10X__Visium__Human__breast__20200623__v1.1.0.contents: [Errno 2] No such file or directory: '/lustre/groups/ml01/projects/2024_spatialdata_db/data/5qzqy__10X__Visium__Human__breast__20200623__v1.1.0/5qzqy__10X__Visium__Human__breast__20200623__v1.1.0.contents' -> '/lustre/groups/ml01/projects/2024_spatialdata_db/data/5qzqy__10X__Visium__Human__breast__20200623__v1.1.0/10fty__10X__Visium__Human__breast__20200623__v1.1.0.contents'\n"
     ]
    },
    {
     "name": "stderr",
     "output_type": "stream",
     "text": [
      "Renaming files:  23%|██▎       | 32973/141703 [00:07<00:22, 4799.81it/s]"
     ]
    },
    {
     "name": "stdout",
     "output_type": "stream",
     "text": [
      "Error renaming file /lustre/groups/ml01/projects/2024_spatialdata_db/data/th4zp__10X__Visium__Mouse__lung_brain__20230221__v2.0.1__LungReplicate1/th4zp__10X__Visium__Mouse__lung_brain__20230221__v2.0.1__LungReplicate1.contents to /lustre/groups/ml01/projects/2024_spatialdata_db/data/th4zp__10X__Visium__Mouse__lung_brain__20230221__v2.0.1__LungReplicate1/10v61__10X__Visium__Mouse__lung_brain__20230221__v2.0.1__LungReplicate1.contents: [Errno 2] No such file or directory: '/lustre/groups/ml01/projects/2024_spatialdata_db/data/th4zp__10X__Visium__Mouse__lung_brain__20230221__v2.0.1__LungReplicate1/th4zp__10X__Visium__Mouse__lung_brain__20230221__v2.0.1__LungReplicate1.contents' -> '/lustre/groups/ml01/projects/2024_spatialdata_db/data/th4zp__10X__Visium__Mouse__lung_brain__20230221__v2.0.1__LungReplicate1/10v61__10X__Visium__Mouse__lung_brain__20230221__v2.0.1__LungReplicate1.contents'\n",
      "Error renaming file /lustre/groups/ml01/projects/2024_spatialdata_db/data/w1tgu__10X__Xenium__Human__intestine_colon__20230829__v1.6.0__Non-diseasedpre-designed+add-onpanel/w1tgu__10X__Xenium__Human__intestine_colon__20230829__v1.6.0__Non-diseasedpre-designed+add-onpanel.contents to /lustre/groups/ml01/projects/2024_spatialdata_db/data/w1tgu__10X__Xenium__Human__intestine_colon__20230829__v1.6.0__Non-diseasedpre-designed+add-onpanel/101t3__10X__Xenium__Human__intestine_colon__20230829__v1.6.0__Non-diseasedpre-designed+add-onpanel.contents: [Errno 2] No such file or directory: '/lustre/groups/ml01/projects/2024_spatialdata_db/data/w1tgu__10X__Xenium__Human__intestine_colon__20230829__v1.6.0__Non-diseasedpre-designed+add-onpanel/w1tgu__10X__Xenium__Human__intestine_colon__20230829__v1.6.0__Non-diseasedpre-designed+add-onpanel.contents' -> '/lustre/groups/ml01/projects/2024_spatialdata_db/data/w1tgu__10X__Xenium__Human__intestine_colon__20230829__v1.6.0__Non-diseasedpre-designed+add-onpanel/101t3__10X__Xenium__Human__intestine_colon__20230829__v1.6.0__Non-diseasedpre-designed+add-onpanel.contents'\n"
     ]
    },
    {
     "name": "stderr",
     "output_type": "stream",
     "text": [
      "Renaming files:  24%|██▍       | 34707/141703 [00:07<00:20, 5137.05it/s]"
     ]
    },
    {
     "name": "stdout",
     "output_type": "stream",
     "text": [
      "Error renaming file /lustre/groups/ml01/projects/2024_spatialdata_db/data/9z0ng__10X__Xenium__Mouse__brain__20230713__v1.4.0__TgCRND85.7months/9z0ng__10X__Xenium__Mouse__brain__20230713__v1.4.0__TgCRND85.7months.contents to /lustre/groups/ml01/projects/2024_spatialdata_db/data/9z0ng__10X__Xenium__Mouse__brain__20230713__v1.4.0__TgCRND85.7months/10fpp__10X__Xenium__Mouse__brain__20230713__v1.4.0__TgCRND85.7months.contents: [Errno 2] No such file or directory: '/lustre/groups/ml01/projects/2024_spatialdata_db/data/9z0ng__10X__Xenium__Mouse__brain__20230713__v1.4.0__TgCRND85.7months/9z0ng__10X__Xenium__Mouse__brain__20230713__v1.4.0__TgCRND85.7months.contents' -> '/lustre/groups/ml01/projects/2024_spatialdata_db/data/9z0ng__10X__Xenium__Mouse__brain__20230713__v1.4.0__TgCRND85.7months/10fpp__10X__Xenium__Mouse__brain__20230713__v1.4.0__TgCRND85.7months.contents'\n",
      "Error renaming file /lustre/groups/ml01/projects/2024_spatialdata_db/data/6aond__10X__Visium__Human__cerebellum__20220712__v2.0.0/6aond__10X__Visium__Human__cerebellum__20220712__v2.0.0.contents to /lustre/groups/ml01/projects/2024_spatialdata_db/data/6aond__10X__Visium__Human__cerebellum__20220712__v2.0.0/10etk__10X__Visium__Human__cerebellum__20220712__v2.0.0.contents: [Errno 2] No such file or directory: '/lustre/groups/ml01/projects/2024_spatialdata_db/data/6aond__10X__Visium__Human__cerebellum__20220712__v2.0.0/6aond__10X__Visium__Human__cerebellum__20220712__v2.0.0.contents' -> '/lustre/groups/ml01/projects/2024_spatialdata_db/data/6aond__10X__Visium__Human__cerebellum__20220712__v2.0.0/10etk__10X__Visium__Human__cerebellum__20220712__v2.0.0.contents'\n"
     ]
    },
    {
     "name": "stderr",
     "output_type": "stream",
     "text": [
      "Renaming files:  25%|██▍       | 35226/141703 [00:07<00:22, 4818.73it/s]"
     ]
    },
    {
     "name": "stdout",
     "output_type": "stream",
     "text": [
      "Error renaming file /lustre/groups/ml01/projects/2024_spatialdata_db/data/p1yrb__10X__Visium__Mouse__brain__20220713__v2.0.0/p1yrb__10X__Visium__Mouse__brain__20220713__v2.0.0.contents to /lustre/groups/ml01/projects/2024_spatialdata_db/data/p1yrb__10X__Visium__Mouse__brain__20220713__v2.0.0/10834__10X__Visium__Mouse__brain__20220713__v2.0.0.contents: [Errno 2] No such file or directory: '/lustre/groups/ml01/projects/2024_spatialdata_db/data/p1yrb__10X__Visium__Mouse__brain__20220713__v2.0.0/p1yrb__10X__Visium__Mouse__brain__20220713__v2.0.0.contents' -> '/lustre/groups/ml01/projects/2024_spatialdata_db/data/p1yrb__10X__Visium__Mouse__brain__20220713__v2.0.0/10834__10X__Visium__Mouse__brain__20220713__v2.0.0.contents'\n"
     ]
    },
    {
     "name": "stderr",
     "output_type": "stream",
     "text": [
      "Renaming files:  29%|██▉       | 40752/141703 [00:08<00:20, 4887.15it/s]"
     ]
    },
    {
     "name": "stdout",
     "output_type": "stream",
     "text": [
      "Error renaming file /lustre/groups/ml01/projects/2024_spatialdata_db/data/nqe4e__10X__Xenium__Mouse__bone__20240403__v1.9.0__10Formicaciddecalcification/nqe4e__10X__Xenium__Mouse__bone__20240403__v1.9.0__10Formicaciddecalcification.contents to /lustre/groups/ml01/projects/2024_spatialdata_db/data/nqe4e__10X__Xenium__Mouse__bone__20240403__v1.9.0__10Formicaciddecalcification/106xa__10X__Xenium__Mouse__bone__20240403__v1.9.0__10Formicaciddecalcification.contents: [Errno 2] No such file or directory: '/lustre/groups/ml01/projects/2024_spatialdata_db/data/nqe4e__10X__Xenium__Mouse__bone__20240403__v1.9.0__10Formicaciddecalcification/nqe4e__10X__Xenium__Mouse__bone__20240403__v1.9.0__10Formicaciddecalcification.contents' -> '/lustre/groups/ml01/projects/2024_spatialdata_db/data/nqe4e__10X__Xenium__Mouse__bone__20240403__v1.9.0__10Formicaciddecalcification/106xa__10X__Xenium__Mouse__bone__20240403__v1.9.0__10Formicaciddecalcification.contents'\n"
     ]
    },
    {
     "name": "stderr",
     "output_type": "stream",
     "text": [
      "Renaming files:  29%|██▉       | 41727/141703 [00:09<00:22, 4393.08it/s]"
     ]
    },
    {
     "name": "stdout",
     "output_type": "stream",
     "text": [
      "Error renaming file /lustre/groups/ml01/projects/2024_spatialdata_db/data/02uqv__10X__Visium__Mouse__brain__20191202__v1.0.0/02uqv__10X__Visium__Mouse__brain__20191202__v1.0.0.contents to /lustre/groups/ml01/projects/2024_spatialdata_db/data/02uqv__10X__Visium__Mouse__brain__20191202__v1.0.0/10xtf__10X__Visium__Mouse__brain__20191202__v1.0.0.contents: [Errno 2] No such file or directory: '/lustre/groups/ml01/projects/2024_spatialdata_db/data/02uqv__10X__Visium__Mouse__brain__20191202__v1.0.0/02uqv__10X__Visium__Mouse__brain__20191202__v1.0.0.contents' -> '/lustre/groups/ml01/projects/2024_spatialdata_db/data/02uqv__10X__Visium__Mouse__brain__20191202__v1.0.0/10xtf__10X__Visium__Mouse__brain__20191202__v1.0.0.contents'\n"
     ]
    },
    {
     "name": "stderr",
     "output_type": "stream",
     "text": [
      "Renaming files:  30%|██▉       | 42365/141703 [00:09<00:20, 4910.71it/s]"
     ]
    },
    {
     "name": "stdout",
     "output_type": "stream",
     "text": [
      "Error renaming file /lustre/groups/ml01/projects/2024_spatialdata_db/data/uxen8__10X__Xenium__Human__breast__20230122__v1.0.2__Replicate2/uxen8__10X__Xenium__Human__breast__20230122__v1.0.2__Replicate2.contents to /lustre/groups/ml01/projects/2024_spatialdata_db/data/uxen8__10X__Xenium__Human__breast__20230122__v1.0.2__Replicate2/10xay__10X__Xenium__Human__breast__20230122__v1.0.2__Replicate2.contents: [Errno 2] No such file or directory: '/lustre/groups/ml01/projects/2024_spatialdata_db/data/uxen8__10X__Xenium__Human__breast__20230122__v1.0.2__Replicate2/uxen8__10X__Xenium__Human__breast__20230122__v1.0.2__Replicate2.contents' -> '/lustre/groups/ml01/projects/2024_spatialdata_db/data/uxen8__10X__Xenium__Human__breast__20230122__v1.0.2__Replicate2/10xay__10X__Xenium__Human__breast__20230122__v1.0.2__Replicate2.contents'\n"
     ]
    },
    {
     "name": "stderr",
     "output_type": "stream",
     "text": [
      "Renaming files:  32%|███▏      | 44952/141703 [00:09<00:19, 4962.40it/s]"
     ]
    },
    {
     "name": "stdout",
     "output_type": "stream",
     "text": [
      "Error renaming file /lustre/groups/ml01/projects/2024_spatialdata_db/data/hg0x5__10X__Visium__Mouse__embryo__20220714__v2.0.0/hg0x5__10X__Visium__Mouse__embryo__20220714__v2.0.0.contents to /lustre/groups/ml01/projects/2024_spatialdata_db/data/hg0x5__10X__Visium__Mouse__embryo__20220714__v2.0.0/10e4x__10X__Visium__Mouse__embryo__20220714__v2.0.0.contents: [Errno 2] No such file or directory: '/lustre/groups/ml01/projects/2024_spatialdata_db/data/hg0x5__10X__Visium__Mouse__embryo__20220714__v2.0.0/hg0x5__10X__Visium__Mouse__embryo__20220714__v2.0.0.contents' -> '/lustre/groups/ml01/projects/2024_spatialdata_db/data/hg0x5__10X__Visium__Mouse__embryo__20220714__v2.0.0/10e4x__10X__Visium__Mouse__embryo__20220714__v2.0.0.contents'\n"
     ]
    },
    {
     "name": "stderr",
     "output_type": "stream",
     "text": [
      "Renaming files:  34%|███▍      | 48049/141703 [00:10<00:18, 5026.85it/s]"
     ]
    },
    {
     "name": "stdout",
     "output_type": "stream",
     "text": [
      "Error renaming file /lustre/groups/ml01/projects/2024_spatialdata_db/data/vrwlc__10X__Visium__Mouse__lung_brain__20230221__v2.0.1__AllTissueCores/vrwlc__10X__Visium__Mouse__lung_brain__20230221__v2.0.1__AllTissueCores.contents to /lustre/groups/ml01/projects/2024_spatialdata_db/data/vrwlc__10X__Visium__Mouse__lung_brain__20230221__v2.0.1__AllTissueCores/10ttt__10X__Visium__Mouse__lung_brain__20230221__v2.0.1__AllTissueCores.contents: [Errno 2] No such file or directory: '/lustre/groups/ml01/projects/2024_spatialdata_db/data/vrwlc__10X__Visium__Mouse__lung_brain__20230221__v2.0.1__AllTissueCores/vrwlc__10X__Visium__Mouse__lung_brain__20230221__v2.0.1__AllTissueCores.contents' -> '/lustre/groups/ml01/projects/2024_spatialdata_db/data/vrwlc__10X__Visium__Mouse__lung_brain__20230221__v2.0.1__AllTissueCores/10ttt__10X__Visium__Mouse__lung_brain__20230221__v2.0.1__AllTissueCores.contents'\n"
     ]
    },
    {
     "name": "stderr",
     "output_type": "stream",
     "text": [
      "Renaming files:  34%|███▍      | 48554/141703 [00:10<00:19, 4826.74it/s]"
     ]
    },
    {
     "name": "stdout",
     "output_type": "stream",
     "text": [
      "Error renaming file /lustre/groups/ml01/projects/2024_spatialdata_db/data/7z1k9__10X__Xenium__Human__lung__20230717__v1.5.0/7z1k9__10X__Xenium__Human__lung__20230717__v1.5.0.contents to /lustre/groups/ml01/projects/2024_spatialdata_db/data/7z1k9__10X__Xenium__Human__lung__20230717__v1.5.0/107sr__10X__Xenium__Human__lung__20230717__v1.5.0.contents: [Errno 2] No such file or directory: '/lustre/groups/ml01/projects/2024_spatialdata_db/data/7z1k9__10X__Xenium__Human__lung__20230717__v1.5.0/7z1k9__10X__Xenium__Human__lung__20230717__v1.5.0.contents' -> '/lustre/groups/ml01/projects/2024_spatialdata_db/data/7z1k9__10X__Xenium__Human__lung__20230717__v1.5.0/107sr__10X__Xenium__Human__lung__20230717__v1.5.0.contents'\n"
     ]
    },
    {
     "name": "stderr",
     "output_type": "stream",
     "text": [
      "Renaming files:  35%|███▍      | 49095/141703 [00:10<00:18, 4990.81it/s]"
     ]
    },
    {
     "name": "stdout",
     "output_type": "stream",
     "text": [
      "Error renaming file /lustre/groups/ml01/projects/2024_spatialdata_db/data/di0of__10X__CytAssist__Human__brain__20230515__v2.1.0/di0of__10X__CytAssist__Human__brain__20230515__v2.1.0.contents to /lustre/groups/ml01/projects/2024_spatialdata_db/data/di0of__10X__CytAssist__Human__brain__20230515__v2.1.0/10z91__10X__CytAssist__Human__brain__20230515__v2.1.0.contents: [Errno 2] No such file or directory: '/lustre/groups/ml01/projects/2024_spatialdata_db/data/di0of__10X__CytAssist__Human__brain__20230515__v2.1.0/di0of__10X__CytAssist__Human__brain__20230515__v2.1.0.contents' -> '/lustre/groups/ml01/projects/2024_spatialdata_db/data/di0of__10X__CytAssist__Human__brain__20230515__v2.1.0/10z91__10X__CytAssist__Human__brain__20230515__v2.1.0.contents'\n"
     ]
    },
    {
     "name": "stderr",
     "output_type": "stream",
     "text": [
      "Renaming files:  35%|███▌      | 49597/141703 [00:10<00:19, 4710.90it/s]"
     ]
    },
    {
     "name": "stdout",
     "output_type": "stream",
     "text": [
      "Error renaming file /lustre/groups/ml01/projects/2024_spatialdata_db/data/7qz12__10X__Visium__Human__brain_cerebellum__20201027__v1.2.0/7qz12__10X__Visium__Human__brain_cerebellum__20201027__v1.2.0.contents to /lustre/groups/ml01/projects/2024_spatialdata_db/data/7qz12__10X__Visium__Human__brain_cerebellum__20201027__v1.2.0/10hxz__10X__Visium__Human__brain_cerebellum__20201027__v1.2.0.contents: [Errno 2] No such file or directory: '/lustre/groups/ml01/projects/2024_spatialdata_db/data/7qz12__10X__Visium__Human__brain_cerebellum__20201027__v1.2.0/7qz12__10X__Visium__Human__brain_cerebellum__20201027__v1.2.0.contents' -> '/lustre/groups/ml01/projects/2024_spatialdata_db/data/7qz12__10X__Visium__Human__brain_cerebellum__20201027__v1.2.0/10hxz__10X__Visium__Human__brain_cerebellum__20201027__v1.2.0.contents'\n"
     ]
    },
    {
     "name": "stderr",
     "output_type": "stream",
     "text": [
      "Renaming files:  35%|███▌      | 50184/141703 [00:10<00:18, 5034.18it/s]"
     ]
    },
    {
     "name": "stdout",
     "output_type": "stream",
     "text": [
      "Error renaming file /lustre/groups/ml01/projects/2024_spatialdata_db/data/nnx96__10X__Xenium__Mouse__brain__20230122__v1.0.2__Replicate1/nnx96__10X__Xenium__Mouse__brain__20230122__v1.0.2__Replicate1.contents to /lustre/groups/ml01/projects/2024_spatialdata_db/data/nnx96__10X__Xenium__Mouse__brain__20230122__v1.0.2__Replicate1/10x88__10X__Xenium__Mouse__brain__20230122__v1.0.2__Replicate1.contents: [Errno 2] No such file or directory: '/lustre/groups/ml01/projects/2024_spatialdata_db/data/nnx96__10X__Xenium__Mouse__brain__20230122__v1.0.2__Replicate1/nnx96__10X__Xenium__Mouse__brain__20230122__v1.0.2__Replicate1.contents' -> '/lustre/groups/ml01/projects/2024_spatialdata_db/data/nnx96__10X__Xenium__Mouse__brain__20230122__v1.0.2__Replicate1/10x88__10X__Xenium__Mouse__brain__20230122__v1.0.2__Replicate1.contents'\n"
     ]
    },
    {
     "name": "stderr",
     "output_type": "stream",
     "text": [
      "Renaming files:  36%|███▌      | 51178/141703 [00:11<00:19, 4718.06it/s]"
     ]
    },
    {
     "name": "stdout",
     "output_type": "stream",
     "text": [
      "Error renaming file /lustre/groups/ml01/projects/2024_spatialdata_db/data/twgn1__10X__Xenium__Human__tonsil__20240305__v1.9.0__Reactivefollicularhyperplasia/twgn1__10X__Xenium__Human__tonsil__20240305__v1.9.0__Reactivefollicularhyperplasia.contents to /lustre/groups/ml01/projects/2024_spatialdata_db/data/twgn1__10X__Xenium__Human__tonsil__20240305__v1.9.0__Reactivefollicularhyperplasia/10arp__10X__Xenium__Human__tonsil__20240305__v1.9.0__Reactivefollicularhyperplasia.contents: [Errno 2] No such file or directory: '/lustre/groups/ml01/projects/2024_spatialdata_db/data/twgn1__10X__Xenium__Human__tonsil__20240305__v1.9.0__Reactivefollicularhyperplasia/twgn1__10X__Xenium__Human__tonsil__20240305__v1.9.0__Reactivefollicularhyperplasia.contents' -> '/lustre/groups/ml01/projects/2024_spatialdata_db/data/twgn1__10X__Xenium__Human__tonsil__20240305__v1.9.0__Reactivefollicularhyperplasia/10arp__10X__Xenium__Human__tonsil__20240305__v1.9.0__Reactivefollicularhyperplasia.contents'\n"
     ]
    },
    {
     "name": "stderr",
     "output_type": "stream",
     "text": [
      "Renaming files:  38%|███▊      | 53163/141703 [00:11<00:19, 4644.94it/s]"
     ]
    },
    {
     "name": "stdout",
     "output_type": "stream",
     "text": [
      "Error renaming file /lustre/groups/ml01/projects/2024_spatialdata_db/data/28vqx__10X__Visium__Human__prostate__20210609__v1.3.0/28vqx__10X__Visium__Human__prostate__20210609__v1.3.0.contents to /lustre/groups/ml01/projects/2024_spatialdata_db/data/28vqx__10X__Visium__Human__prostate__20210609__v1.3.0/1005m__10X__Visium__Human__prostate__20210609__v1.3.0.contents: [Errno 2] No such file or directory: '/lustre/groups/ml01/projects/2024_spatialdata_db/data/28vqx__10X__Visium__Human__prostate__20210609__v1.3.0/28vqx__10X__Visium__Human__prostate__20210609__v1.3.0.contents' -> '/lustre/groups/ml01/projects/2024_spatialdata_db/data/28vqx__10X__Visium__Human__prostate__20210609__v1.3.0/1005m__10X__Visium__Human__prostate__20210609__v1.3.0.contents'\n",
      "Error renaming file /lustre/groups/ml01/projects/2024_spatialdata_db/data/yzl3e__10X__Visium__Human__lung__20230214__v2.0.1/yzl3e__10X__Visium__Human__lung__20230214__v2.0.1.contents to /lustre/groups/ml01/projects/2024_spatialdata_db/data/yzl3e__10X__Visium__Human__lung__20230214__v2.0.1/10kmy__10X__Visium__Human__lung__20230214__v2.0.1.contents: [Errno 2] No such file or directory: '/lustre/groups/ml01/projects/2024_spatialdata_db/data/yzl3e__10X__Visium__Human__lung__20230214__v2.0.1/yzl3e__10X__Visium__Human__lung__20230214__v2.0.1.contents' -> '/lustre/groups/ml01/projects/2024_spatialdata_db/data/yzl3e__10X__Visium__Human__lung__20230214__v2.0.1/10kmy__10X__Visium__Human__lung__20230214__v2.0.1.contents'\n"
     ]
    },
    {
     "name": "stderr",
     "output_type": "stream",
     "text": [
      "Renaming files:  38%|███▊      | 53753/141703 [00:11<00:17, 5004.00it/s]"
     ]
    },
    {
     "name": "stdout",
     "output_type": "stream",
     "text": [
      "Error renaming file /lustre/groups/ml01/projects/2024_spatialdata_db/data/05rko__10X__Visium__Mouse__brain__20191202__v1.0.0/05rko__10X__Visium__Mouse__brain__20191202__v1.0.0.contents to /lustre/groups/ml01/projects/2024_spatialdata_db/data/05rko__10X__Visium__Mouse__brain__20191202__v1.0.0/10tzs__10X__Visium__Mouse__brain__20191202__v1.0.0.contents: [Errno 2] No such file or directory: '/lustre/groups/ml01/projects/2024_spatialdata_db/data/05rko__10X__Visium__Mouse__brain__20191202__v1.0.0/05rko__10X__Visium__Mouse__brain__20191202__v1.0.0.contents' -> '/lustre/groups/ml01/projects/2024_spatialdata_db/data/05rko__10X__Visium__Mouse__brain__20191202__v1.0.0/10tzs__10X__Visium__Mouse__brain__20191202__v1.0.0.contents'\n"
     ]
    },
    {
     "name": "stderr",
     "output_type": "stream",
     "text": [
      "Renaming files:  38%|███▊      | 54258/141703 [00:11<00:18, 4770.54it/s]"
     ]
    },
    {
     "name": "stdout",
     "output_type": "stream",
     "text": [
      "Error renaming file /lustre/groups/ml01/projects/2024_spatialdata_db/data/002c0__10X__Visium__Human__ovary__20201027__v1.2.0/002c0__10X__Visium__Human__ovary__20201027__v1.2.0.contents to /lustre/groups/ml01/projects/2024_spatialdata_db/data/002c0__10X__Visium__Human__ovary__20201027__v1.2.0/10rxw__10X__Visium__Human__ovary__20201027__v1.2.0.contents: [Errno 2] No such file or directory: '/lustre/groups/ml01/projects/2024_spatialdata_db/data/002c0__10X__Visium__Human__ovary__20201027__v1.2.0/002c0__10X__Visium__Human__ovary__20201027__v1.2.0.contents' -> '/lustre/groups/ml01/projects/2024_spatialdata_db/data/002c0__10X__Visium__Human__ovary__20201027__v1.2.0/10rxw__10X__Visium__Human__ovary__20201027__v1.2.0.contents'\n"
     ]
    },
    {
     "name": "stderr",
     "output_type": "stream",
     "text": [
      "Renaming files:  39%|███▊      | 54775/141703 [00:11<00:17, 4854.01it/s]"
     ]
    },
    {
     "name": "stdout",
     "output_type": "stream",
     "text": [
      "Error renaming file /lustre/groups/ml01/projects/2024_spatialdata_db/data/1lhfw__10X__Xenium__Mouse__bone__20240403__v1.9.0__15EDTA0.4PFAdecalcification/1lhfw__10X__Xenium__Mouse__bone__20240403__v1.9.0__15EDTA0.4PFAdecalcification.contents to /lustre/groups/ml01/projects/2024_spatialdata_db/data/1lhfw__10X__Xenium__Mouse__bone__20240403__v1.9.0__15EDTA0.4PFAdecalcification/10ndm__10X__Xenium__Mouse__bone__20240403__v1.9.0__15EDTA0.4PFAdecalcification.contents: [Errno 2] No such file or directory: '/lustre/groups/ml01/projects/2024_spatialdata_db/data/1lhfw__10X__Xenium__Mouse__bone__20240403__v1.9.0__15EDTA0.4PFAdecalcification/1lhfw__10X__Xenium__Mouse__bone__20240403__v1.9.0__15EDTA0.4PFAdecalcification.contents' -> '/lustre/groups/ml01/projects/2024_spatialdata_db/data/1lhfw__10X__Xenium__Mouse__bone__20240403__v1.9.0__15EDTA0.4PFAdecalcification/10ndm__10X__Xenium__Mouse__bone__20240403__v1.9.0__15EDTA0.4PFAdecalcification.contents'\n"
     ]
    },
    {
     "name": "stderr",
     "output_type": "stream",
     "text": [
      "Renaming files:  39%|███▉      | 55753/141703 [00:12<00:18, 4727.53it/s]"
     ]
    },
    {
     "name": "stdout",
     "output_type": "stream",
     "text": [
      "Error renaming file /lustre/groups/ml01/projects/2024_spatialdata_db/data/vk8d4__10X__Xenium__Human__breast__20230122__v1.0.2__Tissuesample2/vk8d4__10X__Xenium__Human__breast__20230122__v1.0.2__Tissuesample2.contents to /lustre/groups/ml01/projects/2024_spatialdata_db/data/vk8d4__10X__Xenium__Human__breast__20230122__v1.0.2__Tissuesample2/109zw__10X__Xenium__Human__breast__20230122__v1.0.2__Tissuesample2.contents: [Errno 2] No such file or directory: '/lustre/groups/ml01/projects/2024_spatialdata_db/data/vk8d4__10X__Xenium__Human__breast__20230122__v1.0.2__Tissuesample2/vk8d4__10X__Xenium__Human__breast__20230122__v1.0.2__Tissuesample2.contents' -> '/lustre/groups/ml01/projects/2024_spatialdata_db/data/vk8d4__10X__Xenium__Human__breast__20230122__v1.0.2__Tissuesample2/109zw__10X__Xenium__Human__breast__20230122__v1.0.2__Tissuesample2.contents'\n"
     ]
    },
    {
     "name": "stderr",
     "output_type": "stream",
     "text": [
      "Renaming files:  40%|████      | 57232/141703 [00:12<00:17, 4807.34it/s]"
     ]
    },
    {
     "name": "stdout",
     "output_type": "stream",
     "text": [
      "Error renaming file /lustre/groups/ml01/projects/2024_spatialdata_db/data/aylse__10X__Xenium__Human__pancreas__20240319__v2.0.0/aylse__10X__Xenium__Human__pancreas__20240319__v2.0.0.contents to /lustre/groups/ml01/projects/2024_spatialdata_db/data/aylse__10X__Xenium__Human__pancreas__20240319__v2.0.0/10i70__10X__Xenium__Human__pancreas__20240319__v2.0.0.contents: [Errno 2] No such file or directory: '/lustre/groups/ml01/projects/2024_spatialdata_db/data/aylse__10X__Xenium__Human__pancreas__20240319__v2.0.0/aylse__10X__Xenium__Human__pancreas__20240319__v2.0.0.contents' -> '/lustre/groups/ml01/projects/2024_spatialdata_db/data/aylse__10X__Xenium__Human__pancreas__20240319__v2.0.0/10i70__10X__Xenium__Human__pancreas__20240319__v2.0.0.contents'\n"
     ]
    },
    {
     "name": "stderr",
     "output_type": "stream",
     "text": [
      "Renaming files:  41%|████      | 57723/141703 [00:12<00:17, 4836.73it/s]"
     ]
    },
    {
     "name": "stdout",
     "output_type": "stream",
     "text": [
      "Error renaming file /lustre/groups/ml01/projects/2024_spatialdata_db/data/g9gmu__10X__Xenium__Mouse__brain__20230713__v1.4.0__Wildtype13.4months/g9gmu__10X__Xenium__Mouse__brain__20230713__v1.4.0__Wildtype13.4months.contents to /lustre/groups/ml01/projects/2024_spatialdata_db/data/g9gmu__10X__Xenium__Mouse__brain__20230713__v1.4.0__Wildtype13.4months/106ws__10X__Xenium__Mouse__brain__20230713__v1.4.0__Wildtype13.4months.contents: [Errno 2] No such file or directory: '/lustre/groups/ml01/projects/2024_spatialdata_db/data/g9gmu__10X__Xenium__Mouse__brain__20230713__v1.4.0__Wildtype13.4months/g9gmu__10X__Xenium__Mouse__brain__20230713__v1.4.0__Wildtype13.4months.contents' -> '/lustre/groups/ml01/projects/2024_spatialdata_db/data/g9gmu__10X__Xenium__Mouse__brain__20230713__v1.4.0__Wildtype13.4months/106ws__10X__Xenium__Mouse__brain__20230713__v1.4.0__Wildtype13.4months.contents'\n"
     ]
    },
    {
     "name": "stderr",
     "output_type": "stream",
     "text": [
      "Renaming files:  41%|████      | 58253/141703 [00:12<00:16, 4971.91it/s]"
     ]
    },
    {
     "name": "stdout",
     "output_type": "stream",
     "text": [
      "Error renaming file /lustre/groups/ml01/projects/2024_spatialdata_db/data/f0j79__10X__Visium__Mouse__brain__20210816__v1.3.0/f0j79__10X__Visium__Mouse__brain__20210816__v1.3.0.contents to /lustre/groups/ml01/projects/2024_spatialdata_db/data/f0j79__10X__Visium__Mouse__brain__20210816__v1.3.0/10kz7__10X__Visium__Mouse__brain__20210816__v1.3.0.contents: [Errno 2] No such file or directory: '/lustre/groups/ml01/projects/2024_spatialdata_db/data/f0j79__10X__Visium__Mouse__brain__20210816__v1.3.0/f0j79__10X__Visium__Mouse__brain__20210816__v1.3.0.contents' -> '/lustre/groups/ml01/projects/2024_spatialdata_db/data/f0j79__10X__Visium__Mouse__brain__20210816__v1.3.0/10kz7__10X__Visium__Mouse__brain__20210816__v1.3.0.contents'\n"
     ]
    },
    {
     "name": "stderr",
     "output_type": "stream",
     "text": [
      "Renaming files:  43%|████▎     | 60259/141703 [00:13<00:16, 4825.38it/s]"
     ]
    },
    {
     "name": "stdout",
     "output_type": "stream",
     "text": [
      "Error renaming file /lustre/groups/ml01/projects/2024_spatialdata_db/data/f806l__10X__Visium__Human__prostate__20210727__v1.3.0/f806l__10X__Visium__Human__prostate__20210727__v1.3.0.contents to /lustre/groups/ml01/projects/2024_spatialdata_db/data/f806l__10X__Visium__Human__prostate__20210727__v1.3.0/10kz2__10X__Visium__Human__prostate__20210727__v1.3.0.contents: [Errno 2] No such file or directory: '/lustre/groups/ml01/projects/2024_spatialdata_db/data/f806l__10X__Visium__Human__prostate__20210727__v1.3.0/f806l__10X__Visium__Human__prostate__20210727__v1.3.0.contents' -> '/lustre/groups/ml01/projects/2024_spatialdata_db/data/f806l__10X__Visium__Human__prostate__20210727__v1.3.0/10kz2__10X__Visium__Human__prostate__20210727__v1.3.0.contents'\n"
     ]
    },
    {
     "name": "stderr",
     "output_type": "stream",
     "text": [
      "Renaming files:  44%|████▎     | 61716/141703 [00:13<00:16, 4757.24it/s]"
     ]
    },
    {
     "name": "stdout",
     "output_type": "stream",
     "text": [
      "Error renaming file /lustre/groups/ml01/projects/2024_spatialdata_db/data/0pknt__10X__Visium__Human__breast__20191212__v1.0.0/0pknt__10X__Visium__Human__breast__20191212__v1.0.0.contents to /lustre/groups/ml01/projects/2024_spatialdata_db/data/0pknt__10X__Visium__Human__breast__20191212__v1.0.0/1097y__10X__Visium__Human__breast__20191212__v1.0.0.contents: [Errno 2] No such file or directory: '/lustre/groups/ml01/projects/2024_spatialdata_db/data/0pknt__10X__Visium__Human__breast__20191212__v1.0.0/0pknt__10X__Visium__Human__breast__20191212__v1.0.0.contents' -> '/lustre/groups/ml01/projects/2024_spatialdata_db/data/0pknt__10X__Visium__Human__breast__20191212__v1.0.0/1097y__10X__Visium__Human__breast__20191212__v1.0.0.contents'\n"
     ]
    },
    {
     "name": "stderr",
     "output_type": "stream",
     "text": [
      "Renaming files:  44%|████▍     | 62194/141703 [00:13<00:17, 4661.84it/s]"
     ]
    },
    {
     "name": "stdout",
     "output_type": "stream",
     "text": [
      "Error renaming file /lustre/groups/ml01/projects/2024_spatialdata_db/data/fg8go__10X__Visium__Mouse__brain__20220329__v1.3.0/fg8go__10X__Visium__Mouse__brain__20220329__v1.3.0.contents to /lustre/groups/ml01/projects/2024_spatialdata_db/data/fg8go__10X__Visium__Mouse__brain__20220329__v1.3.0/10zvc__10X__Visium__Mouse__brain__20220329__v1.3.0.contents: [Errno 2] No such file or directory: '/lustre/groups/ml01/projects/2024_spatialdata_db/data/fg8go__10X__Visium__Mouse__brain__20220329__v1.3.0/fg8go__10X__Visium__Mouse__brain__20220329__v1.3.0.contents' -> '/lustre/groups/ml01/projects/2024_spatialdata_db/data/fg8go__10X__Visium__Mouse__brain__20220329__v1.3.0/10zvc__10X__Visium__Mouse__brain__20220329__v1.3.0.contents'\n"
     ]
    },
    {
     "name": "stderr",
     "output_type": "stream",
     "text": [
      "Renaming files:  44%|████▍     | 62664/141703 [00:13<00:16, 4670.72it/s]"
     ]
    },
    {
     "name": "stdout",
     "output_type": "stream",
     "text": [
      "Error renaming file /lustre/groups/ml01/projects/2024_spatialdata_db/data/0ufac__10X__Visium__Mouse__lung_brain__20230221__v2.0.1__BrainReplicate2/0ufac__10X__Visium__Mouse__lung_brain__20230221__v2.0.1__BrainReplicate2.contents to /lustre/groups/ml01/projects/2024_spatialdata_db/data/0ufac__10X__Visium__Mouse__lung_brain__20230221__v2.0.1__BrainReplicate2/10v4k__10X__Visium__Mouse__lung_brain__20230221__v2.0.1__BrainReplicate2.contents: [Errno 2] No such file or directory: '/lustre/groups/ml01/projects/2024_spatialdata_db/data/0ufac__10X__Visium__Mouse__lung_brain__20230221__v2.0.1__BrainReplicate2/0ufac__10X__Visium__Mouse__lung_brain__20230221__v2.0.1__BrainReplicate2.contents' -> '/lustre/groups/ml01/projects/2024_spatialdata_db/data/0ufac__10X__Visium__Mouse__lung_brain__20230221__v2.0.1__BrainReplicate2/10v4k__10X__Visium__Mouse__lung_brain__20230221__v2.0.1__BrainReplicate2.contents'\n"
     ]
    },
    {
     "name": "stderr",
     "output_type": "stream",
     "text": [
      "Renaming files:  45%|████▍     | 63136/141703 [00:13<00:16, 4684.13it/s]"
     ]
    },
    {
     "name": "stdout",
     "output_type": "stream",
     "text": [
      "Error renaming file /lustre/groups/ml01/projects/2024_spatialdata_db/data/4jlxk__10X__Visium__Human__large_intestine__20201027__v1.2.0/4jlxk__10X__Visium__Human__large_intestine__20201027__v1.2.0.contents to /lustre/groups/ml01/projects/2024_spatialdata_db/data/4jlxk__10X__Visium__Human__large_intestine__20201027__v1.2.0/10zad__10X__Visium__Human__large_intestine__20201027__v1.2.0.contents: [Errno 2] No such file or directory: '/lustre/groups/ml01/projects/2024_spatialdata_db/data/4jlxk__10X__Visium__Human__large_intestine__20201027__v1.2.0/4jlxk__10X__Visium__Human__large_intestine__20201027__v1.2.0.contents' -> '/lustre/groups/ml01/projects/2024_spatialdata_db/data/4jlxk__10X__Visium__Human__large_intestine__20201027__v1.2.0/10zad__10X__Visium__Human__large_intestine__20201027__v1.2.0.contents'\n",
      "Error renaming file /lustre/groups/ml01/projects/2024_spatialdata_db/data/xiyyu__10X__Visium__Mouse__brain__20200623__v1.1.0/xiyyu__10X__Visium__Mouse__brain__20200623__v1.1.0.contents to /lustre/groups/ml01/projects/2024_spatialdata_db/data/xiyyu__10X__Visium__Mouse__brain__20200623__v1.1.0/10p5f__10X__Visium__Mouse__brain__20200623__v1.1.0.contents: [Errno 2] No such file or directory: '/lustre/groups/ml01/projects/2024_spatialdata_db/data/xiyyu__10X__Visium__Mouse__brain__20200623__v1.1.0/xiyyu__10X__Visium__Mouse__brain__20200623__v1.1.0.contents' -> '/lustre/groups/ml01/projects/2024_spatialdata_db/data/xiyyu__10X__Visium__Mouse__brain__20200623__v1.1.0/10p5f__10X__Visium__Mouse__brain__20200623__v1.1.0.contents'\n"
     ]
    },
    {
     "name": "stderr",
     "output_type": "stream",
     "text": [
      "Renaming files:  45%|████▍     | 63606/141703 [00:13<00:16, 4674.66it/s]"
     ]
    },
    {
     "name": "stdout",
     "output_type": "stream",
     "text": [
      "Error renaming file /lustre/groups/ml01/projects/2024_spatialdata_db/data/gl1ci__10X__Visium__Human__breast__20200623__v1.1.0/gl1ci__10X__Visium__Human__breast__20200623__v1.1.0.contents to /lustre/groups/ml01/projects/2024_spatialdata_db/data/gl1ci__10X__Visium__Human__breast__20200623__v1.1.0/10evh__10X__Visium__Human__breast__20200623__v1.1.0.contents: [Errno 2] No such file or directory: '/lustre/groups/ml01/projects/2024_spatialdata_db/data/gl1ci__10X__Visium__Human__breast__20200623__v1.1.0/gl1ci__10X__Visium__Human__breast__20200623__v1.1.0.contents' -> '/lustre/groups/ml01/projects/2024_spatialdata_db/data/gl1ci__10X__Visium__Human__breast__20200623__v1.1.0/10evh__10X__Visium__Human__breast__20200623__v1.1.0.contents'\n"
     ]
    },
    {
     "name": "stderr",
     "output_type": "stream",
     "text": [
      "Renaming files:  45%|████▌     | 64118/141703 [00:13<00:16, 4803.74it/s]"
     ]
    },
    {
     "name": "stdout",
     "output_type": "stream",
     "text": [
      "Error renaming file /lustre/groups/ml01/projects/2024_spatialdata_db/data/6uvee__10X__Xenium__Human__skin__20231207__v1.7.0/6uvee__10X__Xenium__Human__skin__20231207__v1.7.0.contents to /lustre/groups/ml01/projects/2024_spatialdata_db/data/6uvee__10X__Xenium__Human__skin__20231207__v1.7.0/10zwi__10X__Xenium__Human__skin__20231207__v1.7.0.contents: [Errno 2] No such file or directory: '/lustre/groups/ml01/projects/2024_spatialdata_db/data/6uvee__10X__Xenium__Human__skin__20231207__v1.7.0/6uvee__10X__Xenium__Human__skin__20231207__v1.7.0.contents' -> '/lustre/groups/ml01/projects/2024_spatialdata_db/data/6uvee__10X__Xenium__Human__skin__20231207__v1.7.0/10zwi__10X__Xenium__Human__skin__20231207__v1.7.0.contents'\n"
     ]
    },
    {
     "name": "stderr",
     "output_type": "stream",
     "text": [
      "Renaming files:  46%|████▌     | 64627/141703 [00:13<00:15, 4883.67it/s]"
     ]
    },
    {
     "name": "stdout",
     "output_type": "stream",
     "text": [
      "Error renaming file /lustre/groups/ml01/projects/2024_spatialdata_db/data/oeuwa__10X__Xenium__Mouse__brain__20230713__v1.4.0__Wildtype5.7months/oeuwa__10X__Xenium__Mouse__brain__20230713__v1.4.0__Wildtype5.7months.contents to /lustre/groups/ml01/projects/2024_spatialdata_db/data/oeuwa__10X__Xenium__Mouse__brain__20230713__v1.4.0__Wildtype5.7months/108d3__10X__Xenium__Mouse__brain__20230713__v1.4.0__Wildtype5.7months.contents: [Errno 2] No such file or directory: '/lustre/groups/ml01/projects/2024_spatialdata_db/data/oeuwa__10X__Xenium__Mouse__brain__20230713__v1.4.0__Wildtype5.7months/oeuwa__10X__Xenium__Mouse__brain__20230713__v1.4.0__Wildtype5.7months.contents' -> '/lustre/groups/ml01/projects/2024_spatialdata_db/data/oeuwa__10X__Xenium__Mouse__brain__20230713__v1.4.0__Wildtype5.7months/108d3__10X__Xenium__Mouse__brain__20230713__v1.4.0__Wildtype5.7months.contents'\n"
     ]
    },
    {
     "name": "stderr",
     "output_type": "stream",
     "text": [
      "Renaming files:  46%|████▌     | 65134/141703 [00:14<00:15, 4937.71it/s]"
     ]
    },
    {
     "name": "stdout",
     "output_type": "stream",
     "text": [
      "Error renaming file /lustre/groups/ml01/projects/2024_spatialdata_db/data/gsyej__10X__Xenium__Human__heart__20240305__v1.9.0/gsyej__10X__Xenium__Human__heart__20240305__v1.9.0.contents to /lustre/groups/ml01/projects/2024_spatialdata_db/data/gsyej__10X__Xenium__Human__heart__20240305__v1.9.0/10wmu__10X__Xenium__Human__heart__20240305__v1.9.0.contents: [Errno 2] No such file or directory: '/lustre/groups/ml01/projects/2024_spatialdata_db/data/gsyej__10X__Xenium__Human__heart__20240305__v1.9.0/gsyej__10X__Xenium__Human__heart__20240305__v1.9.0.contents' -> '/lustre/groups/ml01/projects/2024_spatialdata_db/data/gsyej__10X__Xenium__Human__heart__20240305__v1.9.0/10wmu__10X__Xenium__Human__heart__20240305__v1.9.0.contents'\n"
     ]
    },
    {
     "name": "stderr",
     "output_type": "stream",
     "text": [
      "Renaming files:  46%|████▋     | 65638/141703 [00:14<00:15, 4967.63it/s]"
     ]
    },
    {
     "name": "stdout",
     "output_type": "stream",
     "text": [
      "Error renaming file /lustre/groups/ml01/projects/2024_spatialdata_db/data/lztak__10X__Visium__Mouse__brain__20191202__v1.0.0/lztak__10X__Visium__Mouse__brain__20191202__v1.0.0.contents to /lustre/groups/ml01/projects/2024_spatialdata_db/data/lztak__10X__Visium__Mouse__brain__20191202__v1.0.0/10fna__10X__Visium__Mouse__brain__20191202__v1.0.0.contents: [Errno 2] No such file or directory: '/lustre/groups/ml01/projects/2024_spatialdata_db/data/lztak__10X__Visium__Mouse__brain__20191202__v1.0.0/lztak__10X__Visium__Mouse__brain__20191202__v1.0.0.contents' -> '/lustre/groups/ml01/projects/2024_spatialdata_db/data/lztak__10X__Visium__Mouse__brain__20191202__v1.0.0/10fna__10X__Visium__Mouse__brain__20191202__v1.0.0.contents'\n"
     ]
    },
    {
     "name": "stderr",
     "output_type": "stream",
     "text": [
      "Renaming files:  47%|████▋     | 66136/141703 [00:14<00:15, 4757.79it/s]"
     ]
    },
    {
     "name": "stdout",
     "output_type": "stream",
     "text": [
      "Error renaming file /lustre/groups/ml01/projects/2024_spatialdata_db/data/tdjvl__10X__Xenium__Human__breast__20230122__v1.0.2__Replicate1/tdjvl__10X__Xenium__Human__breast__20230122__v1.0.2__Replicate1.contents to /lustre/groups/ml01/projects/2024_spatialdata_db/data/tdjvl__10X__Xenium__Human__breast__20230122__v1.0.2__Replicate1/101tu__10X__Xenium__Human__breast__20230122__v1.0.2__Replicate1.contents: [Errno 2] No such file or directory: '/lustre/groups/ml01/projects/2024_spatialdata_db/data/tdjvl__10X__Xenium__Human__breast__20230122__v1.0.2__Replicate1/tdjvl__10X__Xenium__Human__breast__20230122__v1.0.2__Replicate1.contents' -> '/lustre/groups/ml01/projects/2024_spatialdata_db/data/tdjvl__10X__Xenium__Human__breast__20230122__v1.0.2__Replicate1/101tu__10X__Xenium__Human__breast__20230122__v1.0.2__Replicate1.contents'\n"
     ]
    },
    {
     "name": "stderr",
     "output_type": "stream",
     "text": [
      "Renaming files:  49%|████▊     | 68761/141703 [00:14<00:15, 4687.16it/s]"
     ]
    },
    {
     "name": "stdout",
     "output_type": "stream",
     "text": [
      "Error renaming file /lustre/groups/ml01/projects/2024_spatialdata_db/data/ic0bo__10X__Xenium__Human__liver__20240305__v1.9.0__Non-diseased/ic0bo__10X__Xenium__Human__liver__20240305__v1.9.0__Non-diseased.contents to /lustre/groups/ml01/projects/2024_spatialdata_db/data/ic0bo__10X__Xenium__Human__liver__20240305__v1.9.0__Non-diseased/1074f__10X__Xenium__Human__liver__20240305__v1.9.0__Non-diseased.contents: [Errno 2] No such file or directory: '/lustre/groups/ml01/projects/2024_spatialdata_db/data/ic0bo__10X__Xenium__Human__liver__20240305__v1.9.0__Non-diseased/ic0bo__10X__Xenium__Human__liver__20240305__v1.9.0__Non-diseased.contents' -> '/lustre/groups/ml01/projects/2024_spatialdata_db/data/ic0bo__10X__Xenium__Human__liver__20240305__v1.9.0__Non-diseased/1074f__10X__Xenium__Human__liver__20240305__v1.9.0__Non-diseased.contents'\n"
     ]
    },
    {
     "name": "stderr",
     "output_type": "stream",
     "text": [
      "Renaming files:  50%|████▉     | 70239/141703 [00:15<00:15, 4703.70it/s]"
     ]
    },
    {
     "name": "stdout",
     "output_type": "stream",
     "text": [
      "Error renaming file /lustre/groups/ml01/projects/2024_spatialdata_db/data/emmt4__10X__Xenium__Human__skin__20240305__v1.9.0__Sample1/emmt4__10X__Xenium__Human__skin__20240305__v1.9.0__Sample1.contents to /lustre/groups/ml01/projects/2024_spatialdata_db/data/emmt4__10X__Xenium__Human__skin__20240305__v1.9.0__Sample1/10k3x__10X__Xenium__Human__skin__20240305__v1.9.0__Sample1.contents: [Errno 2] No such file or directory: '/lustre/groups/ml01/projects/2024_spatialdata_db/data/emmt4__10X__Xenium__Human__skin__20240305__v1.9.0__Sample1/emmt4__10X__Xenium__Human__skin__20240305__v1.9.0__Sample1.contents' -> '/lustre/groups/ml01/projects/2024_spatialdata_db/data/emmt4__10X__Xenium__Human__skin__20240305__v1.9.0__Sample1/10k3x__10X__Xenium__Human__skin__20240305__v1.9.0__Sample1.contents'\n"
     ]
    },
    {
     "name": "stderr",
     "output_type": "stream",
     "text": [
      "Renaming files:  50%|█████     | 71175/141703 [00:15<00:16, 4319.14it/s]"
     ]
    },
    {
     "name": "stdout",
     "output_type": "stream",
     "text": [
      "Error renaming file /lustre/groups/ml01/projects/2024_spatialdata_db/data/od3tw__10X__Visium__Human__breast__20220701__v1.3.0/od3tw__10X__Visium__Human__breast__20220701__v1.3.0.contents to /lustre/groups/ml01/projects/2024_spatialdata_db/data/od3tw__10X__Visium__Human__breast__20220701__v1.3.0/10k5p__10X__Visium__Human__breast__20220701__v1.3.0.contents: [Errno 2] No such file or directory: '/lustre/groups/ml01/projects/2024_spatialdata_db/data/od3tw__10X__Visium__Human__breast__20220701__v1.3.0/od3tw__10X__Visium__Human__breast__20220701__v1.3.0.contents' -> '/lustre/groups/ml01/projects/2024_spatialdata_db/data/od3tw__10X__Visium__Human__breast__20220701__v1.3.0/10k5p__10X__Visium__Human__breast__20220701__v1.3.0.contents'\n"
     ]
    },
    {
     "name": "stderr",
     "output_type": "stream",
     "text": [
      "Renaming files:  51%|█████     | 71659/141703 [00:15<00:15, 4461.86it/s]"
     ]
    },
    {
     "name": "stdout",
     "output_type": "stream",
     "text": [
      "Error renaming file /lustre/groups/ml01/projects/2024_spatialdata_db/data/m1v5v__10X__Xenium__Human__lung__20230518__v1.3.0__Non-diseasedLung/m1v5v__10X__Xenium__Human__lung__20230518__v1.3.0__Non-diseasedLung.contents to /lustre/groups/ml01/projects/2024_spatialdata_db/data/m1v5v__10X__Xenium__Human__lung__20230518__v1.3.0__Non-diseasedLung/10fri__10X__Xenium__Human__lung__20230518__v1.3.0__Non-diseasedLung.contents: [Errno 2] No such file or directory: '/lustre/groups/ml01/projects/2024_spatialdata_db/data/m1v5v__10X__Xenium__Human__lung__20230518__v1.3.0__Non-diseasedLung/m1v5v__10X__Xenium__Human__lung__20230518__v1.3.0__Non-diseasedLung.contents' -> '/lustre/groups/ml01/projects/2024_spatialdata_db/data/m1v5v__10X__Xenium__Human__lung__20230518__v1.3.0__Non-diseasedLung/10fri__10X__Xenium__Human__lung__20230518__v1.3.0__Non-diseasedLung.contents'\n"
     ]
    },
    {
     "name": "stderr",
     "output_type": "stream",
     "text": [
      "Renaming files:  52%|█████▏    | 73038/141703 [00:15<00:15, 4517.86it/s]"
     ]
    },
    {
     "name": "stdout",
     "output_type": "stream",
     "text": [
      "Error renaming file /lustre/groups/ml01/projects/2024_spatialdata_db/data/yjder__10X__Visium__Human__colorectal__20230214__v2.0.1/yjder__10X__Visium__Human__colorectal__20230214__v2.0.1.contents to /lustre/groups/ml01/projects/2024_spatialdata_db/data/yjder__10X__Visium__Human__colorectal__20230214__v2.0.1/10drc__10X__Visium__Human__colorectal__20230214__v2.0.1.contents: [Errno 2] No such file or directory: '/lustre/groups/ml01/projects/2024_spatialdata_db/data/yjder__10X__Visium__Human__colorectal__20230214__v2.0.1/yjder__10X__Visium__Human__colorectal__20230214__v2.0.1.contents' -> '/lustre/groups/ml01/projects/2024_spatialdata_db/data/yjder__10X__Visium__Human__colorectal__20230214__v2.0.1/10drc__10X__Visium__Human__colorectal__20230214__v2.0.1.contents'\n"
     ]
    },
    {
     "name": "stderr",
     "output_type": "stream",
     "text": [
      "Renaming files:  52%|█████▏    | 74054/141703 [00:16<00:15, 4493.95it/s]"
     ]
    },
    {
     "name": "stdout",
     "output_type": "stream",
     "text": [
      "Error renaming file /lustre/groups/ml01/projects/2024_spatialdata_db/data/x7rbz__10X__Visium__Mouse__brain__20230525__v2.1.0/x7rbz__10X__Visium__Mouse__brain__20230525__v2.1.0.contents to /lustre/groups/ml01/projects/2024_spatialdata_db/data/x7rbz__10X__Visium__Mouse__brain__20230525__v2.1.0/10w6u__10X__Visium__Mouse__brain__20230525__v2.1.0.contents: [Errno 2] No such file or directory: '/lustre/groups/ml01/projects/2024_spatialdata_db/data/x7rbz__10X__Visium__Mouse__brain__20230525__v2.1.0/x7rbz__10X__Visium__Mouse__brain__20230525__v2.1.0.contents' -> '/lustre/groups/ml01/projects/2024_spatialdata_db/data/x7rbz__10X__Visium__Mouse__brain__20230525__v2.1.0/10w6u__10X__Visium__Mouse__brain__20230525__v2.1.0.contents'\n",
      "Error renaming file /lustre/groups/ml01/projects/2024_spatialdata_db/data/j1fyh__10X__Visium__Mouse__brain__20191202__v1.0.0/j1fyh__10X__Visium__Mouse__brain__20191202__v1.0.0.contents to /lustre/groups/ml01/projects/2024_spatialdata_db/data/j1fyh__10X__Visium__Mouse__brain__20191202__v1.0.0/10hmw__10X__Visium__Mouse__brain__20191202__v1.0.0.contents: [Errno 2] No such file or directory: '/lustre/groups/ml01/projects/2024_spatialdata_db/data/j1fyh__10X__Visium__Mouse__brain__20191202__v1.0.0/j1fyh__10X__Visium__Mouse__brain__20191202__v1.0.0.contents' -> '/lustre/groups/ml01/projects/2024_spatialdata_db/data/j1fyh__10X__Visium__Mouse__brain__20191202__v1.0.0/10hmw__10X__Visium__Mouse__brain__20191202__v1.0.0.contents'\n"
     ]
    },
    {
     "name": "stderr",
     "output_type": "stream",
     "text": [
      "Renaming files:  53%|█████▎    | 74555/141703 [00:16<00:14, 4638.87it/s]"
     ]
    },
    {
     "name": "stdout",
     "output_type": "stream",
     "text": [
      "Error renaming file /lustre/groups/ml01/projects/2024_spatialdata_db/data/au6n8__10X__Visium__Human__breast__20191212__v1.0.0/au6n8__10X__Visium__Human__breast__20191212__v1.0.0.contents to /lustre/groups/ml01/projects/2024_spatialdata_db/data/au6n8__10X__Visium__Human__breast__20191212__v1.0.0/10vj2__10X__Visium__Human__breast__20191212__v1.0.0.contents: [Errno 2] No such file or directory: '/lustre/groups/ml01/projects/2024_spatialdata_db/data/au6n8__10X__Visium__Human__breast__20191212__v1.0.0/au6n8__10X__Visium__Human__breast__20191212__v1.0.0.contents' -> '/lustre/groups/ml01/projects/2024_spatialdata_db/data/au6n8__10X__Visium__Human__breast__20191212__v1.0.0/10vj2__10X__Visium__Human__breast__20191212__v1.0.0.contents'\n"
     ]
    },
    {
     "name": "stderr",
     "output_type": "stream",
     "text": [
      "Renaming files:  53%|█████▎    | 75023/141703 [00:16<00:14, 4529.67it/s]"
     ]
    },
    {
     "name": "stdout",
     "output_type": "stream",
     "text": [
      "Error renaming file /lustre/groups/ml01/projects/2024_spatialdata_db/data/qs3a7__10X__Xenium__Mouse__brain__20230713__v1.4.0__Wildtype2.5months/qs3a7__10X__Xenium__Mouse__brain__20230713__v1.4.0__Wildtype2.5months.contents to /lustre/groups/ml01/projects/2024_spatialdata_db/data/qs3a7__10X__Xenium__Mouse__brain__20230713__v1.4.0__Wildtype2.5months/10xa2__10X__Xenium__Mouse__brain__20230713__v1.4.0__Wildtype2.5months.contents: [Errno 2] No such file or directory: '/lustre/groups/ml01/projects/2024_spatialdata_db/data/qs3a7__10X__Xenium__Mouse__brain__20230713__v1.4.0__Wildtype2.5months/qs3a7__10X__Xenium__Mouse__brain__20230713__v1.4.0__Wildtype2.5months.contents' -> '/lustre/groups/ml01/projects/2024_spatialdata_db/data/qs3a7__10X__Xenium__Mouse__brain__20230713__v1.4.0__Wildtype2.5months/10xa2__10X__Xenium__Mouse__brain__20230713__v1.4.0__Wildtype2.5months.contents'\n"
     ]
    },
    {
     "name": "stderr",
     "output_type": "stream",
     "text": [
      "Renaming files:  53%|█████▎    | 75479/141703 [00:16<00:15, 4316.27it/s]"
     ]
    },
    {
     "name": "stdout",
     "output_type": "stream",
     "text": [
      "Error renaming file /lustre/groups/ml01/projects/2024_spatialdata_db/data/6z6qx__10X__Visium__Human__lymph_node__20200623__v1.1.0/6z6qx__10X__Visium__Human__lymph_node__20200623__v1.1.0.contents to /lustre/groups/ml01/projects/2024_spatialdata_db/data/6z6qx__10X__Visium__Human__lymph_node__20200623__v1.1.0/105vj__10X__Visium__Human__lymph_node__20200623__v1.1.0.contents: [Errno 2] No such file or directory: '/lustre/groups/ml01/projects/2024_spatialdata_db/data/6z6qx__10X__Visium__Human__lymph_node__20200623__v1.1.0/6z6qx__10X__Visium__Human__lymph_node__20200623__v1.1.0.contents' -> '/lustre/groups/ml01/projects/2024_spatialdata_db/data/6z6qx__10X__Visium__Human__lymph_node__20200623__v1.1.0/105vj__10X__Visium__Human__lymph_node__20200623__v1.1.0.contents'\n"
     ]
    },
    {
     "name": "stderr",
     "output_type": "stream",
     "text": [
      "Renaming files:  54%|█████▎    | 75915/141703 [00:16<00:15, 4318.94it/s]"
     ]
    },
    {
     "name": "stdout",
     "output_type": "stream",
     "text": [
      "Error renaming file /lustre/groups/ml01/projects/2024_spatialdata_db/data/xtaqh__10X__Visium__Mouse__brain__20220712__v2.0.0/xtaqh__10X__Visium__Mouse__brain__20220712__v2.0.0.contents to /lustre/groups/ml01/projects/2024_spatialdata_db/data/xtaqh__10X__Visium__Mouse__brain__20220712__v2.0.0/10z77__10X__Visium__Mouse__brain__20220712__v2.0.0.contents: [Errno 2] No such file or directory: '/lustre/groups/ml01/projects/2024_spatialdata_db/data/xtaqh__10X__Visium__Mouse__brain__20220712__v2.0.0/xtaqh__10X__Visium__Mouse__brain__20220712__v2.0.0.contents' -> '/lustre/groups/ml01/projects/2024_spatialdata_db/data/xtaqh__10X__Visium__Mouse__brain__20220712__v2.0.0/10z77__10X__Visium__Mouse__brain__20220712__v2.0.0.contents'\n"
     ]
    },
    {
     "name": "stderr",
     "output_type": "stream",
     "text": [
      "Renaming files:  54%|█████▍    | 76350/141703 [00:16<00:15, 4249.04it/s]"
     ]
    },
    {
     "name": "stdout",
     "output_type": "stream",
     "text": [
      "Error renaming file /lustre/groups/ml01/projects/2024_spatialdata_db/data/1md95__10X__Visium__Human__ovary__20201027__v1.2.0/1md95__10X__Visium__Human__ovary__20201027__v1.2.0.contents to /lustre/groups/ml01/projects/2024_spatialdata_db/data/1md95__10X__Visium__Human__ovary__20201027__v1.2.0/10tyd__10X__Visium__Human__ovary__20201027__v1.2.0.contents: [Errno 2] No such file or directory: '/lustre/groups/ml01/projects/2024_spatialdata_db/data/1md95__10X__Visium__Human__ovary__20201027__v1.2.0/1md95__10X__Visium__Human__ovary__20201027__v1.2.0.contents' -> '/lustre/groups/ml01/projects/2024_spatialdata_db/data/1md95__10X__Visium__Human__ovary__20201027__v1.2.0/10tyd__10X__Visium__Human__ovary__20201027__v1.2.0.contents'\n",
      "Error renaming file /lustre/groups/ml01/projects/2024_spatialdata_db/data/vt6x9__10X__Visium__Mouse__lung_brain__20230221__v2.0.1__LungReplicate3/vt6x9__10X__Visium__Mouse__lung_brain__20230221__v2.0.1__LungReplicate3.contents to /lustre/groups/ml01/projects/2024_spatialdata_db/data/vt6x9__10X__Visium__Mouse__lung_brain__20230221__v2.0.1__LungReplicate3/10yhv__10X__Visium__Mouse__lung_brain__20230221__v2.0.1__LungReplicate3.contents: [Errno 2] No such file or directory: '/lustre/groups/ml01/projects/2024_spatialdata_db/data/vt6x9__10X__Visium__Mouse__lung_brain__20230221__v2.0.1__LungReplicate3/vt6x9__10X__Visium__Mouse__lung_brain__20230221__v2.0.1__LungReplicate3.contents' -> '/lustre/groups/ml01/projects/2024_spatialdata_db/data/vt6x9__10X__Visium__Mouse__lung_brain__20230221__v2.0.1__LungReplicate3/10yhv__10X__Visium__Mouse__lung_brain__20230221__v2.0.1__LungReplicate3.contents'\n"
     ]
    },
    {
     "name": "stderr",
     "output_type": "stream",
     "text": [
      "Renaming files:  54%|█████▍    | 76777/141703 [00:16<00:15, 4219.88it/s]"
     ]
    },
    {
     "name": "stdout",
     "output_type": "stream",
     "text": [
      "Error renaming file /lustre/groups/ml01/projects/2024_spatialdata_db/data/d3ykk__10X__Visium__Mouse__brain__20220712__v2.0.0/d3ykk__10X__Visium__Mouse__brain__20220712__v2.0.0.contents to /lustre/groups/ml01/projects/2024_spatialdata_db/data/d3ykk__10X__Visium__Mouse__brain__20220712__v2.0.0/104pe__10X__Visium__Mouse__brain__20220712__v2.0.0.contents: [Errno 2] No such file or directory: '/lustre/groups/ml01/projects/2024_spatialdata_db/data/d3ykk__10X__Visium__Mouse__brain__20220712__v2.0.0/d3ykk__10X__Visium__Mouse__brain__20220712__v2.0.0.contents' -> '/lustre/groups/ml01/projects/2024_spatialdata_db/data/d3ykk__10X__Visium__Mouse__brain__20220712__v2.0.0/104pe__10X__Visium__Mouse__brain__20220712__v2.0.0.contents'\n",
      "Error renaming file /lustre/groups/ml01/projects/2024_spatialdata_db/data/1e66c__10X__Visium__Human__breast__20201027__v1.2.0/1e66c__10X__Visium__Human__breast__20201027__v1.2.0.contents to /lustre/groups/ml01/projects/2024_spatialdata_db/data/1e66c__10X__Visium__Human__breast__20201027__v1.2.0/1033x__10X__Visium__Human__breast__20201027__v1.2.0.contents: [Errno 2] No such file or directory: '/lustre/groups/ml01/projects/2024_spatialdata_db/data/1e66c__10X__Visium__Human__breast__20201027__v1.2.0/1e66c__10X__Visium__Human__breast__20201027__v1.2.0.contents' -> '/lustre/groups/ml01/projects/2024_spatialdata_db/data/1e66c__10X__Visium__Human__breast__20201027__v1.2.0/1033x__10X__Visium__Human__breast__20201027__v1.2.0.contents'\n"
     ]
    },
    {
     "name": "stderr",
     "output_type": "stream",
     "text": [
      "Renaming files:  54%|█████▍    | 77212/141703 [00:16<00:15, 4251.42it/s]"
     ]
    },
    {
     "name": "stdout",
     "output_type": "stream",
     "text": [
      "Error renaming file /lustre/groups/ml01/projects/2024_spatialdata_db/data/xjxhb__10X__Visium__Mouse__brain__20221018__v2.0.0/xjxhb__10X__Visium__Mouse__brain__20221018__v2.0.0.contents to /lustre/groups/ml01/projects/2024_spatialdata_db/data/xjxhb__10X__Visium__Mouse__brain__20221018__v2.0.0/10d9e__10X__Visium__Mouse__brain__20221018__v2.0.0.contents: [Errno 2] No such file or directory: '/lustre/groups/ml01/projects/2024_spatialdata_db/data/xjxhb__10X__Visium__Mouse__brain__20221018__v2.0.0/xjxhb__10X__Visium__Mouse__brain__20221018__v2.0.0.contents' -> '/lustre/groups/ml01/projects/2024_spatialdata_db/data/xjxhb__10X__Visium__Mouse__brain__20221018__v2.0.0/10d9e__10X__Visium__Mouse__brain__20221018__v2.0.0.contents'\n"
     ]
    },
    {
     "name": "stderr",
     "output_type": "stream",
     "text": [
      "Renaming files:  55%|█████▍    | 77638/141703 [00:16<00:15, 4167.07it/s]"
     ]
    },
    {
     "name": "stdout",
     "output_type": "stream",
     "text": [
      "Error renaming file /lustre/groups/ml01/projects/2024_spatialdata_db/data/7l5ht__10X__Visium__Human__lymph_node__20191212__v1.0.0/7l5ht__10X__Visium__Human__lymph_node__20191212__v1.0.0.contents to /lustre/groups/ml01/projects/2024_spatialdata_db/data/7l5ht__10X__Visium__Human__lymph_node__20191212__v1.0.0/10mx9__10X__Visium__Human__lymph_node__20191212__v1.0.0.contents: [Errno 2] No such file or directory: '/lustre/groups/ml01/projects/2024_spatialdata_db/data/7l5ht__10X__Visium__Human__lymph_node__20191212__v1.0.0/7l5ht__10X__Visium__Human__lymph_node__20191212__v1.0.0.contents' -> '/lustre/groups/ml01/projects/2024_spatialdata_db/data/7l5ht__10X__Visium__Human__lymph_node__20191212__v1.0.0/10mx9__10X__Visium__Human__lymph_node__20191212__v1.0.0.contents'\n"
     ]
    },
    {
     "name": "stderr",
     "output_type": "stream",
     "text": [
      "Renaming files:  55%|█████▌    | 78056/141703 [00:16<00:15, 4045.07it/s]"
     ]
    },
    {
     "name": "stdout",
     "output_type": "stream",
     "text": [
      "Error renaming file /lustre/groups/ml01/projects/2024_spatialdata_db/data/fulvo__10X__Xenium__Human__bone_bone_marrow__20240403__v1.9.0__AcuteLymphoidLeukemiaBoneMarrow/fulvo__10X__Xenium__Human__bone_bone_marrow__20240403__v1.9.0__AcuteLymphoidLeukemiaBoneMarrow.contents to /lustre/groups/ml01/projects/2024_spatialdata_db/data/fulvo__10X__Xenium__Human__bone_bone_marrow__20240403__v1.9.0__AcuteLymphoidLeukemiaBoneMarrow/10nsr__10X__Xenium__Human__bone_bone_marrow__20240403__v1.9.0__AcuteLymphoidLeukemiaBoneMarrow.contents: [Errno 2] No such file or directory: '/lustre/groups/ml01/projects/2024_spatialdata_db/data/fulvo__10X__Xenium__Human__bone_bone_marrow__20240403__v1.9.0__AcuteLymphoidLeukemiaBoneMarrow/fulvo__10X__Xenium__Human__bone_bone_marrow__20240403__v1.9.0__AcuteLymphoidLeukemiaBoneMarrow.contents' -> '/lustre/groups/ml01/projects/2024_spatialdata_db/data/fulvo__10X__Xenium__Human__bone_bone_marrow__20240403__v1.9.0__AcuteLymphoidLeukemiaBoneMarrow/10nsr__10X__Xenium__Human__bone_bone_marrow__20240403__v1.9.0__AcuteLymphoidLeukemiaBoneMarrow.contents'\n"
     ]
    },
    {
     "name": "stderr",
     "output_type": "stream",
     "text": [
      "Renaming files:  55%|█████▌    | 78463/141703 [00:17<00:15, 4034.48it/s]"
     ]
    },
    {
     "name": "stdout",
     "output_type": "stream",
     "text": [
      "Error renaming file /lustre/groups/ml01/projects/2024_spatialdata_db/data/0badu__10X__Xenium__Mouse__brain__20230122__v1.0.2__Replicate2/0badu__10X__Xenium__Mouse__brain__20230122__v1.0.2__Replicate2.contents to /lustre/groups/ml01/projects/2024_spatialdata_db/data/0badu__10X__Xenium__Mouse__brain__20230122__v1.0.2__Replicate2/10c6u__10X__Xenium__Mouse__brain__20230122__v1.0.2__Replicate2.contents: [Errno 2] No such file or directory: '/lustre/groups/ml01/projects/2024_spatialdata_db/data/0badu__10X__Xenium__Mouse__brain__20230122__v1.0.2__Replicate2/0badu__10X__Xenium__Mouse__brain__20230122__v1.0.2__Replicate2.contents' -> '/lustre/groups/ml01/projects/2024_spatialdata_db/data/0badu__10X__Xenium__Mouse__brain__20230122__v1.0.2__Replicate2/10c6u__10X__Xenium__Mouse__brain__20230122__v1.0.2__Replicate2.contents'\n"
     ]
    },
    {
     "name": "stderr",
     "output_type": "stream",
     "text": [
      "Renaming files:  56%|█████▋    | 79811/141703 [00:17<00:15, 4085.87it/s]"
     ]
    },
    {
     "name": "stdout",
     "output_type": "stream",
     "text": [
      "Error renaming file /lustre/groups/ml01/projects/2024_spatialdata_db/data/ses16__10X__Visium__Mouse__lung_brain__20230221__v2.0.1/ses16__10X__Visium__Mouse__lung_brain__20230221__v2.0.1.contents to /lustre/groups/ml01/projects/2024_spatialdata_db/data/ses16__10X__Visium__Mouse__lung_brain__20230221__v2.0.1/10yhc__10X__Visium__Mouse__lung_brain__20230221__v2.0.1.contents: [Errno 2] No such file or directory: '/lustre/groups/ml01/projects/2024_spatialdata_db/data/ses16__10X__Visium__Mouse__lung_brain__20230221__v2.0.1/ses16__10X__Visium__Mouse__lung_brain__20230221__v2.0.1.contents' -> '/lustre/groups/ml01/projects/2024_spatialdata_db/data/ses16__10X__Visium__Mouse__lung_brain__20230221__v2.0.1/10yhc__10X__Visium__Mouse__lung_brain__20230221__v2.0.1.contents'\n"
     ]
    },
    {
     "name": "stderr",
     "output_type": "stream",
     "text": [
      "Renaming files:  57%|█████▋    | 80243/141703 [00:17<00:15, 4093.33it/s]"
     ]
    },
    {
     "name": "stdout",
     "output_type": "stream",
     "text": [
      "Error renaming file /lustre/groups/ml01/projects/2024_spatialdata_db/data/vcfof__10X__Xenium__Mouse__brain__20230122__v1.0.2__Replicate3/vcfof__10X__Xenium__Mouse__brain__20230122__v1.0.2__Replicate3.contents to /lustre/groups/ml01/projects/2024_spatialdata_db/data/vcfof__10X__Xenium__Mouse__brain__20230122__v1.0.2__Replicate3/108h0__10X__Xenium__Mouse__brain__20230122__v1.0.2__Replicate3.contents: [Errno 2] No such file or directory: '/lustre/groups/ml01/projects/2024_spatialdata_db/data/vcfof__10X__Xenium__Mouse__brain__20230122__v1.0.2__Replicate3/vcfof__10X__Xenium__Mouse__brain__20230122__v1.0.2__Replicate3.contents' -> '/lustre/groups/ml01/projects/2024_spatialdata_db/data/vcfof__10X__Xenium__Mouse__brain__20230122__v1.0.2__Replicate3/108h0__10X__Xenium__Mouse__brain__20230122__v1.0.2__Replicate3.contents'\n"
     ]
    },
    {
     "name": "stderr",
     "output_type": "stream",
     "text": [
      "Renaming files:  57%|█████▋    | 81340/141703 [00:17<00:12, 4819.55it/s]"
     ]
    },
    {
     "name": "stdout",
     "output_type": "stream",
     "text": [
      "Error renaming file /lustre/groups/ml01/projects/2024_spatialdata_db/data/z86rg__10X__Visium__Mouse__brain__20210816__v1.3.0/z86rg__10X__Visium__Mouse__brain__20210816__v1.3.0.contents to /lustre/groups/ml01/projects/2024_spatialdata_db/data/z86rg__10X__Visium__Mouse__brain__20210816__v1.3.0/10uf7__10X__Visium__Mouse__brain__20210816__v1.3.0.contents: [Errno 2] No such file or directory: '/lustre/groups/ml01/projects/2024_spatialdata_db/data/z86rg__10X__Visium__Mouse__brain__20210816__v1.3.0/z86rg__10X__Visium__Mouse__brain__20210816__v1.3.0.contents' -> '/lustre/groups/ml01/projects/2024_spatialdata_db/data/z86rg__10X__Visium__Mouse__brain__20210816__v1.3.0/10uf7__10X__Visium__Mouse__brain__20210816__v1.3.0.contents'\n"
     ]
    },
    {
     "name": "stderr",
     "output_type": "stream",
     "text": [
      "Renaming files:  58%|█████▊    | 81825/141703 [00:17<00:12, 4713.90it/s]"
     ]
    },
    {
     "name": "stdout",
     "output_type": "stream",
     "text": [
      "Error renaming file /lustre/groups/ml01/projects/2024_spatialdata_db/data/b1q25__10X__Visium__Human__spinal_cord__20201027__v1.2.0/b1q25__10X__Visium__Human__spinal_cord__20201027__v1.2.0.contents to /lustre/groups/ml01/projects/2024_spatialdata_db/data/b1q25__10X__Visium__Human__spinal_cord__20201027__v1.2.0/10wth__10X__Visium__Human__spinal_cord__20201027__v1.2.0.contents: [Errno 2] No such file or directory: '/lustre/groups/ml01/projects/2024_spatialdata_db/data/b1q25__10X__Visium__Human__spinal_cord__20201027__v1.2.0/b1q25__10X__Visium__Human__spinal_cord__20201027__v1.2.0.contents' -> '/lustre/groups/ml01/projects/2024_spatialdata_db/data/b1q25__10X__Visium__Human__spinal_cord__20201027__v1.2.0/10wth__10X__Visium__Human__spinal_cord__20201027__v1.2.0.contents'\n",
      "Error renaming file /lustre/groups/ml01/projects/2024_spatialdata_db/data/n0qwg__10X__Xenium__Human__pancreas__20230717__v1.5.0/n0qwg__10X__Xenium__Human__pancreas__20230717__v1.5.0.contents to /lustre/groups/ml01/projects/2024_spatialdata_db/data/n0qwg__10X__Xenium__Human__pancreas__20230717__v1.5.0/107yk__10X__Xenium__Human__pancreas__20230717__v1.5.0.contents: [Errno 2] No such file or directory: '/lustre/groups/ml01/projects/2024_spatialdata_db/data/n0qwg__10X__Xenium__Human__pancreas__20230717__v1.5.0/n0qwg__10X__Xenium__Human__pancreas__20230717__v1.5.0.contents' -> '/lustre/groups/ml01/projects/2024_spatialdata_db/data/n0qwg__10X__Xenium__Human__pancreas__20230717__v1.5.0/107yk__10X__Xenium__Human__pancreas__20230717__v1.5.0.contents'\n"
     ]
    },
    {
     "name": "stderr",
     "output_type": "stream",
     "text": [
      "Renaming files:  60%|█████▉    | 84795/141703 [00:18<00:11, 4779.19it/s]"
     ]
    },
    {
     "name": "stdout",
     "output_type": "stream",
     "text": [
      "Error renaming file /lustre/groups/ml01/projects/2024_spatialdata_db/data/n2kpx__10X__Visium__Human__ovary__20220328__v1.3.0/n2kpx__10X__Visium__Human__ovary__20220328__v1.3.0.contents to /lustre/groups/ml01/projects/2024_spatialdata_db/data/n2kpx__10X__Visium__Human__ovary__20220328__v1.3.0/10vcj__10X__Visium__Human__ovary__20220328__v1.3.0.contents: [Errno 2] No such file or directory: '/lustre/groups/ml01/projects/2024_spatialdata_db/data/n2kpx__10X__Visium__Human__ovary__20220328__v1.3.0/n2kpx__10X__Visium__Human__ovary__20220328__v1.3.0.contents' -> '/lustre/groups/ml01/projects/2024_spatialdata_db/data/n2kpx__10X__Visium__Human__ovary__20220328__v1.3.0/10vcj__10X__Visium__Human__ovary__20220328__v1.3.0.contents'\n"
     ]
    },
    {
     "name": "stderr",
     "output_type": "stream",
     "text": [
      "Renaming files:  60%|██████    | 85277/141703 [00:18<00:13, 4197.10it/s]"
     ]
    },
    {
     "name": "stdout",
     "output_type": "stream",
     "text": [
      "Error renaming file /lustre/groups/ml01/projects/2024_spatialdata_db/data/zwdai__10X__Visium__Mouse__brain__20220712__v2.0.0/zwdai__10X__Visium__Mouse__brain__20220712__v2.0.0.contents to /lustre/groups/ml01/projects/2024_spatialdata_db/data/zwdai__10X__Visium__Mouse__brain__20220712__v2.0.0/10nfy__10X__Visium__Mouse__brain__20220712__v2.0.0.contents: [Errno 2] No such file or directory: '/lustre/groups/ml01/projects/2024_spatialdata_db/data/zwdai__10X__Visium__Mouse__brain__20220712__v2.0.0/zwdai__10X__Visium__Mouse__brain__20220712__v2.0.0.contents' -> '/lustre/groups/ml01/projects/2024_spatialdata_db/data/zwdai__10X__Visium__Mouse__brain__20220712__v2.0.0/10nfy__10X__Visium__Mouse__brain__20220712__v2.0.0.contents'\n"
     ]
    },
    {
     "name": "stderr",
     "output_type": "stream",
     "text": [
      "Renaming files:  61%|██████    | 85740/141703 [00:18<00:12, 4312.20it/s]"
     ]
    },
    {
     "name": "stdout",
     "output_type": "stream",
     "text": [
      "Error renaming file /lustre/groups/ml01/projects/2024_spatialdata_db/data/5nwfc__10X__Visium__Mouse__lung_brain__20230221__v2.0.1__LungReplicate2/5nwfc__10X__Visium__Mouse__lung_brain__20230221__v2.0.1__LungReplicate2.contents to /lustre/groups/ml01/projects/2024_spatialdata_db/data/5nwfc__10X__Visium__Mouse__lung_brain__20230221__v2.0.1__LungReplicate2/109pp__10X__Visium__Mouse__lung_brain__20230221__v2.0.1__LungReplicate2.contents: [Errno 2] No such file or directory: '/lustre/groups/ml01/projects/2024_spatialdata_db/data/5nwfc__10X__Visium__Mouse__lung_brain__20230221__v2.0.1__LungReplicate2/5nwfc__10X__Visium__Mouse__lung_brain__20230221__v2.0.1__LungReplicate2.contents' -> '/lustre/groups/ml01/projects/2024_spatialdata_db/data/5nwfc__10X__Visium__Mouse__lung_brain__20230221__v2.0.1__LungReplicate2/109pp__10X__Visium__Mouse__lung_brain__20230221__v2.0.1__LungReplicate2.contents'\n",
      "Error renaming file /lustre/groups/ml01/projects/2024_spatialdata_db/data/zztm8__10X__Visium__Mouse__brain__20220712__v2.0.0/zztm8__10X__Visium__Mouse__brain__20220712__v2.0.0.contents to /lustre/groups/ml01/projects/2024_spatialdata_db/data/zztm8__10X__Visium__Mouse__brain__20220712__v2.0.0/10rx2__10X__Visium__Mouse__brain__20220712__v2.0.0.contents: [Errno 2] No such file or directory: '/lustre/groups/ml01/projects/2024_spatialdata_db/data/zztm8__10X__Visium__Mouse__brain__20220712__v2.0.0/zztm8__10X__Visium__Mouse__brain__20220712__v2.0.0.contents' -> '/lustre/groups/ml01/projects/2024_spatialdata_db/data/zztm8__10X__Visium__Mouse__brain__20220712__v2.0.0/10rx2__10X__Visium__Mouse__brain__20220712__v2.0.0.contents'\n"
     ]
    },
    {
     "name": "stderr",
     "output_type": "stream",
     "text": [
      "Renaming files:  61%|██████    | 86220/141703 [00:18<00:12, 4443.45it/s]"
     ]
    },
    {
     "name": "stdout",
     "output_type": "stream",
     "text": [
      "Error renaming file /lustre/groups/ml01/projects/2024_spatialdata_db/data/f9fcg__10X__Visium__Human__skin__20220713__v2.0.0/f9fcg__10X__Visium__Human__skin__20220713__v2.0.0.contents to /lustre/groups/ml01/projects/2024_spatialdata_db/data/f9fcg__10X__Visium__Human__skin__20220713__v2.0.0/10ieh__10X__Visium__Human__skin__20220713__v2.0.0.contents: [Errno 2] No such file or directory: '/lustre/groups/ml01/projects/2024_spatialdata_db/data/f9fcg__10X__Visium__Human__skin__20220713__v2.0.0/f9fcg__10X__Visium__Human__skin__20220713__v2.0.0.contents' -> '/lustre/groups/ml01/projects/2024_spatialdata_db/data/f9fcg__10X__Visium__Human__skin__20220713__v2.0.0/10ieh__10X__Visium__Human__skin__20220713__v2.0.0.contents'\n"
     ]
    },
    {
     "name": "stderr",
     "output_type": "stream",
     "text": [
      "Renaming files:  61%|██████    | 86674/141703 [00:18<00:12, 4444.43it/s]"
     ]
    },
    {
     "name": "stdout",
     "output_type": "stream",
     "text": [
      "Error renaming file /lustre/groups/ml01/projects/2024_spatialdata_db/data/4i0c9__10X__Visium__Human__breast__20210511__v1.2.0/4i0c9__10X__Visium__Human__breast__20210511__v1.2.0.contents to /lustre/groups/ml01/projects/2024_spatialdata_db/data/4i0c9__10X__Visium__Human__breast__20210511__v1.2.0/10vtf__10X__Visium__Human__breast__20210511__v1.2.0.contents: [Errno 2] No such file or directory: '/lustre/groups/ml01/projects/2024_spatialdata_db/data/4i0c9__10X__Visium__Human__breast__20210511__v1.2.0/4i0c9__10X__Visium__Human__breast__20210511__v1.2.0.contents' -> '/lustre/groups/ml01/projects/2024_spatialdata_db/data/4i0c9__10X__Visium__Human__breast__20210511__v1.2.0/10vtf__10X__Visium__Human__breast__20210511__v1.2.0.contents'\n",
      "Error renaming file /lustre/groups/ml01/projects/2024_spatialdata_db/data/0kbsa__10X__Visium__Mouse__brain__20200623__v1.1.0/0kbsa__10X__Visium__Mouse__brain__20200623__v1.1.0.contents to /lustre/groups/ml01/projects/2024_spatialdata_db/data/0kbsa__10X__Visium__Mouse__brain__20200623__v1.1.0/103sm__10X__Visium__Mouse__brain__20200623__v1.1.0.contents: [Errno 2] No such file or directory: '/lustre/groups/ml01/projects/2024_spatialdata_db/data/0kbsa__10X__Visium__Mouse__brain__20200623__v1.1.0/0kbsa__10X__Visium__Mouse__brain__20200623__v1.1.0.contents' -> '/lustre/groups/ml01/projects/2024_spatialdata_db/data/0kbsa__10X__Visium__Mouse__brain__20200623__v1.1.0/103sm__10X__Visium__Mouse__brain__20200623__v1.1.0.contents'\n"
     ]
    },
    {
     "name": "stderr",
     "output_type": "stream",
     "text": [
      "Renaming files:  61%|██████▏   | 87125/141703 [00:19<00:13, 4180.11it/s]"
     ]
    },
    {
     "name": "stdout",
     "output_type": "stream",
     "text": [
      "Error renaming file /lustre/groups/ml01/projects/2024_spatialdata_db/data/s98o1__10X__Visium__Mouse__kidney_brain__20230221__v2.0.1/s98o1__10X__Visium__Mouse__kidney_brain__20230221__v2.0.1.contents to /lustre/groups/ml01/projects/2024_spatialdata_db/data/s98o1__10X__Visium__Mouse__kidney_brain__20230221__v2.0.1/10e4w__10X__Visium__Mouse__kidney_brain__20230221__v2.0.1.contents: [Errno 2] No such file or directory: '/lustre/groups/ml01/projects/2024_spatialdata_db/data/s98o1__10X__Visium__Mouse__kidney_brain__20230221__v2.0.1/s98o1__10X__Visium__Mouse__kidney_brain__20230221__v2.0.1.contents' -> '/lustre/groups/ml01/projects/2024_spatialdata_db/data/s98o1__10X__Visium__Mouse__kidney_brain__20230221__v2.0.1/10e4w__10X__Visium__Mouse__kidney_brain__20230221__v2.0.1.contents'\n"
     ]
    },
    {
     "name": "stderr",
     "output_type": "stream",
     "text": [
      "Renaming files:  62%|██████▏   | 87571/141703 [00:19<00:12, 4256.33it/s]"
     ]
    },
    {
     "name": "stdout",
     "output_type": "stream",
     "text": [
      "Error renaming file /lustre/groups/ml01/projects/2024_spatialdata_db/data/yhn15__10X__Xenium__Mouse__brain__20230122__v1.0.2__Tinysubset/yhn15__10X__Xenium__Mouse__brain__20230122__v1.0.2__Tinysubset.contents to /lustre/groups/ml01/projects/2024_spatialdata_db/data/yhn15__10X__Xenium__Mouse__brain__20230122__v1.0.2__Tinysubset/104cz__10X__Xenium__Mouse__brain__20230122__v1.0.2__Tinysubset.contents: [Errno 2] No such file or directory: '/lustre/groups/ml01/projects/2024_spatialdata_db/data/yhn15__10X__Xenium__Mouse__brain__20230122__v1.0.2__Tinysubset/yhn15__10X__Xenium__Mouse__brain__20230122__v1.0.2__Tinysubset.contents' -> '/lustre/groups/ml01/projects/2024_spatialdata_db/data/yhn15__10X__Xenium__Mouse__brain__20230122__v1.0.2__Tinysubset/104cz__10X__Xenium__Mouse__brain__20230122__v1.0.2__Tinysubset.contents'\n"
     ]
    },
    {
     "name": "stderr",
     "output_type": "stream",
     "text": [
      "Renaming files:  62%|██████▏   | 88009/141703 [00:19<00:12, 4277.68it/s]"
     ]
    },
    {
     "name": "stdout",
     "output_type": "stream",
     "text": [
      "Error renaming file /lustre/groups/ml01/projects/2024_spatialdata_db/data/tpaa3__10X__Visium__Human__breast__20201027__v1.2.0/tpaa3__10X__Visium__Human__breast__20201027__v1.2.0.contents to /lustre/groups/ml01/projects/2024_spatialdata_db/data/tpaa3__10X__Visium__Human__breast__20201027__v1.2.0/10p19__10X__Visium__Human__breast__20201027__v1.2.0.contents: [Errno 2] No such file or directory: '/lustre/groups/ml01/projects/2024_spatialdata_db/data/tpaa3__10X__Visium__Human__breast__20201027__v1.2.0/tpaa3__10X__Visium__Human__breast__20201027__v1.2.0.contents' -> '/lustre/groups/ml01/projects/2024_spatialdata_db/data/tpaa3__10X__Visium__Human__breast__20201027__v1.2.0/10p19__10X__Visium__Human__breast__20201027__v1.2.0.contents'\n"
     ]
    },
    {
     "name": "stderr",
     "output_type": "stream",
     "text": [
      "Renaming files:  62%|██████▏   | 88441/141703 [00:19<00:12, 4282.41it/s]"
     ]
    },
    {
     "name": "stdout",
     "output_type": "stream",
     "text": [
      "Error renaming file /lustre/groups/ml01/projects/2024_spatialdata_db/data/31nta__10X__Visium__Human__colon__20231005__v2.1.0__Post-XeniumReplicate2/31nta__10X__Visium__Human__colon__20231005__v2.1.0__Post-XeniumReplicate2.contents to /lustre/groups/ml01/projects/2024_spatialdata_db/data/31nta__10X__Visium__Human__colon__20231005__v2.1.0__Post-XeniumReplicate2/10jfe__10X__Visium__Human__colon__20231005__v2.1.0__Post-XeniumReplicate2.contents: [Errno 2] No such file or directory: '/lustre/groups/ml01/projects/2024_spatialdata_db/data/31nta__10X__Visium__Human__colon__20231005__v2.1.0__Post-XeniumReplicate2/31nta__10X__Visium__Human__colon__20231005__v2.1.0__Post-XeniumReplicate2.contents' -> '/lustre/groups/ml01/projects/2024_spatialdata_db/data/31nta__10X__Visium__Human__colon__20231005__v2.1.0__Post-XeniumReplicate2/10jfe__10X__Visium__Human__colon__20231005__v2.1.0__Post-XeniumReplicate2.contents'\n"
     ]
    },
    {
     "name": "stderr",
     "output_type": "stream",
     "text": [
      "Renaming files:  63%|██████▎   | 88879/141703 [00:19<00:12, 4305.95it/s]"
     ]
    },
    {
     "name": "stdout",
     "output_type": "stream",
     "text": [
      "Error renaming file /lustre/groups/ml01/projects/2024_spatialdata_db/data/v49mv__10X__Visium__Human__prostate__20210727__v1.3.0/v49mv__10X__Visium__Human__prostate__20210727__v1.3.0.contents to /lustre/groups/ml01/projects/2024_spatialdata_db/data/v49mv__10X__Visium__Human__prostate__20210727__v1.3.0/100w1__10X__Visium__Human__prostate__20210727__v1.3.0.contents: [Errno 2] No such file or directory: '/lustre/groups/ml01/projects/2024_spatialdata_db/data/v49mv__10X__Visium__Human__prostate__20210727__v1.3.0/v49mv__10X__Visium__Human__prostate__20210727__v1.3.0.contents' -> '/lustre/groups/ml01/projects/2024_spatialdata_db/data/v49mv__10X__Visium__Human__prostate__20210727__v1.3.0/100w1__10X__Visium__Human__prostate__20210727__v1.3.0.contents'\n",
      "Error renaming file /lustre/groups/ml01/projects/2024_spatialdata_db/data/mvfvu__10X__Xenium__Human__breast__20230122__v1.0.2__Tissuesample2/mvfvu__10X__Xenium__Human__breast__20230122__v1.0.2__Tissuesample2.contents to /lustre/groups/ml01/projects/2024_spatialdata_db/data/mvfvu__10X__Xenium__Human__breast__20230122__v1.0.2__Tissuesample2/10pf0__10X__Xenium__Human__breast__20230122__v1.0.2__Tissuesample2.contents: [Errno 2] No such file or directory: '/lustre/groups/ml01/projects/2024_spatialdata_db/data/mvfvu__10X__Xenium__Human__breast__20230122__v1.0.2__Tissuesample2/mvfvu__10X__Xenium__Human__breast__20230122__v1.0.2__Tissuesample2.contents' -> '/lustre/groups/ml01/projects/2024_spatialdata_db/data/mvfvu__10X__Xenium__Human__breast__20230122__v1.0.2__Tissuesample2/10pf0__10X__Xenium__Human__breast__20230122__v1.0.2__Tissuesample2.contents'\n"
     ]
    },
    {
     "name": "stderr",
     "output_type": "stream",
     "text": [
      "Renaming files:  64%|██████▍   | 90370/141703 [00:19<00:11, 4572.27it/s]"
     ]
    },
    {
     "name": "stdout",
     "output_type": "stream",
     "text": [
      "Error renaming file /lustre/groups/ml01/projects/2024_spatialdata_db/data/2549m__10X__Xenium__Human__lymph_node__20230717__v1.5.0/2549m__10X__Xenium__Human__lymph_node__20230717__v1.5.0.contents to /lustre/groups/ml01/projects/2024_spatialdata_db/data/2549m__10X__Xenium__Human__lymph_node__20230717__v1.5.0/103mf__10X__Xenium__Human__lymph_node__20230717__v1.5.0.contents: [Errno 2] No such file or directory: '/lustre/groups/ml01/projects/2024_spatialdata_db/data/2549m__10X__Xenium__Human__lymph_node__20230717__v1.5.0/2549m__10X__Xenium__Human__lymph_node__20230717__v1.5.0.contents' -> '/lustre/groups/ml01/projects/2024_spatialdata_db/data/2549m__10X__Xenium__Human__lymph_node__20230717__v1.5.0/103mf__10X__Xenium__Human__lymph_node__20230717__v1.5.0.contents'\n"
     ]
    },
    {
     "name": "stderr",
     "output_type": "stream",
     "text": [
      "Renaming files:  64%|██████▍   | 91276/141703 [00:19<00:11, 4243.04it/s]"
     ]
    },
    {
     "name": "stdout",
     "output_type": "stream",
     "text": [
      "Error renaming file /lustre/groups/ml01/projects/2024_spatialdata_db/data/h4phn__10X__Visium__Human__breast__20200623__v1.1.0/h4phn__10X__Visium__Human__breast__20200623__v1.1.0.contents to /lustre/groups/ml01/projects/2024_spatialdata_db/data/h4phn__10X__Visium__Human__breast__20200623__v1.1.0/10fmm__10X__Visium__Human__breast__20200623__v1.1.0.contents: [Errno 2] No such file or directory: '/lustre/groups/ml01/projects/2024_spatialdata_db/data/h4phn__10X__Visium__Human__breast__20200623__v1.1.0/h4phn__10X__Visium__Human__breast__20200623__v1.1.0.contents' -> '/lustre/groups/ml01/projects/2024_spatialdata_db/data/h4phn__10X__Visium__Human__breast__20200623__v1.1.0/10fmm__10X__Visium__Human__breast__20200623__v1.1.0.contents'\n"
     ]
    },
    {
     "name": "stderr",
     "output_type": "stream",
     "text": [
      "Renaming files:  65%|██████▍   | 91810/141703 [00:20<00:10, 4549.15it/s]"
     ]
    },
    {
     "name": "stdout",
     "output_type": "stream",
     "text": [
      "Error renaming file /lustre/groups/ml01/projects/2024_spatialdata_db/data/sjmmx__10X__Visium__Mouse__brain__20231005__v2.1.0__Post-XeniumReplicate2/sjmmx__10X__Visium__Mouse__brain__20231005__v2.1.0__Post-XeniumReplicate2.contents to /lustre/groups/ml01/projects/2024_spatialdata_db/data/sjmmx__10X__Visium__Mouse__brain__20231005__v2.1.0__Post-XeniumReplicate2/105k3__10X__Visium__Mouse__brain__20231005__v2.1.0__Post-XeniumReplicate2.contents: [Errno 2] No such file or directory: '/lustre/groups/ml01/projects/2024_spatialdata_db/data/sjmmx__10X__Visium__Mouse__brain__20231005__v2.1.0__Post-XeniumReplicate2/sjmmx__10X__Visium__Mouse__brain__20231005__v2.1.0__Post-XeniumReplicate2.contents' -> '/lustre/groups/ml01/projects/2024_spatialdata_db/data/sjmmx__10X__Visium__Mouse__brain__20231005__v2.1.0__Post-XeniumReplicate2/105k3__10X__Visium__Mouse__brain__20231005__v2.1.0__Post-XeniumReplicate2.contents'\n",
      "Error renaming file /lustre/groups/ml01/projects/2024_spatialdata_db/data/oftpw__10X__Xenium__Human__bone_bone_marrow__20240403__v1.9.0__Non-diseasedFemurBone/oftpw__10X__Xenium__Human__bone_bone_marrow__20240403__v1.9.0__Non-diseasedFemurBone.contents to /lustre/groups/ml01/projects/2024_spatialdata_db/data/oftpw__10X__Xenium__Human__bone_bone_marrow__20240403__v1.9.0__Non-diseasedFemurBone/10pui__10X__Xenium__Human__bone_bone_marrow__20240403__v1.9.0__Non-diseasedFemurBone.contents: [Errno 2] No such file or directory: '/lustre/groups/ml01/projects/2024_spatialdata_db/data/oftpw__10X__Xenium__Human__bone_bone_marrow__20240403__v1.9.0__Non-diseasedFemurBone/oftpw__10X__Xenium__Human__bone_bone_marrow__20240403__v1.9.0__Non-diseasedFemurBone.contents' -> '/lustre/groups/ml01/projects/2024_spatialdata_db/data/oftpw__10X__Xenium__Human__bone_bone_marrow__20240403__v1.9.0__Non-diseasedFemurBone/10pui__10X__Xenium__Human__bone_bone_marrow__20240403__v1.9.0__Non-diseasedFemurBone.contents'"
     ]
    },
    {
     "name": "stderr",
     "output_type": "stream",
     "text": [
      "Renaming files:  65%|██████▌   | 92287/141703 [00:20<00:10, 4602.86it/s]"
     ]
    },
    {
     "name": "stdout",
     "output_type": "stream",
     "text": [
      "\n"
     ]
    },
    {
     "name": "stderr",
     "output_type": "stream",
     "text": [
      "Renaming files:  65%|██████▌   | 92751/141703 [00:20<00:11, 4438.78it/s]"
     ]
    },
    {
     "name": "stdout",
     "output_type": "stream",
     "text": [
      "Error renaming file /lustre/groups/ml01/projects/2024_spatialdata_db/data/h5h77__10X__Visium__Mouse__brain__20230417__v2.0.1/h5h77__10X__Visium__Mouse__brain__20230417__v2.0.1.contents to /lustre/groups/ml01/projects/2024_spatialdata_db/data/h5h77__10X__Visium__Mouse__brain__20230417__v2.0.1/101s6__10X__Visium__Mouse__brain__20230417__v2.0.1.contents: [Errno 2] No such file or directory: '/lustre/groups/ml01/projects/2024_spatialdata_db/data/h5h77__10X__Visium__Mouse__brain__20230417__v2.0.1/h5h77__10X__Visium__Mouse__brain__20230417__v2.0.1.contents' -> '/lustre/groups/ml01/projects/2024_spatialdata_db/data/h5h77__10X__Visium__Mouse__brain__20230417__v2.0.1/101s6__10X__Visium__Mouse__brain__20230417__v2.0.1.contents'\n"
     ]
    },
    {
     "name": "stderr",
     "output_type": "stream",
     "text": [
      "Renaming files:  66%|██████▌   | 93198/141703 [00:20<00:11, 4257.30it/s]"
     ]
    },
    {
     "name": "stdout",
     "output_type": "stream",
     "text": [
      "Error renaming file /lustre/groups/ml01/projects/2024_spatialdata_db/data/kbvfj__10X__Visium__Mouse__brain__20220329__v1.3.0/kbvfj__10X__Visium__Mouse__brain__20220329__v1.3.0.contents to /lustre/groups/ml01/projects/2024_spatialdata_db/data/kbvfj__10X__Visium__Mouse__brain__20220329__v1.3.0/10053__10X__Visium__Mouse__brain__20220329__v1.3.0.contents: [Errno 2] No such file or directory: '/lustre/groups/ml01/projects/2024_spatialdata_db/data/kbvfj__10X__Visium__Mouse__brain__20220329__v1.3.0/kbvfj__10X__Visium__Mouse__brain__20220329__v1.3.0.contents' -> '/lustre/groups/ml01/projects/2024_spatialdata_db/data/kbvfj__10X__Visium__Mouse__brain__20220329__v1.3.0/10053__10X__Visium__Mouse__brain__20220329__v1.3.0.contents'\n"
     ]
    },
    {
     "name": "stderr",
     "output_type": "stream",
     "text": [
      "Renaming files:  66%|██████▌   | 93738/141703 [00:20<00:10, 4576.10it/s]"
     ]
    },
    {
     "name": "stdout",
     "output_type": "stream",
     "text": [
      "Error renaming file /lustre/groups/ml01/projects/2024_spatialdata_db/data/rebtv__10X__CytAssist__Human__tonsil__20230515__v2.1.0/rebtv__10X__CytAssist__Human__tonsil__20230515__v2.1.0.contents to /lustre/groups/ml01/projects/2024_spatialdata_db/data/rebtv__10X__CytAssist__Human__tonsil__20230515__v2.1.0/10ekd__10X__CytAssist__Human__tonsil__20230515__v2.1.0.contents: [Errno 2] No such file or directory: '/lustre/groups/ml01/projects/2024_spatialdata_db/data/rebtv__10X__CytAssist__Human__tonsil__20230515__v2.1.0/rebtv__10X__CytAssist__Human__tonsil__20230515__v2.1.0.contents' -> '/lustre/groups/ml01/projects/2024_spatialdata_db/data/rebtv__10X__CytAssist__Human__tonsil__20230515__v2.1.0/10ekd__10X__CytAssist__Human__tonsil__20230515__v2.1.0.contents'\n"
     ]
    },
    {
     "name": "stderr",
     "output_type": "stream",
     "text": [
      "Renaming files:  66%|██████▋   | 94200/141703 [00:20<00:10, 4451.56it/s]"
     ]
    },
    {
     "name": "stdout",
     "output_type": "stream",
     "text": [
      "Error renaming file /lustre/groups/ml01/projects/2024_spatialdata_db/data/yw9rf__10X__Visium__Mouse__brain__20200623__v1.1.0/yw9rf__10X__Visium__Mouse__brain__20200623__v1.1.0.contents to /lustre/groups/ml01/projects/2024_spatialdata_db/data/yw9rf__10X__Visium__Mouse__brain__20200623__v1.1.0/10fn9__10X__Visium__Mouse__brain__20200623__v1.1.0.contents: [Errno 2] No such file or directory: '/lustre/groups/ml01/projects/2024_spatialdata_db/data/yw9rf__10X__Visium__Mouse__brain__20200623__v1.1.0/yw9rf__10X__Visium__Mouse__brain__20200623__v1.1.0.contents' -> '/lustre/groups/ml01/projects/2024_spatialdata_db/data/yw9rf__10X__Visium__Mouse__brain__20200623__v1.1.0/10fn9__10X__Visium__Mouse__brain__20200623__v1.1.0.contents'\n"
     ]
    },
    {
     "name": "stderr",
     "output_type": "stream",
     "text": [
      "Renaming files:  67%|██████▋   | 94649/141703 [00:20<00:11, 4086.23it/s]"
     ]
    },
    {
     "name": "stdout",
     "output_type": "stream",
     "text": [
      "Error renaming file /lustre/groups/ml01/projects/2024_spatialdata_db/data/cy4ns__10X__Visium__Human__heart__20200623__v1.1.0/cy4ns__10X__Visium__Human__heart__20200623__v1.1.0.contents to /lustre/groups/ml01/projects/2024_spatialdata_db/data/cy4ns__10X__Visium__Human__heart__20200623__v1.1.0/1025z__10X__Visium__Human__heart__20200623__v1.1.0.contents: [Errno 2] No such file or directory: '/lustre/groups/ml01/projects/2024_spatialdata_db/data/cy4ns__10X__Visium__Human__heart__20200623__v1.1.0/cy4ns__10X__Visium__Human__heart__20200623__v1.1.0.contents' -> '/lustre/groups/ml01/projects/2024_spatialdata_db/data/cy4ns__10X__Visium__Human__heart__20200623__v1.1.0/1025z__10X__Visium__Human__heart__20200623__v1.1.0.contents'\n",
      "Error renaming file /lustre/groups/ml01/projects/2024_spatialdata_db/data/3s126__10X__Visium__Mouse__brain__20220713__v2.0.0/3s126__10X__Visium__Mouse__brain__20220713__v2.0.0.contents to /lustre/groups/ml01/projects/2024_spatialdata_db/data/3s126__10X__Visium__Mouse__brain__20220713__v2.0.0/10ndj__10X__Visium__Mouse__brain__20220713__v2.0.0.contents: [Errno 2] No such file or directory: '/lustre/groups/ml01/projects/2024_spatialdata_db/data/3s126__10X__Visium__Mouse__brain__20220713__v2.0.0/3s126__10X__Visium__Mouse__brain__20220713__v2.0.0.contents' -> '/lustre/groups/ml01/projects/2024_spatialdata_db/data/3s126__10X__Visium__Mouse__brain__20220713__v2.0.0/10ndj__10X__Visium__Mouse__brain__20220713__v2.0.0.contents'\n"
     ]
    },
    {
     "name": "stderr",
     "output_type": "stream",
     "text": [
      "Renaming files:  67%|██████▋   | 95180/141703 [00:20<00:10, 4411.84it/s]"
     ]
    },
    {
     "name": "stdout",
     "output_type": "stream",
     "text": [
      "Error renaming file /lustre/groups/ml01/projects/2024_spatialdata_db/data/a9vph__10X__Visium__Human__lymph_node__20191212__v1.0.0/a9vph__10X__Visium__Human__lymph_node__20191212__v1.0.0.contents to /lustre/groups/ml01/projects/2024_spatialdata_db/data/a9vph__10X__Visium__Human__lymph_node__20191212__v1.0.0/10vyh__10X__Visium__Human__lymph_node__20191212__v1.0.0.contents: [Errno 2] No such file or directory: '/lustre/groups/ml01/projects/2024_spatialdata_db/data/a9vph__10X__Visium__Human__lymph_node__20191212__v1.0.0/a9vph__10X__Visium__Human__lymph_node__20191212__v1.0.0.contents' -> '/lustre/groups/ml01/projects/2024_spatialdata_db/data/a9vph__10X__Visium__Human__lymph_node__20191212__v1.0.0/10vyh__10X__Visium__Human__lymph_node__20191212__v1.0.0.contents'\n"
     ]
    },
    {
     "name": "stderr",
     "output_type": "stream",
     "text": [
      "Renaming files:  67%|██████▋   | 95630/141703 [00:20<00:10, 4395.27it/s]"
     ]
    },
    {
     "name": "stdout",
     "output_type": "stream",
     "text": [
      "Error renaming file /lustre/groups/ml01/projects/2024_spatialdata_db/data/kw6qn__10X__Visium__Mouse__brain__20230417__v2.0.1/kw6qn__10X__Visium__Mouse__brain__20230417__v2.0.1.contents to /lustre/groups/ml01/projects/2024_spatialdata_db/data/kw6qn__10X__Visium__Mouse__brain__20230417__v2.0.1/10ant__10X__Visium__Mouse__brain__20230417__v2.0.1.contents: [Errno 2] No such file or directory: '/lustre/groups/ml01/projects/2024_spatialdata_db/data/kw6qn__10X__Visium__Mouse__brain__20230417__v2.0.1/kw6qn__10X__Visium__Mouse__brain__20230417__v2.0.1.contents' -> '/lustre/groups/ml01/projects/2024_spatialdata_db/data/kw6qn__10X__Visium__Mouse__brain__20230417__v2.0.1/10ant__10X__Visium__Mouse__brain__20230417__v2.0.1.contents'\n"
     ]
    },
    {
     "name": "stderr",
     "output_type": "stream",
     "text": [
      "Renaming files:  68%|██████▊   | 96076/141703 [00:21<00:10, 4311.16it/s]"
     ]
    },
    {
     "name": "stdout",
     "output_type": "stream",
     "text": [
      "Error renaming file /lustre/groups/ml01/projects/2024_spatialdata_db/data/uk0rv__10X__Visium__Mouse__lung_brain__20230221__v2.0.1__BrainReplicate1/uk0rv__10X__Visium__Mouse__lung_brain__20230221__v2.0.1__BrainReplicate1.contents to /lustre/groups/ml01/projects/2024_spatialdata_db/data/uk0rv__10X__Visium__Mouse__lung_brain__20230221__v2.0.1__BrainReplicate1/108ty__10X__Visium__Mouse__lung_brain__20230221__v2.0.1__BrainReplicate1.contents: [Errno 2] No such file or directory: '/lustre/groups/ml01/projects/2024_spatialdata_db/data/uk0rv__10X__Visium__Mouse__lung_brain__20230221__v2.0.1__BrainReplicate1/uk0rv__10X__Visium__Mouse__lung_brain__20230221__v2.0.1__BrainReplicate1.contents' -> '/lustre/groups/ml01/projects/2024_spatialdata_db/data/uk0rv__10X__Visium__Mouse__lung_brain__20230221__v2.0.1__BrainReplicate1/108ty__10X__Visium__Mouse__lung_brain__20230221__v2.0.1__BrainReplicate1.contents'\n"
     ]
    },
    {
     "name": "stderr",
     "output_type": "stream",
     "text": [
      "Renaming files:  68%|██████▊   | 96512/141703 [00:21<00:11, 4103.02it/s]"
     ]
    },
    {
     "name": "stdout",
     "output_type": "stream",
     "text": [
      "Error renaming file /lustre/groups/ml01/projects/2024_spatialdata_db/data/rqu2u__10X__Xenium__Human__lung__20240205__v2.0.0/rqu2u__10X__Xenium__Human__lung__20240205__v2.0.0.contents to /lustre/groups/ml01/projects/2024_spatialdata_db/data/rqu2u__10X__Xenium__Human__lung__20240205__v2.0.0/10uxy__10X__Xenium__Human__lung__20240205__v2.0.0.contents: [Errno 2] No such file or directory: '/lustre/groups/ml01/projects/2024_spatialdata_db/data/rqu2u__10X__Xenium__Human__lung__20240205__v2.0.0/rqu2u__10X__Xenium__Human__lung__20240205__v2.0.0.contents' -> '/lustre/groups/ml01/projects/2024_spatialdata_db/data/rqu2u__10X__Xenium__Human__lung__20240205__v2.0.0/10uxy__10X__Xenium__Human__lung__20240205__v2.0.0.contents'\n"
     ]
    },
    {
     "name": "stderr",
     "output_type": "stream",
     "text": [
      "Renaming files:  69%|██████▉   | 97458/141703 [00:21<00:09, 4439.32it/s]"
     ]
    },
    {
     "name": "stdout",
     "output_type": "stream",
     "text": [
      "Error renaming file /lustre/groups/ml01/projects/2024_spatialdata_db/data/6p76l__10X__Xenium__Human__lung__20230518__v1.3.0__LungCancer/6p76l__10X__Xenium__Human__lung__20230518__v1.3.0__LungCancer.contents to /lustre/groups/ml01/projects/2024_spatialdata_db/data/6p76l__10X__Xenium__Human__lung__20230518__v1.3.0__LungCancer/109k1__10X__Xenium__Human__lung__20230518__v1.3.0__LungCancer.contents: [Errno 2] No such file or directory: '/lustre/groups/ml01/projects/2024_spatialdata_db/data/6p76l__10X__Xenium__Human__lung__20230518__v1.3.0__LungCancer/6p76l__10X__Xenium__Human__lung__20230518__v1.3.0__LungCancer.contents' -> '/lustre/groups/ml01/projects/2024_spatialdata_db/data/6p76l__10X__Xenium__Human__lung__20230518__v1.3.0__LungCancer/109k1__10X__Xenium__Human__lung__20230518__v1.3.0__LungCancer.contents'\n"
     ]
    },
    {
     "name": "stderr",
     "output_type": "stream",
     "text": [
      "Renaming files:  70%|███████   | 99456/141703 [00:21<00:08, 4898.37it/s]"
     ]
    },
    {
     "name": "stdout",
     "output_type": "stream",
     "text": [
      "Error renaming file /lustre/groups/ml01/projects/2024_spatialdata_db/data/d5062__10X__Visium__Human__brain__20200623__v1.1.0/d5062__10X__Visium__Human__brain__20200623__v1.1.0.contents to /lustre/groups/ml01/projects/2024_spatialdata_db/data/d5062__10X__Visium__Human__brain__20200623__v1.1.0/10wv1__10X__Visium__Human__brain__20200623__v1.1.0.contents: [Errno 2] No such file or directory: '/lustre/groups/ml01/projects/2024_spatialdata_db/data/d5062__10X__Visium__Human__brain__20200623__v1.1.0/d5062__10X__Visium__Human__brain__20200623__v1.1.0.contents' -> '/lustre/groups/ml01/projects/2024_spatialdata_db/data/d5062__10X__Visium__Human__brain__20200623__v1.1.0/10wv1__10X__Visium__Human__brain__20200623__v1.1.0.contents'\n"
     ]
    },
    {
     "name": "stderr",
     "output_type": "stream",
     "text": [
      "Renaming files:  71%|███████   | 99975/141703 [00:21<00:08, 4982.75it/s]"
     ]
    },
    {
     "name": "stdout",
     "output_type": "stream",
     "text": [
      "Error renaming file /lustre/groups/ml01/projects/2024_spatialdata_db/data/3p7pv__10X__Visium__Mouse__brain__20221018__v2.0.0/3p7pv__10X__Visium__Mouse__brain__20221018__v2.0.0.contents to /lustre/groups/ml01/projects/2024_spatialdata_db/data/3p7pv__10X__Visium__Mouse__brain__20221018__v2.0.0/107rk__10X__Visium__Mouse__brain__20221018__v2.0.0.contents: [Errno 2] No such file or directory: '/lustre/groups/ml01/projects/2024_spatialdata_db/data/3p7pv__10X__Visium__Mouse__brain__20221018__v2.0.0/3p7pv__10X__Visium__Mouse__brain__20221018__v2.0.0.contents' -> '/lustre/groups/ml01/projects/2024_spatialdata_db/data/3p7pv__10X__Visium__Mouse__brain__20221018__v2.0.0/107rk__10X__Visium__Mouse__brain__20221018__v2.0.0.contents'\n",
      "Error renaming file /lustre/groups/ml01/projects/2024_spatialdata_db/data/l679p__10X__Visium__Mouse__embryo__20230608__v2.1.0/l679p__10X__Visium__Mouse__embryo__20230608__v2.1.0.contents to /lustre/groups/ml01/projects/2024_spatialdata_db/data/l679p__10X__Visium__Mouse__embryo__20230608__v2.1.0/1001e__10X__Visium__Mouse__embryo__20230608__v2.1.0.contents: [Errno 2] No such file or directory: '/lustre/groups/ml01/projects/2024_spatialdata_db/data/l679p__10X__Visium__Mouse__embryo__20230608__v2.1.0/l679p__10X__Visium__Mouse__embryo__20230608__v2.1.0.contents' -> '/lustre/groups/ml01/projects/2024_spatialdata_db/data/l679p__10X__Visium__Mouse__embryo__20230608__v2.1.0/1001e__10X__Visium__Mouse__embryo__20230608__v2.1.0.contents'\n"
     ]
    },
    {
     "name": "stderr",
     "output_type": "stream",
     "text": [
      "Renaming files:  71%|███████   | 100476/141703 [00:21<00:08, 4714.24it/s]"
     ]
    },
    {
     "name": "stdout",
     "output_type": "stream",
     "text": [
      "Error renaming file /lustre/groups/ml01/projects/2024_spatialdata_db/data/2lfvx__10X__Visium__Mouse__brain__20230608__v2.1.0/2lfvx__10X__Visium__Mouse__brain__20230608__v2.1.0.contents to /lustre/groups/ml01/projects/2024_spatialdata_db/data/2lfvx__10X__Visium__Mouse__brain__20230608__v2.1.0/103uy__10X__Visium__Mouse__brain__20230608__v2.1.0.contents: [Errno 2] No such file or directory: '/lustre/groups/ml01/projects/2024_spatialdata_db/data/2lfvx__10X__Visium__Mouse__brain__20230608__v2.1.0/2lfvx__10X__Visium__Mouse__brain__20230608__v2.1.0.contents' -> '/lustre/groups/ml01/projects/2024_spatialdata_db/data/2lfvx__10X__Visium__Mouse__brain__20230608__v2.1.0/103uy__10X__Visium__Mouse__brain__20230608__v2.1.0.contents'\n"
     ]
    },
    {
     "name": "stderr",
     "output_type": "stream",
     "text": [
      "Renaming files:  71%|███████   | 100952/141703 [00:22<00:08, 4531.90it/s]"
     ]
    },
    {
     "name": "stdout",
     "output_type": "stream",
     "text": [
      "Error renaming file /lustre/groups/ml01/projects/2024_spatialdata_db/data/m72vi__10X__Xenium__unknown__unknown__20230420__v1.3.0__Glioblastoma/m72vi__10X__Xenium__unknown__unknown__20230420__v1.3.0__Glioblastoma.contents to /lustre/groups/ml01/projects/2024_spatialdata_db/data/m72vi__10X__Xenium__unknown__unknown__20230420__v1.3.0__Glioblastoma/1091x__10X__Xenium__unknown__unknown__20230420__v1.3.0__Glioblastoma.contents: [Errno 2] No such file or directory: '/lustre/groups/ml01/projects/2024_spatialdata_db/data/m72vi__10X__Xenium__unknown__unknown__20230420__v1.3.0__Glioblastoma/m72vi__10X__Xenium__unknown__unknown__20230420__v1.3.0__Glioblastoma.contents' -> '/lustre/groups/ml01/projects/2024_spatialdata_db/data/m72vi__10X__Xenium__unknown__unknown__20230420__v1.3.0__Glioblastoma/1091x__10X__Xenium__unknown__unknown__20230420__v1.3.0__Glioblastoma.contents'\n"
     ]
    },
    {
     "name": "stderr",
     "output_type": "stream",
     "text": [
      "Renaming files:  72%|███████▏  | 101486/141703 [00:22<00:08, 4758.50it/s]"
     ]
    },
    {
     "name": "stdout",
     "output_type": "stream",
     "text": [
      "Error renaming file /lustre/groups/ml01/projects/2024_spatialdata_db/data/g7mbj__10X__Visium__Human__brain__20201027__v1.2.0/g7mbj__10X__Visium__Human__brain__20201027__v1.2.0.contents to /lustre/groups/ml01/projects/2024_spatialdata_db/data/g7mbj__10X__Visium__Human__brain__20201027__v1.2.0/10zyf__10X__Visium__Human__brain__20201027__v1.2.0.contents: [Errno 2] No such file or directory: '/lustre/groups/ml01/projects/2024_spatialdata_db/data/g7mbj__10X__Visium__Human__brain__20201027__v1.2.0/g7mbj__10X__Visium__Human__brain__20201027__v1.2.0.contents' -> '/lustre/groups/ml01/projects/2024_spatialdata_db/data/g7mbj__10X__Visium__Human__brain__20201027__v1.2.0/10zyf__10X__Visium__Human__brain__20201027__v1.2.0.contents'\n"
     ]
    },
    {
     "name": "stderr",
     "output_type": "stream",
     "text": [
      "Renaming files:  74%|███████▎  | 104281/141703 [00:22<00:08, 4267.97it/s]"
     ]
    },
    {
     "name": "stdout",
     "output_type": "stream",
     "text": [
      "Error renaming file /lustre/groups/ml01/projects/2024_spatialdata_db/data/2dwwq__10X__Visium__Mouse__brain__20230525__v2.1.0/2dwwq__10X__Visium__Mouse__brain__20230525__v2.1.0.contents to /lustre/groups/ml01/projects/2024_spatialdata_db/data/2dwwq__10X__Visium__Mouse__brain__20230525__v2.1.0/10ckr__10X__Visium__Mouse__brain__20230525__v2.1.0.contents: [Errno 2] No such file or directory: '/lustre/groups/ml01/projects/2024_spatialdata_db/data/2dwwq__10X__Visium__Mouse__brain__20230525__v2.1.0/2dwwq__10X__Visium__Mouse__brain__20230525__v2.1.0.contents' -> '/lustre/groups/ml01/projects/2024_spatialdata_db/data/2dwwq__10X__Visium__Mouse__brain__20230525__v2.1.0/10ckr__10X__Visium__Mouse__brain__20230525__v2.1.0.contents'\n"
     ]
    },
    {
     "name": "stderr",
     "output_type": "stream",
     "text": [
      "Renaming files:  74%|███████▍  | 104833/141703 [00:22<00:07, 4622.21it/s]"
     ]
    },
    {
     "name": "stdout",
     "output_type": "stream",
     "text": [
      "Error renaming file /lustre/groups/ml01/projects/2024_spatialdata_db/data/6u5jt__10X__Visium__Mouse__olfactory_bulb__20220324__v1.3.0/6u5jt__10X__Visium__Mouse__olfactory_bulb__20220324__v1.3.0.contents to /lustre/groups/ml01/projects/2024_spatialdata_db/data/6u5jt__10X__Visium__Mouse__olfactory_bulb__20220324__v1.3.0/10t8c__10X__Visium__Mouse__olfactory_bulb__20220324__v1.3.0.contents: [Errno 2] No such file or directory: '/lustre/groups/ml01/projects/2024_spatialdata_db/data/6u5jt__10X__Visium__Mouse__olfactory_bulb__20220324__v1.3.0/6u5jt__10X__Visium__Mouse__olfactory_bulb__20220324__v1.3.0.contents' -> '/lustre/groups/ml01/projects/2024_spatialdata_db/data/6u5jt__10X__Visium__Mouse__olfactory_bulb__20220324__v1.3.0/10t8c__10X__Visium__Mouse__olfactory_bulb__20220324__v1.3.0.contents'\n"
     ]
    },
    {
     "name": "stderr",
     "output_type": "stream",
     "text": [
      "Renaming files:  76%|███████▌  | 107473/141703 [00:23<00:06, 5070.80it/s]"
     ]
    },
    {
     "name": "stdout",
     "output_type": "stream",
     "text": [
      "Error renaming file /lustre/groups/ml01/projects/2024_spatialdata_db/data/ougr9__10X__Visium__Human__brain_cerebellum__20201027__v1.2.0/ougr9__10X__Visium__Human__brain_cerebellum__20201027__v1.2.0.contents to /lustre/groups/ml01/projects/2024_spatialdata_db/data/ougr9__10X__Visium__Human__brain_cerebellum__20201027__v1.2.0/10kyn__10X__Visium__Human__brain_cerebellum__20201027__v1.2.0.contents: [Errno 2] No such file or directory: '/lustre/groups/ml01/projects/2024_spatialdata_db/data/ougr9__10X__Visium__Human__brain_cerebellum__20201027__v1.2.0/ougr9__10X__Visium__Human__brain_cerebellum__20201027__v1.2.0.contents' -> '/lustre/groups/ml01/projects/2024_spatialdata_db/data/ougr9__10X__Visium__Human__brain_cerebellum__20201027__v1.2.0/10kyn__10X__Visium__Human__brain_cerebellum__20201027__v1.2.0.contents'\n"
     ]
    },
    {
     "name": "stderr",
     "output_type": "stream",
     "text": [
      "Renaming files:  77%|███████▋  | 108575/141703 [00:23<00:06, 5153.32it/s]"
     ]
    },
    {
     "name": "stdout",
     "output_type": "stream",
     "text": [
      "Error renaming file /lustre/groups/ml01/projects/2024_spatialdata_db/data/f61rr__10X__Xenium__Human__pancreas__20231116__v1.6.0/f61rr__10X__Xenium__Human__pancreas__20231116__v1.6.0.contents to /lustre/groups/ml01/projects/2024_spatialdata_db/data/f61rr__10X__Xenium__Human__pancreas__20231116__v1.6.0/10fyx__10X__Xenium__Human__pancreas__20231116__v1.6.0.contents: [Errno 2] No such file or directory: '/lustre/groups/ml01/projects/2024_spatialdata_db/data/f61rr__10X__Xenium__Human__pancreas__20231116__v1.6.0/f61rr__10X__Xenium__Human__pancreas__20231116__v1.6.0.contents' -> '/lustre/groups/ml01/projects/2024_spatialdata_db/data/f61rr__10X__Xenium__Human__pancreas__20231116__v1.6.0/10fyx__10X__Xenium__Human__pancreas__20231116__v1.6.0.contents'\n",
      "Error renaming file /lustre/groups/ml01/projects/2024_spatialdata_db/data/f0fww__10X__Visium__Mouse__lung_brain__20230221__v2.0.1__BrainReplicate4/f0fww__10X__Visium__Mouse__lung_brain__20230221__v2.0.1__BrainReplicate4.contents to /lustre/groups/ml01/projects/2024_spatialdata_db/data/f0fww__10X__Visium__Mouse__lung_brain__20230221__v2.0.1__BrainReplicate4/10sph__10X__Visium__Mouse__lung_brain__20230221__v2.0.1__BrainReplicate4.contents: [Errno 2] No such file or directory: '/lustre/groups/ml01/projects/2024_spatialdata_db/data/f0fww__10X__Visium__Mouse__lung_brain__20230221__v2.0.1__BrainReplicate4/f0fww__10X__Visium__Mouse__lung_brain__20230221__v2.0.1__BrainReplicate4.contents' -> '/lustre/groups/ml01/projects/2024_spatialdata_db/data/f0fww__10X__Visium__Mouse__lung_brain__20230221__v2.0.1__BrainReplicate4/10sph__10X__Visium__Mouse__lung_brain__20230221__v2.0.1__BrainReplicate4.contents'\n"
     ]
    },
    {
     "name": "stderr",
     "output_type": "stream",
     "text": [
      "Renaming files:  77%|███████▋  | 109094/141703 [00:23<00:06, 5114.08it/s]"
     ]
    },
    {
     "name": "stdout",
     "output_type": "stream",
     "text": [
      "Error renaming file /lustre/groups/ml01/projects/2024_spatialdata_db/data/u8rpv__10X__Visium__Mouse__brain__20200623__v1.1.0/u8rpv__10X__Visium__Mouse__brain__20200623__v1.1.0.contents to /lustre/groups/ml01/projects/2024_spatialdata_db/data/u8rpv__10X__Visium__Mouse__brain__20200623__v1.1.0/100wk__10X__Visium__Mouse__brain__20200623__v1.1.0.contents: [Errno 2] No such file or directory: '/lustre/groups/ml01/projects/2024_spatialdata_db/data/u8rpv__10X__Visium__Mouse__brain__20200623__v1.1.0/u8rpv__10X__Visium__Mouse__brain__20200623__v1.1.0.contents' -> '/lustre/groups/ml01/projects/2024_spatialdata_db/data/u8rpv__10X__Visium__Mouse__brain__20200623__v1.1.0/100wk__10X__Visium__Mouse__brain__20200623__v1.1.0.contents'\n"
     ]
    },
    {
     "name": "stderr",
     "output_type": "stream",
     "text": [
      "Renaming files:  77%|███████▋  | 109616/141703 [00:23<00:06, 5144.60it/s]"
     ]
    },
    {
     "name": "stdout",
     "output_type": "stream",
     "text": [
      "Error renaming file /lustre/groups/ml01/projects/2024_spatialdata_db/data/cdmnx__10X__Xenium__Mouse__brain__20230713__v1.4.0__TgCRND82.5months/cdmnx__10X__Xenium__Mouse__brain__20230713__v1.4.0__TgCRND82.5months.contents to /lustre/groups/ml01/projects/2024_spatialdata_db/data/cdmnx__10X__Xenium__Mouse__brain__20230713__v1.4.0__TgCRND82.5months/10kyp__10X__Xenium__Mouse__brain__20230713__v1.4.0__TgCRND82.5months.contents: [Errno 2] No such file or directory: '/lustre/groups/ml01/projects/2024_spatialdata_db/data/cdmnx__10X__Xenium__Mouse__brain__20230713__v1.4.0__TgCRND82.5months/cdmnx__10X__Xenium__Mouse__brain__20230713__v1.4.0__TgCRND82.5months.contents' -> '/lustre/groups/ml01/projects/2024_spatialdata_db/data/cdmnx__10X__Xenium__Mouse__brain__20230713__v1.4.0__TgCRND82.5months/10kyp__10X__Xenium__Mouse__brain__20230713__v1.4.0__TgCRND82.5months.contents'\n"
     ]
    },
    {
     "name": "stderr",
     "output_type": "stream",
     "text": [
      "Renaming files:  78%|███████▊  | 110133/141703 [00:24<00:06, 4931.26it/s]"
     ]
    },
    {
     "name": "stdout",
     "output_type": "stream",
     "text": [
      "Error renaming file /lustre/groups/ml01/projects/2024_spatialdata_db/data/h5tfz__10X__Visium__Human__breast__20230106__v2.0.1/h5tfz__10X__Visium__Human__breast__20230106__v2.0.1.contents to /lustre/groups/ml01/projects/2024_spatialdata_db/data/h5tfz__10X__Visium__Human__breast__20230106__v2.0.1/100my__10X__Visium__Human__breast__20230106__v2.0.1.contents: [Errno 2] No such file or directory: '/lustre/groups/ml01/projects/2024_spatialdata_db/data/h5tfz__10X__Visium__Human__breast__20230106__v2.0.1/h5tfz__10X__Visium__Human__breast__20230106__v2.0.1.contents' -> '/lustre/groups/ml01/projects/2024_spatialdata_db/data/h5tfz__10X__Visium__Human__breast__20230106__v2.0.1/100my__10X__Visium__Human__breast__20230106__v2.0.1.contents'\n",
      "Error renaming file /lustre/groups/ml01/projects/2024_spatialdata_db/data/ooaie__10X__Xenium__Human__brain__20240415__v2.0.0/ooaie__10X__Xenium__Human__brain__20240415__v2.0.0.contents to /lustre/groups/ml01/projects/2024_spatialdata_db/data/ooaie__10X__Xenium__Human__brain__20240415__v2.0.0/10u63__10X__Xenium__Human__brain__20240415__v2.0.0.contents: [Errno 2] No such file or directory: '/lustre/groups/ml01/projects/2024_spatialdata_db/data/ooaie__10X__Xenium__Human__brain__20240415__v2.0.0/ooaie__10X__Xenium__Human__brain__20240415__v2.0.0.contents' -> '/lustre/groups/ml01/projects/2024_spatialdata_db/data/ooaie__10X__Xenium__Human__brain__20240415__v2.0.0/10u63__10X__Xenium__Human__brain__20240415__v2.0.0.contents'\n"
     ]
    },
    {
     "name": "stderr",
     "output_type": "stream",
     "text": [
      "Renaming files:  80%|████████  | 113635/141703 [00:24<00:05, 4740.77it/s]"
     ]
    },
    {
     "name": "stdout",
     "output_type": "stream",
     "text": [
      "Error renaming file /lustre/groups/ml01/projects/2024_spatialdata_db/data/l7fdr__10X__Visium__Mouse__brain__20220329__v1.3.0/l7fdr__10X__Visium__Mouse__brain__20220329__v1.3.0.contents to /lustre/groups/ml01/projects/2024_spatialdata_db/data/l7fdr__10X__Visium__Mouse__brain__20220329__v1.3.0/10m49__10X__Visium__Mouse__brain__20220329__v1.3.0.contents: [Errno 2] No such file or directory: '/lustre/groups/ml01/projects/2024_spatialdata_db/data/l7fdr__10X__Visium__Mouse__brain__20220329__v1.3.0/l7fdr__10X__Visium__Mouse__brain__20220329__v1.3.0.contents' -> '/lustre/groups/ml01/projects/2024_spatialdata_db/data/l7fdr__10X__Visium__Mouse__brain__20220329__v1.3.0/10m49__10X__Visium__Mouse__brain__20220329__v1.3.0.contents'\n",
      "Error renaming file /lustre/groups/ml01/projects/2024_spatialdata_db/data/o49q8__10X__Visium__Mouse__brain__20200623__v1.1.0/o49q8__10X__Visium__Mouse__brain__20200623__v1.1.0.contents to /lustre/groups/ml01/projects/2024_spatialdata_db/data/o49q8__10X__Visium__Mouse__brain__20200623__v1.1.0/10jft__10X__Visium__Mouse__brain__20200623__v1.1.0.contents: [Errno 2] No such file or directory: '/lustre/groups/ml01/projects/2024_spatialdata_db/data/o49q8__10X__Visium__Mouse__brain__20200623__v1.1.0/o49q8__10X__Visium__Mouse__brain__20200623__v1.1.0.contents' -> '/lustre/groups/ml01/projects/2024_spatialdata_db/data/o49q8__10X__Visium__Mouse__brain__20200623__v1.1.0/10jft__10X__Visium__Mouse__brain__20200623__v1.1.0.contents'"
     ]
    },
    {
     "name": "stderr",
     "output_type": "stream",
     "text": [
      "Renaming files:  81%|████████  | 114112/141703 [00:24<00:05, 4687.42it/s]"
     ]
    },
    {
     "name": "stdout",
     "output_type": "stream",
     "text": [
      "\n",
      "Error renaming file /lustre/groups/ml01/projects/2024_spatialdata_db/data/4kt3d__10X__Xenium__Mouse__whole_organism__20230818__v1.6.0/4kt3d__10X__Xenium__Mouse__whole_organism__20230818__v1.6.0.contents to /lustre/groups/ml01/projects/2024_spatialdata_db/data/4kt3d__10X__Xenium__Mouse__whole_organism__20230818__v1.6.0/10pa3__10X__Xenium__Mouse__whole_organism__20230818__v1.6.0.contents: [Errno 2] No such file or directory: '/lustre/groups/ml01/projects/2024_spatialdata_db/data/4kt3d__10X__Xenium__Mouse__whole_organism__20230818__v1.6.0/4kt3d__10X__Xenium__Mouse__whole_organism__20230818__v1.6.0.contents' -> '/lustre/groups/ml01/projects/2024_spatialdata_db/data/4kt3d__10X__Xenium__Mouse__whole_organism__20230818__v1.6.0/10pa3__10X__Xenium__Mouse__whole_organism__20230818__v1.6.0.contents'\n"
     ]
    },
    {
     "name": "stderr",
     "output_type": "stream",
     "text": [
      "Renaming files:  83%|████████▎ | 117547/141703 [00:25<00:05, 4801.89it/s]"
     ]
    },
    {
     "name": "stdout",
     "output_type": "stream",
     "text": [
      "Error renaming file /lustre/groups/ml01/projects/2024_spatialdata_db/data/mfrkl__10X__Xenium__Human__skin__20230918__v1.6.0/mfrkl__10X__Xenium__Human__skin__20230918__v1.6.0.contents to /lustre/groups/ml01/projects/2024_spatialdata_db/data/mfrkl__10X__Xenium__Human__skin__20230918__v1.6.0/102cy__10X__Xenium__Human__skin__20230918__v1.6.0.contents: [Errno 2] No such file or directory: '/lustre/groups/ml01/projects/2024_spatialdata_db/data/mfrkl__10X__Xenium__Human__skin__20230918__v1.6.0/mfrkl__10X__Xenium__Human__skin__20230918__v1.6.0.contents' -> '/lustre/groups/ml01/projects/2024_spatialdata_db/data/mfrkl__10X__Xenium__Human__skin__20230918__v1.6.0/102cy__10X__Xenium__Human__skin__20230918__v1.6.0.contents'\n"
     ]
    },
    {
     "name": "stderr",
     "output_type": "stream",
     "text": [
      "Renaming files:  83%|████████▎ | 118029/141703 [00:25<00:05, 4544.70it/s]"
     ]
    },
    {
     "name": "stdout",
     "output_type": "stream",
     "text": [
      "Error renaming file /lustre/groups/ml01/projects/2024_spatialdata_db/data/el4ap__10X__Visium__Mouse__brain__20230106__v2.0.1/el4ap__10X__Visium__Mouse__brain__20230106__v2.0.1.contents to /lustre/groups/ml01/projects/2024_spatialdata_db/data/el4ap__10X__Visium__Mouse__brain__20230106__v2.0.1/10ake__10X__Visium__Mouse__brain__20230106__v2.0.1.contents: [Errno 2] No such file or directory: '/lustre/groups/ml01/projects/2024_spatialdata_db/data/el4ap__10X__Visium__Mouse__brain__20230106__v2.0.1/el4ap__10X__Visium__Mouse__brain__20230106__v2.0.1.contents' -> '/lustre/groups/ml01/projects/2024_spatialdata_db/data/el4ap__10X__Visium__Mouse__brain__20230106__v2.0.1/10ake__10X__Visium__Mouse__brain__20230106__v2.0.1.contents'\n"
     ]
    },
    {
     "name": "stderr",
     "output_type": "stream",
     "text": [
      "Renaming files:  84%|████████▍ | 118942/141703 [00:25<00:05, 4372.25it/s]"
     ]
    },
    {
     "name": "stdout",
     "output_type": "stream",
     "text": [
      "Error renaming file /lustre/groups/ml01/projects/2024_spatialdata_db/data/4b368__10X__Visium__Mouse__lung_brain__20230221__v2.0.1__LungReplicate4/4b368__10X__Visium__Mouse__lung_brain__20230221__v2.0.1__LungReplicate4.contents to /lustre/groups/ml01/projects/2024_spatialdata_db/data/4b368__10X__Visium__Mouse__lung_brain__20230221__v2.0.1__LungReplicate4/1090h__10X__Visium__Mouse__lung_brain__20230221__v2.0.1__LungReplicate4.contents: [Errno 2] No such file or directory: '/lustre/groups/ml01/projects/2024_spatialdata_db/data/4b368__10X__Visium__Mouse__lung_brain__20230221__v2.0.1__LungReplicate4/4b368__10X__Visium__Mouse__lung_brain__20230221__v2.0.1__LungReplicate4.contents' -> '/lustre/groups/ml01/projects/2024_spatialdata_db/data/4b368__10X__Visium__Mouse__lung_brain__20230221__v2.0.1__LungReplicate4/1090h__10X__Visium__Mouse__lung_brain__20230221__v2.0.1__LungReplicate4.contents'\n",
      "Error renaming file /lustre/groups/ml01/projects/2024_spatialdata_db/data/6qjsq__10X__Visium__Mouse__brain__20191202__v1.0.0/6qjsq__10X__Visium__Mouse__brain__20191202__v1.0.0.contents to /lustre/groups/ml01/projects/2024_spatialdata_db/data/6qjsq__10X__Visium__Mouse__brain__20191202__v1.0.0/10224__10X__Visium__Mouse__brain__20191202__v1.0.0.contents: [Errno 2] No such file or directory: '/lustre/groups/ml01/projects/2024_spatialdata_db/data/6qjsq__10X__Visium__Mouse__brain__20191202__v1.0.0/6qjsq__10X__Visium__Mouse__brain__20191202__v1.0.0.contents' -> '/lustre/groups/ml01/projects/2024_spatialdata_db/data/6qjsq__10X__Visium__Mouse__brain__20191202__v1.0.0/10224__10X__Visium__Mouse__brain__20191202__v1.0.0.contents'\n"
     ]
    },
    {
     "name": "stderr",
     "output_type": "stream",
     "text": [
      "Renaming files:  84%|████████▍ | 119382/141703 [00:26<00:05, 4357.23it/s]"
     ]
    },
    {
     "name": "stdout",
     "output_type": "stream",
     "text": [
      "Error renaming file /lustre/groups/ml01/projects/2024_spatialdata_db/data/uhk1j__10X__Xenium__Human__kidney__20230717__v1.5.0__Non-diseasedKidney/uhk1j__10X__Xenium__Human__kidney__20230717__v1.5.0__Non-diseasedKidney.contents to /lustre/groups/ml01/projects/2024_spatialdata_db/data/uhk1j__10X__Xenium__Human__kidney__20230717__v1.5.0__Non-diseasedKidney/1063i__10X__Xenium__Human__kidney__20230717__v1.5.0__Non-diseasedKidney.contents: [Errno 2] No such file or directory: '/lustre/groups/ml01/projects/2024_spatialdata_db/data/uhk1j__10X__Xenium__Human__kidney__20230717__v1.5.0__Non-diseasedKidney/uhk1j__10X__Xenium__Human__kidney__20230717__v1.5.0__Non-diseasedKidney.contents' -> '/lustre/groups/ml01/projects/2024_spatialdata_db/data/uhk1j__10X__Xenium__Human__kidney__20230717__v1.5.0__Non-diseasedKidney/1063i__10X__Xenium__Human__kidney__20230717__v1.5.0__Non-diseasedKidney.contents'\n"
     ]
    },
    {
     "name": "stderr",
     "output_type": "stream",
     "text": [
      "Renaming files:  85%|████████▍ | 119944/141703 [00:26<00:04, 4718.32it/s]"
     ]
    },
    {
     "name": "stdout",
     "output_type": "stream",
     "text": [
      "Error renaming file /lustre/groups/ml01/projects/2024_spatialdata_db/data/qdtdp__10X__Visium__Mouse__brain__20230608__v2.1.0/qdtdp__10X__Visium__Mouse__brain__20230608__v2.1.0.contents to /lustre/groups/ml01/projects/2024_spatialdata_db/data/qdtdp__10X__Visium__Mouse__brain__20230608__v2.1.0/106s5__10X__Visium__Mouse__brain__20230608__v2.1.0.contents: [Errno 2] No such file or directory: '/lustre/groups/ml01/projects/2024_spatialdata_db/data/qdtdp__10X__Visium__Mouse__brain__20230608__v2.1.0/qdtdp__10X__Visium__Mouse__brain__20230608__v2.1.0.contents' -> '/lustre/groups/ml01/projects/2024_spatialdata_db/data/qdtdp__10X__Visium__Mouse__brain__20230608__v2.1.0/106s5__10X__Visium__Mouse__brain__20230608__v2.1.0.contents'\n"
     ]
    },
    {
     "name": "stderr",
     "output_type": "stream",
     "text": [
      "Renaming files:  85%|████████▍ | 120419/141703 [00:26<00:04, 4544.77it/s]"
     ]
    },
    {
     "name": "stdout",
     "output_type": "stream",
     "text": [
      "Error renaming file /lustre/groups/ml01/projects/2024_spatialdata_db/data/1ewyv__10X__Visium__Mouse__brain__20191202__v1.0.0/1ewyv__10X__Visium__Mouse__brain__20191202__v1.0.0.contents to /lustre/groups/ml01/projects/2024_spatialdata_db/data/1ewyv__10X__Visium__Mouse__brain__20191202__v1.0.0/1020c__10X__Visium__Mouse__brain__20191202__v1.0.0.contents: [Errno 2] No such file or directory: '/lustre/groups/ml01/projects/2024_spatialdata_db/data/1ewyv__10X__Visium__Mouse__brain__20191202__v1.0.0/1ewyv__10X__Visium__Mouse__brain__20191202__v1.0.0.contents' -> '/lustre/groups/ml01/projects/2024_spatialdata_db/data/1ewyv__10X__Visium__Mouse__brain__20191202__v1.0.0/1020c__10X__Visium__Mouse__brain__20191202__v1.0.0.contents'\n"
     ]
    },
    {
     "name": "stderr",
     "output_type": "stream",
     "text": [
      "Renaming files:  85%|████████▌ | 120886/141703 [00:26<00:04, 4579.58it/s]"
     ]
    },
    {
     "name": "stdout",
     "output_type": "stream",
     "text": [
      "Error renaming file /lustre/groups/ml01/projects/2024_spatialdata_db/data/l47i3__10X__Visium__Mouse__kidney__20210816__v1.3.0/l47i3__10X__Visium__Mouse__kidney__20210816__v1.3.0.contents to /lustre/groups/ml01/projects/2024_spatialdata_db/data/l47i3__10X__Visium__Mouse__kidney__20210816__v1.3.0/103mc__10X__Visium__Mouse__kidney__20210816__v1.3.0.contents: [Errno 2] No such file or directory: '/lustre/groups/ml01/projects/2024_spatialdata_db/data/l47i3__10X__Visium__Mouse__kidney__20210816__v1.3.0/l47i3__10X__Visium__Mouse__kidney__20210816__v1.3.0.contents' -> '/lustre/groups/ml01/projects/2024_spatialdata_db/data/l47i3__10X__Visium__Mouse__kidney__20210816__v1.3.0/103mc__10X__Visium__Mouse__kidney__20210816__v1.3.0.contents'\n",
      "Error renaming file /lustre/groups/ml01/projects/2024_spatialdata_db/data/mby57__10X__Visium__Mouse__brain__20191202__v1.0.0/mby57__10X__Visium__Mouse__brain__20191202__v1.0.0.contents to /lustre/groups/ml01/projects/2024_spatialdata_db/data/mby57__10X__Visium__Mouse__brain__20191202__v1.0.0/10jss__10X__Visium__Mouse__brain__20191202__v1.0.0.contents: [Errno 2] No such file or directory: '/lustre/groups/ml01/projects/2024_spatialdata_db/data/mby57__10X__Visium__Mouse__brain__20191202__v1.0.0/mby57__10X__Visium__Mouse__brain__20191202__v1.0.0.contents' -> '/lustre/groups/ml01/projects/2024_spatialdata_db/data/mby57__10X__Visium__Mouse__brain__20191202__v1.0.0/10jss__10X__Visium__Mouse__brain__20191202__v1.0.0.contents'\n"
     ]
    },
    {
     "name": "stderr",
     "output_type": "stream",
     "text": [
      "Renaming files:  86%|████████▌ | 121347/141703 [00:26<00:04, 4586.24it/s]"
     ]
    },
    {
     "name": "stdout",
     "output_type": "stream",
     "text": [
      "Error renaming file /lustre/groups/ml01/projects/2024_spatialdata_db/data/9zn0k__10X__Visium__Mouse__brain__20191202__v1.0.0/9zn0k__10X__Visium__Mouse__brain__20191202__v1.0.0.contents to /lustre/groups/ml01/projects/2024_spatialdata_db/data/9zn0k__10X__Visium__Mouse__brain__20191202__v1.0.0/10i8s__10X__Visium__Mouse__brain__20191202__v1.0.0.contents: [Errno 2] No such file or directory: '/lustre/groups/ml01/projects/2024_spatialdata_db/data/9zn0k__10X__Visium__Mouse__brain__20191202__v1.0.0/9zn0k__10X__Visium__Mouse__brain__20191202__v1.0.0.contents' -> '/lustre/groups/ml01/projects/2024_spatialdata_db/data/9zn0k__10X__Visium__Mouse__brain__20191202__v1.0.0/10i8s__10X__Visium__Mouse__brain__20191202__v1.0.0.contents'\n"
     ]
    },
    {
     "name": "stderr",
     "output_type": "stream",
     "text": [
      "Renaming files:  86%|████████▌ | 121808/141703 [00:26<00:04, 4489.16it/s]"
     ]
    },
    {
     "name": "stdout",
     "output_type": "stream",
     "text": [
      "Error renaming file /lustre/groups/ml01/projects/2024_spatialdata_db/data/56r5s__10X__Xenium__Mouse__bone__20240403__v1.9.0__0.5MEDTAdecalcification/56r5s__10X__Xenium__Mouse__bone__20240403__v1.9.0__0.5MEDTAdecalcification.contents to /lustre/groups/ml01/projects/2024_spatialdata_db/data/56r5s__10X__Xenium__Mouse__bone__20240403__v1.9.0__0.5MEDTAdecalcification/10n1k__10X__Xenium__Mouse__bone__20240403__v1.9.0__0.5MEDTAdecalcification.contents: [Errno 2] No such file or directory: '/lustre/groups/ml01/projects/2024_spatialdata_db/data/56r5s__10X__Xenium__Mouse__bone__20240403__v1.9.0__0.5MEDTAdecalcification/56r5s__10X__Xenium__Mouse__bone__20240403__v1.9.0__0.5MEDTAdecalcification.contents' -> '/lustre/groups/ml01/projects/2024_spatialdata_db/data/56r5s__10X__Xenium__Mouse__bone__20240403__v1.9.0__0.5MEDTAdecalcification/10n1k__10X__Xenium__Mouse__bone__20240403__v1.9.0__0.5MEDTAdecalcification.contents'\n"
     ]
    },
    {
     "name": "stderr",
     "output_type": "stream",
     "text": [
      "Renaming files:  87%|████████▋ | 123367/141703 [00:26<00:03, 4716.91it/s]"
     ]
    },
    {
     "name": "stdout",
     "output_type": "stream",
     "text": [
      "Error renaming file /lustre/groups/ml01/projects/2024_spatialdata_db/data/gqccm__10X__Visium__Human__prostate__20220712__v2.0.0/gqccm__10X__Visium__Human__prostate__20220712__v2.0.0.contents to /lustre/groups/ml01/projects/2024_spatialdata_db/data/gqccm__10X__Visium__Human__prostate__20220712__v2.0.0/106ru__10X__Visium__Human__prostate__20220712__v2.0.0.contents: [Errno 2] No such file or directory: '/lustre/groups/ml01/projects/2024_spatialdata_db/data/gqccm__10X__Visium__Human__prostate__20220712__v2.0.0/gqccm__10X__Visium__Human__prostate__20220712__v2.0.0.contents' -> '/lustre/groups/ml01/projects/2024_spatialdata_db/data/gqccm__10X__Visium__Human__prostate__20220712__v2.0.0/106ru__10X__Visium__Human__prostate__20220712__v2.0.0.contents'\n"
     ]
    },
    {
     "name": "stderr",
     "output_type": "stream",
     "text": [
      "Renaming files:  87%|████████▋ | 123846/141703 [00:26<00:03, 4567.30it/s]"
     ]
    },
    {
     "name": "stdout",
     "output_type": "stream",
     "text": [
      "Error renaming file /lustre/groups/ml01/projects/2024_spatialdata_db/data/7unc5__10X__Visium__Mouse__brain__20231005__v2.1.0__Post-XeniumReplicate1/7unc5__10X__Visium__Mouse__brain__20231005__v2.1.0__Post-XeniumReplicate1.contents to /lustre/groups/ml01/projects/2024_spatialdata_db/data/7unc5__10X__Visium__Mouse__brain__20231005__v2.1.0__Post-XeniumReplicate1/10caf__10X__Visium__Mouse__brain__20231005__v2.1.0__Post-XeniumReplicate1.contents: [Errno 2] No such file or directory: '/lustre/groups/ml01/projects/2024_spatialdata_db/data/7unc5__10X__Visium__Mouse__brain__20231005__v2.1.0__Post-XeniumReplicate1/7unc5__10X__Visium__Mouse__brain__20231005__v2.1.0__Post-XeniumReplicate1.contents' -> '/lustre/groups/ml01/projects/2024_spatialdata_db/data/7unc5__10X__Visium__Mouse__brain__20231005__v2.1.0__Post-XeniumReplicate1/10caf__10X__Visium__Mouse__brain__20231005__v2.1.0__Post-XeniumReplicate1.contents'\n"
     ]
    },
    {
     "name": "stderr",
     "output_type": "stream",
     "text": [
      "Renaming files:  88%|████████▊ | 124308/141703 [00:27<00:03, 4551.72it/s]"
     ]
    },
    {
     "name": "stdout",
     "output_type": "stream",
     "text": [
      "Error renaming file /lustre/groups/ml01/projects/2024_spatialdata_db/data/n5mya__10X__Visium__Mouse__brain__20191202__v1.0.0/n5mya__10X__Visium__Mouse__brain__20191202__v1.0.0.contents to /lustre/groups/ml01/projects/2024_spatialdata_db/data/n5mya__10X__Visium__Mouse__brain__20191202__v1.0.0/10817__10X__Visium__Mouse__brain__20191202__v1.0.0.contents: [Errno 2] No such file or directory: '/lustre/groups/ml01/projects/2024_spatialdata_db/data/n5mya__10X__Visium__Mouse__brain__20191202__v1.0.0/n5mya__10X__Visium__Mouse__brain__20191202__v1.0.0.contents' -> '/lustre/groups/ml01/projects/2024_spatialdata_db/data/n5mya__10X__Visium__Mouse__brain__20191202__v1.0.0/10817__10X__Visium__Mouse__brain__20191202__v1.0.0.contents'\n"
     ]
    },
    {
     "name": "stderr",
     "output_type": "stream",
     "text": [
      "Renaming files:  88%|████████▊ | 124767/141703 [00:27<00:03, 4360.83it/s]"
     ]
    },
    {
     "name": "stdout",
     "output_type": "stream",
     "text": [
      "Error renaming file /lustre/groups/ml01/projects/2024_spatialdata_db/data/bl23n__10X__Visium__Mouse__brain__20200623__v1.1.0/bl23n__10X__Visium__Mouse__brain__20200623__v1.1.0.contents to /lustre/groups/ml01/projects/2024_spatialdata_db/data/bl23n__10X__Visium__Mouse__brain__20200623__v1.1.0/10ci4__10X__Visium__Mouse__brain__20200623__v1.1.0.contents: [Errno 2] No such file or directory: '/lustre/groups/ml01/projects/2024_spatialdata_db/data/bl23n__10X__Visium__Mouse__brain__20200623__v1.1.0/bl23n__10X__Visium__Mouse__brain__20200623__v1.1.0.contents' -> '/lustre/groups/ml01/projects/2024_spatialdata_db/data/bl23n__10X__Visium__Mouse__brain__20200623__v1.1.0/10ci4__10X__Visium__Mouse__brain__20200623__v1.1.0.contents'\n",
      "Error renaming file /lustre/groups/ml01/projects/2024_spatialdata_db/data/yf0mm__10X__Visium__Mouse__kidney__20200623__v1.1.0/yf0mm__10X__Visium__Mouse__kidney__20200623__v1.1.0.contents to /lustre/groups/ml01/projects/2024_spatialdata_db/data/yf0mm__10X__Visium__Mouse__kidney__20200623__v1.1.0/101in__10X__Visium__Mouse__kidney__20200623__v1.1.0.contents: [Errno 2] No such file or directory: '/lustre/groups/ml01/projects/2024_spatialdata_db/data/yf0mm__10X__Visium__Mouse__kidney__20200623__v1.1.0/yf0mm__10X__Visium__Mouse__kidney__20200623__v1.1.0.contents' -> '/lustre/groups/ml01/projects/2024_spatialdata_db/data/yf0mm__10X__Visium__Mouse__kidney__20200623__v1.1.0/101in__10X__Visium__Mouse__kidney__20200623__v1.1.0.contents'\n"
     ]
    },
    {
     "name": "stderr",
     "output_type": "stream",
     "text": [
      "Renaming files:  88%|████████▊ | 125328/141703 [00:27<00:03, 4707.31it/s]"
     ]
    },
    {
     "name": "stdout",
     "output_type": "stream",
     "text": [
      "Error renaming file /lustre/groups/ml01/projects/2024_spatialdata_db/data/qd23x__10X__Visium__Human__brain__20230214__v2.0.1/qd23x__10X__Visium__Human__brain__20230214__v2.0.1.contents to /lustre/groups/ml01/projects/2024_spatialdata_db/data/qd23x__10X__Visium__Human__brain__20230214__v2.0.1/106ip__10X__Visium__Human__brain__20230214__v2.0.1.contents: [Errno 2] No such file or directory: '/lustre/groups/ml01/projects/2024_spatialdata_db/data/qd23x__10X__Visium__Human__brain__20230214__v2.0.1/qd23x__10X__Visium__Human__brain__20230214__v2.0.1.contents' -> '/lustre/groups/ml01/projects/2024_spatialdata_db/data/qd23x__10X__Visium__Human__brain__20230214__v2.0.1/106ip__10X__Visium__Human__brain__20230214__v2.0.1.contents'\n"
     ]
    },
    {
     "name": "stderr",
     "output_type": "stream",
     "text": [
      "Renaming files:  89%|████████▉ | 125871/141703 [00:27<00:03, 4913.10it/s]"
     ]
    },
    {
     "name": "stdout",
     "output_type": "stream",
     "text": [
      "Error renaming file /lustre/groups/ml01/projects/2024_spatialdata_db/data/2xejf__10X__Visium__Human__heart__20191212__v1.0.0/2xejf__10X__Visium__Human__heart__20191212__v1.0.0.contents to /lustre/groups/ml01/projects/2024_spatialdata_db/data/2xejf__10X__Visium__Human__heart__20191212__v1.0.0/10p4f__10X__Visium__Human__heart__20191212__v1.0.0.contents: [Errno 2] No such file or directory: '/lustre/groups/ml01/projects/2024_spatialdata_db/data/2xejf__10X__Visium__Human__heart__20191212__v1.0.0/2xejf__10X__Visium__Human__heart__20191212__v1.0.0.contents' -> '/lustre/groups/ml01/projects/2024_spatialdata_db/data/2xejf__10X__Visium__Human__heart__20191212__v1.0.0/10p4f__10X__Visium__Human__heart__20191212__v1.0.0.contents'\n",
      "Error renaming file /lustre/groups/ml01/projects/2024_spatialdata_db/data/ycw3s__10X__Visium__Mouse__olfactory_bulb__20220712__v2.0.0/ycw3s__10X__Visium__Mouse__olfactory_bulb__20220712__v2.0.0.contents to /lustre/groups/ml01/projects/2024_spatialdata_db/data/ycw3s__10X__Visium__Mouse__olfactory_bulb__20220712__v2.0.0/106v2__10X__Visium__Mouse__olfactory_bulb__20220712__v2.0.0.contents: [Errno 2] No such file or directory: '/lustre/groups/ml01/projects/2024_spatialdata_db/data/ycw3s__10X__Visium__Mouse__olfactory_bulb__20220712__v2.0.0/ycw3s__10X__Visium__Mouse__olfactory_bulb__20220712__v2.0.0.contents' -> '/lustre/groups/ml01/projects/2024_spatialdata_db/data/ycw3s__10X__Visium__Mouse__olfactory_bulb__20220712__v2.0.0/106v2__10X__Visium__Mouse__olfactory_bulb__20220712__v2.0.0.contents'\n"
     ]
    },
    {
     "name": "stderr",
     "output_type": "stream",
     "text": [
      "Renaming files:  89%|████████▉ | 126367/141703 [00:27<00:03, 4720.69it/s]"
     ]
    },
    {
     "name": "stdout",
     "output_type": "stream",
     "text": [
      "Error renaming file /lustre/groups/ml01/projects/2024_spatialdata_db/data/y5py1__10X__Visium__Human__colon__20231005__v2.1.0__ControlReplicate2/y5py1__10X__Visium__Human__colon__20231005__v2.1.0__ControlReplicate2.contents to /lustre/groups/ml01/projects/2024_spatialdata_db/data/y5py1__10X__Visium__Human__colon__20231005__v2.1.0__ControlReplicate2/1065r__10X__Visium__Human__colon__20231005__v2.1.0__ControlReplicate2.contents: [Errno 2] No such file or directory: '/lustre/groups/ml01/projects/2024_spatialdata_db/data/y5py1__10X__Visium__Human__colon__20231005__v2.1.0__ControlReplicate2/y5py1__10X__Visium__Human__colon__20231005__v2.1.0__ControlReplicate2.contents' -> '/lustre/groups/ml01/projects/2024_spatialdata_db/data/y5py1__10X__Visium__Human__colon__20231005__v2.1.0__ControlReplicate2/1065r__10X__Visium__Human__colon__20231005__v2.1.0__ControlReplicate2.contents'\n",
      "Error renaming file /lustre/groups/ml01/projects/2024_spatialdata_db/data/qilz7__10X__Xenium__Human__intestine_colon__20230829__v1.6.0__Cancerpre-designedpanel/qilz7__10X__Xenium__Human__intestine_colon__20230829__v1.6.0__Cancerpre-designedpanel.contents to /lustre/groups/ml01/projects/2024_spatialdata_db/data/qilz7__10X__Xenium__Human__intestine_colon__20230829__v1.6.0__Cancerpre-designedpanel/10ah4__10X__Xenium__Human__intestine_colon__20230829__v1.6.0__Cancerpre-designedpanel.contents: [Errno 2] No such file or directory: '/lustre/groups/ml01/projects/2024_spatialdata_db/data/qilz7__10X__Xenium__Human__intestine_colon__20230829__v1.6.0__Cancerpre-designedpanel/qilz7__10X__Xenium__Human__intestine_colon__20230829__v1.6.0__Cancerpre-designedpanel.contents' -> '/lustre/groups/ml01/projects/2024_spatialdata_db/data/qilz7__10X__Xenium__Human__intestine_colon__20230829__v1.6.0__Cancerpre-designedpanel/10ah4__10X__Xenium__Human__intestine_colon__20230829__v1.6.0__Cancerpre-designedpanel.contents'\n"
     ]
    },
    {
     "name": "stderr",
     "output_type": "stream",
     "text": [
      "Renaming files:  90%|█████████ | 127909/141703 [00:27<00:02, 4991.96it/s]"
     ]
    },
    {
     "name": "stdout",
     "output_type": "stream",
     "text": [
      "Error renaming file /lustre/groups/ml01/projects/2024_spatialdata_db/data/cspi1__10X__Visium__Human__brain__20200623__v1.1.0/cspi1__10X__Visium__Human__brain__20200623__v1.1.0.contents to /lustre/groups/ml01/projects/2024_spatialdata_db/data/cspi1__10X__Visium__Human__brain__20200623__v1.1.0/104ee__10X__Visium__Human__brain__20200623__v1.1.0.contents: [Errno 2] No such file or directory: '/lustre/groups/ml01/projects/2024_spatialdata_db/data/cspi1__10X__Visium__Human__brain__20200623__v1.1.0/cspi1__10X__Visium__Human__brain__20200623__v1.1.0.contents' -> '/lustre/groups/ml01/projects/2024_spatialdata_db/data/cspi1__10X__Visium__Human__brain__20200623__v1.1.0/104ee__10X__Visium__Human__brain__20200623__v1.1.0.contents'\n"
     ]
    },
    {
     "name": "stderr",
     "output_type": "stream",
     "text": [
      "Renaming files:  91%|█████████ | 128411/141703 [00:27<00:02, 4777.07it/s]"
     ]
    },
    {
     "name": "stdout",
     "output_type": "stream",
     "text": [
      "Error renaming file /lustre/groups/ml01/projects/2024_spatialdata_db/data/1rw9r__10X__Visium__Mouse__brain__20200623__v1.1.0/1rw9r__10X__Visium__Mouse__brain__20200623__v1.1.0.contents to /lustre/groups/ml01/projects/2024_spatialdata_db/data/1rw9r__10X__Visium__Mouse__brain__20200623__v1.1.0/104dm__10X__Visium__Mouse__brain__20200623__v1.1.0.contents: [Errno 2] No such file or directory: '/lustre/groups/ml01/projects/2024_spatialdata_db/data/1rw9r__10X__Visium__Mouse__brain__20200623__v1.1.0/1rw9r__10X__Visium__Mouse__brain__20200623__v1.1.0.contents' -> '/lustre/groups/ml01/projects/2024_spatialdata_db/data/1rw9r__10X__Visium__Mouse__brain__20200623__v1.1.0/104dm__10X__Visium__Mouse__brain__20200623__v1.1.0.contents'\n"
     ]
    },
    {
     "name": "stderr",
     "output_type": "stream",
     "text": [
      "Renaming files:  91%|█████████ | 128935/141703 [00:28<00:02, 4901.57it/s]"
     ]
    },
    {
     "name": "stdout",
     "output_type": "stream",
     "text": [
      "Error renaming file /lustre/groups/ml01/projects/2024_spatialdata_db/data/3z776__10X__Xenium__unknown__unknown__20230420__v1.3.0__HealthyBrain/3z776__10X__Xenium__unknown__unknown__20230420__v1.3.0__HealthyBrain.contents to /lustre/groups/ml01/projects/2024_spatialdata_db/data/3z776__10X__Xenium__unknown__unknown__20230420__v1.3.0__HealthyBrain/104dy__10X__Xenium__unknown__unknown__20230420__v1.3.0__HealthyBrain.contents: [Errno 2] No such file or directory: '/lustre/groups/ml01/projects/2024_spatialdata_db/data/3z776__10X__Xenium__unknown__unknown__20230420__v1.3.0__HealthyBrain/3z776__10X__Xenium__unknown__unknown__20230420__v1.3.0__HealthyBrain.contents' -> '/lustre/groups/ml01/projects/2024_spatialdata_db/data/3z776__10X__Xenium__unknown__unknown__20230420__v1.3.0__HealthyBrain/104dy__10X__Xenium__unknown__unknown__20230420__v1.3.0__HealthyBrain.contents'\n"
     ]
    },
    {
     "name": "stderr",
     "output_type": "stream",
     "text": [
      "Renaming files:  91%|█████████▏| 129428/141703 [00:28<00:02, 4881.35it/s]"
     ]
    },
    {
     "name": "stdout",
     "output_type": "stream",
     "text": [
      "Error renaming file /lustre/groups/ml01/projects/2024_spatialdata_db/data/ectuc__10X__Visium__Mouse__brain__20230417__v2.0.1/ectuc__10X__Visium__Mouse__brain__20230417__v2.0.1.contents to /lustre/groups/ml01/projects/2024_spatialdata_db/data/ectuc__10X__Visium__Mouse__brain__20230417__v2.0.1/10056__10X__Visium__Mouse__brain__20230417__v2.0.1.contents: [Errno 2] No such file or directory: '/lustre/groups/ml01/projects/2024_spatialdata_db/data/ectuc__10X__Visium__Mouse__brain__20230417__v2.0.1/ectuc__10X__Visium__Mouse__brain__20230417__v2.0.1.contents' -> '/lustre/groups/ml01/projects/2024_spatialdata_db/data/ectuc__10X__Visium__Mouse__brain__20230417__v2.0.1/10056__10X__Visium__Mouse__brain__20230417__v2.0.1.contents'\n"
     ]
    },
    {
     "name": "stderr",
     "output_type": "stream",
     "text": [
      "Renaming files:  92%|█████████▏| 129919/141703 [00:28<00:02, 4726.72it/s]"
     ]
    },
    {
     "name": "stdout",
     "output_type": "stream",
     "text": [
      "Error renaming file /lustre/groups/ml01/projects/2024_spatialdata_db/data/5i1d7__10X__Visium__Human__breast__20191212__v1.0.0/5i1d7__10X__Visium__Human__breast__20191212__v1.0.0.contents to /lustre/groups/ml01/projects/2024_spatialdata_db/data/5i1d7__10X__Visium__Human__breast__20191212__v1.0.0/105ka__10X__Visium__Human__breast__20191212__v1.0.0.contents: [Errno 2] No such file or directory: '/lustre/groups/ml01/projects/2024_spatialdata_db/data/5i1d7__10X__Visium__Human__breast__20191212__v1.0.0/5i1d7__10X__Visium__Human__breast__20191212__v1.0.0.contents' -> '/lustre/groups/ml01/projects/2024_spatialdata_db/data/5i1d7__10X__Visium__Human__breast__20191212__v1.0.0/105ka__10X__Visium__Human__breast__20191212__v1.0.0.contents'\n",
      "Error renaming file /lustre/groups/ml01/projects/2024_spatialdata_db/data/w7zg8__10X__CytAssist__Human__tonsil__20230824__v2.1.0/w7zg8__10X__CytAssist__Human__tonsil__20230824__v2.1.0.contents to /lustre/groups/ml01/projects/2024_spatialdata_db/data/w7zg8__10X__CytAssist__Human__tonsil__20230824__v2.1.0/10jr4__10X__CytAssist__Human__tonsil__20230824__v2.1.0.contents: [Errno 2] No such file or directory: '/lustre/groups/ml01/projects/2024_spatialdata_db/data/w7zg8__10X__CytAssist__Human__tonsil__20230824__v2.1.0/w7zg8__10X__CytAssist__Human__tonsil__20230824__v2.1.0.contents' -> '/lustre/groups/ml01/projects/2024_spatialdata_db/data/w7zg8__10X__CytAssist__Human__tonsil__20230824__v2.1.0/10jr4__10X__CytAssist__Human__tonsil__20230824__v2.1.0.contents'\n"
     ]
    },
    {
     "name": "stderr",
     "output_type": "stream",
     "text": [
      "Renaming files:  92%|█████████▏| 130395/141703 [00:28<00:02, 4735.39it/s]"
     ]
    },
    {
     "name": "stdout",
     "output_type": "stream",
     "text": [
      "Error renaming file /lustre/groups/ml01/projects/2024_spatialdata_db/data/sj4fv__10X__Visium__Mouse__brain__20220712__v2.0.0/sj4fv__10X__Visium__Mouse__brain__20220712__v2.0.0.contents to /lustre/groups/ml01/projects/2024_spatialdata_db/data/sj4fv__10X__Visium__Mouse__brain__20220712__v2.0.0/105tt__10X__Visium__Mouse__brain__20220712__v2.0.0.contents: [Errno 2] No such file or directory: '/lustre/groups/ml01/projects/2024_spatialdata_db/data/sj4fv__10X__Visium__Mouse__brain__20220712__v2.0.0/sj4fv__10X__Visium__Mouse__brain__20220712__v2.0.0.contents' -> '/lustre/groups/ml01/projects/2024_spatialdata_db/data/sj4fv__10X__Visium__Mouse__brain__20220712__v2.0.0/105tt__10X__Visium__Mouse__brain__20220712__v2.0.0.contents'\n"
     ]
    },
    {
     "name": "stderr",
     "output_type": "stream",
     "text": [
      "Renaming files:  92%|█████████▏| 130931/141703 [00:28<00:02, 4829.37it/s]"
     ]
    },
    {
     "name": "stdout",
     "output_type": "stream",
     "text": [
      "Error renaming file /lustre/groups/ml01/projects/2024_spatialdata_db/data/tggfj__10X__Visium__Mouse__brain__20230608__v2.1.0/tggfj__10X__Visium__Mouse__brain__20230608__v2.1.0.contents to /lustre/groups/ml01/projects/2024_spatialdata_db/data/tggfj__10X__Visium__Mouse__brain__20230608__v2.1.0/10mda__10X__Visium__Mouse__brain__20230608__v2.1.0.contents: [Errno 2] No such file or directory: '/lustre/groups/ml01/projects/2024_spatialdata_db/data/tggfj__10X__Visium__Mouse__brain__20230608__v2.1.0/tggfj__10X__Visium__Mouse__brain__20230608__v2.1.0.contents' -> '/lustre/groups/ml01/projects/2024_spatialdata_db/data/tggfj__10X__Visium__Mouse__brain__20230608__v2.1.0/10mda__10X__Visium__Mouse__brain__20230608__v2.1.0.contents'\n"
     ]
    },
    {
     "name": "stderr",
     "output_type": "stream",
     "text": [
      "Renaming files:  93%|█████████▎| 131467/141703 [00:28<00:02, 4982.87it/s]"
     ]
    },
    {
     "name": "stdout",
     "output_type": "stream",
     "text": [
      "Error renaming file /lustre/groups/ml01/projects/2024_spatialdata_db/data/up5uh__10X__Visium__Mouse__brain__20231005__v2.1.0__ControlReplicate2/up5uh__10X__Visium__Mouse__brain__20231005__v2.1.0__ControlReplicate2.contents to /lustre/groups/ml01/projects/2024_spatialdata_db/data/up5uh__10X__Visium__Mouse__brain__20231005__v2.1.0__ControlReplicate2/10ha9__10X__Visium__Mouse__brain__20231005__v2.1.0__ControlReplicate2.contents: [Errno 2] No such file or directory: '/lustre/groups/ml01/projects/2024_spatialdata_db/data/up5uh__10X__Visium__Mouse__brain__20231005__v2.1.0__ControlReplicate2/up5uh__10X__Visium__Mouse__brain__20231005__v2.1.0__ControlReplicate2.contents' -> '/lustre/groups/ml01/projects/2024_spatialdata_db/data/up5uh__10X__Visium__Mouse__brain__20231005__v2.1.0__ControlReplicate2/10ha9__10X__Visium__Mouse__brain__20231005__v2.1.0__ControlReplicate2.contents'\n"
     ]
    },
    {
     "name": "stderr",
     "output_type": "stream",
     "text": [
      "Renaming files:  93%|█████████▎| 131996/141703 [00:28<00:01, 5051.70it/s]"
     ]
    },
    {
     "name": "stdout",
     "output_type": "stream",
     "text": [
      "Error renaming file /lustre/groups/ml01/projects/2024_spatialdata_db/data/lielj__10X__Visium__Human__lymph_node__20200623__v1.1.0/lielj__10X__Visium__Human__lymph_node__20200623__v1.1.0.contents to /lustre/groups/ml01/projects/2024_spatialdata_db/data/lielj__10X__Visium__Human__lymph_node__20200623__v1.1.0/105jc__10X__Visium__Human__lymph_node__20200623__v1.1.0.contents: [Errno 2] No such file or directory: '/lustre/groups/ml01/projects/2024_spatialdata_db/data/lielj__10X__Visium__Human__lymph_node__20200623__v1.1.0/lielj__10X__Visium__Human__lymph_node__20200623__v1.1.0.contents' -> '/lustre/groups/ml01/projects/2024_spatialdata_db/data/lielj__10X__Visium__Human__lymph_node__20200623__v1.1.0/105jc__10X__Visium__Human__lymph_node__20200623__v1.1.0.contents'\n"
     ]
    },
    {
     "name": "stderr",
     "output_type": "stream",
     "text": [
      "Renaming files:  94%|█████████▎| 132503/141703 [00:28<00:01, 4811.45it/s]"
     ]
    },
    {
     "name": "stdout",
     "output_type": "stream",
     "text": [
      "Error renaming file /lustre/groups/ml01/projects/2024_spatialdata_db/data/5z2c2__10X__Visium__Mouse__olfactory_bulb__20220712__v2.0.0/5z2c2__10X__Visium__Mouse__olfactory_bulb__20220712__v2.0.0.contents to /lustre/groups/ml01/projects/2024_spatialdata_db/data/5z2c2__10X__Visium__Mouse__olfactory_bulb__20220712__v2.0.0/10u6u__10X__Visium__Mouse__olfactory_bulb__20220712__v2.0.0.contents: [Errno 2] No such file or directory: '/lustre/groups/ml01/projects/2024_spatialdata_db/data/5z2c2__10X__Visium__Mouse__olfactory_bulb__20220712__v2.0.0/5z2c2__10X__Visium__Mouse__olfactory_bulb__20220712__v2.0.0.contents' -> '/lustre/groups/ml01/projects/2024_spatialdata_db/data/5z2c2__10X__Visium__Mouse__olfactory_bulb__20220712__v2.0.0/10u6u__10X__Visium__Mouse__olfactory_bulb__20220712__v2.0.0.contents'\n",
      "Error renaming file /lustre/groups/ml01/projects/2024_spatialdata_db/data/zw6bg__10X__Visium__Human__prostate__20211008__v1.3.0/zw6bg__10X__Visium__Human__prostate__20211008__v1.3.0.contents to /lustre/groups/ml01/projects/2024_spatialdata_db/data/zw6bg__10X__Visium__Human__prostate__20211008__v1.3.0/10f2z__10X__Visium__Human__prostate__20211008__v1.3.0.contents: [Errno 2] No such file or directory: '/lustre/groups/ml01/projects/2024_spatialdata_db/data/zw6bg__10X__Visium__Human__prostate__20211008__v1.3.0/zw6bg__10X__Visium__Human__prostate__20211008__v1.3.0.contents' -> '/lustre/groups/ml01/projects/2024_spatialdata_db/data/zw6bg__10X__Visium__Human__prostate__20211008__v1.3.0/10f2z__10X__Visium__Human__prostate__20211008__v1.3.0.contents'\n"
     ]
    },
    {
     "name": "stderr",
     "output_type": "stream",
     "text": [
      "Renaming files:  94%|█████████▍| 132987/141703 [00:28<00:02, 4352.15it/s]"
     ]
    },
    {
     "name": "stdout",
     "output_type": "stream",
     "text": [
      "Error renaming file /lustre/groups/ml01/projects/2024_spatialdata_db/data/tkcwt__10X__Visium__Human__breast__20200623__v1.1.0/tkcwt__10X__Visium__Human__breast__20200623__v1.1.0.contents to /lustre/groups/ml01/projects/2024_spatialdata_db/data/tkcwt__10X__Visium__Human__breast__20200623__v1.1.0/108r9__10X__Visium__Human__breast__20200623__v1.1.0.contents: [Errno 2] No such file or directory: '/lustre/groups/ml01/projects/2024_spatialdata_db/data/tkcwt__10X__Visium__Human__breast__20200623__v1.1.0/tkcwt__10X__Visium__Human__breast__20200623__v1.1.0.contents' -> '/lustre/groups/ml01/projects/2024_spatialdata_db/data/tkcwt__10X__Visium__Human__breast__20200623__v1.1.0/108r9__10X__Visium__Human__breast__20200623__v1.1.0.contents'\n"
     ]
    },
    {
     "name": "stderr",
     "output_type": "stream",
     "text": [
      "Renaming files:  94%|█████████▍| 133432/141703 [00:29<00:01, 4224.92it/s]"
     ]
    },
    {
     "name": "stdout",
     "output_type": "stream",
     "text": [
      "Error renaming file /lustre/groups/ml01/projects/2024_spatialdata_db/data/eiuys__10X__CytAssist__Human__breast__20230515__v2.1.0/eiuys__10X__CytAssist__Human__breast__20230515__v2.1.0.contents to /lustre/groups/ml01/projects/2024_spatialdata_db/data/eiuys__10X__CytAssist__Human__breast__20230515__v2.1.0/10if2__10X__CytAssist__Human__breast__20230515__v2.1.0.contents: [Errno 2] No such file or directory: '/lustre/groups/ml01/projects/2024_spatialdata_db/data/eiuys__10X__CytAssist__Human__breast__20230515__v2.1.0/eiuys__10X__CytAssist__Human__breast__20230515__v2.1.0.contents' -> '/lustre/groups/ml01/projects/2024_spatialdata_db/data/eiuys__10X__CytAssist__Human__breast__20230515__v2.1.0/10if2__10X__CytAssist__Human__breast__20230515__v2.1.0.contents'\n"
     ]
    },
    {
     "name": "stderr",
     "output_type": "stream",
     "text": [
      "Renaming files:  94%|█████████▍| 133875/141703 [00:29<00:01, 4270.49it/s]"
     ]
    },
    {
     "name": "stdout",
     "output_type": "stream",
     "text": [
      "Error renaming file /lustre/groups/ml01/projects/2024_spatialdata_db/data/8x7n0__10X__Xenium__Mouse__brain__20230713__v1.4.0__TgCRND817.9months/8x7n0__10X__Xenium__Mouse__brain__20230713__v1.4.0__TgCRND817.9months.contents to /lustre/groups/ml01/projects/2024_spatialdata_db/data/8x7n0__10X__Xenium__Mouse__brain__20230713__v1.4.0__TgCRND817.9months/10hhx__10X__Xenium__Mouse__brain__20230713__v1.4.0__TgCRND817.9months.contents: [Errno 2] No such file or directory: '/lustre/groups/ml01/projects/2024_spatialdata_db/data/8x7n0__10X__Xenium__Mouse__brain__20230713__v1.4.0__TgCRND817.9months/8x7n0__10X__Xenium__Mouse__brain__20230713__v1.4.0__TgCRND817.9months.contents' -> '/lustre/groups/ml01/projects/2024_spatialdata_db/data/8x7n0__10X__Xenium__Mouse__brain__20230713__v1.4.0__TgCRND817.9months/10hhx__10X__Xenium__Mouse__brain__20230713__v1.4.0__TgCRND817.9months.contents'\n"
     ]
    },
    {
     "name": "stderr",
     "output_type": "stream",
     "text": [
      "Renaming files:  95%|█████████▍| 134336/141703 [00:29<00:01, 4348.86it/s]"
     ]
    },
    {
     "name": "stdout",
     "output_type": "stream",
     "text": [
      "Error renaming file /lustre/groups/ml01/projects/2024_spatialdata_db/data/ia6p0__10X__Visium__Mouse__brain__20191202__v1.0.0/ia6p0__10X__Visium__Mouse__brain__20191202__v1.0.0.contents to /lustre/groups/ml01/projects/2024_spatialdata_db/data/ia6p0__10X__Visium__Mouse__brain__20191202__v1.0.0/10huw__10X__Visium__Mouse__brain__20191202__v1.0.0.contents: [Errno 2] No such file or directory: '/lustre/groups/ml01/projects/2024_spatialdata_db/data/ia6p0__10X__Visium__Mouse__brain__20191202__v1.0.0/ia6p0__10X__Visium__Mouse__brain__20191202__v1.0.0.contents' -> '/lustre/groups/ml01/projects/2024_spatialdata_db/data/ia6p0__10X__Visium__Mouse__brain__20191202__v1.0.0/10huw__10X__Visium__Mouse__brain__20191202__v1.0.0.contents'\n"
     ]
    },
    {
     "name": "stderr",
     "output_type": "stream",
     "text": [
      "Renaming files:  95%|█████████▌| 134806/141703 [00:29<00:01, 4446.80it/s]"
     ]
    },
    {
     "name": "stdout",
     "output_type": "stream",
     "text": [
      "Error renaming file /lustre/groups/ml01/projects/2024_spatialdata_db/data/l0g1l__10X__Visium__Human__lung__20220713__v2.0.0/l0g1l__10X__Visium__Human__lung__20220713__v2.0.0.contents to /lustre/groups/ml01/projects/2024_spatialdata_db/data/l0g1l__10X__Visium__Human__lung__20220713__v2.0.0/10sn3__10X__Visium__Human__lung__20220713__v2.0.0.contents: [Errno 2] No such file or directory: '/lustre/groups/ml01/projects/2024_spatialdata_db/data/l0g1l__10X__Visium__Human__lung__20220713__v2.0.0/l0g1l__10X__Visium__Human__lung__20220713__v2.0.0.contents' -> '/lustre/groups/ml01/projects/2024_spatialdata_db/data/l0g1l__10X__Visium__Human__lung__20220713__v2.0.0/10sn3__10X__Visium__Human__lung__20220713__v2.0.0.contents'\n",
      "Error renaming file /lustre/groups/ml01/projects/2024_spatialdata_db/data/icu0y__10X__Visium__Mouse__brain__20200623__v1.1.0/icu0y__10X__Visium__Mouse__brain__20200623__v1.1.0.contents to /lustre/groups/ml01/projects/2024_spatialdata_db/data/icu0y__10X__Visium__Mouse__brain__20200623__v1.1.0/10m16__10X__Visium__Mouse__brain__20200623__v1.1.0.contents: [Errno 2] No such file or directory: '/lustre/groups/ml01/projects/2024_spatialdata_db/data/icu0y__10X__Visium__Mouse__brain__20200623__v1.1.0/icu0y__10X__Visium__Mouse__brain__20200623__v1.1.0.contents' -> '/lustre/groups/ml01/projects/2024_spatialdata_db/data/icu0y__10X__Visium__Mouse__brain__20200623__v1.1.0/10m16__10X__Visium__Mouse__brain__20200623__v1.1.0.contents'\n"
     ]
    },
    {
     "name": "stderr",
     "output_type": "stream",
     "text": [
      "Renaming files:  95%|█████████▌| 135254/141703 [00:29<00:01, 4455.70it/s]"
     ]
    },
    {
     "name": "stdout",
     "output_type": "stream",
     "text": [
      "Error renaming file /lustre/groups/ml01/projects/2024_spatialdata_db/data/vmonx__10X__Visium__Mouse__brain__20200623__v1.1.0/vmonx__10X__Visium__Mouse__brain__20200623__v1.1.0.contents to /lustre/groups/ml01/projects/2024_spatialdata_db/data/vmonx__10X__Visium__Mouse__brain__20200623__v1.1.0/107rw__10X__Visium__Mouse__brain__20200623__v1.1.0.contents: [Errno 2] No such file or directory: '/lustre/groups/ml01/projects/2024_spatialdata_db/data/vmonx__10X__Visium__Mouse__brain__20200623__v1.1.0/vmonx__10X__Visium__Mouse__brain__20200623__v1.1.0.contents' -> '/lustre/groups/ml01/projects/2024_spatialdata_db/data/vmonx__10X__Visium__Mouse__brain__20200623__v1.1.0/107rw__10X__Visium__Mouse__brain__20200623__v1.1.0.contents'\n"
     ]
    },
    {
     "name": "stderr",
     "output_type": "stream",
     "text": [
      "Renaming files:  96%|█████████▌| 135764/141703 [00:29<00:01, 4642.44it/s]"
     ]
    },
    {
     "name": "stdout",
     "output_type": "stream",
     "text": [
      "Error renaming file /lustre/groups/ml01/projects/2024_spatialdata_db/data/2ku9b__10X__Visium__Human__brain_cerebellum__20201027__v1.2.0/2ku9b__10X__Visium__Human__brain_cerebellum__20201027__v1.2.0.contents to /lustre/groups/ml01/projects/2024_spatialdata_db/data/2ku9b__10X__Visium__Human__brain_cerebellum__20201027__v1.2.0/1012t__10X__Visium__Human__brain_cerebellum__20201027__v1.2.0.contents: [Errno 2] No such file or directory: '/lustre/groups/ml01/projects/2024_spatialdata_db/data/2ku9b__10X__Visium__Human__brain_cerebellum__20201027__v1.2.0/2ku9b__10X__Visium__Human__brain_cerebellum__20201027__v1.2.0.contents' -> '/lustre/groups/ml01/projects/2024_spatialdata_db/data/2ku9b__10X__Visium__Human__brain_cerebellum__20201027__v1.2.0/1012t__10X__Visium__Human__brain_cerebellum__20201027__v1.2.0.contents'\n",
      "Error renaming file /lustre/groups/ml01/projects/2024_spatialdata_db/data/siiyj__10X__Visium__Human__prostate__20210609__v1.3.0/siiyj__10X__Visium__Human__prostate__20210609__v1.3.0.contents to /lustre/groups/ml01/projects/2024_spatialdata_db/data/siiyj__10X__Visium__Human__prostate__20210609__v1.3.0/10uik__10X__Visium__Human__prostate__20210609__v1.3.0.contents: [Errno 2] No such file or directory: '/lustre/groups/ml01/projects/2024_spatialdata_db/data/siiyj__10X__Visium__Human__prostate__20210609__v1.3.0/siiyj__10X__Visium__Human__prostate__20210609__v1.3.0.contents' -> '/lustre/groups/ml01/projects/2024_spatialdata_db/data/siiyj__10X__Visium__Human__prostate__20210609__v1.3.0/10uik__10X__Visium__Human__prostate__20210609__v1.3.0.contents'\n"
     ]
    },
    {
     "name": "stderr",
     "output_type": "stream",
     "text": [
      "Renaming files:  96%|█████████▌| 136275/141703 [00:29<00:01, 4764.39it/s]"
     ]
    },
    {
     "name": "stdout",
     "output_type": "stream",
     "text": [
      "Error renaming file /lustre/groups/ml01/projects/2024_spatialdata_db/data/6qcwb__10X__Visium__Human__cerebellum__20220712__v2.0.0/6qcwb__10X__Visium__Human__cerebellum__20220712__v2.0.0.contents to /lustre/groups/ml01/projects/2024_spatialdata_db/data/6qcwb__10X__Visium__Human__cerebellum__20220712__v2.0.0/10wkh__10X__Visium__Human__cerebellum__20220712__v2.0.0.contents: [Errno 2] No such file or directory: '/lustre/groups/ml01/projects/2024_spatialdata_db/data/6qcwb__10X__Visium__Human__cerebellum__20220712__v2.0.0/6qcwb__10X__Visium__Human__cerebellum__20220712__v2.0.0.contents' -> '/lustre/groups/ml01/projects/2024_spatialdata_db/data/6qcwb__10X__Visium__Human__cerebellum__20220712__v2.0.0/10wkh__10X__Visium__Human__cerebellum__20220712__v2.0.0.contents'\n",
      "Error renaming file /lustre/groups/ml01/projects/2024_spatialdata_db/data/4slyf__10X__Xenium__Human__kidney__20230717__v1.5.0__KidneyCancer(PRCC)/4slyf__10X__Xenium__Human__kidney__20230717__v1.5.0__KidneyCancer(PRCC).contents to /lustre/groups/ml01/projects/2024_spatialdata_db/data/4slyf__10X__Xenium__Human__kidney__20230717__v1.5.0__KidneyCancer(PRCC)/10u89__10X__Xenium__Human__kidney__20230717__v1.5.0__KidneyCancer(PRCC).contents: [Errno 2] No such file or directory: '/lustre/groups/ml01/projects/2024_spatialdata_db/data/4slyf__10X__Xenium__Human__kidney__20230717__v1.5.0__KidneyCancer(PRCC)/4slyf__10X__Xenium__Human__kidney__20230717__v1.5.0__KidneyCancer(PRCC).contents' -> '/lustre/groups/ml01/projects/2024_spatialdata_db/data/4slyf__10X__Xenium__Human__kidney__20230717__v1.5.0__KidneyCancer(PRCC)/10u89__10X__Xenium__Human__kidney__20230717__v1.5.0__KidneyCancer(PRCC).contents'\n"
     ]
    },
    {
     "name": "stderr",
     "output_type": "stream",
     "text": [
      "Renaming files:  97%|█████████▋| 136821/141703 [00:29<00:00, 4968.45it/s]"
     ]
    },
    {
     "name": "stdout",
     "output_type": "stream",
     "text": [
      "Error renaming file /lustre/groups/ml01/projects/2024_spatialdata_db/data/wxc2q__10X__Xenium__Human__intestine_colon__20230829__v1.6.0__Cancerpre-designed+add-onpanel/wxc2q__10X__Xenium__Human__intestine_colon__20230829__v1.6.0__Cancerpre-designed+add-onpanel.contents to /lustre/groups/ml01/projects/2024_spatialdata_db/data/wxc2q__10X__Xenium__Human__intestine_colon__20230829__v1.6.0__Cancerpre-designed+add-onpanel/10zm9__10X__Xenium__Human__intestine_colon__20230829__v1.6.0__Cancerpre-designed+add-onpanel.contents: [Errno 2] No such file or directory: '/lustre/groups/ml01/projects/2024_spatialdata_db/data/wxc2q__10X__Xenium__Human__intestine_colon__20230829__v1.6.0__Cancerpre-designed+add-onpanel/wxc2q__10X__Xenium__Human__intestine_colon__20230829__v1.6.0__Cancerpre-designed+add-onpanel.contents' -> '/lustre/groups/ml01/projects/2024_spatialdata_db/data/wxc2q__10X__Xenium__Human__intestine_colon__20230829__v1.6.0__Cancerpre-designed+add-onpanel/10zm9__10X__Xenium__Human__intestine_colon__20230829__v1.6.0__Cancerpre-designed+add-onpanel.contents'\n"
     ]
    },
    {
     "name": "stderr",
     "output_type": "stream",
     "text": [
      "Renaming files:  99%|█████████▉| 140219/141703 [00:30<00:00, 5252.17it/s]"
     ]
    },
    {
     "name": "stdout",
     "output_type": "stream",
     "text": [
      "Error renaming file /lustre/groups/ml01/projects/2024_spatialdata_db/data/mt3dy__10X__Visium__Mouse__brain__20200623__v1.1.0/mt3dy__10X__Visium__Mouse__brain__20200623__v1.1.0.contents to /lustre/groups/ml01/projects/2024_spatialdata_db/data/mt3dy__10X__Visium__Mouse__brain__20200623__v1.1.0/10wfn__10X__Visium__Mouse__brain__20200623__v1.1.0.contents: [Errno 2] No such file or directory: '/lustre/groups/ml01/projects/2024_spatialdata_db/data/mt3dy__10X__Visium__Mouse__brain__20200623__v1.1.0/mt3dy__10X__Visium__Mouse__brain__20200623__v1.1.0.contents' -> '/lustre/groups/ml01/projects/2024_spatialdata_db/data/mt3dy__10X__Visium__Mouse__brain__20200623__v1.1.0/10wfn__10X__Visium__Mouse__brain__20200623__v1.1.0.contents'\n"
     ]
    },
    {
     "name": "stderr",
     "output_type": "stream",
     "text": [
      "Renaming files:  99%|█████████▉| 140754/141703 [00:30<00:00, 4900.64it/s]"
     ]
    },
    {
     "name": "stdout",
     "output_type": "stream",
     "text": [
      "Error renaming file /lustre/groups/ml01/projects/2024_spatialdata_db/data/zqxk7__10X__Visium__Human__large_intestine__20220328__v1.3.0/zqxk7__10X__Visium__Human__large_intestine__20220328__v1.3.0.contents to /lustre/groups/ml01/projects/2024_spatialdata_db/data/zqxk7__10X__Visium__Human__large_intestine__20220328__v1.3.0/1000j__10X__Visium__Human__large_intestine__20220328__v1.3.0.contents: [Errno 2] No such file or directory: '/lustre/groups/ml01/projects/2024_spatialdata_db/data/zqxk7__10X__Visium__Human__large_intestine__20220328__v1.3.0/zqxk7__10X__Visium__Human__large_intestine__20220328__v1.3.0.contents' -> '/lustre/groups/ml01/projects/2024_spatialdata_db/data/zqxk7__10X__Visium__Human__large_intestine__20220328__v1.3.0/1000j__10X__Visium__Human__large_intestine__20220328__v1.3.0.contents'\n"
     ]
    },
    {
     "name": "stderr",
     "output_type": "stream",
     "text": [
      "Renaming files: 100%|██████████| 141703/141703 [00:30<00:00, 4621.33it/s]\n"
     ]
    }
   ],
   "source": [
    "renamed_files_count = rename_files_parallel(files_to_process, uid_mapping)"
   ]
  }
 ],
 "metadata": {
  "kernelspec": {
   "display_name": "lamin",
   "language": "python",
   "name": "python3"
  },
  "language_info": {
   "codemirror_mode": {
    "name": "ipython",
    "version": 3
   },
   "file_extension": ".py",
   "mimetype": "text/x-python",
   "name": "python",
   "nbconvert_exporter": "python",
   "pygments_lexer": "ipython3",
   "version": "3.11.9"
  }
 },
 "nbformat": 4,
 "nbformat_minor": 2
}
