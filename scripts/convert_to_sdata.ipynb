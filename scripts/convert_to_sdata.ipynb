{
 "cells": [
  {
   "cell_type": "code",
   "execution_count": 6,
   "metadata": {},
   "outputs": [],
   "source": [
    "import os\n",
    "import tarfile\n",
    "import spatialdata as sd\n",
    "import pandas as pd\n",
    "import spatialdata_db\n",
    "from spatialdata_io import xenium, visium, visium_hd"
   ]
  },
  {
   "cell_type": "code",
   "execution_count": 7,
   "metadata": {},
   "outputs": [],
   "source": [
    "def decrompress_if_not_done(path, tar_gz_file):\n",
    "    decompressed_folder_name = tar_gz_file[:-7]\n",
    "    decompressed_folder_path = os.path.join(path, decompressed_folder_name)\n",
    "\n",
    "    # Check if the decompressed folder already exists\n",
    "    if os.path.exists(decompressed_folder_path):\n",
    "        print(f\"Decompressed folder already exists for: {tar_gz_file}\")\n",
    "    else:\n",
    "        # Decompress the .tar.gz file\n",
    "        print(f\"Decompressing: {tar_gz_file}\")\n",
    "        try:\n",
    "            with tarfile.open(os.path.join(path, tar_gz_file), \"r:gz\") as tar:\n",
    "                tar.extractall(path=decompressed_folder_path)\n",
    "            print(f\"Decompressed: {tar_gz_file} -> {decompressed_folder_path}\")\n",
    "        except Exception as e:\n",
    "            print(f\"Error decompressing {tar_gz_file}: {e}\")"
   ]
  },
  {
   "cell_type": "code",
   "execution_count": 3,
   "metadata": {},
   "outputs": [],
   "source": [
    "# uids_to_add = [\"10vek\", \"1000j\", \"1005m\", \"1012t\", \n",
    "#  \"101cw\", \"101in\", \"1025z\", \"103sm\", \"103te\", \n",
    "#  \"103uy\", \"104dm\", \"104pe\", \"105tt\", \"10fna\"]"
   ]
  },
  {
   "cell_type": "code",
   "execution_count": null,
   "metadata": {},
   "outputs": [],
   "source": [
    "#TODO: go through problem files: 10vek, 10s7d\n",
    "uids_to_add = [\"10s7d\"]\n",
    "# uids_to_add = [\"10vek\"]"
   ]
  },
  {
   "cell_type": "code",
   "execution_count": 9,
   "metadata": {},
   "outputs": [],
   "source": [
    "SDDB_KEY = 'sample'\n",
    "DATA_PATH = '/lustre/groups/ml01/projects/2024_spatialdata_db/data'\n",
    "CSV_FILE_PATH = './metadata_10x.csv'\n",
    "\n",
    "df = pd.read_csv(CSV_FILE_PATH, sep='\\t')\n",
    "\n",
    "df = df[df['uid'].isin(uids_to_add)]"
   ]
  },
  {
   "cell_type": "code",
   "execution_count": 10,
   "metadata": {},
   "outputs": [
    {
     "name": "stdout",
     "output_type": "stream",
     "text": [
      ".zarr file already exists for UID 10vek in /lustre/groups/ml01/projects/2024_spatialdata_db/data/10vek__10X__VisiumHD__Human__lung__20240329__v3.0.0. Skipping...\n",
      "Processing 10s7d\n",
      "Path /lustre/groups/ml01/projects/2024_spatialdata_db/data/10s7d__10X__VisiumHD__Mouse__intestine__20240325__v3.0.0/raw_output\n",
      "Decompressed folder already exists for: Visium_HD_Mouse_Small_Intestine_square_008um_binned_outputs.tar.gz\n",
      "Decompressed folder already exists for: Visium_HD_Mouse_Small_Intestine_spatial.tar.gz\n",
      "Decompressed folder already exists for: Visium_HD_Mouse_Small_Intestine_square_002um_binned_outputs.tar.gz\n",
      "Decompressed folder already exists for: Visium_HD_Mouse_Small_Intestine_square_016um_binned_outputs.tar.gz\n"
     ]
    },
    {
     "ename": "ValueError",
     "evalue": "tuple.index(x): x not in tuple",
     "output_type": "error",
     "traceback": [
      "\u001b[0;31m---------------------------------------------------------------------------\u001b[0m",
      "\u001b[0;31mValueError\u001b[0m                                Traceback (most recent call last)",
      "Cell \u001b[0;32mIn[10], line 36\u001b[0m\n\u001b[1;32m     34\u001b[0m     sdata \u001b[38;5;241m=\u001b[39m visium(raw_output)\n\u001b[1;32m     35\u001b[0m \u001b[38;5;28;01melif\u001b[39;00m assay \u001b[38;5;241m==\u001b[39m \u001b[38;5;124m'\u001b[39m\u001b[38;5;124mVisiumHD\u001b[39m\u001b[38;5;124m'\u001b[39m:\n\u001b[0;32m---> 36\u001b[0m     sdata \u001b[38;5;241m=\u001b[39m \u001b[43mvisium_hd\u001b[49m\u001b[43m(\u001b[49m\u001b[43mraw_output\u001b[49m\u001b[43m)\u001b[49m\n\u001b[1;32m     38\u001b[0m \u001b[38;5;28;01mif\u001b[39;00m sdata \u001b[38;5;129;01mis\u001b[39;00m \u001b[38;5;28;01mNone\u001b[39;00m:\n\u001b[1;32m     39\u001b[0m     \u001b[38;5;28mprint\u001b[39m(\u001b[38;5;124mf\u001b[39m\u001b[38;5;124m\"\u001b[39m\u001b[38;5;124mAssay \u001b[39m\u001b[38;5;132;01m{\u001b[39;00massay\u001b[38;5;132;01m}\u001b[39;00m\u001b[38;5;124m not supported.\u001b[39m\u001b[38;5;124m\"\u001b[39m)\n",
      "File \u001b[0;32m/lustre/groups/ml01/workspace/lea.zimmermann/software/miniconda3/envs/sddb2/lib/python3.10/site-packages/spatialdata_io/readers/visium_hd.py:133\u001b[0m, in \u001b[0;36mvisium_hd\u001b[0;34m(path, dataset_id, filtered_counts_file, bin_size, bins_as_squares, fullres_image_file, load_all_images, imread_kwargs, image_models_kwargs, anndata_kwargs)\u001b[0m\n\u001b[1;32m    129\u001b[0m \u001b[38;5;28;01mif\u001b[39;00m \u001b[38;5;28mlen\u001b[39m(all_path_bins) \u001b[38;5;241m!=\u001b[39m \u001b[38;5;241m0\u001b[39m:\n\u001b[1;32m    130\u001b[0m     path_bins_parts \u001b[38;5;241m=\u001b[39m all_path_bins[\n\u001b[1;32m    131\u001b[0m         \u001b[38;5;241m-\u001b[39m\u001b[38;5;241m1\u001b[39m\n\u001b[1;32m    132\u001b[0m     ]\u001b[38;5;241m.\u001b[39mparts  \u001b[38;5;66;03m# just choosing last one here as users might have tar file which would be first\u001b[39;00m\n\u001b[0;32m--> 133\u001b[0m     path_bins \u001b[38;5;241m=\u001b[39m Path(\u001b[38;5;241m*\u001b[39mpath_bins_parts[: \u001b[43mpath_bins_parts\u001b[49m\u001b[38;5;241;43m.\u001b[39;49m\u001b[43mindex\u001b[49m\u001b[43m(\u001b[49m\u001b[43mVisiumHDKeys\u001b[49m\u001b[38;5;241;43m.\u001b[39;49m\u001b[43mBINNED_OUTPUTS\u001b[49m\u001b[43m)\u001b[49m \u001b[38;5;241m+\u001b[39m \u001b[38;5;241m1\u001b[39m])\n\u001b[1;32m    134\u001b[0m \u001b[38;5;28;01melse\u001b[39;00m:\n\u001b[1;32m    135\u001b[0m     path_bins \u001b[38;5;241m=\u001b[39m path\n",
      "\u001b[0;31mValueError\u001b[0m: tuple.index(x): x not in tuple"
     ]
    }
   ],
   "source": [
    "for index, row in df.iterrows():\n",
    "    uid = row['uid']\n",
    "    assay = row['assay']\n",
    "    meta = row.drop('uid') \n",
    "\n",
    "    folder_path = None\n",
    "    for folder in os.listdir(DATA_PATH):\n",
    "        if folder.startswith(str(uid)):\n",
    "            folder_path = os.path.join(DATA_PATH, folder)\n",
    "            break\n",
    "\n",
    "    if folder_path is None:\n",
    "        print(f\"Folder for UID {uid} not found.\")\n",
    "        continue\n",
    "\n",
    "    # Check if a .zarr file exists in the folder\n",
    "    if any(file.endswith('.zarr') for file in os.listdir(folder_path)):\n",
    "        print(f\".zarr file already exists for UID {uid} in {folder_path}. Skipping...\")\n",
    "        continue\n",
    "    \n",
    "    raw_output = os.path.join(folder_path, 'raw_output')\n",
    "    print(f\"Processing {uid}\")\n",
    "    print(f\"Path {raw_output}\")\n",
    "\n",
    "    # Iterate over files in the directory\n",
    "    for file_name in os.listdir(raw_output):\n",
    "        if file_name.endswith(\".tar.gz\"):\n",
    "            decrompress_if_not_done(raw_output, file_name)\n",
    "\n",
    "    sdata = None\n",
    "    if assay == 'Xenium':\n",
    "        sdata = xenium(raw_output)\n",
    "    elif assay == 'Visium':\n",
    "        sdata = visium(raw_output)\n",
    "    elif assay == 'VisiumHD':\n",
    "        sdata = visium_hd(raw_output)\n",
    "\n",
    "    if sdata is None:\n",
    "        print(f\"Assay {assay} not supported.\")\n",
    "        continue\n",
    "\n",
    "    zarr_filename = folder_path.split('/')[-1] + '.zarr'\n",
    "    print(f\"Writing to {zarr_filename}\")\n",
    "    sdata.write(os.path.join(folder_path, zarr_filename))"
   ]
  },
  {
   "cell_type": "code",
   "execution_count": null,
   "metadata": {},
   "outputs": [],
   "source": []
  }
 ],
 "metadata": {
  "kernelspec": {
   "display_name": "sddb2",
   "language": "python",
   "name": "python3"
  },
  "language_info": {
   "codemirror_mode": {
    "name": "ipython",
    "version": 3
   },
   "file_extension": ".py",
   "mimetype": "text/x-python",
   "name": "python",
   "nbconvert_exporter": "python",
   "pygments_lexer": "ipython3",
   "version": "3.10.16"
  }
 },
 "nbformat": 4,
 "nbformat_minor": 2
}
