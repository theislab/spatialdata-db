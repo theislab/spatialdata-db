{
 "cells": [
  {
   "cell_type": "code",
   "execution_count": 1,
   "metadata": {},
   "outputs": [],
   "source": [
    "import pandas as pd"
   ]
  },
  {
   "cell_type": "code",
   "execution_count": 20,
   "metadata": {},
   "outputs": [],
   "source": [
    "general = pd.read_csv('datasets_10x.csv', sep=';', index_col=0)\n",
    "xenium_addon = pd.read_csv('additional_metadata_xenium.csv', sep=';', index_col=None).drop(columns=['Dataset Url'])\n",
    "visium_addon = pd.read_csv('additional_metadata_visium.csv', sep=';', index_col=None).drop(columns=['Dataset Url', 'Instrument(s)'])"
   ]
  },
  {
   "cell_type": "code",
   "execution_count": 21,
   "metadata": {},
   "outputs": [],
   "source": [
    "visium_addon.set_index(\"uid\", inplace=True)\n",
    "xenium_addon.set_index(\"uid\", inplace=True)"
   ]
  },
  {
   "cell_type": "code",
   "execution_count": 22,
   "metadata": {},
   "outputs": [],
   "source": [
    "xenium = general.merge(xenium_addon, how='right', left_index=True, right_index=True).drop(columns=['Panel_x']).rename(columns={'Panel_y': 'Panel'})\n",
    "visium = general.merge(visium_addon, how='right', left_index=True, right_index=True)"
   ]
  },
  {
   "cell_type": "code",
   "execution_count": 23,
   "metadata": {},
   "outputs": [],
   "source": [
    "xenium.to_csv('datasets_xenium_20250606.csv', sep=';', index=True)"
   ]
  },
  {
   "cell_type": "code",
   "execution_count": 24,
   "metadata": {},
   "outputs": [],
   "source": [
    "visium.to_csv('datasets_visium_20250606.csv', sep=';', index=True)"
   ]
  },
  {
   "cell_type": "code",
   "execution_count": null,
   "metadata": {},
   "outputs": [],
   "source": []
  }
 ],
 "metadata": {
  "kernelspec": {
   "display_name": "sddb-py3.11",
   "language": "python",
   "name": "python3"
  },
  "language_info": {
   "codemirror_mode": {
    "name": "ipython",
    "version": 3
   },
   "file_extension": ".py",
   "mimetype": "text/x-python",
   "name": "python",
   "nbconvert_exporter": "python",
   "pygments_lexer": "ipython3",
   "version": "3.11.0"
  }
 },
 "nbformat": 4,
 "nbformat_minor": 2
}
