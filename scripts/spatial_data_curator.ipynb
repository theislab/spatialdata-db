{
 "cells": [
  {
   "cell_type": "code",
   "execution_count": 1,
   "metadata": {},
   "outputs": [],
   "source": [
    "%load_ext autoreload\n",
    "%autoreload 2"
   ]
  },
  {
   "cell_type": "markdown",
   "metadata": {},
   "source": [
    "# Upload 10X data"
   ]
  },
  {
   "cell_type": "code",
   "execution_count": 2,
   "metadata": {},
   "outputs": [
    {
     "name": "stdout",
     "output_type": "stream",
     "text": [
      "\u001b[92m→\u001b[0m connected lamindb: scverse/spatialdata-db\n"
     ]
    }
   ],
   "source": [
    "import os\n",
    "\n",
    "import warnings\n",
    "warnings.filterwarnings(\"ignore\")\n",
    "\n",
    "import spatialdata as sd\n",
    "import pandas as pd\n",
    "from lamin_spatial import SpatialDataCurator\n",
    "\n",
    "import lamindb as ln\n",
    "\n",
    "import bionty as bt\n",
    "\n",
    "from lnschema_core import ULabel\n",
    "\n",
    "from spatialdata_db import SpatialDataDBCurator"
   ]
  },
  {
   "cell_type": "code",
   "execution_count": 3,
   "metadata": {},
   "outputs": [],
   "source": [
    "DATA_PATH = '/lustre/groups/ml01/projects/2024_spatialdata_db/data'"
   ]
  },
  {
   "cell_type": "code",
   "execution_count": 4,
   "metadata": {},
   "outputs": [],
   "source": [
    "def get_curator(uid):\n",
    "    folder_path = None\n",
    "    for folder in os.listdir(DATA_PATH):\n",
    "        if folder.startswith(str(uid)):\n",
    "            folder_path = os.path.join(DATA_PATH, folder)\n",
    "            break\n",
    "\n",
    "    if folder_path is None:\n",
    "        print(f\"Folder for UID {uid} not found.\")\n",
    "        return None\n",
    "\n",
    "    for filename in os.listdir(folder_path):\n",
    "        if \"attrs\" in filename:\n",
    "            file_path = os.path.join(folder_path, filename)    \n",
    "\n",
    "    sdata = sd.read_zarr(file_path)\n",
    "\n",
    "    for table in sdata.tables.keys():\n",
    "        sdata.tables[table].var['gene_symbols'] = sdata.tables[table].var.index\n",
    "        sdata.tables[table].var.index = sdata.tables[table].var['gene_ids'].values\n",
    "\n",
    "    tables = {table_key: bt.Gene.ensembl_gene_id for table_key in sdata.tables.keys()}\n",
    "\n",
    "    sdc = SpatialDataDBCurator(sdata, \n",
    "        var_index=tables,\n",
    "        organism=sdata.attrs['sample']['organism'].lower())\n",
    "\n",
    "    return sdc, sdata"
   ]
  },
  {
   "cell_type": "code",
   "execution_count": 5,
   "metadata": {},
   "outputs": [
    {
     "name": "stdout",
     "output_type": "stream",
     "text": [
      "\u001b[92m→\u001b[0m loaded Transform('UK1W3xXj'), re-started Run('JfFRdZLa') at 2024-12-16 17:55:18 UTC\n",
      "\u001b[92m→\u001b[0m notebook imports: bionty==0.53.2 lamin_spatial==0.1.0 lamindb==0.77.2 lnschema_core==0.77.1 pandas==2.2.3 spatialdata-db==0.0.1 spatialdata==0.2.7.dev14+gc07c363\n"
     ]
    }
   ],
   "source": [
    "ln.track(\"UK1W3xXjulcs0000\")"
   ]
  },
  {
   "cell_type": "code",
   "execution_count": null,
   "metadata": {},
   "outputs": [],
   "source": [
    "sdc = SpatialDataDBCurator(\n",
    "    sdata, \n",
    "    var_index=tables,\n",
    "    organism='human')"
   ]
  },
  {
   "cell_type": "code",
   "execution_count": 11,
   "metadata": {},
   "outputs": [
    {
     "name": "stdout",
     "output_type": "stream",
     "text": [
      "\u001b[94m•\u001b[0m validating categoricals of 'sample' metadata...\n",
      "\u001b[92m✓\u001b[0m \"assay\" is validated against \u001b[3mExperimentalFactor.name\u001b[0m\n",
      "\u001b[92m✓\u001b[0m \"chemistry_version\" is validated against \u001b[3mULabel.name\u001b[0m\n",
      "\u001b[94m•\u001b[0m mapping \"organism\" on \u001b[3mOrganism.name\u001b[0m\n",
      "\u001b[93m!\u001b[0m   \u001b[1;91m1 term\u001b[0m is not validated: \u001b[1;91m'Mouse'\u001b[0m\n",
      "    \u001b[1;93m1 synonym\u001b[0m found: \u001b[1;93m\"Mouse\" → \"mouse\"\u001b[0m\n",
      "    → curate synonyms via \u001b[1;96m.standardize(\"organism\")\u001b[0m\n",
      "\u001b[92m✓\u001b[0m \"tissue\" is validated against \u001b[3mTissue.name\u001b[0m\n",
      "\u001b[92m✓\u001b[0m \"disease\" is validated against \u001b[3mDisease.name\u001b[0m\n",
      "\u001b[92m✓\u001b[0m \"license\" is validated against \u001b[3mULabel.name\u001b[0m\n",
      "\u001b[92m✓\u001b[0m \"preproc_version\" is validated against \u001b[3mULabel.name\u001b[0m\n",
      "\n",
      "\u001b[94m•\u001b[0m validating categoricals in table 'square_008um'...\n",
      "\u001b[92m✓\u001b[0m \"var_index\" is validated against \u001b[3mGene.ensembl_gene_id\u001b[0m\n",
      "\n",
      "\u001b[94m•\u001b[0m validating categoricals in table 'square_002um'...\n",
      "\u001b[92m✓\u001b[0m \"var_index\" is validated against \u001b[3mGene.ensembl_gene_id\u001b[0m\n",
      "\n",
      "\u001b[94m•\u001b[0m validating categoricals in table 'square_016um'...\n",
      "\u001b[92m✓\u001b[0m \"var_index\" is validated against \u001b[3mGene.ensembl_gene_id\u001b[0m\n",
      "\n"
     ]
    },
    {
     "data": {
      "text/plain": [
       "False"
      ]
     },
     "execution_count": 11,
     "metadata": {},
     "output_type": "execute_result"
    }
   ],
   "source": [
    "sdc.validate()"
   ]
  },
  {
   "cell_type": "code",
   "execution_count": 12,
   "metadata": {},
   "outputs": [
    {
     "name": "stdout",
     "output_type": "stream",
     "text": [
      "\u001b[92m✓\u001b[0m standardized 1 synonym in \"organism\": \u001b[1;92m\"Mouse\" → \"mouse\"\u001b[0m\n"
     ]
    }
   ],
   "source": [
    "sdc.standardize(\"organism\", accessor='sample')"
   ]
  },
  {
   "cell_type": "code",
   "execution_count": 13,
   "metadata": {},
   "outputs": [
    {
     "name": "stdout",
     "output_type": "stream",
     "text": [
      "\u001b[94m•\u001b[0m validating categoricals of 'sample' metadata...\n",
      "\u001b[92m✓\u001b[0m \"assay\" is validated against \u001b[3mExperimentalFactor.name\u001b[0m\n",
      "\u001b[92m✓\u001b[0m \"chemistry_version\" is validated against \u001b[3mULabel.name\u001b[0m\n",
      "\u001b[92m✓\u001b[0m \"organism\" is validated against \u001b[3mOrganism.name\u001b[0m\n",
      "\u001b[92m✓\u001b[0m \"tissue\" is validated against \u001b[3mTissue.name\u001b[0m\n",
      "\u001b[92m✓\u001b[0m \"disease\" is validated against \u001b[3mDisease.name\u001b[0m\n",
      "\u001b[92m✓\u001b[0m \"license\" is validated against \u001b[3mULabel.name\u001b[0m\n",
      "\u001b[92m✓\u001b[0m \"preproc_version\" is validated against \u001b[3mULabel.name\u001b[0m\n",
      "\n",
      "\u001b[94m•\u001b[0m validating categoricals in table 'square_008um'...\n",
      "\u001b[92m✓\u001b[0m \"var_index\" is validated against \u001b[3mGene.ensembl_gene_id\u001b[0m\n",
      "\n",
      "\u001b[94m•\u001b[0m validating categoricals in table 'square_002um'...\n",
      "\u001b[92m✓\u001b[0m \"var_index\" is validated against \u001b[3mGene.ensembl_gene_id\u001b[0m\n",
      "\n",
      "\u001b[94m•\u001b[0m validating categoricals in table 'square_016um'...\n",
      "\u001b[92m✓\u001b[0m \"var_index\" is validated against \u001b[3mGene.ensembl_gene_id\u001b[0m\n",
      "\n"
     ]
    },
    {
     "data": {
      "text/plain": [
       "True"
      ]
     },
     "execution_count": 13,
     "metadata": {},
     "output_type": "execute_result"
    }
   ],
   "source": [
    "sdc.validate()"
   ]
  },
  {
   "cell_type": "code",
   "execution_count": 14,
   "metadata": {},
   "outputs": [
    {
     "name": "stdout",
     "output_type": "stream",
     "text": [
      "\u001b[34mINFO    \u001b[0m The SpatialData object is not self-contained \u001b[1m(\u001b[0mi.e. it contains some elements that are Dask-backed from    \n",
      "         locations outside \u001b[35m/home/icb/lea.zimmermann/.cache/lamindb/\u001b[0m\u001b[95m62167371.zarr\u001b[0m\u001b[1m)\u001b[0m. Please see the documentation of \n",
      "         `\u001b[1;35mis_self_contained\u001b[0m\u001b[1m(\u001b[0m\u001b[1m)\u001b[0m` to understand the implications of working with SpatialData objects that are not     \n",
      "         self-contained.                                                                                           \n",
      "\u001b[34mINFO    \u001b[0m The Zarr backing store has been changed from                                                              \n",
      "         \u001b[35m/lustre/groups/ml01/projects/2024_spatialdata_db/data/108x2__10X__VisiumHD__Mouse__brain__20240329__v3.0.0\u001b[0m\n",
      "         \u001b[35m/\u001b[0m\u001b[95m108x2__10X__VisiumHD__Mouse__brain__20240329__v3.0.0_attrs.zarr\u001b[0m the new file path:                       \n",
      "         \u001b[35m/home/icb/lea.zimmermann/.cache/lamindb/\u001b[0m\u001b[95m62167371.zarr\u001b[0m                                                     \n",
      "... uploading 62167371.zarr: 100.0%\n",
      "\u001b[93m!\u001b[0m    \u001b[1;93m5 unique terms\u001b[0m (100.00%) are not validated for \u001b[3mname\u001b[0m: \u001b[1;93m'in_tissue', 'array_row', 'array_col', 'location_id', 'region'\u001b[0m\n",
      "\u001b[93m!\u001b[0m skip linking features to artifact in slot 'obs'\n",
      "\u001b[93m!\u001b[0m    \u001b[1;93m5 unique terms\u001b[0m (100.00%) are not validated for \u001b[3mname\u001b[0m: \u001b[1;93m'in_tissue', 'array_row', 'array_col', 'location_id', 'region'\u001b[0m\n",
      "\u001b[93m!\u001b[0m skip linking features to artifact in slot 'obs'\n",
      "\u001b[93m!\u001b[0m    \u001b[1;93m5 unique terms\u001b[0m (100.00%) are not validated for \u001b[3mname\u001b[0m: \u001b[1;93m'in_tissue', 'array_row', 'array_col', 'location_id', 'region'\u001b[0m\n",
      "\u001b[93m!\u001b[0m skip linking features to artifact in slot 'obs'\n",
      "\u001b[92m→\u001b[0m go to https://lamin.ai/scverse/spatialdata-db/artifact/ubllg1iYQBaiDJfW0000\n"
     ]
    }
   ],
   "source": [
    "artifact = sdc.save_artifact(description=\"10X, VisiumHD, Mouse, Healthy, Brain, 2024\")"
   ]
  },
  {
   "cell_type": "code",
   "execution_count": 42,
   "metadata": {},
   "outputs": [],
   "source": [
    "sdc, sdata = get_curator('10nsr')"
   ]
  },
  {
   "cell_type": "code",
   "execution_count": null,
   "metadata": {},
   "outputs": [],
   "source": [
    "sdc = SpatialDataDBCurator(sdata, var_index=tables, organism='human')"
   ]
  },
  {
   "cell_type": "code",
   "execution_count": 43,
   "metadata": {},
   "outputs": [
    {
     "name": "stdout",
     "output_type": "stream",
     "text": [
      "\u001b[94m•\u001b[0m validating categoricals of 'sample' metadata...\n",
      "\u001b[94m•\u001b[0m mapping \"assay\" on \u001b[3mExperimentalFactor.name\u001b[0m\n",
      "\u001b[93m!\u001b[0m   \u001b[1;91m1 term\u001b[0m is not validated: \u001b[1;91m'Xenium'\u001b[0m\n",
      "    \u001b[1;93m1 synonym\u001b[0m found: \u001b[1;93m\"Xenium\" → \"10x Xenium\"\u001b[0m\n",
      "    → curate synonyms via \u001b[1;96m.standardize(\"assay\")\u001b[0m\n",
      "\u001b[92m✓\u001b[0m \"chemistry_version\" is validated against \u001b[3mULabel.name\u001b[0m\n",
      "\u001b[94m•\u001b[0m mapping \"organism\" on \u001b[3mOrganism.name\u001b[0m\n",
      "\u001b[93m!\u001b[0m   \u001b[1;91m1 term\u001b[0m is not validated: \u001b[1;91m'Human'\u001b[0m\n",
      "    \u001b[1;93m1 synonym\u001b[0m found: \u001b[1;93m\"Human\" → \"human\"\u001b[0m\n",
      "    → curate synonyms via \u001b[1;96m.standardize(\"organism\")\u001b[0m\n",
      "\u001b[92m✓\u001b[0m \"tissue\" is validated against \u001b[3mTissue.name\u001b[0m\n",
      "\u001b[94m•\u001b[0m mapping \"disease\" on \u001b[3mDisease.name\u001b[0m\n",
      "\u001b[93m!\u001b[0m   \u001b[1;91m1 term\u001b[0m is not validated: \u001b[1;91m'acute lymphoid leukemia'\u001b[0m\n",
      "    \u001b[1;93m1 synonym\u001b[0m found: \u001b[1;93m\"acute lymphoid leukemia\" → \"acute lymphoblastic leukemia\"\u001b[0m\n",
      "    → curate synonyms via \u001b[1;96m.standardize(\"disease\")\u001b[0m\n",
      "\u001b[92m✓\u001b[0m \"license\" is validated against \u001b[3mULabel.name\u001b[0m\n",
      "\u001b[92m✓\u001b[0m \"preproc_version\" is validated against \u001b[3mULabel.name\u001b[0m\n",
      "\n",
      "\u001b[94m•\u001b[0m validating categoricals in table 'table'...\n",
      "\u001b[92m✓\u001b[0m \"var_index\" is validated against \u001b[3mGene.ensembl_gene_id\u001b[0m\n",
      "\n"
     ]
    },
    {
     "data": {
      "text/plain": [
       "False"
      ]
     },
     "execution_count": 43,
     "metadata": {},
     "output_type": "execute_result"
    }
   ],
   "source": [
    "sdc.validate()"
   ]
  },
  {
   "cell_type": "code",
   "execution_count": 44,
   "metadata": {},
   "outputs": [
    {
     "name": "stdout",
     "output_type": "stream",
     "text": [
      "\u001b[92m✓\u001b[0m standardized 1 synonym in \"assay\": \u001b[1;92m\"Xenium\" → \"10x Xenium\"\u001b[0m\n",
      "\u001b[92m✓\u001b[0m standardized 1 synonym in \"organism\": \u001b[1;92m\"Human\" → \"human\"\u001b[0m\n",
      "\u001b[92m✓\u001b[0m standardized 1 synonym in \"disease\": \u001b[1;92m\"acute lymphoid leukemia\" → \"acute lymphoblastic leukemia\"\u001b[0m\n"
     ]
    }
   ],
   "source": [
    "sdc.standardize(\"assay\", accessor='sample')\n",
    "sdc.standardize(\"organism\", accessor='sample')\n",
    "sdc.standardize(\"disease\", accessor='sample')"
   ]
  },
  {
   "cell_type": "code",
   "execution_count": 45,
   "metadata": {},
   "outputs": [
    {
     "name": "stdout",
     "output_type": "stream",
     "text": [
      "\u001b[94m•\u001b[0m validating categoricals of 'sample' metadata...\n",
      "\u001b[92m✓\u001b[0m \"assay\" is validated against \u001b[3mExperimentalFactor.name\u001b[0m\n",
      "\u001b[92m✓\u001b[0m \"chemistry_version\" is validated against \u001b[3mULabel.name\u001b[0m\n",
      "\u001b[92m✓\u001b[0m \"organism\" is validated against \u001b[3mOrganism.name\u001b[0m\n",
      "\u001b[92m✓\u001b[0m \"tissue\" is validated against \u001b[3mTissue.name\u001b[0m\n",
      "\u001b[92m✓\u001b[0m \"disease\" is validated against \u001b[3mDisease.name\u001b[0m\n",
      "\u001b[92m✓\u001b[0m \"license\" is validated against \u001b[3mULabel.name\u001b[0m\n",
      "\u001b[92m✓\u001b[0m \"preproc_version\" is validated against \u001b[3mULabel.name\u001b[0m\n",
      "\n",
      "\u001b[94m•\u001b[0m validating categoricals in table 'table'...\n",
      "\u001b[92m✓\u001b[0m \"var_index\" is validated against \u001b[3mGene.ensembl_gene_id\u001b[0m\n",
      "\n"
     ]
    },
    {
     "data": {
      "text/plain": [
       "True"
      ]
     },
     "execution_count": 45,
     "metadata": {},
     "output_type": "execute_result"
    }
   ],
   "source": [
    "sdc.validate()"
   ]
  },
  {
   "cell_type": "code",
   "execution_count": 48,
   "metadata": {},
   "outputs": [],
   "source": [
    "description = '10X, '+ sdata.attrs['sample']['assay']+ ', '+ sdata.attrs['sample']['organism']+ ', '+sdata.attrs['sample']['disease']+', '+ sdata.attrs['sample']['tissue']+ ', '+ sdata.attrs['sample']['date'][:4]"
   ]
  },
  {
   "cell_type": "code",
   "execution_count": 50,
   "metadata": {},
   "outputs": [
    {
     "name": "stdout",
     "output_type": "stream",
     "text": [
      "\u001b[34mINFO    \u001b[0m The SpatialData object is not self-contained \u001b[1m(\u001b[0mi.e. it contains some elements that are Dask-backed from    \n",
      "         locations outside \u001b[35m/home/icb/lea.zimmermann/.cache/lamindb/\u001b[0m\u001b[95m59939931.zarr\u001b[0m\u001b[1m)\u001b[0m. Please see the documentation of \n",
      "         `\u001b[1;35mis_self_contained\u001b[0m\u001b[1m(\u001b[0m\u001b[1m)\u001b[0m` to understand the implications of working with SpatialData objects that are not     \n",
      "         self-contained.                                                                                           \n",
      "\u001b[34mINFO    \u001b[0m The Zarr backing store has been changed from                                                              \n",
      "         \u001b[35m/lustre/groups/ml01/projects/2024_spatialdata_db/data/10nsr__10X__Xenium__Human__bone_bone_marrow__2024040\u001b[0m\n",
      "         \u001b[35m3__v1.9.0__AcuteLymphoidLeukemiaBoneMarrow/\u001b[0m\u001b[95m10nsr__10X__Xenium__Human__bone_bone_marrow__20240403__v1.9.0__\u001b[0m\n",
      "         \u001b[95mAcuteLymphoidLeukemiaBoneMarrow_metadata_attrs.zarr\u001b[0m the new file path:                                    \n",
      "         \u001b[35m/home/icb/lea.zimmermann/.cache/lamindb/\u001b[0m\u001b[95m59939931.zarr\u001b[0m                                                     \n",
      "\u001b[93m!\u001b[0m    \u001b[1;93m11 unique terms\u001b[0m (100.00%) are not validated for \u001b[3mname\u001b[0m: \u001b[1;93m'cell_id', 'transcript_counts', 'control_probe_counts', 'control_codeword_counts', 'unassigned_codeword_counts', 'deprecated_codeword_counts', 'total_counts', 'cell_area', 'nucleus_area', 'region', ...\u001b[0m\n",
      "\u001b[93m!\u001b[0m skip linking features to artifact in slot 'obs'\n",
      "\u001b[92m→\u001b[0m go to https://lamin.ai/scverse/spatialdata-db/artifact/5UbbJ6cR0WzaBDHB0000\n"
     ]
    },
    {
     "data": {
      "text/plain": [
       "Artifact(uid='5UbbJ6cR0WzaBDHB0000', is_latest=True, description='10X, Xenium, Human, acute lymphoid leukemia, bonemarrow, 2024', suffix='.zarr', size=2490544230, hash='JBdHTZJUvNltQNjFB8UdcQ', n_objects=598, _hash_type='md5-d', _accessor='spatialdata', visibility=1, _key_is_virtual=True, storage_id=2, transform_id=56, run_id=197, created_by_id=8, created_at=2024-12-16 10:27:24 UTC)"
      ]
     },
     "execution_count": 50,
     "metadata": {},
     "output_type": "execute_result"
    }
   ],
   "source": [
    "sdc.save_artifact(description=description)"
   ]
  },
  {
   "cell_type": "code",
   "execution_count": 62,
   "metadata": {},
   "outputs": [
    {
     "name": "stdout",
     "output_type": "stream",
     "text": [
      "\u001b[33mWARNING \u001b[0m Radii of circles must not be nan or inf \u001b[1m(\u001b[0mthis warning will be turned into a ValueError in the next code   \n",
      "         release\u001b[1m)\u001b[0m. If you are seeing this warning after reading previously saved Xenium data, please see           \n",
      "         \u001b[4;94mhttps://github.com/scverse/spatialdata/discussions/657\u001b[0m for a solution. Otherwise, please correct the radii\n",
      "         of the circles before calling the parser function.                                                        \n",
      "\u001b[33mWARNING \u001b[0m Radii of circles must not be nan or inf \u001b[1m(\u001b[0mthis warning will be turned into a ValueError in the next code   \n",
      "         release\u001b[1m)\u001b[0m. If you are seeing this warning after reading previously saved Xenium data, please see           \n",
      "         \u001b[4;94mhttps://github.com/scverse/spatialdata/discussions/657\u001b[0m for a solution. Otherwise, please correct the radii\n",
      "         of the circles before calling the parser function.                                                        \n",
      "\u001b[94m•\u001b[0m validating categoricals of 'sample' metadata...\n",
      "\u001b[94m•\u001b[0m mapping \"assay\" on \u001b[3mExperimentalFactor.name\u001b[0m\n",
      "\u001b[93m!\u001b[0m   \u001b[1;91m1 term\u001b[0m is not validated: \u001b[1;91m'Xenium'\u001b[0m\n",
      "    \u001b[1;93m1 synonym\u001b[0m found: \u001b[1;93m\"Xenium\" → \"10x Xenium\"\u001b[0m\n",
      "    → curate synonyms via \u001b[1;96m.standardize(\"assay\")\u001b[0m\n",
      "\u001b[92m✓\u001b[0m \"chemistry_version\" is validated against \u001b[3mULabel.name\u001b[0m\n",
      "\u001b[94m•\u001b[0m mapping \"organism\" on \u001b[3mOrganism.name\u001b[0m\n",
      "\u001b[93m!\u001b[0m   \u001b[1;91m1 term\u001b[0m is not validated: \u001b[1;91m'Human'\u001b[0m\n",
      "    \u001b[1;93m1 synonym\u001b[0m found: \u001b[1;93m\"Human\" → \"human\"\u001b[0m\n",
      "    → curate synonyms via \u001b[1;96m.standardize(\"organism\")\u001b[0m\n",
      "\u001b[92m✓\u001b[0m \"tissue\" is validated against \u001b[3mTissue.name\u001b[0m\n",
      "\u001b[92m✓\u001b[0m \"disease\" is validated against \u001b[3mDisease.name\u001b[0m\n",
      "\u001b[92m✓\u001b[0m \"license\" is validated against \u001b[3mULabel.name\u001b[0m\n",
      "\u001b[92m✓\u001b[0m \"preproc_version\" is validated against \u001b[3mULabel.name\u001b[0m\n",
      "\n",
      "\u001b[94m•\u001b[0m validating categoricals in table 'table'...\n",
      "\u001b[92m✓\u001b[0m \"var_index\" is validated against \u001b[3mGene.ensembl_gene_id\u001b[0m\n",
      "\n"
     ]
    },
    {
     "data": {
      "text/plain": [
       "False"
      ]
     },
     "execution_count": 62,
     "metadata": {},
     "output_type": "execute_result"
    }
   ],
   "source": [
    "sdc, sdata = get_curator('10u63')\n",
    "sdc.validate()"
   ]
  },
  {
   "cell_type": "code",
   "execution_count": 63,
   "metadata": {},
   "outputs": [
    {
     "name": "stdout",
     "output_type": "stream",
     "text": [
      "\u001b[92m✓\u001b[0m standardized 1 synonym in \"assay\": \u001b[1;92m\"Xenium\" → \"10x Xenium\"\u001b[0m\n",
      "\u001b[92m✓\u001b[0m standardized 1 synonym in \"organism\": \u001b[1;92m\"Human\" → \"human\"\u001b[0m\n"
     ]
    }
   ],
   "source": [
    "sdc.standardize(\"assay\", accessor='sample')\n",
    "sdc.standardize(\"organism\", accessor='sample')"
   ]
  },
  {
   "cell_type": "code",
   "execution_count": 64,
   "metadata": {},
   "outputs": [
    {
     "name": "stdout",
     "output_type": "stream",
     "text": [
      "\u001b[94m•\u001b[0m validating categoricals of 'sample' metadata...\n",
      "\u001b[92m✓\u001b[0m \"assay\" is validated against \u001b[3mExperimentalFactor.name\u001b[0m\n",
      "\u001b[92m✓\u001b[0m \"chemistry_version\" is validated against \u001b[3mULabel.name\u001b[0m\n",
      "\u001b[92m✓\u001b[0m \"organism\" is validated against \u001b[3mOrganism.name\u001b[0m\n",
      "\u001b[92m✓\u001b[0m \"tissue\" is validated against \u001b[3mTissue.name\u001b[0m\n",
      "\u001b[92m✓\u001b[0m \"disease\" is validated against \u001b[3mDisease.name\u001b[0m\n",
      "\u001b[92m✓\u001b[0m \"license\" is validated against \u001b[3mULabel.name\u001b[0m\n",
      "\u001b[92m✓\u001b[0m \"preproc_version\" is validated against \u001b[3mULabel.name\u001b[0m\n",
      "\n",
      "\u001b[94m•\u001b[0m validating categoricals in table 'table'...\n",
      "\u001b[92m✓\u001b[0m \"var_index\" is validated against \u001b[3mGene.ensembl_gene_id\u001b[0m\n",
      "\n",
      "\u001b[34mINFO    \u001b[0m The SpatialData object is not self-contained \u001b[1m(\u001b[0mi.e. it contains some elements that are Dask-backed from    \n",
      "         locations outside \u001b[35m/home/icb/lea.zimmermann/.cache/lamindb/\u001b[0m\u001b[95m29495382.zarr\u001b[0m\u001b[1m)\u001b[0m. Please see the documentation of \n",
      "         `\u001b[1;35mis_self_contained\u001b[0m\u001b[1m(\u001b[0m\u001b[1m)\u001b[0m` to understand the implications of working with SpatialData objects that are not     \n",
      "         self-contained.                                                                                           \n",
      "\u001b[34mINFO    \u001b[0m The Zarr backing store has been changed from                                                              \n",
      "         \u001b[35m/lustre/groups/ml01/projects/2024_spatialdata_db/data/10u63__10X__Xenium__Human__brain__20240415__v2.0.0/\u001b[0m\u001b[95m1\u001b[0m\n",
      "         \u001b[95m0u63__10X__Xenium__Human__brain__20240415__v2.0.0_attrs_attrs_attrs.zarr\u001b[0m the new file path:               \n",
      "         \u001b[35m/home/icb/lea.zimmermann/.cache/lamindb/\u001b[0m\u001b[95m29495382.zarr\u001b[0m                                                     \n",
      "\u001b[93m!\u001b[0m    \u001b[1;93m13 unique terms\u001b[0m (100.00%) are not validated for \u001b[3mname\u001b[0m: \u001b[1;93m'cell_id', 'transcript_counts', 'control_probe_counts', 'control_codeword_counts', 'unassigned_codeword_counts', 'deprecated_codeword_counts', 'total_counts', 'cell_area', 'nucleus_area', 'region', ...\u001b[0m\n",
      "\u001b[93m!\u001b[0m skip linking features to artifact in slot 'obs'\n",
      "\u001b[92m→\u001b[0m go to https://lamin.ai/scverse/spatialdata-db/artifact/fVvF7TCAlJfKsWgo0000\n"
     ]
    },
    {
     "data": {
      "text/plain": [
       "Artifact(uid='fVvF7TCAlJfKsWgo0000', is_latest=True, description='10X, Xenium, Human, glioblastoma, brain, 2024', suffix='.zarr', size=25439820101, hash='Y7XqV167fo0hN6xNsRQSWw', n_objects=2426, _hash_type='md5-d', _accessor='spatialdata', visibility=1, _key_is_virtual=True, storage_id=2, transform_id=56, run_id=197, created_by_id=8, created_at=2024-12-16 10:48:23 UTC)"
      ]
     },
     "execution_count": 64,
     "metadata": {},
     "output_type": "execute_result"
    }
   ],
   "source": [
    "sdc.validate()\n",
    "description = '10X, '+ sdata.attrs['sample']['assay']+ ', '+ sdata.attrs['sample']['organism']+ ', '+sdata.attrs['sample']['disease']+', '+ sdata.attrs['sample']['tissue']+ ', '+ sdata.attrs['sample']['date'][:4]\n",
    "sdc.save_artifact(description=description)"
   ]
  },
  {
   "cell_type": "code",
   "execution_count": 65,
   "metadata": {},
   "outputs": [
    {
     "name": "stdout",
     "output_type": "stream",
     "text": [
      "\u001b[94m•\u001b[0m saving validated records of 'tissue'\n",
      "\u001b[94m•\u001b[0m validating categoricals of 'sample' metadata...\n",
      "\u001b[94m•\u001b[0m mapping \"assay\" on \u001b[3mExperimentalFactor.name\u001b[0m\n",
      "\u001b[93m!\u001b[0m   \u001b[1;91m1 term\u001b[0m is not validated: \u001b[1;91m'Xenium'\u001b[0m\n",
      "    \u001b[1;93m1 synonym\u001b[0m found: \u001b[1;93m\"Xenium\" → \"10x Xenium\"\u001b[0m\n",
      "    → curate synonyms via \u001b[1;96m.standardize(\"assay\")\u001b[0m\n",
      "\u001b[92m✓\u001b[0m \"chemistry_version\" is validated against \u001b[3mULabel.name\u001b[0m\n",
      "\u001b[94m•\u001b[0m mapping \"organism\" on \u001b[3mOrganism.name\u001b[0m\n",
      "\u001b[93m!\u001b[0m   \u001b[1;91m1 term\u001b[0m is not validated: \u001b[1;91m'Human'\u001b[0m\n",
      "    \u001b[1;93m1 synonym\u001b[0m found: \u001b[1;93m\"Human\" → \"human\"\u001b[0m\n",
      "    → curate synonyms via \u001b[1;96m.standardize(\"organism\")\u001b[0m\n",
      "\u001b[92m✓\u001b[0m \"tissue\" is validated against \u001b[3mTissue.name\u001b[0m\n",
      "\u001b[92m✓\u001b[0m \"disease\" is validated against \u001b[3mDisease.name\u001b[0m\n",
      "\u001b[92m✓\u001b[0m \"license\" is validated against \u001b[3mULabel.name\u001b[0m\n",
      "\u001b[92m✓\u001b[0m \"preproc_version\" is validated against \u001b[3mULabel.name\u001b[0m\n",
      "\n",
      "\u001b[94m•\u001b[0m validating categoricals in table 'table'...\n",
      "\u001b[92m✓\u001b[0m \"var_index\" is validated against \u001b[3mGene.ensembl_gene_id\u001b[0m\n",
      "\n"
     ]
    },
    {
     "data": {
      "text/plain": [
       "False"
      ]
     },
     "execution_count": 65,
     "metadata": {},
     "output_type": "execute_result"
    }
   ],
   "source": [
    "sdc, sdata = get_curator('10wmu')\n",
    "sdc.validate()"
   ]
  },
  {
   "cell_type": "code",
   "execution_count": 66,
   "metadata": {},
   "outputs": [
    {
     "name": "stdout",
     "output_type": "stream",
     "text": [
      "\u001b[92m✓\u001b[0m standardized 1 synonym in \"assay\": \u001b[1;92m\"Xenium\" → \"10x Xenium\"\u001b[0m\n",
      "\u001b[92m✓\u001b[0m standardized 1 synonym in \"organism\": \u001b[1;92m\"Human\" → \"human\"\u001b[0m\n"
     ]
    }
   ],
   "source": [
    "sdc.standardize(\"assay\", accessor='sample')\n",
    "sdc.standardize(\"organism\", accessor='sample')"
   ]
  },
  {
   "cell_type": "code",
   "execution_count": 67,
   "metadata": {},
   "outputs": [
    {
     "name": "stdout",
     "output_type": "stream",
     "text": [
      "\u001b[94m•\u001b[0m validating categoricals of 'sample' metadata...\n",
      "\u001b[92m✓\u001b[0m \"assay\" is validated against \u001b[3mExperimentalFactor.name\u001b[0m\n",
      "\u001b[92m✓\u001b[0m \"chemistry_version\" is validated against \u001b[3mULabel.name\u001b[0m\n",
      "\u001b[92m✓\u001b[0m \"organism\" is validated against \u001b[3mOrganism.name\u001b[0m\n",
      "\u001b[92m✓\u001b[0m \"tissue\" is validated against \u001b[3mTissue.name\u001b[0m\n",
      "\u001b[92m✓\u001b[0m \"disease\" is validated against \u001b[3mDisease.name\u001b[0m\n",
      "\u001b[92m✓\u001b[0m \"license\" is validated against \u001b[3mULabel.name\u001b[0m\n",
      "\u001b[92m✓\u001b[0m \"preproc_version\" is validated against \u001b[3mULabel.name\u001b[0m\n",
      "\n",
      "\u001b[94m•\u001b[0m validating categoricals in table 'table'...\n",
      "\u001b[92m✓\u001b[0m \"var_index\" is validated against \u001b[3mGene.ensembl_gene_id\u001b[0m\n",
      "\n",
      "\u001b[34mINFO    \u001b[0m The SpatialData object is not self-contained \u001b[1m(\u001b[0mi.e. it contains some elements that are Dask-backed from    \n",
      "         locations outside \u001b[35m/home/icb/lea.zimmermann/.cache/lamindb/\u001b[0m\u001b[95m84319053.zarr\u001b[0m\u001b[1m)\u001b[0m. Please see the documentation of \n",
      "         `\u001b[1;35mis_self_contained\u001b[0m\u001b[1m(\u001b[0m\u001b[1m)\u001b[0m` to understand the implications of working with SpatialData objects that are not     \n",
      "         self-contained.                                                                                           \n",
      "\u001b[34mINFO    \u001b[0m The Zarr backing store has been changed from                                                              \n",
      "         \u001b[35m/lustre/groups/ml01/projects/2024_spatialdata_db/data/10wmu__10X__Xenium__Human__heart__20240305__v1.9.0/\u001b[0m\u001b[95m1\u001b[0m\n",
      "         \u001b[95m0wmu__10X__Xenium__Human__heart__20240305__v1.9.0_attrs.zarr\u001b[0m the new file path:                           \n",
      "         \u001b[35m/home/icb/lea.zimmermann/.cache/lamindb/\u001b[0m\u001b[95m84319053.zarr\u001b[0m                                                     \n",
      "... uploading 84319053.zarr: 100.0%\n",
      "\u001b[93m!\u001b[0m    \u001b[1;93m11 unique terms\u001b[0m (100.00%) are not validated for \u001b[3mname\u001b[0m: \u001b[1;93m'cell_id', 'transcript_counts', 'control_probe_counts', 'control_codeword_counts', 'unassigned_codeword_counts', 'deprecated_codeword_counts', 'total_counts', 'cell_area', 'nucleus_area', 'region', ...\u001b[0m\n",
      "\u001b[93m!\u001b[0m skip linking features to artifact in slot 'obs'\n",
      "\u001b[92m→\u001b[0m go to https://lamin.ai/scverse/spatialdata-db/artifact/AcJ31iZl6KgZR7BO0000\n"
     ]
    },
    {
     "data": {
      "text/plain": [
       "Artifact(uid='AcJ31iZl6KgZR7BO0000', is_latest=True, description='10X, Xenium, Human, healthy, heart, 2024', suffix='.zarr', size=1483994224, hash='f7BgRVX9kNxvnSpm4BrOMA', n_objects=368, _hash_type='md5-d', _accessor='spatialdata', visibility=1, _key_is_virtual=True, storage_id=2, transform_id=56, run_id=197, created_by_id=8, created_at=2024-12-16 10:56:05 UTC)"
      ]
     },
     "execution_count": 67,
     "metadata": {},
     "output_type": "execute_result"
    }
   ],
   "source": [
    "sdc.validate()\n",
    "description = '10X, '+ sdata.attrs['sample']['assay']+ ', '+ sdata.attrs['sample']['organism']+ ', '+sdata.attrs['sample']['disease']+', '+ sdata.attrs['sample']['tissue']+ ', '+ sdata.attrs['sample']['date'][:4]\n",
    "sdc.save_artifact(description=description)"
   ]
  },
  {
   "cell_type": "code",
   "execution_count": 68,
   "metadata": {},
   "outputs": [
    {
     "name": "stdout",
     "output_type": "stream",
     "text": [
      "\u001b[94m•\u001b[0m saving validated records of 'var_index'\n",
      "\u001b[94m•\u001b[0m validating categoricals of 'sample' metadata...\n",
      "\u001b[94m•\u001b[0m mapping \"assay\" on \u001b[3mExperimentalFactor.name\u001b[0m\n",
      "\u001b[93m!\u001b[0m   \u001b[1;91m1 term\u001b[0m is not validated: \u001b[1;91m'Xenium'\u001b[0m\n",
      "    \u001b[1;93m1 synonym\u001b[0m found: \u001b[1;93m\"Xenium\" → \"10x Xenium\"\u001b[0m\n",
      "    → curate synonyms via \u001b[1;96m.standardize(\"assay\")\u001b[0m\n",
      "\u001b[92m✓\u001b[0m \"chemistry_version\" is validated against \u001b[3mULabel.name\u001b[0m\n",
      "\u001b[94m•\u001b[0m mapping \"organism\" on \u001b[3mOrganism.name\u001b[0m\n",
      "\u001b[93m!\u001b[0m   \u001b[1;91m1 term\u001b[0m is not validated: \u001b[1;91m'Human'\u001b[0m\n",
      "    \u001b[1;93m1 synonym\u001b[0m found: \u001b[1;93m\"Human\" → \"human\"\u001b[0m\n",
      "    → curate synonyms via \u001b[1;96m.standardize(\"organism\")\u001b[0m\n",
      "\u001b[94m•\u001b[0m mapping \"tissue\" on \u001b[3mTissue.name\u001b[0m\n",
      "\u001b[93m!\u001b[0m   \u001b[1;91m1 term\u001b[0m is not validated: \u001b[1;91m'intestine_colon'\u001b[0m\n",
      "    → fix typos, remove non-existent values, or save terms via \u001b[1;96m.add_new_from(\"tissue\")\u001b[0m\n",
      "\u001b[92m✓\u001b[0m \"disease\" is validated against \u001b[3mDisease.name\u001b[0m\n",
      "\u001b[92m✓\u001b[0m \"license\" is validated against \u001b[3mULabel.name\u001b[0m\n",
      "\u001b[92m✓\u001b[0m \"preproc_version\" is validated against \u001b[3mULabel.name\u001b[0m\n",
      "\n",
      "\u001b[94m•\u001b[0m validating categoricals in table 'table'...\n",
      "\u001b[92m✓\u001b[0m \"var_index\" is validated against \u001b[3mGene.ensembl_gene_id\u001b[0m\n",
      "\n"
     ]
    },
    {
     "data": {
      "text/plain": [
       "False"
      ]
     },
     "execution_count": 68,
     "metadata": {},
     "output_type": "execute_result"
    }
   ],
   "source": [
    "sdc, sdata = get_curator('10tsy')\n",
    "sdc.validate()"
   ]
  },
  {
   "cell_type": "code",
   "execution_count": 69,
   "metadata": {},
   "outputs": [
    {
     "name": "stdout",
     "output_type": "stream",
     "text": [
      "\u001b[92m✓\u001b[0m standardized 1 synonym in \"assay\": \u001b[1;92m\"Xenium\" → \"10x Xenium\"\u001b[0m\n",
      "\u001b[92m✓\u001b[0m standardized 1 synonym in \"organism\": \u001b[1;92m\"Human\" → \"human\"\u001b[0m\n",
      "\u001b[92m✓\u001b[0m added 1 record with \u001b[3mTissue.name\u001b[0m for \"tissue\": 'intestine_colon'\n"
     ]
    }
   ],
   "source": [
    "sdc.standardize(\"assay\", accessor='sample')\n",
    "sdc.standardize(\"organism\", accessor='sample')\n",
    "sdc.add_new_from(\"tissue\", accessor='sample')"
   ]
  },
  {
   "cell_type": "code",
   "execution_count": 70,
   "metadata": {},
   "outputs": [
    {
     "name": "stdout",
     "output_type": "stream",
     "text": [
      "\u001b[94m•\u001b[0m validating categoricals of 'sample' metadata...\n",
      "\u001b[92m✓\u001b[0m \"assay\" is validated against \u001b[3mExperimentalFactor.name\u001b[0m\n",
      "\u001b[92m✓\u001b[0m \"chemistry_version\" is validated against \u001b[3mULabel.name\u001b[0m\n",
      "\u001b[92m✓\u001b[0m \"organism\" is validated against \u001b[3mOrganism.name\u001b[0m\n",
      "\u001b[92m✓\u001b[0m \"tissue\" is validated against \u001b[3mTissue.name\u001b[0m\n",
      "\u001b[92m✓\u001b[0m \"disease\" is validated against \u001b[3mDisease.name\u001b[0m\n",
      "\u001b[92m✓\u001b[0m \"license\" is validated against \u001b[3mULabel.name\u001b[0m\n",
      "\u001b[92m✓\u001b[0m \"preproc_version\" is validated against \u001b[3mULabel.name\u001b[0m\n",
      "\n",
      "\u001b[94m•\u001b[0m validating categoricals in table 'table'...\n",
      "\u001b[92m✓\u001b[0m \"var_index\" is validated against \u001b[3mGene.ensembl_gene_id\u001b[0m\n",
      "\n",
      "\u001b[34mINFO    \u001b[0m The SpatialData object is not self-contained \u001b[1m(\u001b[0mi.e. it contains some elements that are Dask-backed from    \n",
      "         locations outside \u001b[35m/home/icb/lea.zimmermann/.cache/lamindb/\u001b[0m\u001b[95m46536717.zarr\u001b[0m\u001b[1m)\u001b[0m. Please see the documentation of \n",
      "         `\u001b[1;35mis_self_contained\u001b[0m\u001b[1m(\u001b[0m\u001b[1m)\u001b[0m` to understand the implications of working with SpatialData objects that are not     \n",
      "         self-contained.                                                                                           \n",
      "\u001b[34mINFO    \u001b[0m The Zarr backing store has been changed from                                                              \n",
      "         \u001b[35m/lustre/groups/ml01/projects/2024_spatialdata_db/data/10tsy__10X__Xenium__Human__intestine_colon__20230829\u001b[0m\n",
      "         \u001b[35m__v1.6.0__Non-diseasedpre-designedpanel/\u001b[0m\u001b[95m10tsy__10X__Xenium__Human__intestine_colon__20230829__v1.6.0__Non-\u001b[0m\n",
      "         \u001b[95mdiseasedpre-designedpanel_attrs.zarr\u001b[0m the new file path:                                                   \n",
      "         \u001b[35m/home/icb/lea.zimmermann/.cache/lamindb/\u001b[0m\u001b[95m46536717.zarr\u001b[0m                                                     \n",
      "... uploading 46536717.zarr: 100.0%\n",
      "\u001b[93m!\u001b[0m    \u001b[1;93m11 unique terms\u001b[0m (100.00%) are not validated for \u001b[3mname\u001b[0m: \u001b[1;93m'cell_id', 'transcript_counts', 'control_probe_counts', 'control_codeword_counts', 'unassigned_codeword_counts', 'deprecated_codeword_counts', 'total_counts', 'cell_area', 'nucleus_area', 'region', ...\u001b[0m\n",
      "\u001b[93m!\u001b[0m skip linking features to artifact in slot 'obs'\n",
      "\u001b[92m→\u001b[0m go to https://lamin.ai/scverse/spatialdata-db/artifact/J6HsBBMXCJ8amco80000\n"
     ]
    },
    {
     "data": {
      "text/plain": [
       "Artifact(uid='J6HsBBMXCJ8amco80000', is_latest=True, description='10X, Xenium, Human, cancer, intestine_colon, 2023', suffix='.zarr', size=5129800776, hash='AyFqQ-0ipr-sgDzUuEErmg', n_objects=786, _hash_type='md5-d', _accessor='spatialdata', visibility=1, _key_is_virtual=True, storage_id=2, transform_id=56, run_id=197, created_by_id=8, created_at=2024-12-16 10:59:12 UTC)"
      ]
     },
     "execution_count": 70,
     "metadata": {},
     "output_type": "execute_result"
    }
   ],
   "source": [
    "sdc.validate()\n",
    "description = '10X, '+ sdata.attrs['sample']['assay']+ ', '+ sdata.attrs['sample']['organism']+ ', '+sdata.attrs['sample']['disease']+', '+ sdata.attrs['sample']['tissue']+ ', '+ sdata.attrs['sample']['date'][:4]\n",
    "sdc.save_artifact(description=description)"
   ]
  },
  {
   "cell_type": "code",
   "execution_count": 6,
   "metadata": {},
   "outputs": [
    {
     "name": "stdout",
     "output_type": "stream",
     "text": [
      "\u001b[94m•\u001b[0m validating categoricals of 'sample' metadata...\n",
      "\u001b[94m•\u001b[0m mapping \"assay\" on \u001b[3mExperimentalFactor.name\u001b[0m\n",
      "\u001b[93m!\u001b[0m   \u001b[1;91m1 term\u001b[0m is not validated: \u001b[1;91m'Visium'\u001b[0m\n",
      "    \u001b[1;93m1 synonym\u001b[0m found: \u001b[1;93m\"Visium\" → \"Visium Spatial Gene Expression\"\u001b[0m\n",
      "    → curate synonyms via \u001b[1;96m.standardize(\"assay\")\u001b[0m\n",
      "\u001b[92m✓\u001b[0m \"chemistry_version\" is validated against \u001b[3mULabel.name\u001b[0m\n",
      "\u001b[94m•\u001b[0m mapping \"organism\" on \u001b[3mOrganism.name\u001b[0m\n",
      "\u001b[93m!\u001b[0m   \u001b[1;91m1 term\u001b[0m is not validated: \u001b[1;91m'Human'\u001b[0m\n",
      "    \u001b[1;93m1 synonym\u001b[0m found: \u001b[1;93m\"Human\" → \"human\"\u001b[0m\n",
      "    → curate synonyms via \u001b[1;96m.standardize(\"organism\")\u001b[0m\n",
      "\u001b[92m✓\u001b[0m \"tissue\" is validated against \u001b[3mTissue.name\u001b[0m\n",
      "\u001b[92m✓\u001b[0m \"disease\" is validated against \u001b[3mDisease.name\u001b[0m\n",
      "\u001b[92m✓\u001b[0m \"license\" is validated against \u001b[3mULabel.name\u001b[0m\n",
      "\u001b[92m✓\u001b[0m \"preproc_version\" is validated against \u001b[3mULabel.name\u001b[0m\n",
      "\n",
      "\u001b[94m•\u001b[0m validating categoricals in table 'table'...\n",
      "\u001b[92m✓\u001b[0m \"var_index\" is validated against \u001b[3mGene.ensembl_gene_id\u001b[0m\n",
      "\n"
     ]
    },
    {
     "data": {
      "text/plain": [
       "False"
      ]
     },
     "execution_count": 6,
     "metadata": {},
     "output_type": "execute_result"
    }
   ],
   "source": [
    "sdc, sdata = get_curator('10k5p')\n",
    "sdc.validate()"
   ]
  },
  {
   "cell_type": "code",
   "execution_count": 10,
   "metadata": {},
   "outputs": [
    {
     "name": "stdout",
     "output_type": "stream",
     "text": [
      "\u001b[93m!\u001b[0m values are already standardized\n",
      "\u001b[93m!\u001b[0m values are already standardized\n"
     ]
    }
   ],
   "source": [
    "sdc.standardize(\"assay\", accessor='sample')\n",
    "sdc.standardize(\"organism\", accessor='sample')"
   ]
  },
  {
   "cell_type": "code",
   "execution_count": 11,
   "metadata": {},
   "outputs": [
    {
     "name": "stdout",
     "output_type": "stream",
     "text": [
      "\u001b[94m•\u001b[0m validating categoricals of 'sample' metadata...\n",
      "\u001b[92m✓\u001b[0m \"assay\" is validated against \u001b[3mExperimentalFactor.name\u001b[0m\n",
      "\u001b[92m✓\u001b[0m \"chemistry_version\" is validated against \u001b[3mULabel.name\u001b[0m\n",
      "\u001b[92m✓\u001b[0m \"organism\" is validated against \u001b[3mOrganism.name\u001b[0m\n",
      "\u001b[92m✓\u001b[0m \"tissue\" is validated against \u001b[3mTissue.name\u001b[0m\n",
      "\u001b[92m✓\u001b[0m \"disease\" is validated against \u001b[3mDisease.name\u001b[0m\n",
      "\u001b[92m✓\u001b[0m \"license\" is validated against \u001b[3mULabel.name\u001b[0m\n",
      "\u001b[92m✓\u001b[0m \"preproc_version\" is validated against \u001b[3mULabel.name\u001b[0m\n",
      "\n",
      "\u001b[94m•\u001b[0m validating categoricals in table 'table'...\n",
      "\u001b[92m✓\u001b[0m \"var_index\" is validated against \u001b[3mGene.ensembl_gene_id\u001b[0m\n",
      "\n",
      "\u001b[34mINFO    \u001b[0m The SpatialData object is not self-contained \u001b[1m(\u001b[0mi.e. it contains some elements that are Dask-backed from    \n",
      "         locations outside \u001b[35m/home/icb/lea.zimmermann/.cache/lamindb/\u001b[0m\u001b[95m26615312.zarr\u001b[0m\u001b[1m)\u001b[0m. Please see the documentation of \n",
      "         `\u001b[1;35mis_self_contained\u001b[0m\u001b[1m(\u001b[0m\u001b[1m)\u001b[0m` to understand the implications of working with SpatialData objects that are not     \n",
      "         self-contained.                                                                                           \n",
      "\u001b[34mINFO    \u001b[0m The Zarr backing store has been changed from                                                              \n",
      "         \u001b[35m/lustre/groups/ml01/projects/2024_spatialdata_db/data/10k5p__10X__Visium__Human__breast__20220701__v1.3.0/\u001b[0m\n",
      "         \u001b[95m10k5p__10X__Visium__Human__breast__20220701__v1.3.0_metadata_metadata_attrs.zarr\u001b[0m the new file path:       \n",
      "         \u001b[35m/home/icb/lea.zimmermann/.cache/lamindb/\u001b[0m\u001b[95m26615312.zarr\u001b[0m                                                     \n",
      "... uploading 26615312.zarr: 100.0%\n",
      "\u001b[93m!\u001b[0m    \u001b[1;93m5 unique terms\u001b[0m (100.00%) are not validated for \u001b[3mname\u001b[0m: \u001b[1;93m'in_tissue', 'array_row', 'array_col', 'spot_id', 'region'\u001b[0m\n",
      "\u001b[93m!\u001b[0m skip linking features to artifact in slot 'obs'\n",
      "\u001b[92m→\u001b[0m go to https://lamin.ai/scverse/spatialdata-db/artifact/Co2Bwl9TymNlnv9c0000\n"
     ]
    },
    {
     "data": {
      "text/plain": [
       "Artifact(uid='Co2Bwl9TymNlnv9c0000', is_latest=True, description='10X, Visium, Human, breast cancer, breast, 2022', suffix='.zarr', size=53442529, hash='Z05oc7m9alFGiMo1l33DOQ', n_objects=311, _hash_type='md5-d', _accessor='spatialdata', visibility=1, _key_is_virtual=True, storage_id=2, transform_id=56, run_id=197, created_by_id=8, created_at=2024-12-16 15:04:08 UTC)"
      ]
     },
     "execution_count": 11,
     "metadata": {},
     "output_type": "execute_result"
    }
   ],
   "source": [
    "sdc.validate()\n",
    "description = '10X, '+ sdata.attrs['sample']['assay']+ ', '+ sdata.attrs['sample']['organism']+ ', '+sdata.attrs['sample']['disease']+', '+ sdata.attrs['sample']['tissue']+ ', '+ sdata.attrs['sample']['date'][:4]\n",
    "sdc.save_artifact(description=description)"
   ]
  },
  {
   "cell_type": "code",
   "execution_count": 74,
   "metadata": {},
   "outputs": [
    {
     "name": "stdout",
     "output_type": "stream",
     "text": [
      "\u001b[94m•\u001b[0m validating categoricals of 'sample' metadata...\n",
      "\u001b[94m•\u001b[0m mapping \"assay\" on \u001b[3mExperimentalFactor.name\u001b[0m\n",
      "\u001b[93m!\u001b[0m   \u001b[1;91m1 term\u001b[0m is not validated: \u001b[1;91m'Visium'\u001b[0m\n",
      "    \u001b[1;93m1 synonym\u001b[0m found: \u001b[1;93m\"Visium\" → \"Visium Spatial Gene Expression\"\u001b[0m\n",
      "    → curate synonyms via \u001b[1;96m.standardize(\"assay\")\u001b[0m\n",
      "\u001b[92m✓\u001b[0m \"chemistry_version\" is validated against \u001b[3mULabel.name\u001b[0m\n",
      "\u001b[94m•\u001b[0m mapping \"organism\" on \u001b[3mOrganism.name\u001b[0m\n",
      "\u001b[93m!\u001b[0m   \u001b[1;91m1 term\u001b[0m is not validated: \u001b[1;91m'Human'\u001b[0m\n",
      "    \u001b[1;93m1 synonym\u001b[0m found: \u001b[1;93m\"Human\" → \"human\"\u001b[0m\n",
      "    → curate synonyms via \u001b[1;96m.standardize(\"organism\")\u001b[0m\n",
      "\u001b[94m•\u001b[0m mapping \"tissue\" on \u001b[3mTissue.name\u001b[0m\n",
      "\u001b[93m!\u001b[0m   \u001b[1;91m1 term\u001b[0m is not validated: \u001b[1;91m'prostate'\u001b[0m\n",
      "    \u001b[1;93m1 synonym\u001b[0m found: \u001b[1;93m\"prostate\" → \"prostate gland\"\u001b[0m\n",
      "    → curate synonyms via \u001b[1;96m.standardize(\"tissue\")\u001b[0m\n",
      "\u001b[92m✓\u001b[0m \"disease\" is validated against \u001b[3mDisease.name\u001b[0m\n",
      "\u001b[92m✓\u001b[0m \"license\" is validated against \u001b[3mULabel.name\u001b[0m\n",
      "\u001b[92m✓\u001b[0m \"preproc_version\" is validated against \u001b[3mULabel.name\u001b[0m\n",
      "\n",
      "\u001b[94m•\u001b[0m validating categoricals in table 'table'...\n",
      "\u001b[92m✓\u001b[0m \"var_index\" is validated against \u001b[3mGene.ensembl_gene_id\u001b[0m\n",
      "\n"
     ]
    },
    {
     "data": {
      "text/plain": [
       "False"
      ]
     },
     "execution_count": 74,
     "metadata": {},
     "output_type": "execute_result"
    }
   ],
   "source": [
    "sdc, sdata = get_curator('10f2z')\n",
    "sdc.validate()"
   ]
  },
  {
   "cell_type": "code",
   "execution_count": 75,
   "metadata": {},
   "outputs": [
    {
     "name": "stdout",
     "output_type": "stream",
     "text": [
      "\u001b[92m✓\u001b[0m standardized 1 synonym in \"assay\": \u001b[1;92m\"Visium\" → \"Visium Spatial Gene Expression\"\u001b[0m\n",
      "\u001b[92m✓\u001b[0m standardized 1 synonym in \"organism\": \u001b[1;92m\"Human\" → \"human\"\u001b[0m\n",
      "\u001b[92m✓\u001b[0m standardized 1 synonym in \"tissue\": \u001b[1;92m\"prostate\" → \"prostate gland\"\u001b[0m\n"
     ]
    }
   ],
   "source": [
    "sdc.standardize(\"assay\", accessor='sample')\n",
    "sdc.standardize(\"organism\", accessor='sample')\n",
    "sdc.standardize(\"tissue\", accessor='sample')"
   ]
  },
  {
   "cell_type": "code",
   "execution_count": 76,
   "metadata": {},
   "outputs": [
    {
     "name": "stdout",
     "output_type": "stream",
     "text": [
      "\u001b[94m•\u001b[0m validating categoricals of 'sample' metadata...\n",
      "\u001b[92m✓\u001b[0m \"assay\" is validated against \u001b[3mExperimentalFactor.name\u001b[0m\n",
      "\u001b[92m✓\u001b[0m \"chemistry_version\" is validated against \u001b[3mULabel.name\u001b[0m\n",
      "\u001b[92m✓\u001b[0m \"organism\" is validated against \u001b[3mOrganism.name\u001b[0m\n",
      "\u001b[92m✓\u001b[0m \"tissue\" is validated against \u001b[3mTissue.name\u001b[0m\n",
      "\u001b[92m✓\u001b[0m \"disease\" is validated against \u001b[3mDisease.name\u001b[0m\n",
      "\u001b[92m✓\u001b[0m \"license\" is validated against \u001b[3mULabel.name\u001b[0m\n",
      "\u001b[92m✓\u001b[0m \"preproc_version\" is validated against \u001b[3mULabel.name\u001b[0m\n",
      "\n",
      "\u001b[94m•\u001b[0m validating categoricals in table 'table'...\n",
      "\u001b[92m✓\u001b[0m \"var_index\" is validated against \u001b[3mGene.ensembl_gene_id\u001b[0m\n",
      "\n",
      "\u001b[34mINFO    \u001b[0m The SpatialData object is not self-contained \u001b[1m(\u001b[0mi.e. it contains some elements that are Dask-backed from    \n",
      "         locations outside \u001b[35m/home/icb/lea.zimmermann/.cache/lamindb/\u001b[0m\u001b[95m83643060.zarr\u001b[0m\u001b[1m)\u001b[0m. Please see the documentation of \n",
      "         `\u001b[1;35mis_self_contained\u001b[0m\u001b[1m(\u001b[0m\u001b[1m)\u001b[0m` to understand the implications of working with SpatialData objects that are not     \n",
      "         self-contained.                                                                                           \n",
      "\u001b[34mINFO    \u001b[0m The Zarr backing store has been changed from                                                              \n",
      "         \u001b[35m/lustre/groups/ml01/projects/2024_spatialdata_db/data/10f2z__10X__Visium__Human__prostate__20211008__v1.3.\u001b[0m\n",
      "         \u001b[35m0/\u001b[0m\u001b[95m10f2z__10X__Visium__Human__prostate__20211008__v1.3.0_attrs.zarr\u001b[0m the new file path:                     \n",
      "         \u001b[35m/home/icb/lea.zimmermann/.cache/lamindb/\u001b[0m\u001b[95m83643060.zarr\u001b[0m                                                     \n",
      "... uploading 83643060.zarr: 100.0%\n",
      "\u001b[93m!\u001b[0m    \u001b[1;93m5 unique terms\u001b[0m (100.00%) are not validated for \u001b[3mname\u001b[0m: \u001b[1;93m'in_tissue', 'array_row', 'array_col', 'spot_id', 'region'\u001b[0m\n",
      "\u001b[93m!\u001b[0m skip linking features to artifact in slot 'obs'\n",
      "\u001b[92m→\u001b[0m go to https://lamin.ai/scverse/spatialdata-db/artifact/8mjX2vs8KhTS3Y4c0000\n"
     ]
    },
    {
     "data": {
      "text/plain": [
       "Artifact(uid='8mjX2vs8KhTS3Y4c0000', is_latest=True, description='10X, Visium, Human, prostate cancer, prostate, 2021', suffix='.zarr', size=60838635, hash='TNg5OjUQowqBR_B0komdBQ', n_objects=326, _hash_type='md5-d', _accessor='spatialdata', visibility=1, _key_is_virtual=True, storage_id=2, transform_id=56, run_id=197, created_by_id=8, created_at=2024-12-16 11:05:27 UTC)"
      ]
     },
     "execution_count": 76,
     "metadata": {},
     "output_type": "execute_result"
    }
   ],
   "source": [
    "sdc.validate()\n",
    "description = '10X, '+ sdata.attrs['sample']['assay']+ ', '+ sdata.attrs['sample']['organism']+ ', '+sdata.attrs['sample']['disease']+', '+ sdata.attrs['sample']['tissue']+ ', '+ sdata.attrs['sample']['date'][:4]\n",
    "sdc.save_artifact(description=description)"
   ]
  },
  {
   "cell_type": "code",
   "execution_count": 7,
   "metadata": {},
   "outputs": [
    {
     "name": "stdout",
     "output_type": "stream",
     "text": [
      "\u001b[94m•\u001b[0m validating categoricals of 'sample' metadata...\n",
      "\u001b[94m•\u001b[0m mapping \"assay\" on \u001b[3mExperimentalFactor.name\u001b[0m\n",
      "\u001b[93m!\u001b[0m   \u001b[1;91m1 term\u001b[0m is not validated: \u001b[1;91m'Visium'\u001b[0m\n",
      "    \u001b[1;93m1 synonym\u001b[0m found: \u001b[1;93m\"Visium\" → \"Visium Spatial Gene Expression\"\u001b[0m\n",
      "    → curate synonyms via \u001b[1;96m.standardize(\"assay\")\u001b[0m\n",
      "\u001b[92m✓\u001b[0m \"chemistry_version\" is validated against \u001b[3mULabel.name\u001b[0m\n",
      "\u001b[94m•\u001b[0m mapping \"organism\" on \u001b[3mOrganism.name\u001b[0m\n",
      "\u001b[93m!\u001b[0m   \u001b[1;91m1 term\u001b[0m is not validated: \u001b[1;91m'Mouse'\u001b[0m\n",
      "    \u001b[1;93m1 synonym\u001b[0m found: \u001b[1;93m\"Mouse\" → \"mouse\"\u001b[0m\n",
      "    → curate synonyms via \u001b[1;96m.standardize(\"organism\")\u001b[0m\n",
      "\u001b[92m✓\u001b[0m \"tissue\" is validated against \u001b[3mTissue.name\u001b[0m\n",
      "\u001b[92m✓\u001b[0m \"disease\" is validated against \u001b[3mDisease.name\u001b[0m\n",
      "\u001b[92m✓\u001b[0m \"license\" is validated against \u001b[3mULabel.name\u001b[0m\n",
      "\u001b[92m✓\u001b[0m \"preproc_version\" is validated against \u001b[3mULabel.name\u001b[0m\n",
      "\n",
      "\u001b[94m•\u001b[0m validating categoricals in table 'table'...\n",
      "\u001b[94m•\u001b[0m mapping \"var_index\" on \u001b[3mGene.ensembl_gene_id\u001b[0m\n",
      "\u001b[93m!\u001b[0m   \u001b[1;91m181 terms\u001b[0m are not validated: \u001b[1;91m'ENSMUSG00000022591', 'ENSMUSG00000094127', 'ENSMUSG00000066936', 'ENSMUSG00000116275', 'ENSMUSG00000102049', 'ENSMUSG00000104367', 'ENSMUSG00000091312', 'ENSMUSG00000087062', 'ENSMUSG00000079353', 'ENSMUSG00000096240', 'ENSMUSG00000079286', 'ENSMUSG00000085431', 'ENSMUSG00000075015', 'ENSMUSG00000075014', 'ENSMUSG00000075006', 'ENSMUSG00000079175', 'ENSMUSG00000079171', 'ENSMUSG00000079170', 'ENSMUSG00000079169', 'ENSMUSG00000074876', ...\u001b[0m\n",
      "    → fix typos, remove non-existent values, or save terms via \u001b[1;96m.add_new_from_var_index()\u001b[0m\n",
      "\n"
     ]
    },
    {
     "data": {
      "text/plain": [
       "False"
      ]
     },
     "execution_count": 7,
     "metadata": {},
     "output_type": "execute_result"
    }
   ],
   "source": [
    "sdc, sdata = get_curator('10zvc')\n",
    "sdc.validate()"
   ]
  },
  {
   "cell_type": "code",
   "execution_count": 14,
   "metadata": {},
   "outputs": [
    {
     "name": "stdout",
     "output_type": "stream",
     "text": [
      "\u001b[92m✓\u001b[0m standardized 1 synonym in \"assay\": \u001b[1;92m\"Visium\" → \"Visium Spatial Gene Expression\"\u001b[0m\n",
      "\u001b[92m✓\u001b[0m standardized 1 synonym in \"organism\": \u001b[1;92m\"Mouse\" → \"mouse\"\u001b[0m\n"
     ]
    }
   ],
   "source": [
    "sdc.standardize(\"assay\", accessor='sample')\n",
    "sdc.standardize(\"organism\", accessor='sample')\n",
    "# sdc.add_new_from_var_index(table='table')"
   ]
  },
  {
   "cell_type": "code",
   "execution_count": 15,
   "metadata": {},
   "outputs": [
    {
     "name": "stdout",
     "output_type": "stream",
     "text": [
      "\u001b[94m•\u001b[0m validating categoricals of 'sample' metadata...\n",
      "\u001b[92m✓\u001b[0m \"assay\" is validated against \u001b[3mExperimentalFactor.name\u001b[0m\n",
      "\u001b[92m✓\u001b[0m \"chemistry_version\" is validated against \u001b[3mULabel.name\u001b[0m\n",
      "\u001b[92m✓\u001b[0m \"organism\" is validated against \u001b[3mOrganism.name\u001b[0m\n",
      "\u001b[92m✓\u001b[0m \"tissue\" is validated against \u001b[3mTissue.name\u001b[0m\n",
      "\u001b[92m✓\u001b[0m \"disease\" is validated against \u001b[3mDisease.name\u001b[0m\n",
      "\u001b[92m✓\u001b[0m \"license\" is validated against \u001b[3mULabel.name\u001b[0m\n",
      "\u001b[92m✓\u001b[0m \"preproc_version\" is validated against \u001b[3mULabel.name\u001b[0m\n",
      "\n",
      "\u001b[94m•\u001b[0m validating categoricals in table 'table'...\n",
      "\u001b[94m•\u001b[0m mapping \"var_index\" on \u001b[3mGene.ensembl_gene_id\u001b[0m\n",
      "\u001b[93m!\u001b[0m   \u001b[1;91m181 terms\u001b[0m are not validated: \u001b[1;91m'ENSMUSG00000022591', 'ENSMUSG00000094127', 'ENSMUSG00000066936', 'ENSMUSG00000116275', 'ENSMUSG00000102049', 'ENSMUSG00000104367', 'ENSMUSG00000091312', 'ENSMUSG00000087062', 'ENSMUSG00000079353', 'ENSMUSG00000096240', 'ENSMUSG00000079286', 'ENSMUSG00000085431', 'ENSMUSG00000075015', 'ENSMUSG00000075014', 'ENSMUSG00000075006', 'ENSMUSG00000079175', 'ENSMUSG00000079171', 'ENSMUSG00000079170', 'ENSMUSG00000079169', 'ENSMUSG00000074876', ...\u001b[0m\n",
      "    → fix typos, remove non-existent values, or save terms via \u001b[1;96m.add_new_from_var_index()\u001b[0m\n",
      "\n"
     ]
    },
    {
     "data": {
      "text/plain": [
       "False"
      ]
     },
     "execution_count": 15,
     "metadata": {},
     "output_type": "execute_result"
    }
   ],
   "source": [
    "sdc.validate()"
   ]
  },
  {
   "cell_type": "code",
   "execution_count": 16,
   "metadata": {},
   "outputs": [
    {
     "name": "stdout",
     "output_type": "stream",
     "text": [
      "\u001b[94m•\u001b[0m validating categoricals of 'sample' metadata...\n",
      "\u001b[92m✓\u001b[0m \"assay\" is validated against \u001b[3mExperimentalFactor.name\u001b[0m\n",
      "\u001b[92m✓\u001b[0m \"chemistry_version\" is validated against \u001b[3mULabel.name\u001b[0m\n",
      "\u001b[92m✓\u001b[0m \"organism\" is validated against \u001b[3mOrganism.name\u001b[0m\n",
      "\u001b[92m✓\u001b[0m \"tissue\" is validated against \u001b[3mTissue.name\u001b[0m\n",
      "\u001b[92m✓\u001b[0m \"disease\" is validated against \u001b[3mDisease.name\u001b[0m\n",
      "\u001b[92m✓\u001b[0m \"license\" is validated against \u001b[3mULabel.name\u001b[0m\n",
      "\u001b[92m✓\u001b[0m \"preproc_version\" is validated against \u001b[3mULabel.name\u001b[0m\n",
      "\n",
      "\u001b[94m•\u001b[0m validating categoricals in table 'table'...\n",
      "\u001b[94m•\u001b[0m mapping \"var_index\" on \u001b[3mGene.ensembl_gene_id\u001b[0m\n",
      "\u001b[93m!\u001b[0m   \u001b[1;91m181 terms\u001b[0m are not validated: \u001b[1;91m'ENSMUSG00000022591', 'ENSMUSG00000094127', 'ENSMUSG00000066936', 'ENSMUSG00000116275', 'ENSMUSG00000102049', 'ENSMUSG00000104367', 'ENSMUSG00000091312', 'ENSMUSG00000087062', 'ENSMUSG00000079353', 'ENSMUSG00000096240', 'ENSMUSG00000079286', 'ENSMUSG00000085431', 'ENSMUSG00000075015', 'ENSMUSG00000075014', 'ENSMUSG00000075006', 'ENSMUSG00000079175', 'ENSMUSG00000079171', 'ENSMUSG00000079170', 'ENSMUSG00000079169', 'ENSMUSG00000074876', ...\u001b[0m\n",
      "    → fix typos, remove non-existent values, or save terms via \u001b[1;96m.add_new_from_var_index()\u001b[0m\n",
      "\n"
     ]
    },
    {
     "ename": "ValidationError",
     "evalue": "Dataset does not validate. Please curate.",
     "output_type": "error",
     "traceback": [
      "An exception has occurred, use %tb to see the full traceback.\n",
      "\u001b[0;31mValidationError\u001b[0m\u001b[0;31m:\u001b[0m Dataset does not validate. Please curate.\n"
     ]
    }
   ],
   "source": [
    "description = '10X, '+ sdata.attrs['sample']['assay']+ ', '+ sdata.attrs['sample']['organism']+ ', '+sdata.attrs['sample']['disease']+', '+ sdata.attrs['sample']['tissue']+ ', '+ sdata.attrs['sample']['date'][:4]\n",
    "sdc.save_artifact(description=description)"
   ]
  },
  {
   "cell_type": "code",
   "execution_count": null,
   "metadata": {},
   "outputs": [],
   "source": [
    "sdc.validate()\n",
    "description = '10X, '+ sdata.attrs['sample']['assay']+ ', '+ sdata.attrs['sample']['organism']+ ', '+sdata.attrs['sample']['disease']+', '+ sdata.attrs['sample']['tissue']+ ', '+ sdata.attrs['sample']['date'][:4]\n",
    "sdc.save_artifact(description=description)"
   ]
  },
  {
   "cell_type": "code",
   "execution_count": null,
   "metadata": {},
   "outputs": [
    {
     "name": "stdout",
     "output_type": "stream",
     "text": [
      "\u001b[94m•\u001b[0m validating categoricals of 'sample' metadata...\n",
      "\u001b[94m•\u001b[0m mapping \"assay\" on \u001b[3mExperimentalFactor.name\u001b[0m\n",
      "\u001b[93m!\u001b[0m   \u001b[1;91m1 term\u001b[0m is not validated: \u001b[1;91m'Visium'\u001b[0m\n",
      "    \u001b[1;93m1 synonym\u001b[0m found: \u001b[1;93m\"Visium\" → \"Visium Spatial Gene Expression\"\u001b[0m\n",
      "    → curate synonyms via \u001b[1;96m.standardize(\"assay\")\u001b[0m\n",
      "\u001b[92m✓\u001b[0m \"chemistry_version\" is validated against \u001b[3mULabel.name\u001b[0m\n",
      "\u001b[94m•\u001b[0m mapping \"organism\" on \u001b[3mOrganism.name\u001b[0m\n",
      "\u001b[93m!\u001b[0m   \u001b[1;91m1 term\u001b[0m is not validated: \u001b[1;91m'Mouse'\u001b[0m\n",
      "    \u001b[1;93m1 synonym\u001b[0m found: \u001b[1;93m\"Mouse\" → \"mouse\"\u001b[0m\n",
      "    → curate synonyms via \u001b[1;96m.standardize(\"organism\")\u001b[0m\n",
      "\u001b[92m✓\u001b[0m \"tissue\" is validated against \u001b[3mTissue.name\u001b[0m\n",
      "\u001b[94m•\u001b[0m mapping \"disease\" on \u001b[3mDisease.name\u001b[0m\n",
      "\u001b[93m!\u001b[0m   \u001b[1;91m1 term\u001b[0m is not validated: \u001b[1;91m'unknown'\u001b[0m\n",
      "    → fix typos, remove non-existent values, or save terms via \u001b[1;96m.add_new_from(\"disease\")\u001b[0m\n",
      "\u001b[92m✓\u001b[0m \"license\" is validated against \u001b[3mULabel.name\u001b[0m\n",
      "\u001b[92m✓\u001b[0m \"preproc_version\" is validated against \u001b[3mULabel.name\u001b[0m\n",
      "\n",
      "\u001b[94m•\u001b[0m validating categoricals in table 'table'...\n",
      "\u001b[94m•\u001b[0m mapping \"var_index\" on \u001b[3mGene.ensembl_gene_id\u001b[0m\n",
      "\u001b[93m!\u001b[0m   \u001b[1;91m181 terms\u001b[0m are not validated: \u001b[1;91m'ENSMUSG00000022591', 'ENSMUSG00000094127', 'ENSMUSG00000066936', 'ENSMUSG00000116275', 'ENSMUSG00000102049', 'ENSMUSG00000104367', 'ENSMUSG00000091312', 'ENSMUSG00000087062', 'ENSMUSG00000079353', 'ENSMUSG00000096240', 'ENSMUSG00000079286', 'ENSMUSG00000085431', 'ENSMUSG00000075015', 'ENSMUSG00000075014', 'ENSMUSG00000075006', 'ENSMUSG00000079175', 'ENSMUSG00000079171', 'ENSMUSG00000079170', 'ENSMUSG00000079169', 'ENSMUSG00000074876', ...\u001b[0m\n",
      "    → fix typos, remove non-existent values, or save terms via \u001b[1;96m.add_new_from_var_index()\u001b[0m\n",
      "\n"
     ]
    },
    {
     "data": {
      "text/plain": [
       "False"
      ]
     },
     "execution_count": 80,
     "metadata": {},
     "output_type": "execute_result"
    }
   ],
   "source": [
    "sdc, sdata = get_curator('10fn9')\n",
    "sdc.validate()"
   ]
  },
  {
   "cell_type": "code",
   "execution_count": null,
   "metadata": {},
   "outputs": [
    {
     "name": "stdout",
     "output_type": "stream",
     "text": [
      "\u001b[92m✓\u001b[0m standardized 1 synonym in \"assay\": \u001b[1;92m\"Visium\" → \"Visium Spatial Gene Expression\"\u001b[0m\n",
      "\u001b[92m✓\u001b[0m standardized 1 synonym in \"organism\": \u001b[1;92m\"Mouse\" → \"mouse\"\u001b[0m\n"
     ]
    },
    {
     "ename": "IntegrityError",
     "evalue": "duplicate key value violates unique constraint \"lnschema_bionty_gene_uid_key\"\nDETAIL:  Key (uid)=(6KCoBil6asUg) already exists.\n",
     "output_type": "error",
     "traceback": [
      "\u001b[0;31m---------------------------------------------------------------------------\u001b[0m",
      "\u001b[0;31mUniqueViolation\u001b[0m                           Traceback (most recent call last)",
      "File \u001b[0;32m/lustre/groups/ml01/workspace/lea.zimmermann/software/miniconda3/envs/sddb2/lib/python3.10/site-packages/django/db/backends/utils.py:105\u001b[0m, in \u001b[0;36mCursorWrapper._execute\u001b[0;34m(self, sql, params, *ignored_wrapper_args)\u001b[0m\n\u001b[1;32m    104\u001b[0m \u001b[39melse\u001b[39;00m:\n\u001b[0;32m--> 105\u001b[0m     \u001b[39mreturn\u001b[39;00m \u001b[39mself\u001b[39;49m\u001b[39m.\u001b[39;49mcursor\u001b[39m.\u001b[39;49mexecute(sql, params)\n",
      "\u001b[0;31mUniqueViolation\u001b[0m: duplicate key value violates unique constraint \"lnschema_bionty_gene_uid_key\"\nDETAIL:  Key (uid)=(6KCoBil6asUg) already exists.\n",
      "\nThe above exception was the direct cause of the following exception:\n",
      "\u001b[0;31mIntegrityError\u001b[0m                            Traceback (most recent call last)",
      "\u001b[1;32m/home/icb/lea.zimmermann/projects/spatialdata-db/spatialdata-db/scripts/spatial_data_curator.ipynb Cell 37\u001b[0m line \u001b[0;36m3\n\u001b[1;32m      <a href='vscode-notebook-cell://localhost:8081/home/icb/lea.zimmermann/projects/spatialdata-db/spatialdata-db/scripts/spatial_data_curator.ipynb#Y110sdnNjb2RlLXJlbW90ZQ%3D%3D?line=0'>1</a>\u001b[0m sdc\u001b[39m.\u001b[39mstandardize(\u001b[39m\"\u001b[39m\u001b[39massay\u001b[39m\u001b[39m\"\u001b[39m, accessor\u001b[39m=\u001b[39m\u001b[39m'\u001b[39m\u001b[39msample\u001b[39m\u001b[39m'\u001b[39m)\n\u001b[1;32m      <a href='vscode-notebook-cell://localhost:8081/home/icb/lea.zimmermann/projects/spatialdata-db/spatialdata-db/scripts/spatial_data_curator.ipynb#Y110sdnNjb2RlLXJlbW90ZQ%3D%3D?line=1'>2</a>\u001b[0m sdc\u001b[39m.\u001b[39mstandardize(\u001b[39m\"\u001b[39m\u001b[39morganism\u001b[39m\u001b[39m\"\u001b[39m, accessor\u001b[39m=\u001b[39m\u001b[39m'\u001b[39m\u001b[39msample\u001b[39m\u001b[39m'\u001b[39m)\n\u001b[0;32m----> <a href='vscode-notebook-cell://localhost:8081/home/icb/lea.zimmermann/projects/spatialdata-db/spatialdata-db/scripts/spatial_data_curator.ipynb#Y110sdnNjb2RlLXJlbW90ZQ%3D%3D?line=2'>3</a>\u001b[0m sdc\u001b[39m.\u001b[39;49madd_new_from_var_index(table\u001b[39m=\u001b[39;49m\u001b[39m'\u001b[39;49m\u001b[39mtable\u001b[39;49m\u001b[39m'\u001b[39;49m)\n",
      "File \u001b[0;32m/lustre/groups/ml01/workspace/lea.zimmermann/software/miniconda3/envs/sddb2/lib/python3.10/site-packages/lamin_spatial/spatialdata_curator.py:224\u001b[0m, in \u001b[0;36mSpatialDataCurator.add_new_from_var_index\u001b[0;34m(self, table, organism, **kwargs)\u001b[0m\n\u001b[1;32m    222\u001b[0m     \u001b[39mraise\u001b[39;00m ValidationError(\u001b[39m\"\u001b[39m\u001b[39mRun .validate() first.\u001b[39m\u001b[39m\"\u001b[39m)\n\u001b[1;32m    223\u001b[0m \u001b[39mself\u001b[39m\u001b[39m.\u001b[39m_kwargs\u001b[39m.\u001b[39mupdate({\u001b[39m\"\u001b[39m\u001b[39morganism\u001b[39m\u001b[39m\"\u001b[39m: organism} \u001b[39mif\u001b[39;00m organism \u001b[39melse\u001b[39;00m {})\n\u001b[0;32m--> 224\u001b[0m \u001b[39mself\u001b[39;49m\u001b[39m.\u001b[39;49m_table_adata_curators[table]\u001b[39m.\u001b[39;49madd_new_from_var_index(\n\u001b[1;32m    225\u001b[0m     \u001b[39m*\u001b[39;49m\u001b[39m*\u001b[39;49m\u001b[39mself\u001b[39;49m\u001b[39m.\u001b[39;49m_kwargs, \u001b[39m*\u001b[39;49m\u001b[39m*\u001b[39;49mkwargs\n\u001b[1;32m    226\u001b[0m )\n\u001b[1;32m    227\u001b[0m \u001b[39mself\u001b[39m\u001b[39m.\u001b[39m_non_validated[table]\u001b[39m.\u001b[39mpop(\u001b[39m\"\u001b[39m\u001b[39mvar_index\u001b[39m\u001b[39m\"\u001b[39m)\n\u001b[1;32m    229\u001b[0m \u001b[39mif\u001b[39;00m \u001b[39mlen\u001b[39m(\u001b[39mself\u001b[39m\u001b[39m.\u001b[39mnon_validated[table]\u001b[39m.\u001b[39mvalues()) \u001b[39m==\u001b[39m \u001b[39m0\u001b[39m:\n",
      "File \u001b[0;32m/lustre/groups/ml01/workspace/lea.zimmermann/software/miniconda3/envs/sddb2/lib/python3.10/site-packages/lamindb/_curate.py:651\u001b[0m, in \u001b[0;36mAnnDataCurator.add_new_from_var_index\u001b[0;34m(self, organism, **kwargs)\u001b[0m\n\u001b[1;32m    644\u001b[0m \u001b[39m\u001b[39m\u001b[39m\"\"\"Update variable records.\u001b[39;00m\n\u001b[1;32m    645\u001b[0m \n\u001b[1;32m    646\u001b[0m \u001b[39mArgs:\u001b[39;00m\n\u001b[1;32m    647\u001b[0m \u001b[39m    organism: The organism name.\u001b[39;00m\n\u001b[1;32m    648\u001b[0m \u001b[39m    **kwargs: Additional keyword arguments to pass to create new records.\u001b[39;00m\n\u001b[1;32m    649\u001b[0m \u001b[39m\"\"\"\u001b[39;00m\n\u001b[1;32m    650\u001b[0m \u001b[39mself\u001b[39m\u001b[39m.\u001b[39m_kwargs\u001b[39m.\u001b[39mupdate({\u001b[39m\"\u001b[39m\u001b[39morganism\u001b[39m\u001b[39m\"\u001b[39m: organism} \u001b[39mif\u001b[39;00m organism \u001b[39melse\u001b[39;00m {})\n\u001b[0;32m--> 651\u001b[0m \u001b[39mself\u001b[39;49m\u001b[39m.\u001b[39;49m_save_from_var_index(validated_only\u001b[39m=\u001b[39;49m\u001b[39mFalse\u001b[39;49;00m, \u001b[39m*\u001b[39;49m\u001b[39m*\u001b[39;49m\u001b[39mself\u001b[39;49m\u001b[39m.\u001b[39;49m_kwargs, \u001b[39m*\u001b[39;49m\u001b[39m*\u001b[39;49mkwargs)\n",
      "File \u001b[0;32m/lustre/groups/ml01/workspace/lea.zimmermann/software/miniconda3/envs/sddb2/lib/python3.10/site-packages/lamindb/_curate.py:626\u001b[0m, in \u001b[0;36mAnnDataCurator._save_from_var_index\u001b[0;34m(self, validated_only, organism)\u001b[0m\n\u001b[1;32m    622\u001b[0m \u001b[39mdef\u001b[39;00m \u001b[39m_save_from_var_index\u001b[39m(\n\u001b[1;32m    623\u001b[0m     \u001b[39mself\u001b[39m, validated_only: \u001b[39mbool\u001b[39m \u001b[39m=\u001b[39m \u001b[39mTrue\u001b[39;00m, organism: \u001b[39mstr\u001b[39m \u001b[39m|\u001b[39m \u001b[39mNone\u001b[39;00m \u001b[39m=\u001b[39m \u001b[39mNone\u001b[39;00m\n\u001b[1;32m    624\u001b[0m ):\n\u001b[1;32m    625\u001b[0m \u001b[39m    \u001b[39m\u001b[39m\"\"\"Save variable records.\"\"\"\u001b[39;00m\n\u001b[0;32m--> 626\u001b[0m     update_registry(\n\u001b[1;32m    627\u001b[0m         values\u001b[39m=\u001b[39;49m\u001b[39mlist\u001b[39;49m(\u001b[39mself\u001b[39;49m\u001b[39m.\u001b[39;49m_adata\u001b[39m.\u001b[39;49mvar\u001b[39m.\u001b[39;49mindex),\n\u001b[1;32m    628\u001b[0m         field\u001b[39m=\u001b[39;49m\u001b[39mself\u001b[39;49m\u001b[39m.\u001b[39;49mvar_index,\n\u001b[1;32m    629\u001b[0m         key\u001b[39m=\u001b[39;49m\u001b[39m\"\u001b[39;49m\u001b[39mvar_index\u001b[39;49m\u001b[39m\"\u001b[39;49m,\n\u001b[1;32m    630\u001b[0m         using_key\u001b[39m=\u001b[39;49m\u001b[39mself\u001b[39;49m\u001b[39m.\u001b[39;49m_using_key,\n\u001b[1;32m    631\u001b[0m         validated_only\u001b[39m=\u001b[39;49mvalidated_only,\n\u001b[1;32m    632\u001b[0m         organism\u001b[39m=\u001b[39;49morganism,\n\u001b[1;32m    633\u001b[0m         source\u001b[39m=\u001b[39;49m\u001b[39mself\u001b[39;49m\u001b[39m.\u001b[39;49m_sources\u001b[39m.\u001b[39;49mget(\u001b[39m\"\u001b[39;49m\u001b[39mvar_index\u001b[39;49m\u001b[39m\"\u001b[39;49m),\n\u001b[1;32m    634\u001b[0m         exclude\u001b[39m=\u001b[39;49m\u001b[39mself\u001b[39;49m\u001b[39m.\u001b[39;49m_exclude\u001b[39m.\u001b[39;49mget(\u001b[39m\"\u001b[39;49m\u001b[39mvar_index\u001b[39;49m\u001b[39m\"\u001b[39;49m),\n\u001b[1;32m    635\u001b[0m     )\n",
      "File \u001b[0;32m/lustre/groups/ml01/workspace/lea.zimmermann/software/miniconda3/envs/sddb2/lib/python3.10/site-packages/lamindb/_curate.py:2230\u001b[0m, in \u001b[0;36mupdate_registry\u001b[0;34m(values, field, key, using_key, validated_only, df, organism, dtype, source, exclude, **kwargs)\u001b[0m\n\u001b[1;32m   2222\u001b[0m                 init_kwargs[\u001b[39m\"\u001b[39m\u001b[39mdtype\u001b[39m\u001b[39m\"\u001b[39m] \u001b[39m=\u001b[39m \u001b[39m\"\u001b[39m\u001b[39mcat\u001b[39m\u001b[39m\"\u001b[39m \u001b[39mif\u001b[39;00m dtype \u001b[39mis\u001b[39;00m \u001b[39mNone\u001b[39;00m \u001b[39melse\u001b[39;00m dtype\n\u001b[1;32m   2223\u001b[0m             non_validated_records\u001b[39m.\u001b[39mappend(\n\u001b[1;32m   2224\u001b[0m                 registry(\n\u001b[1;32m   2225\u001b[0m                     \u001b[39m*\u001b[39m\u001b[39m*\u001b[39minit_kwargs,\n\u001b[0;32m   (...)\u001b[0m\n\u001b[1;32m   2228\u001b[0m                 )\n\u001b[1;32m   2229\u001b[0m             )\n\u001b[0;32m-> 2230\u001b[0m     ln_save(non_validated_records)\n\u001b[1;32m   2232\u001b[0m \u001b[39m# save parent labels for ulabels, for example a parent label \"project\" for label \"project001\"\u001b[39;00m\n\u001b[1;32m   2233\u001b[0m \u001b[39mif\u001b[39;00m registry \u001b[39m==\u001b[39m ULabel \u001b[39mand\u001b[39;00m field\u001b[39m.\u001b[39mfield\u001b[39m.\u001b[39mname \u001b[39m==\u001b[39m \u001b[39m\"\u001b[39m\u001b[39mname\u001b[39m\u001b[39m\"\u001b[39m:\n",
      "File \u001b[0;32m/lustre/groups/ml01/workspace/lea.zimmermann/software/miniconda3/envs/sddb2/lib/python3.10/site-packages/lamindb/_save.py:83\u001b[0m, in \u001b[0;36msave\u001b[0;34m(records, ignore_conflicts)\u001b[0m\n\u001b[1;32m     79\u001b[0m \u001b[39mif\u001b[39;00m non_artifacts:\n\u001b[1;32m     80\u001b[0m     non_artifacts_old, non_artifacts_new \u001b[39m=\u001b[39m partition(\n\u001b[1;32m     81\u001b[0m         \u001b[39mlambda\u001b[39;00m r: r\u001b[39m.\u001b[39m_state\u001b[39m.\u001b[39madding \u001b[39mor\u001b[39;00m r\u001b[39m.\u001b[39mpk \u001b[39mis\u001b[39;00m \u001b[39mNone\u001b[39;00m, non_artifacts\n\u001b[1;32m     82\u001b[0m     )\n\u001b[0;32m---> 83\u001b[0m     bulk_create(non_artifacts_new, ignore_conflicts\u001b[39m=\u001b[39;49mignore_conflicts)\n\u001b[1;32m     84\u001b[0m     \u001b[39mif\u001b[39;00m non_artifacts_old:\n\u001b[1;32m     85\u001b[0m         bulk_update(non_artifacts_old)\n",
      "File \u001b[0;32m/lustre/groups/ml01/workspace/lea.zimmermann/software/miniconda3/envs/sddb2/lib/python3.10/site-packages/lamindb/_save.py:114\u001b[0m, in \u001b[0;36mbulk_create\u001b[0;34m(records, ignore_conflicts)\u001b[0m\n\u001b[1;32m    112\u001b[0m     records_by_orm[record\u001b[39m.\u001b[39m\u001b[39m__class__\u001b[39m]\u001b[39m.\u001b[39mappend(record)\n\u001b[1;32m    113\u001b[0m \u001b[39mfor\u001b[39;00m registry, records \u001b[39min\u001b[39;00m records_by_orm\u001b[39m.\u001b[39mitems():\n\u001b[0;32m--> 114\u001b[0m     registry\u001b[39m.\u001b[39;49mobjects\u001b[39m.\u001b[39;49mbulk_create(records, ignore_conflicts\u001b[39m=\u001b[39;49mignore_conflicts)\n",
      "File \u001b[0;32m/lustre/groups/ml01/workspace/lea.zimmermann/software/miniconda3/envs/sddb2/lib/python3.10/site-packages/django/db/models/manager.py:87\u001b[0m, in \u001b[0;36mBaseManager._get_queryset_methods.<locals>.create_method.<locals>.manager_method\u001b[0;34m(self, *args, **kwargs)\u001b[0m\n\u001b[1;32m     85\u001b[0m \u001b[39m@wraps\u001b[39m(method)\n\u001b[1;32m     86\u001b[0m \u001b[39mdef\u001b[39;00m \u001b[39mmanager_method\u001b[39m(\u001b[39mself\u001b[39m, \u001b[39m*\u001b[39margs, \u001b[39m*\u001b[39m\u001b[39m*\u001b[39mkwargs):\n\u001b[0;32m---> 87\u001b[0m     \u001b[39mreturn\u001b[39;00m \u001b[39mgetattr\u001b[39;49m(\u001b[39mself\u001b[39;49m\u001b[39m.\u001b[39;49mget_queryset(), name)(\u001b[39m*\u001b[39;49margs, \u001b[39m*\u001b[39;49m\u001b[39m*\u001b[39;49mkwargs)\n",
      "File \u001b[0;32m/lustre/groups/ml01/workspace/lea.zimmermann/software/miniconda3/envs/sddb2/lib/python3.10/site-packages/django/db/models/query.py:835\u001b[0m, in \u001b[0;36mQuerySet.bulk_create\u001b[0;34m(self, objs, batch_size, ignore_conflicts, update_conflicts, update_fields, unique_fields)\u001b[0m\n\u001b[1;32m    833\u001b[0m \u001b[39mif\u001b[39;00m objs_without_pk:\n\u001b[1;32m    834\u001b[0m     fields \u001b[39m=\u001b[39m [f \u001b[39mfor\u001b[39;00m f \u001b[39min\u001b[39;00m fields \u001b[39mif\u001b[39;00m \u001b[39mnot\u001b[39;00m \u001b[39misinstance\u001b[39m(f, AutoField)]\n\u001b[0;32m--> 835\u001b[0m     returned_columns \u001b[39m=\u001b[39m \u001b[39mself\u001b[39;49m\u001b[39m.\u001b[39;49m_batched_insert(\n\u001b[1;32m    836\u001b[0m         objs_without_pk,\n\u001b[1;32m    837\u001b[0m         fields,\n\u001b[1;32m    838\u001b[0m         batch_size,\n\u001b[1;32m    839\u001b[0m         on_conflict\u001b[39m=\u001b[39;49mon_conflict,\n\u001b[1;32m    840\u001b[0m         update_fields\u001b[39m=\u001b[39;49mupdate_fields,\n\u001b[1;32m    841\u001b[0m         unique_fields\u001b[39m=\u001b[39;49munique_fields,\n\u001b[1;32m    842\u001b[0m     )\n\u001b[1;32m    843\u001b[0m     connection \u001b[39m=\u001b[39m connections[\u001b[39mself\u001b[39m\u001b[39m.\u001b[39mdb]\n\u001b[1;32m    844\u001b[0m     \u001b[39mif\u001b[39;00m (\n\u001b[1;32m    845\u001b[0m         connection\u001b[39m.\u001b[39mfeatures\u001b[39m.\u001b[39mcan_return_rows_from_bulk_insert\n\u001b[1;32m    846\u001b[0m         \u001b[39mand\u001b[39;00m on_conflict \u001b[39mis\u001b[39;00m \u001b[39mNone\u001b[39;00m\n\u001b[1;32m    847\u001b[0m     ):\n",
      "File \u001b[0;32m/lustre/groups/ml01/workspace/lea.zimmermann/software/miniconda3/envs/sddb2/lib/python3.10/site-packages/django/db/models/query.py:1875\u001b[0m, in \u001b[0;36mQuerySet._batched_insert\u001b[0;34m(self, objs, fields, batch_size, on_conflict, update_fields, unique_fields)\u001b[0m\n\u001b[1;32m   1870\u001b[0m \u001b[39mfor\u001b[39;00m item \u001b[39min\u001b[39;00m [objs[i : i \u001b[39m+\u001b[39m batch_size] \u001b[39mfor\u001b[39;00m i \u001b[39min\u001b[39;00m \u001b[39mrange\u001b[39m(\u001b[39m0\u001b[39m, \u001b[39mlen\u001b[39m(objs), batch_size)]:\n\u001b[1;32m   1871\u001b[0m     \u001b[39mif\u001b[39;00m bulk_return \u001b[39mand\u001b[39;00m (\n\u001b[1;32m   1872\u001b[0m         on_conflict \u001b[39mis\u001b[39;00m \u001b[39mNone\u001b[39;00m \u001b[39mor\u001b[39;00m on_conflict \u001b[39m==\u001b[39m OnConflict\u001b[39m.\u001b[39mUPDATE\n\u001b[1;32m   1873\u001b[0m     ):\n\u001b[1;32m   1874\u001b[0m         inserted_rows\u001b[39m.\u001b[39mextend(\n\u001b[0;32m-> 1875\u001b[0m             \u001b[39mself\u001b[39;49m\u001b[39m.\u001b[39;49m_insert(\n\u001b[1;32m   1876\u001b[0m                 item,\n\u001b[1;32m   1877\u001b[0m                 fields\u001b[39m=\u001b[39;49mfields,\n\u001b[1;32m   1878\u001b[0m                 using\u001b[39m=\u001b[39;49m\u001b[39mself\u001b[39;49m\u001b[39m.\u001b[39;49mdb,\n\u001b[1;32m   1879\u001b[0m                 on_conflict\u001b[39m=\u001b[39;49mon_conflict,\n\u001b[1;32m   1880\u001b[0m                 update_fields\u001b[39m=\u001b[39;49mupdate_fields,\n\u001b[1;32m   1881\u001b[0m                 unique_fields\u001b[39m=\u001b[39;49munique_fields,\n\u001b[1;32m   1882\u001b[0m                 returning_fields\u001b[39m=\u001b[39;49m\u001b[39mself\u001b[39;49m\u001b[39m.\u001b[39;49mmodel\u001b[39m.\u001b[39;49m_meta\u001b[39m.\u001b[39;49mdb_returning_fields,\n\u001b[1;32m   1883\u001b[0m             )\n\u001b[1;32m   1884\u001b[0m         )\n\u001b[1;32m   1885\u001b[0m     \u001b[39melse\u001b[39;00m:\n\u001b[1;32m   1886\u001b[0m         \u001b[39mself\u001b[39m\u001b[39m.\u001b[39m_insert(\n\u001b[1;32m   1887\u001b[0m             item,\n\u001b[1;32m   1888\u001b[0m             fields\u001b[39m=\u001b[39mfields,\n\u001b[0;32m   (...)\u001b[0m\n\u001b[1;32m   1892\u001b[0m             unique_fields\u001b[39m=\u001b[39munique_fields,\n\u001b[1;32m   1893\u001b[0m         )\n",
      "File \u001b[0;32m/lustre/groups/ml01/workspace/lea.zimmermann/software/miniconda3/envs/sddb2/lib/python3.10/site-packages/django/db/models/query.py:1847\u001b[0m, in \u001b[0;36mQuerySet._insert\u001b[0;34m(self, objs, fields, returning_fields, raw, using, on_conflict, update_fields, unique_fields)\u001b[0m\n\u001b[1;32m   1840\u001b[0m query \u001b[39m=\u001b[39m sql\u001b[39m.\u001b[39mInsertQuery(\n\u001b[1;32m   1841\u001b[0m     \u001b[39mself\u001b[39m\u001b[39m.\u001b[39mmodel,\n\u001b[1;32m   1842\u001b[0m     on_conflict\u001b[39m=\u001b[39mon_conflict,\n\u001b[1;32m   1843\u001b[0m     update_fields\u001b[39m=\u001b[39mupdate_fields,\n\u001b[1;32m   1844\u001b[0m     unique_fields\u001b[39m=\u001b[39munique_fields,\n\u001b[1;32m   1845\u001b[0m )\n\u001b[1;32m   1846\u001b[0m query\u001b[39m.\u001b[39minsert_values(fields, objs, raw\u001b[39m=\u001b[39mraw)\n\u001b[0;32m-> 1847\u001b[0m \u001b[39mreturn\u001b[39;00m query\u001b[39m.\u001b[39;49mget_compiler(using\u001b[39m=\u001b[39;49musing)\u001b[39m.\u001b[39;49mexecute_sql(returning_fields)\n",
      "File \u001b[0;32m/lustre/groups/ml01/workspace/lea.zimmermann/software/miniconda3/envs/sddb2/lib/python3.10/site-packages/django/db/models/sql/compiler.py:1836\u001b[0m, in \u001b[0;36mSQLInsertCompiler.execute_sql\u001b[0;34m(self, returning_fields)\u001b[0m\n\u001b[1;32m   1834\u001b[0m \u001b[39mwith\u001b[39;00m \u001b[39mself\u001b[39m\u001b[39m.\u001b[39mconnection\u001b[39m.\u001b[39mcursor() \u001b[39mas\u001b[39;00m cursor:\n\u001b[1;32m   1835\u001b[0m     \u001b[39mfor\u001b[39;00m sql, params \u001b[39min\u001b[39;00m \u001b[39mself\u001b[39m\u001b[39m.\u001b[39mas_sql():\n\u001b[0;32m-> 1836\u001b[0m         cursor\u001b[39m.\u001b[39;49mexecute(sql, params)\n\u001b[1;32m   1837\u001b[0m     \u001b[39mif\u001b[39;00m \u001b[39mnot\u001b[39;00m \u001b[39mself\u001b[39m\u001b[39m.\u001b[39mreturning_fields:\n\u001b[1;32m   1838\u001b[0m         \u001b[39mreturn\u001b[39;00m []\n",
      "File \u001b[0;32m/lustre/groups/ml01/workspace/lea.zimmermann/software/miniconda3/envs/sddb2/lib/python3.10/site-packages/django/db/backends/utils.py:79\u001b[0m, in \u001b[0;36mCursorWrapper.execute\u001b[0;34m(self, sql, params)\u001b[0m\n\u001b[1;32m     78\u001b[0m \u001b[39mdef\u001b[39;00m \u001b[39mexecute\u001b[39m(\u001b[39mself\u001b[39m, sql, params\u001b[39m=\u001b[39m\u001b[39mNone\u001b[39;00m):\n\u001b[0;32m---> 79\u001b[0m     \u001b[39mreturn\u001b[39;00m \u001b[39mself\u001b[39;49m\u001b[39m.\u001b[39;49m_execute_with_wrappers(\n\u001b[1;32m     80\u001b[0m         sql, params, many\u001b[39m=\u001b[39;49m\u001b[39mFalse\u001b[39;49;00m, executor\u001b[39m=\u001b[39;49m\u001b[39mself\u001b[39;49m\u001b[39m.\u001b[39;49m_execute\n\u001b[1;32m     81\u001b[0m     )\n",
      "File \u001b[0;32m/lustre/groups/ml01/workspace/lea.zimmermann/software/miniconda3/envs/sddb2/lib/python3.10/site-packages/django/db/backends/utils.py:92\u001b[0m, in \u001b[0;36mCursorWrapper._execute_with_wrappers\u001b[0;34m(self, sql, params, many, executor)\u001b[0m\n\u001b[1;32m     90\u001b[0m \u001b[39mfor\u001b[39;00m wrapper \u001b[39min\u001b[39;00m \u001b[39mreversed\u001b[39m(\u001b[39mself\u001b[39m\u001b[39m.\u001b[39mdb\u001b[39m.\u001b[39mexecute_wrappers):\n\u001b[1;32m     91\u001b[0m     executor \u001b[39m=\u001b[39m functools\u001b[39m.\u001b[39mpartial(wrapper, executor)\n\u001b[0;32m---> 92\u001b[0m \u001b[39mreturn\u001b[39;00m executor(sql, params, many, context)\n",
      "File \u001b[0;32m/lustre/groups/ml01/workspace/lea.zimmermann/software/miniconda3/envs/sddb2/lib/python3.10/site-packages/django/db/backends/utils.py:100\u001b[0m, in \u001b[0;36mCursorWrapper._execute\u001b[0;34m(self, sql, params, *ignored_wrapper_args)\u001b[0m\n\u001b[1;32m     98\u001b[0m     warnings\u001b[39m.\u001b[39mwarn(\u001b[39mself\u001b[39m\u001b[39m.\u001b[39mAPPS_NOT_READY_WARNING_MSG, category\u001b[39m=\u001b[39m\u001b[39mRuntimeWarning\u001b[39;00m)\n\u001b[1;32m     99\u001b[0m \u001b[39mself\u001b[39m\u001b[39m.\u001b[39mdb\u001b[39m.\u001b[39mvalidate_no_broken_transaction()\n\u001b[0;32m--> 100\u001b[0m \u001b[39mwith\u001b[39;00m \u001b[39mself\u001b[39m\u001b[39m.\u001b[39mdb\u001b[39m.\u001b[39mwrap_database_errors:\n\u001b[1;32m    101\u001b[0m     \u001b[39mif\u001b[39;00m params \u001b[39mis\u001b[39;00m \u001b[39mNone\u001b[39;00m:\n\u001b[1;32m    102\u001b[0m         \u001b[39m# params default might be backend specific.\u001b[39;00m\n\u001b[1;32m    103\u001b[0m         \u001b[39mreturn\u001b[39;00m \u001b[39mself\u001b[39m\u001b[39m.\u001b[39mcursor\u001b[39m.\u001b[39mexecute(sql)\n",
      "File \u001b[0;32m/lustre/groups/ml01/workspace/lea.zimmermann/software/miniconda3/envs/sddb2/lib/python3.10/site-packages/django/db/utils.py:91\u001b[0m, in \u001b[0;36mDatabaseErrorWrapper.__exit__\u001b[0;34m(self, exc_type, exc_value, traceback)\u001b[0m\n\u001b[1;32m     89\u001b[0m \u001b[39mif\u001b[39;00m dj_exc_type \u001b[39mnot\u001b[39;00m \u001b[39min\u001b[39;00m (DataError, IntegrityError):\n\u001b[1;32m     90\u001b[0m     \u001b[39mself\u001b[39m\u001b[39m.\u001b[39mwrapper\u001b[39m.\u001b[39merrors_occurred \u001b[39m=\u001b[39m \u001b[39mTrue\u001b[39;00m\n\u001b[0;32m---> 91\u001b[0m \u001b[39mraise\u001b[39;00m dj_exc_value\u001b[39m.\u001b[39mwith_traceback(traceback) \u001b[39mfrom\u001b[39;00m \u001b[39mexc_value\u001b[39;00m\n",
      "File \u001b[0;32m/lustre/groups/ml01/workspace/lea.zimmermann/software/miniconda3/envs/sddb2/lib/python3.10/site-packages/django/db/backends/utils.py:105\u001b[0m, in \u001b[0;36mCursorWrapper._execute\u001b[0;34m(self, sql, params, *ignored_wrapper_args)\u001b[0m\n\u001b[1;32m    103\u001b[0m     \u001b[39mreturn\u001b[39;00m \u001b[39mself\u001b[39m\u001b[39m.\u001b[39mcursor\u001b[39m.\u001b[39mexecute(sql)\n\u001b[1;32m    104\u001b[0m \u001b[39melse\u001b[39;00m:\n\u001b[0;32m--> 105\u001b[0m     \u001b[39mreturn\u001b[39;00m \u001b[39mself\u001b[39;49m\u001b[39m.\u001b[39;49mcursor\u001b[39m.\u001b[39;49mexecute(sql, params)\n",
      "\u001b[0;31mIntegrityError\u001b[0m: duplicate key value violates unique constraint \"lnschema_bionty_gene_uid_key\"\nDETAIL:  Key (uid)=(6KCoBil6asUg) already exists.\n"
     ]
    }
   ],
   "source": [
    "sdc.standardize(\"assay\", accessor='sample')\n",
    "sdc.standardize(\"organism\", accessor='sample')\n",
    "sdc.add_new_from_var_index(table='table')"
   ]
  },
  {
   "cell_type": "code",
   "execution_count": null,
   "metadata": {},
   "outputs": [],
   "source": [
    "sdc.validate()\n",
    "description = '10X, '+ sdata.attrs['sample']['assay']+ ', '+ sdata.attrs['sample']['organism']+ ', '+sdata.attrs['sample']['disease']+', '+ sdata.attrs['sample']['tissue']+ ', '+ sdata.attrs['sample']['date'][:4]\n",
    "sdc.save_artifact(description=description)"
   ]
  },
  {
   "cell_type": "code",
   "execution_count": null,
   "metadata": {},
   "outputs": [
    {
     "name": "stdout",
     "output_type": "stream",
     "text": [
      "\u001b[94m•\u001b[0m validating categoricals of 'sample' metadata...\n",
      "\u001b[94m•\u001b[0m mapping \"assay\" on \u001b[3mExperimentalFactor.name\u001b[0m\n",
      "\u001b[93m!\u001b[0m   \u001b[1;91m1 term\u001b[0m is not validated: \u001b[1;91m'Visium'\u001b[0m\n",
      "    \u001b[1;93m1 synonym\u001b[0m found: \u001b[1;93m\"Visium\" → \"Visium Spatial Gene Expression\"\u001b[0m\n",
      "    → curate synonyms via \u001b[1;96m.standardize(\"assay\")\u001b[0m\n",
      "\u001b[92m✓\u001b[0m \"chemistry_version\" is validated against \u001b[3mULabel.name\u001b[0m\n",
      "\u001b[94m•\u001b[0m mapping \"organism\" on \u001b[3mOrganism.name\u001b[0m\n",
      "\u001b[93m!\u001b[0m   \u001b[1;91m1 term\u001b[0m is not validated: \u001b[1;91m'Mouse'\u001b[0m\n",
      "    \u001b[1;93m1 synonym\u001b[0m found: \u001b[1;93m\"Mouse\" → \"mouse\"\u001b[0m\n",
      "    → curate synonyms via \u001b[1;96m.standardize(\"organism\")\u001b[0m\n",
      "\u001b[92m✓\u001b[0m \"tissue\" is validated against \u001b[3mTissue.name\u001b[0m\n",
      "\u001b[94m•\u001b[0m mapping \"disease\" on \u001b[3mDisease.name\u001b[0m\n",
      "\u001b[93m!\u001b[0m   \u001b[1;91m1 term\u001b[0m is not validated: \u001b[1;91m'unknown'\u001b[0m\n",
      "    → fix typos, remove non-existent values, or save terms via \u001b[1;96m.add_new_from(\"disease\")\u001b[0m\n",
      "\u001b[92m✓\u001b[0m \"license\" is validated against \u001b[3mULabel.name\u001b[0m\n",
      "\u001b[92m✓\u001b[0m \"preproc_version\" is validated against \u001b[3mULabel.name\u001b[0m\n",
      "\n",
      "\u001b[94m•\u001b[0m validating categoricals in table 'table'...\n",
      "\u001b[94m•\u001b[0m mapping \"var_index\" on \u001b[3mGene.ensembl_gene_id\u001b[0m\n",
      "\u001b[93m!\u001b[0m   \u001b[1;91m181 terms\u001b[0m are not validated: \u001b[1;91m'ENSMUSG00000022591', 'ENSMUSG00000094127', 'ENSMUSG00000066936', 'ENSMUSG00000116275', 'ENSMUSG00000102049', 'ENSMUSG00000104367', 'ENSMUSG00000091312', 'ENSMUSG00000087062', 'ENSMUSG00000079353', 'ENSMUSG00000096240', 'ENSMUSG00000079286', 'ENSMUSG00000085431', 'ENSMUSG00000075015', 'ENSMUSG00000075014', 'ENSMUSG00000075006', 'ENSMUSG00000079175', 'ENSMUSG00000079171', 'ENSMUSG00000079170', 'ENSMUSG00000079169', 'ENSMUSG00000074876', ...\u001b[0m\n",
      "    → fix typos, remove non-existent values, or save terms via \u001b[1;96m.add_new_from_var_index()\u001b[0m\n",
      "\n"
     ]
    },
    {
     "data": {
      "text/plain": [
       "False"
      ]
     },
     "execution_count": 82,
     "metadata": {},
     "output_type": "execute_result"
    }
   ],
   "source": [
    "sdc, sdata = get_curator('10jff')\n",
    "sdc.validate()"
   ]
  },
  {
   "cell_type": "code",
   "execution_count": null,
   "metadata": {},
   "outputs": [],
   "source": [
    "sdc.standardize(\"assay\", accessor='sample')\n",
    "sdc.standardize(\"organism\", accessor='sample')"
   ]
  },
  {
   "cell_type": "code",
   "execution_count": null,
   "metadata": {},
   "outputs": [],
   "source": [
    "sdc.validate()\n",
    "description = '10X, '+ sdata.attrs['sample']['assay']+ ', '+ sdata.attrs['sample']['organism']+ ', '+sdata.attrs['sample']['disease']+', '+ sdata.attrs['sample']['tissue']+ ', '+ sdata.attrs['sample']['date'][:4]\n",
    "sdc.save_artifact(description=description)"
   ]
  }
 ],
 "metadata": {
  "kernelspec": {
   "display_name": "sddb2",
   "language": "python",
   "name": "python3"
  },
  "language_info": {
   "codemirror_mode": {
    "name": "ipython",
    "version": 3
   },
   "file_extension": ".py",
   "mimetype": "text/x-python",
   "name": "python",
   "nbconvert_exporter": "python",
   "pygments_lexer": "ipython3",
   "version": "3.10.16"
  }
 },
 "nbformat": 4,
 "nbformat_minor": 2
}
