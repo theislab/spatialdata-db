{
 "cells": [
  {
   "cell_type": "code",
   "execution_count": 1,
   "metadata": {},
   "outputs": [],
   "source": [
    "%load_ext autoreload\n",
    "%autoreload 2"
   ]
  },
  {
   "cell_type": "code",
   "execution_count": 2,
   "metadata": {},
   "outputs": [
    {
     "name": "stdout",
     "output_type": "stream",
     "text": [
      "\u001b[92m→\u001b[0m connected lamindb: scverse/spatialdata-db\n"
     ]
    }
   ],
   "source": [
    "import os\n",
    "import warnings\n",
    "\n",
    "warnings.filterwarnings(\"ignore\")\n",
    "\n",
    "import lamindb as ln\n",
    "import pandas as pd\n",
    "import spatialdata as sd\n",
    "\n",
    "from spatialdata_db import SpatialDataDBCurator"
   ]
  },
  {
   "cell_type": "code",
   "execution_count": 4,
   "metadata": {},
   "outputs": [],
   "source": [
    "def replace_var_index(sdata):\n",
    "    for table_name, table in sdata.tables.items():\n",
    "        if isinstance(table.var, pd.DataFrame):\n",
    "            table.var[\"gene_names\"] = table.var.index\n",
    "            table.var.set_index(\"gene_ids\", inplace=True)\n",
    "            sdata.tables[table_name] = table"
   ]
  },
  {
   "cell_type": "markdown",
   "metadata": {},
   "source": [
    "# Upload Visium Spatial, Human large instestine"
   ]
  },
  {
   "cell_type": "code",
   "execution_count": 3,
   "metadata": {},
   "outputs": [
    {
     "name": "stdout",
     "output_type": "stream",
     "text": [
      "\u001b[92m→\u001b[0m loaded Transform('NDcshmgy'), re-started Run('XNbeIVQt') at 2025-01-19 21:38:42 UTC\n",
      "\u001b[92m→\u001b[0m notebook imports: lamindb==0.77.2 pandas==2.2.3 spatialdata-db==0.0.1 spatialdata==0.2.7.dev14+gc07c363\n"
     ]
    }
   ],
   "source": [
    "ln.track(\"NDcshmgyz9vh0000\")"
   ]
  },
  {
   "cell_type": "code",
   "execution_count": 6,
   "metadata": {},
   "outputs": [],
   "source": [
    "DATA_PATH = \"/lustre/groups/ml01/projects/2024_spatialdata_db/data\"\n",
    "uid = \"1000j\""
   ]
  },
  {
   "cell_type": "code",
   "execution_count": 7,
   "metadata": {},
   "outputs": [],
   "source": [
    "folder_path = None\n",
    "for folder in os.listdir(DATA_PATH):\n",
    "    if folder.startswith(str(uid)):\n",
    "        folder_path = os.path.join(DATA_PATH, folder)\n",
    "        break\n",
    "\n",
    "if folder_path is None:\n",
    "    print(f\"Folder for UID {uid} not found.\")"
   ]
  },
  {
   "cell_type": "code",
   "execution_count": 8,
   "metadata": {},
   "outputs": [],
   "source": [
    "file = None\n",
    "for file in os.listdir(folder_path):\n",
    "    if file.endswith(\".zarr\"):\n",
    "        break\n",
    "\n",
    "if file is None:\n",
    "    print(f\"No zarr file found in folder for UID {uid}.\")\n",
    "\n",
    "file_path = os.path.join(folder_path, file)"
   ]
  },
  {
   "cell_type": "code",
   "execution_count": 10,
   "metadata": {},
   "outputs": [],
   "source": [
    "sdata = sd.read_zarr(file_path)\n",
    "replace_var_index(sdata)"
   ]
  },
  {
   "cell_type": "code",
   "execution_count": 11,
   "metadata": {},
   "outputs": [
    {
     "name": "stdout",
     "output_type": "stream",
     "text": [
      "\u001b[94m•\u001b[0m validating categoricals of 'sample' metadata...\n",
      "\u001b[94m•\u001b[0m mapping \"assay\" on \u001b[3mExperimentalFactor.name\u001b[0m\n",
      "\u001b[93m!\u001b[0m   \u001b[1;91m1 term\u001b[0m is not validated: \u001b[1;91m'Visium'\u001b[0m\n",
      "    \u001b[1;93m1 synonym\u001b[0m found: \u001b[1;93m\"Visium\" → \"Visium Spatial Gene Expression\"\u001b[0m\n",
      "    → curate synonyms via \u001b[1;96m.standardize(\"assay\")\u001b[0m\n",
      "\u001b[94m•\u001b[0m mapping \"chemistry_version\" on \u001b[3mULabel.name\u001b[0m\n",
      "\u001b[93m!\u001b[0m   \u001b[1;91m1 term\u001b[0m is not validated: \u001b[1;91m'v1'\u001b[0m\n",
      "    → fix typos, remove non-existent values, or save terms via \u001b[1;96m.add_new_from(\"chemistry_version\")\u001b[0m\n",
      "\u001b[94m•\u001b[0m mapping \"organism\" on \u001b[3mOrganism.name\u001b[0m\n",
      "\u001b[93m!\u001b[0m   \u001b[1;91m1 term\u001b[0m is not validated: \u001b[1;91m'Human'\u001b[0m\n",
      "    \u001b[1;93m1 synonym\u001b[0m found: \u001b[1;93m\"Human\" → \"human\"\u001b[0m\n",
      "    → curate synonyms via \u001b[1;96m.standardize(\"organism\")\u001b[0m\n",
      "\u001b[94m•\u001b[0m mapping \"tissue\" on \u001b[3mTissue.name\u001b[0m\n",
      "\u001b[93m!\u001b[0m   \u001b[1;91m1 term\u001b[0m is not validated: \u001b[1;91m'large_intestine'\u001b[0m\n",
      "    → fix typos, remove non-existent values, or save terms via \u001b[1;96m.add_new_from(\"tissue\")\u001b[0m\n",
      "\u001b[94m•\u001b[0m mapping \"disease\" on \u001b[3mDisease.name\u001b[0m\n",
      "\u001b[93m!\u001b[0m   \u001b[1;91m1 term\u001b[0m is not validated: \u001b[1;91m'large intestine colorectal cancer'\u001b[0m\n",
      "    → fix typos, remove non-existent values, or save terms via \u001b[1;96m.add_new_from(\"disease\")\u001b[0m\n",
      "\u001b[92m✓\u001b[0m \"license\" is validated against \u001b[3mULabel.name\u001b[0m\n",
      "\u001b[92m✓\u001b[0m \"preproc_version\" is validated against \u001b[3mULabel.name\u001b[0m\n",
      "\n",
      "\u001b[94m•\u001b[0m validating categoricals in table 'table'...\n",
      "\u001b[92m✓\u001b[0m \"var_index\" is validated against \u001b[3mGene.ensembl_gene_id\u001b[0m\n",
      "\n"
     ]
    },
    {
     "data": {
      "text/plain": [
       "False"
      ]
     },
     "execution_count": 11,
     "metadata": {},
     "output_type": "execute_result"
    }
   ],
   "source": [
    "sdc = SpatialDataDBCurator(sdata, organism=\"human\")\n",
    "sdc.validate()"
   ]
  },
  {
   "cell_type": "code",
   "execution_count": 12,
   "metadata": {},
   "outputs": [
    {
     "name": "stdout",
     "output_type": "stream",
     "text": [
      "\u001b[92m✓\u001b[0m standardized 1 synonym in \"assay\": \u001b[1;92m\"Visium\" → \"Visium Spatial Gene Expression\"\u001b[0m\n",
      "\u001b[92m✓\u001b[0m added 1 record with \u001b[3mULabel.name\u001b[0m for \"chemistry_version\": 'v1'\n",
      "\u001b[92m✓\u001b[0m standardized 1 synonym in \"organism\": \u001b[1;92m\"Human\" → \"human\"\u001b[0m\n",
      "\u001b[92m✓\u001b[0m added 1 record with \u001b[3mTissue.name\u001b[0m for \"tissue\": 'large_intestine'\n",
      "\u001b[92m✓\u001b[0m added 1 record with \u001b[3mDisease.name\u001b[0m for \"disease\": 'large intestine colorectal cancer'\n"
     ]
    }
   ],
   "source": [
    "sdc.standardize(\"assay\", accessor=\"sample\")\n",
    "sdc.add_new_from(\"chemistry_version\", accessor=\"sample\")\n",
    "sdc.standardize(\"organism\", accessor=\"sample\")\n",
    "sdc.add_new_from(\"tissue\", accessor=\"sample\")\n",
    "sdc.add_new_from(\"disease\", accessor=\"sample\")"
   ]
  },
  {
   "cell_type": "code",
   "execution_count": 13,
   "metadata": {},
   "outputs": [
    {
     "name": "stdout",
     "output_type": "stream",
     "text": [
      "\u001b[94m•\u001b[0m validating categoricals of 'sample' metadata...\n",
      "\u001b[92m✓\u001b[0m \"assay\" is validated against \u001b[3mExperimentalFactor.name\u001b[0m\n",
      "\u001b[92m✓\u001b[0m \"chemistry_version\" is validated against \u001b[3mULabel.name\u001b[0m\n",
      "\u001b[92m✓\u001b[0m \"organism\" is validated against \u001b[3mOrganism.name\u001b[0m\n",
      "\u001b[92m✓\u001b[0m \"tissue\" is validated against \u001b[3mTissue.name\u001b[0m\n",
      "\u001b[92m✓\u001b[0m \"disease\" is validated against \u001b[3mDisease.name\u001b[0m\n",
      "\u001b[92m✓\u001b[0m \"license\" is validated against \u001b[3mULabel.name\u001b[0m\n",
      "\u001b[92m✓\u001b[0m \"preproc_version\" is validated against \u001b[3mULabel.name\u001b[0m\n",
      "\n",
      "\u001b[94m•\u001b[0m validating categoricals in table 'table'...\n",
      "\u001b[92m✓\u001b[0m \"var_index\" is validated against \u001b[3mGene.ensembl_gene_id\u001b[0m\n",
      "\n"
     ]
    },
    {
     "data": {
      "text/plain": [
       "True"
      ]
     },
     "execution_count": 13,
     "metadata": {},
     "output_type": "execute_result"
    }
   ],
   "source": [
    "sdc.validate()"
   ]
  },
  {
   "cell_type": "code",
   "execution_count": 14,
   "metadata": {},
   "outputs": [
    {
     "name": "stdout",
     "output_type": "stream",
     "text": [
      "\u001b[34mINFO    \u001b[0m The SpatialData object is not self-contained \u001b[1m(\u001b[0mi.e. it contains some elements that are Dask-backed from    \n",
      "         locations outside \u001b[35m/home/icb/lea.zimmermann/.cache/lamindb/\u001b[0m\u001b[95m65485167.zarr\u001b[0m\u001b[1m)\u001b[0m. Please see the documentation of \n",
      "         `\u001b[1;35mis_self_contained\u001b[0m\u001b[1m(\u001b[0m\u001b[1m)\u001b[0m` to understand the implications of working with SpatialData objects that are not     \n",
      "         self-contained.                                                                                           \n",
      "\u001b[34mINFO    \u001b[0m The Zarr backing store has been changed from                                                              \n",
      "         \u001b[35m/lustre/groups/ml01/projects/2024_spatialdata_db/data/1000j__10X__Visium__Human__large_intestine__20220328\u001b[0m\n",
      "         \u001b[35m__v1.3.0/\u001b[0m\u001b[95m1000j__10X__Visium__Human__large_intestine__20220328__v1.3.0_attrs.zarr\u001b[0m the new file path:       \n",
      "         \u001b[35m/home/icb/lea.zimmermann/.cache/lamindb/\u001b[0m\u001b[95m65485167.zarr\u001b[0m                                                     \n",
      "... uploading 65485167.zarr: 100.0%\n",
      "\u001b[93m!\u001b[0m    \u001b[1;93m5 unique terms\u001b[0m (100.00%) are not validated for \u001b[3mname\u001b[0m: \u001b[1;93m'in_tissue', 'array_row', 'array_col', 'spot_id', 'region'\u001b[0m\n",
      "\u001b[93m!\u001b[0m skip linking features to artifact in slot 'obs'\n",
      "\u001b[92m→\u001b[0m go to https://lamin.ai/scverse/spatialdata-db/artifact/8XBBsxnNHuWCOeOb0000\n"
     ]
    },
    {
     "data": {
      "text/plain": [
       "Artifact(uid='8XBBsxnNHuWCOeOb0000', is_latest=True, description='10X, Visium, Human, large intestine colorectal cancer, large_intestine, 2022', suffix='.zarr', size=52401277, hash='TUrS6Myy91ExOsSws_zQ2A', n_objects=323, _hash_type='md5-d', _accessor='spatialdata', visibility=1, _key_is_virtual=True, storage_id=2, transform_id=63, run_id=237, created_by_id=8, created_at=2025-01-19 16:42:31 UTC)"
      ]
     },
     "execution_count": 14,
     "metadata": {},
     "output_type": "execute_result"
    }
   ],
   "source": [
    "description = (\n",
    "    \"10X, \"\n",
    "    + sdata.attrs[\"sample\"][\"assay\"]\n",
    "    + \", \"\n",
    "    + sdata.attrs[\"sample\"][\"organism\"]\n",
    "    + \", \"\n",
    "    + sdata.attrs[\"sample\"][\"disease\"]\n",
    "    + \", \"\n",
    "    + sdata.attrs[\"sample\"][\"tissue\"]\n",
    "    + \", \"\n",
    "    + sdata.attrs[\"sample\"][\"date\"][:4]\n",
    ")\n",
    "sdc.save_artifact(description=description)"
   ]
  },
  {
   "cell_type": "code",
   "execution_count": 4,
   "metadata": {},
   "outputs": [
    {
     "name": "stdout",
     "output_type": "stream",
     "text": [
      "\u001b[92m→\u001b[0m finished Run('XNbeIVQt') after 0d 0h 0m 12s at 2025-01-19 21:38:55 UTC\n",
      "\u001b[92m→\u001b[0m go to: https://lamin.ai/scverse/spatialdata-db/transform/NDcshmgyz9vh0000\n",
      "\u001b[92m→\u001b[0m if you want to update your notebook without re-running it, use `lamin save /home/icb/lea.zimmermann/projects/spatialdata-db/spatialdata-db/scripts/upload_1000j_visium.ipynb`\n"
     ]
    }
   ],
   "source": [
    "ln.finish(ignore_non_consecutive=True)"
   ]
  },
  {
   "cell_type": "code",
   "execution_count": null,
   "metadata": {},
   "outputs": [],
   "source": []
  }
 ],
 "metadata": {
  "kernelspec": {
   "display_name": "sddb3",
   "language": "python",
   "name": "python3"
  },
  "language_info": {
   "codemirror_mode": {
    "name": "ipython",
    "version": 3
   },
   "file_extension": ".py",
   "mimetype": "text/x-python",
   "name": "python",
   "nbconvert_exporter": "python",
   "pygments_lexer": "ipython3",
   "version": "3.10.16"
  }
 },
 "nbformat": 4,
 "nbformat_minor": 2
}
