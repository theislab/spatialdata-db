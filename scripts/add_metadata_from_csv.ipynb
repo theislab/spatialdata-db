{
 "cells": [
  {
   "cell_type": "code",
   "execution_count": 3,
   "metadata": {},
   "outputs": [],
   "source": [
    "import spatialdata as sd\n",
    "import os\n",
    "import pandas as pd"
   ]
  },
  {
   "cell_type": "code",
   "execution_count": 6,
   "metadata": {},
   "outputs": [
    {
     "name": "stdout",
     "output_type": "stream",
     "text": [
      "\u001b[34mINFO    \u001b[0m The SpatialData object is not self-contained \u001b[1m(\u001b[0mi.e. it contains some elements that are Dask-backed from    \n",
      "         locations outside                                                                                         \n",
      "         \u001b[35m/lustre/groups/ml01/projects/2024_spatialdata_db/data/10nsr__10X__Xenium__Human__bone_bone_marrow__2024040\u001b[0m\n",
      "         \u001b[35m3__v1.9.0__AcuteLymphoidLeukemiaBoneMarrow/\u001b[0m\u001b[95m10nsr__10X__Xenium__Human__bone_bone_marrow__20240403__v1.9.0__\u001b[0m\n",
      "         \u001b[95mAcuteLymphoidLeukemiaBoneMarrow_metadata_metadata.zarr\u001b[0m\u001b[1m)\u001b[0m. Please see the documentation of                  \n",
      "         `\u001b[1;35mis_self_contained\u001b[0m\u001b[1m(\u001b[0m\u001b[1m)\u001b[0m` to understand the implications of working with SpatialData objects that are not     \n",
      "         self-contained.                                                                                           \n",
      "\u001b[34mINFO    \u001b[0m The Zarr backing store has been changed from                                                              \n",
      "         \u001b[35m/lustre/groups/ml01/projects/2024_spatialdata_db/data/10nsr__10X__Xenium__Human__bone_bone_marrow__2024040\u001b[0m\n",
      "         \u001b[35m3__v1.9.0__AcuteLymphoidLeukemiaBoneMarrow/\u001b[0m\u001b[95m10nsr__10X__Xenium__Human__bone_bone_marrow__20240403__v1.9.0__\u001b[0m\n",
      "         \u001b[95mAcuteLymphoidLeukemiaBoneMarrow_metadata.zarr\u001b[0m the new file path:                                          \n",
      "         \u001b[35m/lustre/groups/ml01/projects/2024_spatialdata_db/data/10nsr__10X__Xenium__Human__bone_bone_marrow__2024040\u001b[0m\n",
      "         \u001b[35m3__v1.9.0__AcuteLymphoidLeukemiaBoneMarrow/\u001b[0m\u001b[95m10nsr__10X__Xenium__Human__bone_bone_marrow__20240403__v1.9.0__\u001b[0m\n",
      "         \u001b[95mAcuteLymphoidLeukemiaBoneMarrow_metadata_metadata.zarr\u001b[0m                                                    \n",
      "Processed UID 10nsr and updated metadata.\n"
     ]
    },
    {
     "name": "stderr",
     "output_type": "stream",
     "text": [
      "/lustre/groups/ml01/workspace/lea.zimmermann/software/miniconda3/envs/spatialdata-workshop/lib/python3.11/site-packages/anndata/_core/aligned_df.py:68: ImplicitModificationWarning: Transforming to str index.\n",
      "  warnings.warn(\"Transforming to str index.\", ImplicitModificationWarning)\n"
     ]
    },
    {
     "name": "stdout",
     "output_type": "stream",
     "text": [
      "\u001b[33mWARNING \u001b[0m Radii of circles must not be nan or inf \u001b[1m(\u001b[0mthis warning will be turned into a ValueError in the next code   \n",
      "         release\u001b[1m)\u001b[0m. If you are seeing this warning after reading previously saved Xenium data, please see           \n",
      "         \u001b[4;94mhttps://github.com/scverse/spatialdata/discussions/657\u001b[0m for a solution. Otherwise, please correct the radii\n",
      "         of the circles before calling the parser function.                                                        \n",
      "\u001b[33mWARNING \u001b[0m Radii of circles must not be nan or inf \u001b[1m(\u001b[0mthis warning will be turned into a ValueError in the next code   \n",
      "         release\u001b[1m)\u001b[0m. If you are seeing this warning after reading previously saved Xenium data, please see           \n",
      "         \u001b[4;94mhttps://github.com/scverse/spatialdata/discussions/657\u001b[0m for a solution. Otherwise, please correct the radii\n",
      "         of the circles before calling the parser function.                                                        \n",
      "\u001b[34mINFO    \u001b[0m The SpatialData object is not self-contained \u001b[1m(\u001b[0mi.e. it contains some elements that are Dask-backed from    \n",
      "         locations outside                                                                                         \n",
      "         \u001b[35m/lustre/groups/ml01/projects/2024_spatialdata_db/data/10u63__10X__Xenium__Human__brain__20240415__v2.0.0/\u001b[0m\u001b[95m1\u001b[0m\n",
      "         \u001b[95m0u63__10X__Xenium__Human__brain__20240415__v2.0.0_metadata.zarr\u001b[0m\u001b[1m)\u001b[0m. Please see the documentation of         \n",
      "         `\u001b[1;35mis_self_contained\u001b[0m\u001b[1m(\u001b[0m\u001b[1m)\u001b[0m` to understand the implications of working with SpatialData objects that are not     \n",
      "         self-contained.                                                                                           \n",
      "\u001b[34mINFO    \u001b[0m The Zarr backing store has been changed from                                                              \n",
      "         \u001b[35m/lustre/groups/ml01/projects/2024_spatialdata_db/data/10u63__10X__Xenium__Human__brain__20240415__v2.0.0/\u001b[0m\u001b[95m1\u001b[0m\n",
      "         \u001b[95m0u63__10X__Xenium__Human__brain__20240415__v2.0.0.zarr\u001b[0m the new file path:                                 \n",
      "         \u001b[35m/lustre/groups/ml01/projects/2024_spatialdata_db/data/10u63__10X__Xenium__Human__brain__20240415__v2.0.0/\u001b[0m\u001b[95m1\u001b[0m\n",
      "         \u001b[95m0u63__10X__Xenium__Human__brain__20240415__v2.0.0_metadata.zarr\u001b[0m                                           \n",
      "Processed UID 10u63 and updated metadata.\n"
     ]
    },
    {
     "name": "stderr",
     "output_type": "stream",
     "text": [
      "/lustre/groups/ml01/workspace/lea.zimmermann/software/miniconda3/envs/spatialdata-workshop/lib/python3.11/site-packages/anndata/_core/aligned_df.py:68: ImplicitModificationWarning: Transforming to str index.\n",
      "  warnings.warn(\"Transforming to str index.\", ImplicitModificationWarning)\n"
     ]
    },
    {
     "name": "stdout",
     "output_type": "stream",
     "text": [
      "\u001b[34mINFO    \u001b[0m The SpatialData object is not self-contained \u001b[1m(\u001b[0mi.e. it contains some elements that are Dask-backed from    \n",
      "         locations outside                                                                                         \n",
      "         \u001b[35m/lustre/groups/ml01/projects/2024_spatialdata_db/data/10wmu__10X__Xenium__Human__heart__20240305__v1.9.0/\u001b[0m\u001b[95m1\u001b[0m\n",
      "         \u001b[95m0wmu__10X__Xenium__Human__heart__20240305__v1.9.0_metadata.zarr\u001b[0m\u001b[1m)\u001b[0m. Please see the documentation of         \n",
      "         `\u001b[1;35mis_self_contained\u001b[0m\u001b[1m(\u001b[0m\u001b[1m)\u001b[0m` to understand the implications of working with SpatialData objects that are not     \n",
      "         self-contained.                                                                                           \n",
      "\u001b[34mINFO    \u001b[0m The Zarr backing store has been changed from                                                              \n",
      "         \u001b[35m/lustre/groups/ml01/projects/2024_spatialdata_db/data/10wmu__10X__Xenium__Human__heart__20240305__v1.9.0/\u001b[0m\u001b[95m1\u001b[0m\n",
      "         \u001b[95m0wmu__10X__Xenium__Human__heart__20240305__v1.9.0.zarr\u001b[0m the new file path:                                 \n",
      "         \u001b[35m/lustre/groups/ml01/projects/2024_spatialdata_db/data/10wmu__10X__Xenium__Human__heart__20240305__v1.9.0/\u001b[0m\u001b[95m1\u001b[0m\n",
      "         \u001b[95m0wmu__10X__Xenium__Human__heart__20240305__v1.9.0_metadata.zarr\u001b[0m                                           \n",
      "Processed UID 10wmu and updated metadata.\n"
     ]
    },
    {
     "name": "stderr",
     "output_type": "stream",
     "text": [
      "/lustre/groups/ml01/workspace/lea.zimmermann/software/miniconda3/envs/spatialdata-workshop/lib/python3.11/site-packages/anndata/_core/aligned_df.py:68: ImplicitModificationWarning: Transforming to str index.\n",
      "  warnings.warn(\"Transforming to str index.\", ImplicitModificationWarning)\n"
     ]
    },
    {
     "name": "stdout",
     "output_type": "stream",
     "text": [
      "\u001b[34mINFO    \u001b[0m The SpatialData object is not self-contained \u001b[1m(\u001b[0mi.e. it contains some elements that are Dask-backed from    \n",
      "         locations outside                                                                                         \n",
      "         \u001b[35m/lustre/groups/ml01/projects/2024_spatialdata_db/data/10tsy__10X__Xenium__Human__intestine_colon__20230829\u001b[0m\n",
      "         \u001b[35m__v1.6.0__Non-diseasedpre-designedpanel/\u001b[0m\u001b[95m10tsy__10X__Xenium__Human__intestine_colon__20230829__v1.6.0__Non-\u001b[0m\n",
      "         \u001b[95mdiseasedpre-designedpanel_metadata.zarr\u001b[0m\u001b[1m)\u001b[0m. Please see the documentation of `\u001b[1;35mis_self_contained\u001b[0m\u001b[1m(\u001b[0m\u001b[1m)\u001b[0m` to        \n",
      "         understand the implications of working with SpatialData objects that are not self-contained.              \n",
      "\u001b[34mINFO    \u001b[0m The Zarr backing store has been changed from                                                              \n",
      "         \u001b[35m/lustre/groups/ml01/projects/2024_spatialdata_db/data/10tsy__10X__Xenium__Human__intestine_colon__20230829\u001b[0m\n",
      "         \u001b[35m__v1.6.0__Non-diseasedpre-designedpanel/\u001b[0m\u001b[95m10tsy__10X__Xenium__Human__intestine_colon__20230829__v1.6.0__Non-\u001b[0m\n",
      "         \u001b[95mdiseasedpre-designedpanel.zarr\u001b[0m the new file path:                                                         \n",
      "         \u001b[35m/lustre/groups/ml01/projects/2024_spatialdata_db/data/10tsy__10X__Xenium__Human__intestine_colon__20230829\u001b[0m\n",
      "         \u001b[35m__v1.6.0__Non-diseasedpre-designedpanel/\u001b[0m\u001b[95m10tsy__10X__Xenium__Human__intestine_colon__20230829__v1.6.0__Non-\u001b[0m\n",
      "         \u001b[95mdiseasedpre-designedpanel_metadata.zarr\u001b[0m                                                                   \n",
      "Processed UID 10tsy and updated metadata.\n",
      "\u001b[34mINFO    \u001b[0m The SpatialData object is not self-contained \u001b[1m(\u001b[0mi.e. it contains some elements that are Dask-backed from    \n",
      "         locations outside                                                                                         \n",
      "         \u001b[35m/lustre/groups/ml01/projects/2024_spatialdata_db/data/1063i__10X__Xenium__Human__kidney__20230717__v1.5.0_\u001b[0m\n",
      "         \u001b[35m_Non-diseasedKidney/\u001b[0m\u001b[95m1063i__10X__Xenium__Human__kidney__20230717__v1.5.0__Non-diseasedKidney_metadata_metad\u001b[0m\n",
      "         \u001b[95mata_metadata.zarr\u001b[0m\u001b[1m)\u001b[0m. Please see the documentation of `\u001b[1;35mis_self_contained\u001b[0m\u001b[1m(\u001b[0m\u001b[1m)\u001b[0m` to understand the implications  \n",
      "         of working with SpatialData objects that are not self-contained.                                          \n",
      "\u001b[34mINFO    \u001b[0m The Zarr backing store has been changed from                                                              \n",
      "         \u001b[35m/lustre/groups/ml01/projects/2024_spatialdata_db/data/1063i__10X__Xenium__Human__kidney__20230717__v1.5.0_\u001b[0m\n",
      "         \u001b[35m_Non-diseasedKidney/\u001b[0m\u001b[95m1063i__10X__Xenium__Human__kidney__20230717__v1.5.0__Non-diseasedKidney_metadata_metad\u001b[0m\n",
      "         \u001b[95mata.zarr\u001b[0m the new file path:                                                                               \n",
      "         \u001b[35m/lustre/groups/ml01/projects/2024_spatialdata_db/data/1063i__10X__Xenium__Human__kidney__20230717__v1.5.0_\u001b[0m\n",
      "         \u001b[35m_Non-diseasedKidney/\u001b[0m\u001b[95m1063i__10X__Xenium__Human__kidney__20230717__v1.5.0__Non-diseasedKidney_metadata_metad\u001b[0m\n",
      "         \u001b[95mata_metadata.zarr\u001b[0m                                                                                         \n",
      "Processed UID 1063i and updated metadata.\n",
      "\u001b[34mINFO    \u001b[0m The SpatialData object is not self-contained \u001b[1m(\u001b[0mi.e. it contains some elements that are Dask-backed from    \n",
      "         locations outside                                                                                         \n",
      "         \u001b[35m/lustre/groups/ml01/projects/2024_spatialdata_db/data/10k5p__10X__Visium__Human__breast__20220701__v1.3.0/\u001b[0m\n",
      "         \u001b[95m10k5p__10X__Visium__Human__breast__20220701__v1.3.0_metadata_metadata_metadata.zarr\u001b[0m\u001b[1m)\u001b[0m. Please see the      \n",
      "         documentation of `\u001b[1;35mis_self_contained\u001b[0m\u001b[1m(\u001b[0m\u001b[1m)\u001b[0m` to understand the implications of working with SpatialData objects \n",
      "         that are not self-contained.                                                                              \n",
      "\u001b[34mINFO    \u001b[0m The Zarr backing store has been changed from                                                              \n",
      "         \u001b[35m/lustre/groups/ml01/projects/2024_spatialdata_db/data/10k5p__10X__Visium__Human__breast__20220701__v1.3.0/\u001b[0m\n",
      "         \u001b[95m10k5p__10X__Visium__Human__breast__20220701__v1.3.0_metadata_metadata.zarr\u001b[0m the new file path:             \n",
      "         \u001b[35m/lustre/groups/ml01/projects/2024_spatialdata_db/data/10k5p__10X__Visium__Human__breast__20220701__v1.3.0/\u001b[0m\n",
      "         \u001b[95m10k5p__10X__Visium__Human__breast__20220701__v1.3.0_metadata_metadata_metadata.zarr\u001b[0m                       \n",
      "Processed UID 10k5p and updated metadata.\n",
      "\u001b[34mINFO    \u001b[0m The SpatialData object is not self-contained \u001b[1m(\u001b[0mi.e. it contains some elements that are Dask-backed from    \n",
      "         locations outside                                                                                         \n",
      "         \u001b[35m/lustre/groups/ml01/projects/2024_spatialdata_db/data/10f2z__10X__Visium__Human__prostate__20211008__v1.3.\u001b[0m\n",
      "         \u001b[35m0/\u001b[0m\u001b[95m10f2z__10X__Visium__Human__prostate__20211008__v1.3.0_metadata.zarr\u001b[0m\u001b[1m)\u001b[0m. Please see the documentation of   \n",
      "         `\u001b[1;35mis_self_contained\u001b[0m\u001b[1m(\u001b[0m\u001b[1m)\u001b[0m` to understand the implications of working with SpatialData objects that are not     \n",
      "         self-contained.                                                                                           \n",
      "\u001b[34mINFO    \u001b[0m The Zarr backing store has been changed from                                                              \n",
      "         \u001b[35m/lustre/groups/ml01/projects/2024_spatialdata_db/data/10f2z__10X__Visium__Human__prostate__20211008__v1.3.\u001b[0m\n",
      "         \u001b[35m0/\u001b[0m\u001b[95m10f2z__10X__Visium__Human__prostate__20211008__v1.3.0.zarr\u001b[0m the new file path:                           \n",
      "         \u001b[35m/lustre/groups/ml01/projects/2024_spatialdata_db/data/10f2z__10X__Visium__Human__prostate__20211008__v1.3.\u001b[0m\n",
      "         \u001b[35m0/\u001b[0m\u001b[95m10f2z__10X__Visium__Human__prostate__20211008__v1.3.0_metadata.zarr\u001b[0m                                     \n",
      "Processed UID 10f2z and updated metadata.\n",
      "\u001b[34mINFO    \u001b[0m The SpatialData object is not self-contained \u001b[1m(\u001b[0mi.e. it contains some elements that are Dask-backed from    \n",
      "         locations outside                                                                                         \n",
      "         \u001b[35m/lustre/groups/ml01/projects/2024_spatialdata_db/data/10zvc__10X__Visium__Mouse__brain__20220329__v1.3.0/\u001b[0m\u001b[95m1\u001b[0m\n",
      "         \u001b[95m0zvc__10X__Visium__Mouse__brain__20220329__v1.3.0_metadata.zarr\u001b[0m\u001b[1m)\u001b[0m. Please see the documentation of         \n",
      "         `\u001b[1;35mis_self_contained\u001b[0m\u001b[1m(\u001b[0m\u001b[1m)\u001b[0m` to understand the implications of working with SpatialData objects that are not     \n",
      "         self-contained.                                                                                           \n",
      "\u001b[34mINFO    \u001b[0m The Zarr backing store has been changed from                                                              \n",
      "         \u001b[35m/lustre/groups/ml01/projects/2024_spatialdata_db/data/10zvc__10X__Visium__Mouse__brain__20220329__v1.3.0/\u001b[0m\u001b[95m1\u001b[0m\n",
      "         \u001b[95m0zvc__10X__Visium__Mouse__brain__20220329__v1.3.0.zarr\u001b[0m the new file path:                                 \n",
      "         \u001b[35m/lustre/groups/ml01/projects/2024_spatialdata_db/data/10zvc__10X__Visium__Mouse__brain__20220329__v1.3.0/\u001b[0m\u001b[95m1\u001b[0m\n",
      "         \u001b[95m0zvc__10X__Visium__Mouse__brain__20220329__v1.3.0_metadata.zarr\u001b[0m                                           \n",
      "Processed UID 10zvc and updated metadata.\n",
      "\u001b[34mINFO    \u001b[0m The SpatialData object is not self-contained \u001b[1m(\u001b[0mi.e. it contains some elements that are Dask-backed from    \n",
      "         locations outside                                                                                         \n",
      "         \u001b[35m/lustre/groups/ml01/projects/2024_spatialdata_db/data/10fn9__10X__Visium__Mouse__brain__20200623__v1.1.0/\u001b[0m\u001b[95m1\u001b[0m\n",
      "         \u001b[95m0fn9__10X__Visium__Mouse__brain__20200623__v1.1.0_metadata.zarr\u001b[0m\u001b[1m)\u001b[0m. Please see the documentation of         \n",
      "         `\u001b[1;35mis_self_contained\u001b[0m\u001b[1m(\u001b[0m\u001b[1m)\u001b[0m` to understand the implications of working with SpatialData objects that are not     \n",
      "         self-contained.                                                                                           \n",
      "\u001b[34mINFO    \u001b[0m The Zarr backing store has been changed from                                                              \n",
      "         \u001b[35m/lustre/groups/ml01/projects/2024_spatialdata_db/data/10fn9__10X__Visium__Mouse__brain__20200623__v1.1.0/\u001b[0m\u001b[95m1\u001b[0m\n",
      "         \u001b[95m0fn9__10X__Visium__Mouse__brain__20200623__v1.1.0.zarr\u001b[0m the new file path:                                 \n",
      "         \u001b[35m/lustre/groups/ml01/projects/2024_spatialdata_db/data/10fn9__10X__Visium__Mouse__brain__20200623__v1.1.0/\u001b[0m\u001b[95m1\u001b[0m\n",
      "         \u001b[95m0fn9__10X__Visium__Mouse__brain__20200623__v1.1.0_metadata.zarr\u001b[0m                                           \n",
      "Processed UID 10fn9 and updated metadata.\n",
      "\u001b[34mINFO    \u001b[0m The SpatialData object is not self-contained \u001b[1m(\u001b[0mi.e. it contains some elements that are Dask-backed from    \n",
      "         locations outside                                                                                         \n",
      "         \u001b[35m/lustre/groups/ml01/projects/2024_spatialdata_db/data/10jff__10X__Visium__Mouse__brain__20191202__v1.0.0/\u001b[0m\u001b[95m1\u001b[0m\n",
      "         \u001b[95m0jff__10X__Visium__Mouse__brain__20191202__v1.0.0_metadata.zarr\u001b[0m\u001b[1m)\u001b[0m. Please see the documentation of         \n",
      "         `\u001b[1;35mis_self_contained\u001b[0m\u001b[1m(\u001b[0m\u001b[1m)\u001b[0m` to understand the implications of working with SpatialData objects that are not     \n",
      "         self-contained.                                                                                           \n",
      "\u001b[34mINFO    \u001b[0m The Zarr backing store has been changed from                                                              \n",
      "         \u001b[35m/lustre/groups/ml01/projects/2024_spatialdata_db/data/10jff__10X__Visium__Mouse__brain__20191202__v1.0.0/\u001b[0m\u001b[95m1\u001b[0m\n",
      "         \u001b[95m0jff__10X__Visium__Mouse__brain__20191202__v1.0.0.zarr\u001b[0m the new file path:                                 \n",
      "         \u001b[35m/lustre/groups/ml01/projects/2024_spatialdata_db/data/10jff__10X__Visium__Mouse__brain__20191202__v1.0.0/\u001b[0m\u001b[95m1\u001b[0m\n",
      "         \u001b[95m0jff__10X__Visium__Mouse__brain__20191202__v1.0.0_metadata.zarr\u001b[0m                                           \n",
      "Processed UID 10jff and updated metadata.\n"
     ]
    }
   ],
   "source": [
    "DATA_PATH = '/lustre/groups/ml01/projects/2024_spatialdata_db/data'\n",
    "CSV_FILE_PATH = './metadata_selection.tsv'\n",
    "\n",
    "df = pd.read_csv(CSV_FILE_PATH, sep='\\t')\n",
    "\n",
    "for index, row in df.iterrows():\n",
    "    uid = row['uid']  \n",
    "    meta = row.drop('uid') \n",
    "\n",
    "    folder_path = None\n",
    "    for folder in os.listdir(DATA_PATH):\n",
    "        if folder.startswith(str(uid)):\n",
    "            folder_path = os.path.join(DATA_PATH, folder)\n",
    "            break\n",
    "\n",
    "    if folder_path is None:\n",
    "        print(f\"Folder for UID {uid} not found.\")\n",
    "        continue\n",
    "\n",
    "    zarr_file = None\n",
    "    for file in os.listdir(folder_path):\n",
    "        if file.endswith('.zarr'):\n",
    "            zarr_file = os.path.join(folder_path, file)\n",
    "            break\n",
    "\n",
    "    if zarr_file is None:\n",
    "        print(f\"Zarr file not found in folder {folder_path}.\")\n",
    "        continue\n",
    "\n",
    "    sdata = sd.read_zarr(zarr_file)\n",
    "\n",
    "    meta_df = pd.DataFrame([meta])\n",
    "\n",
    "    sdata.metadata = sd.models.MetadataModel.parse(meta_df)\n",
    "\n",
    "    metadata_zarr_file = os.path.splitext(zarr_file)[0] + '_metadata.zarr'\n",
    "\n",
    "    sdata.write(metadata_zarr_file, overwrite=True)\n",
    "\n",
    "    print(f\"Processed UID {uid} and updated metadata.\")\n",
    "\n"
   ]
  },
  {
   "cell_type": "code",
   "execution_count": 7,
   "metadata": {},
   "outputs": [],
   "source": [
    "sdata = sd.read_zarr(metadata_zarr_file)"
   ]
  },
  {
   "cell_type": "code",
   "execution_count": 8,
   "metadata": {},
   "outputs": [
    {
     "data": {
      "text/plain": [
       "SpatialData object, with associated Zarr store: /ictstr01/groups/ml01/projects/2024_spatialdata_db/data/10jff__10X__Visium__Mouse__brain__20191202__v1.0.0/10jff__10X__Visium__Mouse__brain__20191202__v1.0.0_metadata.zarr\n",
       "├── Images\n",
       "│     ├── 'V1_Mouse_Brain_Sagittal_Posterior_full_image': DataTree[cyx] (3, 1998, 2000), (3, 999, 1000), (3, 499, 500), (3, 249, 250), (3, 124, 125)\n",
       "│     ├── 'V1_Mouse_Brain_Sagittal_Posterior_hires_image': DataArray[cyx] (3, 1998, 2000)\n",
       "│     └── 'V1_Mouse_Brain_Sagittal_Posterior_lowres_image': DataArray[cyx] (3, 600, 600)\n",
       "├── Shapes\n",
       "│     └── 'V1_Mouse_Brain_Sagittal_Posterior': GeoDataFrame shape: (3355, 2) (2D shapes)\n",
       "└── Tables\n",
       "      └── 'table': AnnData (3355, 32285)\n",
       "with coordinate systems:\n",
       "    ▸ 'downscaled_hires', with elements:\n",
       "        V1_Mouse_Brain_Sagittal_Posterior_hires_image (Images), V1_Mouse_Brain_Sagittal_Posterior (Shapes)\n",
       "    ▸ 'downscaled_lowres', with elements:\n",
       "        V1_Mouse_Brain_Sagittal_Posterior_lowres_image (Images), V1_Mouse_Brain_Sagittal_Posterior (Shapes)\n",
       "    ▸ 'global', with elements:\n",
       "        V1_Mouse_Brain_Sagittal_Posterior_full_image (Images), V1_Mouse_Brain_Sagittal_Posterior (Shapes)\n",
       "\n",
       "with metadata:\n",
       "    ▸ study_link: ['https://www.10xgenomics.com/datasets/mouse-brain-serial-section-1-sagittal-posterior-1-standard-1-0-0']\n",
       "    ▸ license: ['Creative Commons Attribution']\n",
       "    ▸ publish_date: ['2019-12-02']\n",
       "    ▸ organism: ['Mouse']\n",
       "    ▸ specimen: ['tissue']\n",
       "    ▸ tissue: ['brain']\n",
       "    ▸ disease: ['unknown']\n",
       "    ▸ disease_state: [nan]\n",
       "    ▸ data_provider: ['10XGenomics']\n",
       "    ▸ assay: ['Visium']\n",
       "    ▸ chemistry_version: [\"Spatial 3' v2\"]\n",
       "    ▸ protocol_url: [nan]\n",
       "    ▸ preproc_version: ['Space Ranger version 1.0.0']\n",
       "    ▸ magnification: [nan]\n",
       "    ▸ microm_per_pixel: [nan]\n",
       "    ▸ microm_per_pixel_estimated: [nan]\n",
       "    ▸ omics: ['rna']"
      ]
     },
     "execution_count": 8,
     "metadata": {},
     "output_type": "execute_result"
    }
   ],
   "source": [
    "sdata"
   ]
  },
  {
   "cell_type": "code",
   "execution_count": null,
   "metadata": {},
   "outputs": [],
   "source": []
  }
 ],
 "metadata": {
  "kernelspec": {
   "display_name": "spatialdata-workshop",
   "language": "python",
   "name": "python3"
  },
  "language_info": {
   "codemirror_mode": {
    "name": "ipython",
    "version": 3
   },
   "file_extension": ".py",
   "mimetype": "text/x-python",
   "name": "python",
   "nbconvert_exporter": "python",
   "pygments_lexer": "ipython3",
   "version": "3.11.10"
  }
 },
 "nbformat": 4,
 "nbformat_minor": 2
}
