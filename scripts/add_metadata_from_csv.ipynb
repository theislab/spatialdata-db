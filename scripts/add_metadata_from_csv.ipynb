{
 "cells": [
  {
   "cell_type": "code",
   "execution_count": 1,
   "metadata": {},
   "outputs": [
    {
     "name": "stderr",
     "output_type": "stream",
     "text": [
      "/lustre/groups/ml01/workspace/lea.zimmermann/software/miniconda3/envs/sddb2/lib/python3.10/site-packages/dask/dataframe/__init__.py:31: FutureWarning: The legacy Dask DataFrame implementation is deprecated and will be removed in a future version. Set the configuration option `dataframe.query-planning` to `True` or None to enable the new Dask Dataframe implementation and silence this warning.\n",
      "  warnings.warn(\n"
     ]
    },
    {
     "name": "stdout",
     "output_type": "stream",
     "text": [
      "\u001b[92m→\u001b[0m connected lamindb: scverse/spatialdata-db\n"
     ]
    }
   ],
   "source": [
    "import os\n",
    "\n",
    "import pandas as pd\n",
    "import spatialdata as sd"
   ]
  },
  {
   "cell_type": "code",
   "execution_count": 2,
   "metadata": {},
   "outputs": [],
   "source": [
    "uids_to_add = [\"101cw\", \"103uy\", \"105tt\", \"103te\", \"101in\"]"
   ]
  },
  {
   "cell_type": "code",
   "execution_count": 3,
   "metadata": {},
   "outputs": [],
   "source": [
    "SDDB_KEY = \"sample\"\n",
    "\n",
    "DATA_PATH = \"/lustre/groups/ml01/projects/2024_spatialdata_db/data\"\n",
    "CSV_FILE_PATH = \"./metadata_10x.csv\"\n",
    "\n",
    "df = pd.read_csv(CSV_FILE_PATH, sep=\"\\t\")\n",
    "\n",
    "df = df[df[\"uid\"].isin(uids_to_add)]"
   ]
  },
  {
   "cell_type": "code",
   "execution_count": 4,
   "metadata": {},
   "outputs": [
    {
     "name": "stdout",
     "output_type": "stream",
     "text": [
      "\u001b[34mINFO    \u001b[0m The SpatialData object is not self-contained \u001b[1m(\u001b[0mi.e. it contains some elements that are Dask-backed from    \n",
      "         locations outside                                                                                         \n",
      "         \u001b[35m/lustre/groups/ml01/projects/2024_spatialdata_db/data/103uy__10X__Visium__Mouse__brain__20230608__v2.1.0/\u001b[0m\u001b[95m1\u001b[0m\n",
      "         \u001b[95m03uy__10X__Visium__Mouse__brain__20230608__v2.1.0_attrs.zarr\u001b[0m\u001b[1m)\u001b[0m. Please see the documentation of            \n",
      "         `\u001b[1;35mis_self_contained\u001b[0m\u001b[1m(\u001b[0m\u001b[1m)\u001b[0m` to understand the implications of working with SpatialData objects that are not     \n",
      "         self-contained.                                                                                           \n",
      "\u001b[34mINFO    \u001b[0m The Zarr backing store has been changed from                                                              \n",
      "         \u001b[35m/lustre/groups/ml01/projects/2024_spatialdata_db/data/103uy__10X__Visium__Mouse__brain__20230608__v2.1.0/\u001b[0m\u001b[95m1\u001b[0m\n",
      "         \u001b[95m03uy__10X__Visium__Mouse__brain__20230608__v2.1.0.zarr\u001b[0m the new file path:                                 \n",
      "         \u001b[35m/lustre/groups/ml01/projects/2024_spatialdata_db/data/103uy__10X__Visium__Mouse__brain__20230608__v2.1.0/\u001b[0m\u001b[95m1\u001b[0m\n",
      "         \u001b[95m03uy__10X__Visium__Mouse__brain__20230608__v2.1.0_attrs.zarr\u001b[0m                                              \n",
      "Processed UID 103uy and updated metadata.\n",
      "\u001b[34mINFO    \u001b[0m The SpatialData object is not self-contained \u001b[1m(\u001b[0mi.e. it contains some elements that are Dask-backed from    \n",
      "         locations outside                                                                                         \n",
      "         \u001b[35m/lustre/groups/ml01/projects/2024_spatialdata_db/data/105tt__10X__Visium__Mouse__brain__20220712__v2.0.0/\u001b[0m\u001b[95m1\u001b[0m\n",
      "         \u001b[95m05tt__10X__Visium__Mouse__brain__20220712__v2.0.0_attrs.zarr\u001b[0m\u001b[1m)\u001b[0m. Please see the documentation of            \n",
      "         `\u001b[1;35mis_self_contained\u001b[0m\u001b[1m(\u001b[0m\u001b[1m)\u001b[0m` to understand the implications of working with SpatialData objects that are not     \n",
      "         self-contained.                                                                                           \n",
      "\u001b[34mINFO    \u001b[0m The Zarr backing store has been changed from                                                              \n",
      "         \u001b[35m/lustre/groups/ml01/projects/2024_spatialdata_db/data/105tt__10X__Visium__Mouse__brain__20220712__v2.0.0/\u001b[0m\u001b[95m1\u001b[0m\n",
      "         \u001b[95m05tt__10X__Visium__Mouse__brain__20220712__v2.0.0.zarr\u001b[0m the new file path:                                 \n",
      "         \u001b[35m/lustre/groups/ml01/projects/2024_spatialdata_db/data/105tt__10X__Visium__Mouse__brain__20220712__v2.0.0/\u001b[0m\u001b[95m1\u001b[0m\n",
      "         \u001b[95m05tt__10X__Visium__Mouse__brain__20220712__v2.0.0_attrs.zarr\u001b[0m                                              \n",
      "Processed UID 105tt and updated metadata.\n",
      "\u001b[34mINFO    \u001b[0m The SpatialData object is not self-contained \u001b[1m(\u001b[0mi.e. it contains some elements that are Dask-backed from    \n",
      "         locations outside                                                                                         \n",
      "         \u001b[35m/lustre/groups/ml01/projects/2024_spatialdata_db/data/101cw__10X__Visium__Human__spinal_cord__20201027__v1\u001b[0m\n",
      "         \u001b[35m.2.0/\u001b[0m\u001b[95m101cw__10X__Visium__Human__spinal_cord__20201027__v1.2.0_attrs.zarr\u001b[0m\u001b[1m)\u001b[0m. Please see the documentation of\n",
      "         `\u001b[1;35mis_self_contained\u001b[0m\u001b[1m(\u001b[0m\u001b[1m)\u001b[0m` to understand the implications of working with SpatialData objects that are not     \n",
      "         self-contained.                                                                                           \n",
      "\u001b[34mINFO    \u001b[0m The Zarr backing store has been changed from                                                              \n",
      "         \u001b[35m/lustre/groups/ml01/projects/2024_spatialdata_db/data/101cw__10X__Visium__Human__spinal_cord__20201027__v1\u001b[0m\n",
      "         \u001b[35m.2.0/\u001b[0m\u001b[95m101cw__10X__Visium__Human__spinal_cord__20201027__v1.2.0.zarr\u001b[0m the new file path:                     \n",
      "         \u001b[35m/lustre/groups/ml01/projects/2024_spatialdata_db/data/101cw__10X__Visium__Human__spinal_cord__20201027__v1\u001b[0m\n",
      "         \u001b[35m.2.0/\u001b[0m\u001b[95m101cw__10X__Visium__Human__spinal_cord__20201027__v1.2.0_attrs.zarr\u001b[0m                                  \n",
      "Processed UID 101cw and updated metadata.\n",
      "\u001b[34mINFO    \u001b[0m The SpatialData object is not self-contained \u001b[1m(\u001b[0mi.e. it contains some elements that are Dask-backed from    \n",
      "         locations outside                                                                                         \n",
      "         \u001b[35m/lustre/groups/ml01/projects/2024_spatialdata_db/data/101in__10X__Visium__Mouse__kidney__20200623__v1.1.0/\u001b[0m\n",
      "         \u001b[95m101in__10X__Visium__Mouse__kidney__20200623__v1.1.0_attrs.zarr\u001b[0m\u001b[1m)\u001b[0m. Please see the documentation of          \n",
      "         `\u001b[1;35mis_self_contained\u001b[0m\u001b[1m(\u001b[0m\u001b[1m)\u001b[0m` to understand the implications of working with SpatialData objects that are not     \n",
      "         self-contained.                                                                                           \n",
      "\u001b[34mINFO    \u001b[0m The Zarr backing store has been changed from                                                              \n",
      "         \u001b[35m/lustre/groups/ml01/projects/2024_spatialdata_db/data/101in__10X__Visium__Mouse__kidney__20200623__v1.1.0/\u001b[0m\n",
      "         \u001b[95m101in__10X__Visium__Mouse__kidney__20200623__v1.1.0.zarr\u001b[0m the new file path:                               \n",
      "         \u001b[35m/lustre/groups/ml01/projects/2024_spatialdata_db/data/101in__10X__Visium__Mouse__kidney__20200623__v1.1.0/\u001b[0m\n",
      "         \u001b[95m101in__10X__Visium__Mouse__kidney__20200623__v1.1.0_attrs.zarr\u001b[0m                                            \n",
      "Processed UID 101in and updated metadata.\n",
      "\u001b[34mINFO    \u001b[0m The SpatialData object is not self-contained \u001b[1m(\u001b[0mi.e. it contains some elements that are Dask-backed from    \n",
      "         locations outside                                                                                         \n",
      "         \u001b[35m/lustre/groups/ml01/projects/2024_spatialdata_db/data/103te__10X__Visium__Mouse__brain__20200623__v1.1.0/\u001b[0m\u001b[95m1\u001b[0m\n",
      "         \u001b[95m03te__10X__Visium__Mouse__brain__20200623__v1.1.0_attrs.zarr\u001b[0m\u001b[1m)\u001b[0m. Please see the documentation of            \n",
      "         `\u001b[1;35mis_self_contained\u001b[0m\u001b[1m(\u001b[0m\u001b[1m)\u001b[0m` to understand the implications of working with SpatialData objects that are not     \n",
      "         self-contained.                                                                                           \n",
      "\u001b[34mINFO    \u001b[0m The Zarr backing store has been changed from                                                              \n",
      "         \u001b[35m/lustre/groups/ml01/projects/2024_spatialdata_db/data/103te__10X__Visium__Mouse__brain__20200623__v1.1.0/\u001b[0m\u001b[95m1\u001b[0m\n",
      "         \u001b[95m03te__10X__Visium__Mouse__brain__20200623__v1.1.0.zarr\u001b[0m the new file path:                                 \n",
      "         \u001b[35m/lustre/groups/ml01/projects/2024_spatialdata_db/data/103te__10X__Visium__Mouse__brain__20200623__v1.1.0/\u001b[0m\u001b[95m1\u001b[0m\n",
      "         \u001b[95m03te__10X__Visium__Mouse__brain__20200623__v1.1.0_attrs.zarr\u001b[0m                                              \n",
      "Processed UID 103te and updated metadata.\n"
     ]
    }
   ],
   "source": [
    "for index, row in df.iterrows():\n",
    "    uid = row[\"uid\"]\n",
    "    meta = row.drop(\"uid\")\n",
    "\n",
    "    folder_path = None\n",
    "    for folder in os.listdir(DATA_PATH):\n",
    "        if folder.startswith(str(uid)):\n",
    "            folder_path = os.path.join(DATA_PATH, folder)\n",
    "            break\n",
    "\n",
    "    if folder_path is None:\n",
    "        print(f\"Folder for UID {uid} not found.\")\n",
    "        continue\n",
    "\n",
    "    zarr_file = None\n",
    "    for file in os.listdir(folder_path):\n",
    "        if file.endswith(\".zarr\"):\n",
    "            zarr_file = os.path.join(folder_path, file)\n",
    "            break\n",
    "\n",
    "    # if zarr_file is None and 'metadata' not in zarr_file and 'attrs' not in zarr_file:\n",
    "    #     print(f\"Zarr file not found in folder {folder_path}.\")\n",
    "    #     continue\n",
    "\n",
    "    sdata = sd.read_zarr(zarr_file)\n",
    "\n",
    "    meta_df = pd.DataFrame([meta])\n",
    "    index = meta_df.index[0]\n",
    "    metadata = {k: v[index] for k, v in meta_df.to_dict().items()}\n",
    "    # sddb_version = spatialdata_db.__version__\n",
    "    # metadata['spatialdata_db_attrs'] = {\n",
    "    #     'version': sddb_version\n",
    "    # }\n",
    "    sdata.attrs[SDDB_KEY] = metadata\n",
    "\n",
    "    metadata_zarr_file = os.path.splitext(zarr_file)[0] + \"_attrs.zarr\"\n",
    "\n",
    "    sdata.write(metadata_zarr_file, overwrite=True)\n",
    "\n",
    "    print(f\"Processed UID {uid} and updated metadata.\")"
   ]
  },
  {
   "cell_type": "code",
   "execution_count": null,
   "metadata": {},
   "outputs": [],
   "source": []
  }
 ],
 "metadata": {
  "kernelspec": {
   "display_name": "sddb",
   "language": "python",
   "name": "python3"
  },
  "language_info": {
   "codemirror_mode": {
    "name": "ipython",
    "version": 3
   },
   "file_extension": ".py",
   "mimetype": "text/x-python",
   "name": "python",
   "nbconvert_exporter": "python",
   "pygments_lexer": "ipython3",
   "version": "3.10.15"
  }
 },
 "nbformat": 4,
 "nbformat_minor": 2
}
