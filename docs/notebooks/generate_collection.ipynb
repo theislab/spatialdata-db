{
 "cells": [
  {
   "cell_type": "code",
   "execution_count": 1,
   "metadata": {},
   "outputs": [
    {
     "name": "stdout",
     "output_type": "stream",
     "text": [
      "\u001b[92m→\u001b[0m connected lamindb: scverse/spatialdata-db\n"
     ]
    }
   ],
   "source": [
    "import lamindb as ln"
   ]
  },
  {
   "cell_type": "markdown",
   "metadata": {},
   "source": [
    "# generate collection for mouse brain"
   ]
  },
  {
   "cell_type": "code",
   "execution_count": 8,
   "metadata": {},
   "outputs": [
    {
     "name": "stdout",
     "output_type": "stream",
     "text": [
      "\u001b[92m→\u001b[0m created Transform('AwKBM0B2'), started new Run('POneWNxE') at 2025-01-21 11:24:20 UTC\n",
      "\u001b[92m→\u001b[0m notebook imports: lamindb==0.77.2\n"
     ]
    }
   ],
   "source": [
    "ln.track(\"AwKBM0B2Zuss0000\")"
   ]
  },
  {
   "cell_type": "code",
   "execution_count": 9,
   "metadata": {},
   "outputs": [],
   "source": [
    "artifact1 = ln.Artifact.get(\"8Xdm6p3J8FPOxok00000\")\n",
    "artifact2 = ln.Artifact.get(\"KgUohDusDLA4S6WW0000\")\n",
    "artifact3 = ln.Artifact.get(\"SYTEY2CR0OfTdq4N0000\")\n",
    "artifact4 = ln.Artifact.get(\"McoRBaiIuHp0Q8RQ0000\")"
   ]
  },
  {
   "cell_type": "code",
   "execution_count": 10,
   "metadata": {},
   "outputs": [],
   "source": [
    "collection = ln.Collection([artifact1, artifact2, artifact3, artifact4], name=\"Visium, mouse, brain\")"
   ]
  },
  {
   "cell_type": "code",
   "execution_count": 11,
   "metadata": {},
   "outputs": [
    {
     "data": {
      "text/plain": [
       "Collection(uid='kUdxIb1DIoWmufkF0000', is_latest=True, name='Visium, mouse, brain', hash='BqN1lyHQv9mFGAKVn7V00A', visibility=1, created_by_id=8, transform_id=80, run_id=255, created_at=2025-01-21 11:26:01 UTC)"
      ]
     },
     "execution_count": 11,
     "metadata": {},
     "output_type": "execute_result"
    }
   ],
   "source": [
    "collection.save()"
   ]
  },
  {
   "cell_type": "code",
   "execution_count": 12,
   "metadata": {},
   "outputs": [
    {
     "name": "stdout",
     "output_type": "stream",
     "text": [
      "\u001b[93m!\u001b[0m cells [(1, 8)] were not run consecutively\n",
      "\u001b[92m→\u001b[0m finished Run('POneWNxE') after 0d 0h 2m 13s at 2025-01-21 11:26:34 UTC\n",
      "\u001b[92m→\u001b[0m go to: https://lamin.ai/scverse/spatialdata-db/transform/AwKBM0B2Zuss0000\n",
      "\u001b[92m→\u001b[0m if you want to update your notebook without re-running it, use `lamin save /home/icb/lea.zimmermann/projects/spatialdata-db/spatialdata-db/demo/generate_collection.ipynb`\n"
     ]
    }
   ],
   "source": [
    "ln.finish()"
   ]
  },
  {
   "cell_type": "code",
   "execution_count": null,
   "metadata": {},
   "outputs": [],
   "source": []
  }
 ],
 "metadata": {
  "kernelspec": {
   "display_name": "sddb2",
   "language": "python",
   "name": "python3"
  },
  "language_info": {
   "codemirror_mode": {
    "name": "ipython",
    "version": 3
   },
   "file_extension": ".py",
   "mimetype": "text/x-python",
   "name": "python",
   "nbconvert_exporter": "python",
   "pygments_lexer": "ipython3",
   "version": "3.10.16"
  }
 },
 "nbformat": 4,
 "nbformat_minor": 2
}
