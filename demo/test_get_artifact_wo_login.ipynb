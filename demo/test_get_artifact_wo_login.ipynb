{
 "cells": [
  {
   "cell_type": "code",
   "execution_count": 1,
   "metadata": {},
   "outputs": [
    {
     "name": "stdout",
     "output_type": "stream",
     "text": [
      "\u001b[92m→\u001b[0m connected lamindb: scverse/spatialdata-db\n"
     ]
    },
    {
     "name": "stderr",
     "output_type": "stream",
     "text": [
      "/lustre/groups/ml01/workspace/lea.zimmermann/software/miniconda3/envs/sddb/lib/python3.10/site-packages/dask/dataframe/__init__.py:31: FutureWarning: The legacy Dask DataFrame implementation is deprecated and will be removed in a future version. Set the configuration option `dataframe.query-planning` to `True` or None to enable the new Dask Dataframe implementation and silence this warning.\n",
      "  warnings.warn(\n"
     ]
    }
   ],
   "source": [
    "import lamindb as ln\n",
    "import spatialdata as sd"
   ]
  },
  {
   "cell_type": "code",
   "execution_count": 26,
   "metadata": {},
   "outputs": [
    {
     "name": "stdout",
     "output_type": "stream",
     "text": [
      "\u001b[92m✓\u001b[0m logged out\n"
     ]
    }
   ],
   "source": [
    "!lamin logout"
   ]
  },
  {
   "cell_type": "code",
   "execution_count": 28,
   "metadata": {},
   "outputs": [
    {
     "name": "stdout",
     "output_type": "stream",
     "text": [
      "\u001b[93m!\u001b[0m using anonymous user (to identify, call: lamin login)\n",
      "Current user: anonymous\n",
      "- handle: anonymous\n",
      "- email: None\n",
      "- uid: 00000000\n",
      "Auto-connect in Python: True\n",
      "Private Django API: True\n",
      "Cache directory: /home/icb/lea.zimmermann/.cache/lamindb\n",
      "Current instance: scverse/spatialdata-db\n",
      "- owner: scverse\n",
      "- name: spatialdata-db\n",
      "- storage root: s3://scverse-spatial-eu-central-1\n",
      "- storage region: eu-central-1\n",
      "- db: postgresql://f95ff4935f8b4c1aad80b781031e8faf_root:***@***:5432/f95ff4935f8b4c1aad80b781031e8faf\n",
      "- modules: {'bionty'}\n",
      "- git_repo: None\n"
     ]
    }
   ],
   "source": [
    "!lamin info"
   ]
  },
  {
   "cell_type": "code",
   "execution_count": 29,
   "metadata": {},
   "outputs": [],
   "source": [
    "artifact = ln.Artifact.get(\"wlgPi3jjfVoYUWjA0000\")"
   ]
  },
  {
   "cell_type": "code",
   "execution_count": 30,
   "metadata": {},
   "outputs": [
    {
     "name": "stdout",
     "output_type": "stream",
     "text": [
      "... synchronizing wlgPi3jjfVoYUWjA.zarr: 100.0%\n",
      "\u001b[93m!\u001b[0m run input wasn't tracked, call `ln.track()` and re-run\n"
     ]
    },
    {
     "data": {
      "text/plain": [
       "PosixUPath('/home/icb/lea.zimmermann/.cache/lamindb/scverse-spatial-eu-central-1/.lamindb/wlgPi3jjfVoYUWjA.zarr')"
      ]
     },
     "execution_count": 30,
     "metadata": {},
     "output_type": "execute_result"
    }
   ],
   "source": [
    "artifact.cache()"
   ]
  },
  {
   "cell_type": "code",
   "execution_count": 31,
   "metadata": {},
   "outputs": [
    {
     "name": "stderr",
     "output_type": "stream",
     "text": [
      "/lustre/groups/ml01/workspace/lea.zimmermann/software/miniconda3/envs/sddb/lib/python3.10/site-packages/zarr/creation.py:614: UserWarning: ignoring keyword argument 'read_only'\n",
      "  compressor, fill_value = _kwargs_compat(compressor, fill_value, kwargs)\n"
     ]
    }
   ],
   "source": [
    "sdata = sd.read_zarr('/home/icb/lea.zimmermann/.cache/lamindb/scverse-spatial-eu-central-1/.lamindb/wlgPi3jjfVoYUWjA.zarr')"
   ]
  },
  {
   "cell_type": "code",
   "execution_count": 25,
   "metadata": {},
   "outputs": [
    {
     "data": {
      "text/plain": [
       "SpatialData object, with associated Zarr store: /ictstr01/home/icb/lea.zimmermann/.cache/lamindb/scverse-spatial-eu-central-1/.lamindb/wlgPi3jjfVoYUWjA.zarr\n",
       "├── Images\n",
       "│     ├── 'CytAssist_Fresh_Frozen_Sagittal_Mouse_Brain_full_image': DataTree[cyx] (3, 1578, 2000), (3, 789, 1000), (3, 394, 500), (3, 197, 250), (3, 98, 125)\n",
       "│     ├── 'CytAssist_Fresh_Frozen_Sagittal_Mouse_Brain_hires_image': DataArray[cyx] (3, 1578, 2000)\n",
       "│     └── 'CytAssist_Fresh_Frozen_Sagittal_Mouse_Brain_lowres_image': DataArray[cyx] (3, 474, 600)\n",
       "├── Shapes\n",
       "│     └── 'CytAssist_Fresh_Frozen_Sagittal_Mouse_Brain': GeoDataFrame shape: (6965, 2) (2D shapes)\n",
       "└── Tables\n",
       "      └── 'table': AnnData (6965, 19465)\n",
       "with coordinate systems:\n",
       "    ▸ 'downscaled_hires', with elements:\n",
       "        CytAssist_Fresh_Frozen_Sagittal_Mouse_Brain_hires_image (Images), CytAssist_Fresh_Frozen_Sagittal_Mouse_Brain (Shapes)\n",
       "    ▸ 'downscaled_lowres', with elements:\n",
       "        CytAssist_Fresh_Frozen_Sagittal_Mouse_Brain_lowres_image (Images), CytAssist_Fresh_Frozen_Sagittal_Mouse_Brain (Shapes)\n",
       "    ▸ 'global', with elements:\n",
       "        CytAssist_Fresh_Frozen_Sagittal_Mouse_Brain_full_image (Images), CytAssist_Fresh_Frozen_Sagittal_Mouse_Brain (Shapes)"
      ]
     },
     "execution_count": 25,
     "metadata": {},
     "output_type": "execute_result"
    }
   ],
   "source": [
    "sdata"
   ]
  },
  {
   "cell_type": "code",
   "execution_count": null,
   "metadata": {},
   "outputs": [],
   "source": []
  }
 ],
 "metadata": {
  "kernelspec": {
   "display_name": "sddb",
   "language": "python",
   "name": "python3"
  },
  "language_info": {
   "codemirror_mode": {
    "name": "ipython",
    "version": 3
   },
   "file_extension": ".py",
   "mimetype": "text/x-python",
   "name": "python",
   "nbconvert_exporter": "python",
   "pygments_lexer": "ipython3",
   "version": "3.10.16"
  }
 },
 "nbformat": 4,
 "nbformat_minor": 2
}
