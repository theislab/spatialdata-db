{
 "cells": [
  {
   "cell_type": "code",
   "execution_count": 1,
   "metadata": {},
   "outputs": [
    {
     "name": "stdout",
     "output_type": "stream",
     "text": [
      "\u001b[92m→\u001b[0m connected lamindb: scverse/spatialdata-db\n"
     ]
    },
    {
     "name": "stderr",
     "output_type": "stream",
     "text": [
      "/lustre/groups/ml01/workspace/lea.zimmermann/software/miniconda3/envs/sddb_test/lib/python3.11/site-packages/dask/dataframe/__init__.py:31: FutureWarning: The legacy Dask DataFrame implementation is deprecated and will be removed in a future version. Set the configuration option `dataframe.query-planning` to `True` or None to enable the new Dask Dataframe implementation and silence this warning.\n",
      "  warnings.warn(\n"
     ]
    }
   ],
   "source": [
    "import warnings\n",
    "\n",
    "import bionty as bt\n",
    "import lamindb as ln\n",
    "import spatialdata as sd\n",
    "\n",
    "warnings.filterwarnings(\"ignore\")"
   ]
  },
  {
   "cell_type": "code",
   "execution_count": 2,
   "metadata": {},
   "outputs": [],
   "source": [
    "mouse_collection = ln.Collection.get(\"kUdxIb1DIoWmufkF0000\")"
   ]
  },
  {
   "cell_type": "code",
   "execution_count": 3,
   "metadata": {},
   "outputs": [
    {
     "name": "stdout",
     "output_type": "stream",
     "text": [
      "... synchronizing 8Xdm6p3J8FPOxok0.zarr: 100.0%\n",
      "\u001b[93m!\u001b[0m run input wasn't tracked, call `ln.track()` and re-run\n",
      "... synchronizing KgUohDusDLA4S6WW.zarr: 100.0%\n",
      "\u001b[93m!\u001b[0m run input wasn't tracked, call `ln.track()` and re-run\n",
      "... synchronizing SYTEY2CR0OfTdq4N.zarr: 100.0%\n",
      "\u001b[93m!\u001b[0m run input wasn't tracked, call `ln.track()` and re-run\n",
      "... synchronizing McoRBaiIuHp0Q8RQ.zarr: 100.0%\n",
      "\u001b[93m!\u001b[0m run input wasn't tracked, call `ln.track()` and re-run\n",
      "\u001b[93m!\u001b[0m run input wasn't tracked, call `ln.track()` and re-run\n"
     ]
    },
    {
     "data": {
      "text/plain": [
       "[PosixUPath('/home/icb/lea.zimmermann/.cache/lamindb/scverse-spatial-eu-central-1/.lamindb/8Xdm6p3J8FPOxok0.zarr'),\n",
       " PosixUPath('/home/icb/lea.zimmermann/.cache/lamindb/scverse-spatial-eu-central-1/.lamindb/KgUohDusDLA4S6WW.zarr'),\n",
       " PosixUPath('/home/icb/lea.zimmermann/.cache/lamindb/scverse-spatial-eu-central-1/.lamindb/SYTEY2CR0OfTdq4N.zarr'),\n",
       " PosixUPath('/home/icb/lea.zimmermann/.cache/lamindb/scverse-spatial-eu-central-1/.lamindb/McoRBaiIuHp0Q8RQ.zarr')]"
      ]
     },
     "execution_count": 3,
     "metadata": {},
     "output_type": "execute_result"
    }
   ],
   "source": [
    "mouse_collection.cache()"
   ]
  },
  {
   "cell_type": "code",
   "execution_count": 4,
   "metadata": {},
   "outputs": [
    {
     "data": {
      "text/plain": [
       "SpatialData object, with associated Zarr store: /ictstr01/home/icb/lea.zimmermann/.cache/lamindb/scverse-spatial-eu-central-1/.lamindb/8Xdm6p3J8FPOxok0.zarr\n",
       "├── Images\n",
       "│     ├── 'V1_Adult_Mouse_Brain_Coronal_Section_2_full_image': DataTree[cyx] (3, 2000, 2000), (3, 1000, 1000), (3, 500, 500), (3, 250, 250), (3, 125, 125)\n",
       "│     ├── 'V1_Adult_Mouse_Brain_Coronal_Section_2_hires_image': DataArray[cyx] (3, 2000, 2000)\n",
       "│     └── 'V1_Adult_Mouse_Brain_Coronal_Section_2_lowres_image': DataArray[cyx] (3, 600, 600)\n",
       "├── Shapes\n",
       "│     └── 'V1_Adult_Mouse_Brain_Coronal_Section_2': GeoDataFrame shape: (2807, 2) (2D shapes)\n",
       "└── Tables\n",
       "      └── 'table': AnnData (2807, 32285)\n",
       "with coordinate systems:\n",
       "    ▸ 'downscaled_hires', with elements:\n",
       "        V1_Adult_Mouse_Brain_Coronal_Section_2_hires_image (Images), V1_Adult_Mouse_Brain_Coronal_Section_2 (Shapes)\n",
       "    ▸ 'downscaled_lowres', with elements:\n",
       "        V1_Adult_Mouse_Brain_Coronal_Section_2_lowres_image (Images), V1_Adult_Mouse_Brain_Coronal_Section_2 (Shapes)\n",
       "    ▸ 'global', with elements:\n",
       "        V1_Adult_Mouse_Brain_Coronal_Section_2_full_image (Images), V1_Adult_Mouse_Brain_Coronal_Section_2 (Shapes)"
      ]
     },
     "execution_count": 4,
     "metadata": {},
     "output_type": "execute_result"
    }
   ],
   "source": [
    "sdata2 = sd.read_zarr(\n",
    "    \"/home/icb/lea.zimmermann/.cache/lamindb/scverse-spatial-eu-central-1/.lamindb/8Xdm6p3J8FPOxok0.zarr\"\n",
    ")\n",
    "sdata2"
   ]
  },
  {
   "cell_type": "code",
   "execution_count": null,
   "metadata": {},
   "outputs": [],
   "source": []
  }
 ],
 "metadata": {
  "kernelspec": {
   "display_name": "sddb_test",
   "language": "python",
   "name": "python3"
  },
  "language_info": {
   "codemirror_mode": {
    "name": "ipython",
    "version": 3
   },
   "file_extension": ".py",
   "mimetype": "text/x-python",
   "name": "python",
   "nbconvert_exporter": "python",
   "pygments_lexer": "ipython3",
   "version": "3.11.11"
  }
 },
 "nbformat": 4,
 "nbformat_minor": 2
}
